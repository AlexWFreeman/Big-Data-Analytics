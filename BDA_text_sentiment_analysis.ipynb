{
  "cells": [
    {
      "cell_type": "markdown",
      "source": [
        "Using FinBERT to run sentiment on all texts of articles"
      ],
      "metadata": {
        "id": "iZyxM1OV3gJ5"
      },
      "id": "iZyxM1OV3gJ5"
    },
    {
      "cell_type": "code",
      "id": "zyKvWQvX8ipNvlktP9DM3l7m",
      "metadata": {
        "tags": [],
        "id": "zyKvWQvX8ipNvlktP9DM3l7m",
        "colab": {
          "base_uri": "https://localhost:8080/"
        },
        "outputId": "50cbf0d9-ea7b-46ba-f51d-5b20203827aa"
      },
      "source": [
        "!pip install -q transformers\n",
        "!pip install -q newspaper3k pandas numpy\n",
        "!pip install -q lxml-html-clean\n",
        "!pip install -q spacy"
      ],
      "execution_count": null,
      "outputs": [
        {
          "output_type": "stream",
          "name": "stdout",
          "text": [
            "  Preparing metadata (setup.py) ... \u001b[?25l\u001b[?25hdone\n",
            "\u001b[2K     \u001b[90m━━━━━━━━━━━━━━━━━━━━━━━━━━━━━━━━━━━━━━━━\u001b[0m \u001b[32m7.4/7.4 MB\u001b[0m \u001b[31m41.7 MB/s\u001b[0m eta \u001b[36m0:00:00\u001b[0m\n",
            "\u001b[?25h  Preparing metadata (setup.py) ... \u001b[?25l\u001b[?25hdone\n",
            "  Preparing metadata (setup.py) ... \u001b[?25l\u001b[?25hdone\n",
            "  Preparing metadata (setup.py) ... \u001b[?25l\u001b[?25hdone\n",
            "\u001b[2K   \u001b[90m━━━━━━━━━━━━━━━━━━━━━━━━━━━━━━━━━━━━━━━━\u001b[0m \u001b[32m211.1/211.1 kB\u001b[0m \u001b[31m31.5 MB/s\u001b[0m eta \u001b[36m0:00:00\u001b[0m\n",
            "\u001b[2K   \u001b[90m━━━━━━━━━━━━━━━━━━━━━━━━━━━━━━━━━━━━━━━━\u001b[0m \u001b[32m81.3/81.3 kB\u001b[0m \u001b[31m13.1 MB/s\u001b[0m eta \u001b[36m0:00:00\u001b[0m\n",
            "\u001b[2K   \u001b[90m━━━━━━━━━━━━━━━━━━━━━━━━━━━━━━━━━━━━━━━━\u001b[0m \u001b[32m104.9/104.9 kB\u001b[0m \u001b[31m16.0 MB/s\u001b[0m eta \u001b[36m0:00:00\u001b[0m\n",
            "\u001b[?25h  Building wheel for tinysegmenter (setup.py) ... \u001b[?25l\u001b[?25hdone\n",
            "  Building wheel for feedfinder2 (setup.py) ... \u001b[?25l\u001b[?25hdone\n",
            "  Building wheel for jieba3k (setup.py) ... \u001b[?25l\u001b[?25hdone\n",
            "  Building wheel for sgmllib3k (setup.py) ... \u001b[?25l\u001b[?25hdone\n"
          ]
        }
      ]
    },
    {
      "cell_type": "code",
      "source": [
        "!python -m spacy download en_core_web_trf"
      ],
      "metadata": {
        "colab": {
          "base_uri": "https://localhost:8080/",
          "height": 1000
        },
        "id": "T82aUCBp4wd0",
        "outputId": "1dde1154-7f10-4757-a390-c27ec3a1e2fa"
      },
      "id": "T82aUCBp4wd0",
      "execution_count": null,
      "outputs": [
        {
          "output_type": "stream",
          "name": "stdout",
          "text": [
            "Requirement already satisfied: pip in /usr/local/lib/python3.10/dist-packages (24.1.2)\n",
            "Collecting pip\n",
            "  Downloading pip-24.3.1-py3-none-any.whl.metadata (3.7 kB)\n",
            "Requirement already satisfied: setuptools in /usr/local/lib/python3.10/dist-packages (69.5.1)\n",
            "Collecting setuptools\n",
            "  Downloading setuptools-75.6.0-py3-none-any.whl.metadata (6.7 kB)\n",
            "Requirement already satisfied: wheel in /usr/local/lib/python3.10/dist-packages (0.44.0)\n",
            "Collecting wheel\n",
            "  Downloading wheel-0.45.1-py3-none-any.whl.metadata (2.3 kB)\n",
            "Downloading pip-24.3.1-py3-none-any.whl (1.8 MB)\n",
            "\u001b[2K   \u001b[90m━━━━━━━━━━━━━━━━━━━━━━━━━━━━━━━━━━━━━━━━\u001b[0m \u001b[32m1.8/1.8 MB\u001b[0m \u001b[31m15.5 MB/s\u001b[0m eta \u001b[36m0:00:00\u001b[0m\n",
            "\u001b[?25hDownloading setuptools-75.6.0-py3-none-any.whl (1.2 MB)\n",
            "\u001b[2K   \u001b[90m━━━━━━━━━━━━━━━━━━━━━━━━━━━━━━━━━━━━━━━━\u001b[0m \u001b[32m1.2/1.2 MB\u001b[0m \u001b[31m83.1 MB/s\u001b[0m eta \u001b[36m0:00:00\u001b[0m\n",
            "\u001b[?25hDownloading wheel-0.45.1-py3-none-any.whl (72 kB)\n",
            "\u001b[2K   \u001b[90m━━━━━━━━━━━━━━━━━━━━━━━━━━━━━━━━━━━━━━━━\u001b[0m \u001b[32m72.5/72.5 kB\u001b[0m \u001b[31m13.1 MB/s\u001b[0m eta \u001b[36m0:00:00\u001b[0m\n",
            "\u001b[?25hInstalling collected packages: wheel, setuptools, pip\n",
            "  Attempting uninstall: wheel\n",
            "    Found existing installation: wheel 0.44.0\n",
            "    Uninstalling wheel-0.44.0:\n",
            "      Successfully uninstalled wheel-0.44.0\n",
            "  Attempting uninstall: setuptools\n",
            "    Found existing installation: setuptools 69.5.1\n",
            "    Uninstalling setuptools-69.5.1:\n",
            "      Successfully uninstalled setuptools-69.5.1\n",
            "  Attempting uninstall: pip\n",
            "    Found existing installation: pip 24.1.2\n",
            "    Uninstalling pip-24.1.2:\n",
            "      Successfully uninstalled pip-24.1.2\n",
            "\u001b[31mERROR: pip's dependency resolver does not currently take into account all the packages that are installed. This behaviour is the source of the following dependency conflicts.\n",
            "ipython 7.34.0 requires jedi>=0.16, which is not installed.\u001b[0m\u001b[31m\n",
            "\u001b[0mSuccessfully installed pip-24.3.1 setuptools-75.6.0 wheel-0.45.1\n"
          ]
        },
        {
          "output_type": "display_data",
          "data": {
            "application/vnd.colab-display-data+json": {
              "pip_warning": {
                "packages": [
                  "_distutils_hack",
                  "setuptools"
                ]
              },
              "id": "e1a9538c502445d686f93423c53240ef"
            }
          },
          "metadata": {}
        },
        {
          "output_type": "stream",
          "name": "stdout",
          "text": [
            "\u001b[31mERROR: Invalid requirement: '“spacy[cuda116]”': Expected package name at the start of dependency specifier\n",
            "    “spacy[cuda116]”\n",
            "    ^\u001b[0m\u001b[31m\n",
            "\u001b[0mCollecting en-core-web-trf==3.7.3\n",
            "  Downloading https://github.com/explosion/spacy-models/releases/download/en_core_web_trf-3.7.3/en_core_web_trf-3.7.3-py3-none-any.whl (457.4 MB)\n",
            "\u001b[2K     \u001b[90m━━━━━━━━━━━━━━━━━━━━━━━━━━━━━━━━━━━━━━━━\u001b[0m \u001b[32m457.4/457.4 MB\u001b[0m \u001b[31m66.0 MB/s\u001b[0m eta \u001b[36m0:00:00\u001b[0m\n",
            "\u001b[?25hRequirement already satisfied: spacy<3.8.0,>=3.7.2 in /usr/local/lib/python3.10/dist-packages (from en-core-web-trf==3.7.3) (3.7.5)\n",
            "Collecting spacy-curated-transformers<0.3.0,>=0.2.0 (from en-core-web-trf==3.7.3)\n",
            "  Downloading spacy_curated_transformers-0.2.2-py2.py3-none-any.whl.metadata (2.7 kB)\n",
            "Requirement already satisfied: spacy-legacy<3.1.0,>=3.0.11 in /usr/local/lib/python3.10/dist-packages (from spacy<3.8.0,>=3.7.2->en-core-web-trf==3.7.3) (3.0.12)\n",
            "Requirement already satisfied: spacy-loggers<2.0.0,>=1.0.0 in /usr/local/lib/python3.10/dist-packages (from spacy<3.8.0,>=3.7.2->en-core-web-trf==3.7.3) (1.0.5)\n",
            "Requirement already satisfied: murmurhash<1.1.0,>=0.28.0 in /usr/local/lib/python3.10/dist-packages (from spacy<3.8.0,>=3.7.2->en-core-web-trf==3.7.3) (1.0.10)\n",
            "Requirement already satisfied: cymem<2.1.0,>=2.0.2 in /usr/local/lib/python3.10/dist-packages (from spacy<3.8.0,>=3.7.2->en-core-web-trf==3.7.3) (2.0.8)\n",
            "Requirement already satisfied: preshed<3.1.0,>=3.0.2 in /usr/local/lib/python3.10/dist-packages (from spacy<3.8.0,>=3.7.2->en-core-web-trf==3.7.3) (3.0.9)\n",
            "Requirement already satisfied: thinc<8.3.0,>=8.2.2 in /usr/local/lib/python3.10/dist-packages (from spacy<3.8.0,>=3.7.2->en-core-web-trf==3.7.3) (8.2.5)\n",
            "Requirement already satisfied: wasabi<1.2.0,>=0.9.1 in /usr/local/lib/python3.10/dist-packages (from spacy<3.8.0,>=3.7.2->en-core-web-trf==3.7.3) (1.1.3)\n",
            "Requirement already satisfied: srsly<3.0.0,>=2.4.3 in /usr/local/lib/python3.10/dist-packages (from spacy<3.8.0,>=3.7.2->en-core-web-trf==3.7.3) (2.4.8)\n",
            "Requirement already satisfied: catalogue<2.1.0,>=2.0.6 in /usr/local/lib/python3.10/dist-packages (from spacy<3.8.0,>=3.7.2->en-core-web-trf==3.7.3) (2.0.10)\n",
            "Requirement already satisfied: weasel<0.5.0,>=0.1.0 in /usr/local/lib/python3.10/dist-packages (from spacy<3.8.0,>=3.7.2->en-core-web-trf==3.7.3) (0.4.1)\n",
            "Requirement already satisfied: typer<1.0.0,>=0.3.0 in /usr/local/lib/python3.10/dist-packages (from spacy<3.8.0,>=3.7.2->en-core-web-trf==3.7.3) (0.13.0)\n",
            "Requirement already satisfied: tqdm<5.0.0,>=4.38.0 in /usr/local/lib/python3.10/dist-packages (from spacy<3.8.0,>=3.7.2->en-core-web-trf==3.7.3) (4.66.6)\n",
            "Requirement already satisfied: requests<3.0.0,>=2.13.0 in /usr/local/lib/python3.10/dist-packages (from spacy<3.8.0,>=3.7.2->en-core-web-trf==3.7.3) (2.32.3)\n",
            "Requirement already satisfied: pydantic!=1.8,!=1.8.1,<3.0.0,>=1.7.4 in /usr/local/lib/python3.10/dist-packages (from spacy<3.8.0,>=3.7.2->en-core-web-trf==3.7.3) (2.9.2)\n",
            "Requirement already satisfied: jinja2 in /usr/local/lib/python3.10/dist-packages (from spacy<3.8.0,>=3.7.2->en-core-web-trf==3.7.3) (3.1.4)\n",
            "Requirement already satisfied: setuptools in /usr/local/lib/python3.10/dist-packages (from spacy<3.8.0,>=3.7.2->en-core-web-trf==3.7.3) (75.6.0)\n",
            "Requirement already satisfied: packaging>=20.0 in /usr/local/lib/python3.10/dist-packages (from spacy<3.8.0,>=3.7.2->en-core-web-trf==3.7.3) (24.2)\n",
            "Requirement already satisfied: langcodes<4.0.0,>=3.2.0 in /usr/local/lib/python3.10/dist-packages (from spacy<3.8.0,>=3.7.2->en-core-web-trf==3.7.3) (3.4.1)\n",
            "Requirement already satisfied: numpy>=1.19.0 in /usr/local/lib/python3.10/dist-packages (from spacy<3.8.0,>=3.7.2->en-core-web-trf==3.7.3) (1.26.4)\n",
            "Collecting curated-transformers<0.2.0,>=0.1.0 (from spacy-curated-transformers<0.3.0,>=0.2.0->en-core-web-trf==3.7.3)\n",
            "  Downloading curated_transformers-0.1.1-py2.py3-none-any.whl.metadata (965 bytes)\n",
            "Collecting curated-tokenizers<0.1.0,>=0.0.9 (from spacy-curated-transformers<0.3.0,>=0.2.0->en-core-web-trf==3.7.3)\n",
            "  Downloading curated_tokenizers-0.0.9-cp310-cp310-manylinux_2_17_x86_64.manylinux2014_x86_64.whl.metadata (1.9 kB)\n",
            "Requirement already satisfied: torch>=1.12.0 in /usr/local/lib/python3.10/dist-packages (from spacy-curated-transformers<0.3.0,>=0.2.0->en-core-web-trf==3.7.3) (2.5.0+cu121)\n",
            "Requirement already satisfied: regex>=2022 in /usr/local/lib/python3.10/dist-packages (from curated-tokenizers<0.1.0,>=0.0.9->spacy-curated-transformers<0.3.0,>=0.2.0->en-core-web-trf==3.7.3) (2024.9.11)\n",
            "Requirement already satisfied: language-data>=1.2 in /usr/local/lib/python3.10/dist-packages (from langcodes<4.0.0,>=3.2.0->spacy<3.8.0,>=3.7.2->en-core-web-trf==3.7.3) (1.2.0)\n",
            "Requirement already satisfied: annotated-types>=0.6.0 in /usr/local/lib/python3.10/dist-packages (from pydantic!=1.8,!=1.8.1,<3.0.0,>=1.7.4->spacy<3.8.0,>=3.7.2->en-core-web-trf==3.7.3) (0.7.0)\n",
            "Requirement already satisfied: pydantic-core==2.23.4 in /usr/local/lib/python3.10/dist-packages (from pydantic!=1.8,!=1.8.1,<3.0.0,>=1.7.4->spacy<3.8.0,>=3.7.2->en-core-web-trf==3.7.3) (2.23.4)\n",
            "Requirement already satisfied: typing-extensions>=4.6.1 in /usr/local/lib/python3.10/dist-packages (from pydantic!=1.8,!=1.8.1,<3.0.0,>=1.7.4->spacy<3.8.0,>=3.7.2->en-core-web-trf==3.7.3) (4.12.2)\n",
            "Requirement already satisfied: charset-normalizer<4,>=2 in /usr/local/lib/python3.10/dist-packages (from requests<3.0.0,>=2.13.0->spacy<3.8.0,>=3.7.2->en-core-web-trf==3.7.3) (3.4.0)\n",
            "Requirement already satisfied: idna<4,>=2.5 in /usr/local/lib/python3.10/dist-packages (from requests<3.0.0,>=2.13.0->spacy<3.8.0,>=3.7.2->en-core-web-trf==3.7.3) (3.10)\n",
            "Requirement already satisfied: urllib3<3,>=1.21.1 in /usr/local/lib/python3.10/dist-packages (from requests<3.0.0,>=2.13.0->spacy<3.8.0,>=3.7.2->en-core-web-trf==3.7.3) (2.2.3)\n",
            "Requirement already satisfied: certifi>=2017.4.17 in /usr/local/lib/python3.10/dist-packages (from requests<3.0.0,>=2.13.0->spacy<3.8.0,>=3.7.2->en-core-web-trf==3.7.3) (2024.8.30)\n",
            "Requirement already satisfied: blis<0.8.0,>=0.7.8 in /usr/local/lib/python3.10/dist-packages (from thinc<8.3.0,>=8.2.2->spacy<3.8.0,>=3.7.2->en-core-web-trf==3.7.3) (0.7.11)\n",
            "Requirement already satisfied: confection<1.0.0,>=0.0.1 in /usr/local/lib/python3.10/dist-packages (from thinc<8.3.0,>=8.2.2->spacy<3.8.0,>=3.7.2->en-core-web-trf==3.7.3) (0.1.5)\n",
            "Requirement already satisfied: filelock in /usr/local/lib/python3.10/dist-packages (from torch>=1.12.0->spacy-curated-transformers<0.3.0,>=0.2.0->en-core-web-trf==3.7.3) (3.16.1)\n",
            "Requirement already satisfied: networkx in /usr/local/lib/python3.10/dist-packages (from torch>=1.12.0->spacy-curated-transformers<0.3.0,>=0.2.0->en-core-web-trf==3.7.3) (3.4.2)\n",
            "Requirement already satisfied: fsspec in /usr/local/lib/python3.10/dist-packages (from torch>=1.12.0->spacy-curated-transformers<0.3.0,>=0.2.0->en-core-web-trf==3.7.3) (2024.10.0)\n",
            "Requirement already satisfied: sympy==1.13.1 in /usr/local/lib/python3.10/dist-packages (from torch>=1.12.0->spacy-curated-transformers<0.3.0,>=0.2.0->en-core-web-trf==3.7.3) (1.13.1)\n",
            "Requirement already satisfied: mpmath<1.4,>=1.1.0 in /usr/local/lib/python3.10/dist-packages (from sympy==1.13.1->torch>=1.12.0->spacy-curated-transformers<0.3.0,>=0.2.0->en-core-web-trf==3.7.3) (1.3.0)\n",
            "Requirement already satisfied: click>=8.0.0 in /usr/local/lib/python3.10/dist-packages (from typer<1.0.0,>=0.3.0->spacy<3.8.0,>=3.7.2->en-core-web-trf==3.7.3) (8.1.7)\n",
            "Requirement already satisfied: shellingham>=1.3.0 in /usr/local/lib/python3.10/dist-packages (from typer<1.0.0,>=0.3.0->spacy<3.8.0,>=3.7.2->en-core-web-trf==3.7.3) (1.5.4)\n",
            "Requirement already satisfied: rich>=10.11.0 in /usr/local/lib/python3.10/dist-packages (from typer<1.0.0,>=0.3.0->spacy<3.8.0,>=3.7.2->en-core-web-trf==3.7.3) (13.9.4)\n",
            "Requirement already satisfied: cloudpathlib<1.0.0,>=0.7.0 in /usr/local/lib/python3.10/dist-packages (from weasel<0.5.0,>=0.1.0->spacy<3.8.0,>=3.7.2->en-core-web-trf==3.7.3) (0.20.0)\n",
            "Requirement already satisfied: smart-open<8.0.0,>=5.2.1 in /usr/local/lib/python3.10/dist-packages (from weasel<0.5.0,>=0.1.0->spacy<3.8.0,>=3.7.2->en-core-web-trf==3.7.3) (7.0.5)\n",
            "Requirement already satisfied: MarkupSafe>=2.0 in /usr/local/lib/python3.10/dist-packages (from jinja2->spacy<3.8.0,>=3.7.2->en-core-web-trf==3.7.3) (3.0.2)\n",
            "Requirement already satisfied: marisa-trie>=0.7.7 in /usr/local/lib/python3.10/dist-packages (from language-data>=1.2->langcodes<4.0.0,>=3.2.0->spacy<3.8.0,>=3.7.2->en-core-web-trf==3.7.3) (1.2.1)\n",
            "Requirement already satisfied: markdown-it-py>=2.2.0 in /usr/local/lib/python3.10/dist-packages (from rich>=10.11.0->typer<1.0.0,>=0.3.0->spacy<3.8.0,>=3.7.2->en-core-web-trf==3.7.3) (3.0.0)\n",
            "Requirement already satisfied: pygments<3.0.0,>=2.13.0 in /usr/local/lib/python3.10/dist-packages (from rich>=10.11.0->typer<1.0.0,>=0.3.0->spacy<3.8.0,>=3.7.2->en-core-web-trf==3.7.3) (2.18.0)\n",
            "Requirement already satisfied: wrapt in /usr/local/lib/python3.10/dist-packages (from smart-open<8.0.0,>=5.2.1->weasel<0.5.0,>=0.1.0->spacy<3.8.0,>=3.7.2->en-core-web-trf==3.7.3) (1.16.0)\n",
            "Requirement already satisfied: mdurl~=0.1 in /usr/local/lib/python3.10/dist-packages (from markdown-it-py>=2.2.0->rich>=10.11.0->typer<1.0.0,>=0.3.0->spacy<3.8.0,>=3.7.2->en-core-web-trf==3.7.3) (0.1.2)\n",
            "Downloading spacy_curated_transformers-0.2.2-py2.py3-none-any.whl (236 kB)\n",
            "Downloading curated_tokenizers-0.0.9-cp310-cp310-manylinux_2_17_x86_64.manylinux2014_x86_64.whl (731 kB)\n",
            "\u001b[2K   \u001b[90m━━━━━━━━━━━━━━━━━━━━━━━━━━━━━━━━━━━━━━━━\u001b[0m \u001b[32m731.6/731.6 kB\u001b[0m \u001b[31m16.3 MB/s\u001b[0m eta \u001b[36m0:00:00\u001b[0m\n",
            "\u001b[?25hDownloading curated_transformers-0.1.1-py2.py3-none-any.whl (25 kB)\n",
            "Installing collected packages: curated-tokenizers, curated-transformers, spacy-curated-transformers, en-core-web-trf\n",
            "Successfully installed curated-tokenizers-0.0.9 curated-transformers-0.1.1 en-core-web-trf-3.7.3 spacy-curated-transformers-0.2.2\n",
            "\u001b[38;5;2m✔ Download and installation successful\u001b[0m\n",
            "You can now load the package via spacy.load('en_core_web_trf')\n",
            "\u001b[38;5;3m⚠ Restart to reload dependencies\u001b[0m\n",
            "If you are in a Jupyter or Colab notebook, you may need to restart Python in\n",
            "order to load all the package's dependencies. You can do this by selecting the\n",
            "'Restart kernel' or 'Restart runtime' option.\n"
          ]
        }
      ]
    },
    {
      "cell_type": "code",
      "source": [
        "import pandas as pd\n",
        "import numpy as np\n",
        "import torch\n",
        "from newspaper import Article\n",
        "import os\n",
        "import spacy\n"
      ],
      "metadata": {
        "id": "1MgQgHLV4DmH"
      },
      "id": "1MgQgHLV4DmH",
      "execution_count": null,
      "outputs": []
    },
    {
      "cell_type": "code",
      "source": [
        "spacy.require_gpu()"
      ],
      "metadata": {
        "colab": {
          "base_uri": "https://localhost:8080/"
        },
        "id": "l1AB1B2I46Kh",
        "outputId": "d1844d5c-e8c2-445a-d89d-e289d2627686"
      },
      "id": "l1AB1B2I46Kh",
      "execution_count": null,
      "outputs": [
        {
          "output_type": "execute_result",
          "data": {
            "text/plain": [
              "True"
            ]
          },
          "metadata": {},
          "execution_count": 2
        }
      ]
    },
    {
      "cell_type": "code",
      "source": [
        "nlp = spacy.load(\"en_core_web_trf\")"
      ],
      "metadata": {
        "colab": {
          "base_uri": "https://localhost:8080/"
        },
        "id": "Bs8Q69iy47ia",
        "outputId": "cf7fc16e-5e16-480f-f03f-c6dbdaf14674"
      },
      "id": "Bs8Q69iy47ia",
      "execution_count": null,
      "outputs": [
        {
          "output_type": "stream",
          "name": "stderr",
          "text": [
            "/usr/local/lib/python3.10/dist-packages/spacy/util.py:1740: UserWarning: [W111] Jupyter notebook detected: if using `prefer_gpu()` or `require_gpu()`, include it in the same cell right before `spacy.load()` to ensure that the model is loaded on the correct device. More information: http://spacy.io/usage/v3#jupyter-notebook-gpu\n",
            "  warnings.warn(Warnings.W111)\n",
            "/usr/local/lib/python3.10/dist-packages/thinc/shims/pytorch.py:253: FutureWarning: You are using `torch.load` with `weights_only=False` (the current default value), which uses the default pickle module implicitly. It is possible to construct malicious pickle data which will execute arbitrary code during unpickling (See https://github.com/pytorch/pytorch/blob/main/SECURITY.md#untrusted-models for more details). In a future release, the default value for `weights_only` will be flipped to `True`. This limits the functions that could be executed during unpickling. Arbitrary objects will no longer be allowed to be loaded via this mode unless they are explicitly allowlisted by the user via `torch.serialization.add_safe_globals`. We recommend you start setting `weights_only=True` for any use case where you don't have full control of the loaded file. Please open an issue on GitHub for any issues related to this experimental feature.\n",
            "  model.load_state_dict(torch.load(filelike, map_location=device))\n"
          ]
        }
      ]
    },
    {
      "cell_type": "code",
      "source": [
        "txt = \"Adherents of the Dogs strategy assume that the highest yielding Dow stocks are unfairly and temporarily depressed. That presumably means they'll hold up better than the S&P 500. And that seems to be the case in 2022. Adding the Dogs stocks' 4% average dividend yield coming into 2022 plus their average 1.8% drop still left investors with a positive return of more than 2% on the stocks. Additionally, half of last year's Dogs, including International Business Machines (IBM), Chevron (CVX), Merck (MRK), Amgen (AMGN), and Coca-Cola (KO) posted gains in 2022. Chevron alone gained 53% on top of yielding 4.6%.\"\n",
        "doc = nlp(txt)\n",
        "\n",
        "for ent in doc.ents:\n",
        "    print(ent.text, ent.start_char, ent.end_char, ent.label_)"
      ],
      "metadata": {
        "colab": {
          "base_uri": "https://localhost:8080/"
        },
        "id": "9QMCKOIV5-Zt",
        "outputId": "56bf2214-6e1d-4b2b-f800-9501d4d09266"
      },
      "id": "9QMCKOIV5-Zt",
      "execution_count": null,
      "outputs": [
        {
          "output_type": "stream",
          "name": "stderr",
          "text": [
            "/usr/local/lib/python3.10/dist-packages/thinc/shims/pytorch.py:114: FutureWarning: `torch.cuda.amp.autocast(args...)` is deprecated. Please use `torch.amp.autocast('cuda', args...)` instead.\n",
            "  with torch.cuda.amp.autocast(self._mixed_precision):\n"
          ]
        },
        {
          "output_type": "stream",
          "name": "stdout",
          "text": [
            "Dow 64 67 ORG\n",
            "2022 211 215 DATE\n",
            "4% 241 243 PERCENT\n",
            "2022 279 283 DATE\n",
            "1.8% 303 307 PERCENT\n",
            "more than 2% 360 372 PERCENT\n",
            "half 402 406 CARDINAL\n",
            "last year's 410 421 DATE\n",
            "International Business Machines 438 469 ORG\n",
            "IBM 471 474 ORG\n",
            "Chevron 477 484 ORG\n",
            "CVX 486 489 ORG\n",
            "Merck 492 497 ORG\n",
            "MRK 499 502 ORG\n",
            "Amgen 505 510 ORG\n",
            "AMGN 512 516 ORG\n",
            "Coca-Cola 523 532 ORG\n",
            "KO 534 536 ORG\n",
            "2022 554 558 DATE\n",
            "Chevron 560 567 ORG\n",
            "53% 581 584 PERCENT\n",
            "4.6% 604 608 PERCENT\n"
          ]
        }
      ]
    },
    {
      "cell_type": "code",
      "source": [
        "print(torch.cuda.is_available())\n",
        "print(torch.cuda.device_count())"
      ],
      "metadata": {
        "colab": {
          "base_uri": "https://localhost:8080/"
        },
        "id": "q0HOxSud6NV0",
        "outputId": "573877ef-c024-4a3a-83eb-ba251ccce219"
      },
      "id": "q0HOxSud6NV0",
      "execution_count": null,
      "outputs": [
        {
          "output_type": "stream",
          "name": "stdout",
          "text": [
            "True\n",
            "1\n"
          ]
        }
      ]
    },
    {
      "cell_type": "code",
      "source": [
        "!ls /content/old_data"
      ],
      "metadata": {
        "colab": {
          "base_uri": "https://localhost:8080/"
        },
        "id": "Yo6eoQJ6AgBq",
        "outputId": "e8141830-6b55-4f5d-eed4-65a9b998e3bb"
      },
      "id": "Yo6eoQJ6AgBq",
      "execution_count": null,
      "outputs": [
        {
          "output_type": "stream",
          "name": "stdout",
          "text": [
            "AAPL_main.csv\t   GOOGL_main.csv      INTC_main.csv\t  MSFT_main.csv      NVDA_main.csv\n",
            "AAPL_relation.csv  GOOGL_relation.csv  INTC_relation.csv  MSFT_relation.csv  NVDA_relation.csv\n",
            "AMZN_main.csv\t   IBM_main.csv        META_main.csv\t  NFLX_main.csv      ORCL_main.csv\n",
            "AMZN_relation.csv  IBM_relation.csv    META_relation.csv  NFLX_relation.csv  ORCL_relation.csv\n"
          ]
        }
      ]
    },
    {
      "cell_type": "code",
      "source": [
        "from transformers import pipeline\n",
        "\n",
        "pipe = pipeline(\"sentiment-analysis\", model=\"ProsusAI/finbert\", device=0 if torch.cuda.is_available() else -1)"
      ],
      "metadata": {
        "colab": {
          "base_uri": "https://localhost:8080/",
          "height": 177,
          "referenced_widgets": [
            "8004cc1bc2b440378cca68821b68d614",
            "043241524ee34116879bba805737b630",
            "1cde57998aca46ecb747f6d10b9cae3f",
            "05c4af6924c547f7bb7d1e531797ce48",
            "abd8d357054a4e67aa78f2c1d9d8c5b7",
            "520b68be2ba144b5a06dec3b33fcc46d",
            "bd3a7015fbeb4295b164df0735c464ca",
            "857d5fc8308e4765b5f1ecefaf4e8e23",
            "0339fa8e65574131803a1aad489ad261",
            "c2358a2bd8754bd3bdd28f67ce0de09e",
            "b551069144b94c03a889958c7842aade",
            "4163eab7f75a4e3e946db8c1d0918907",
            "36304421d396438b95ecdaf4ea1e1c77",
            "dca6f2040bb74f75bb76318aceae2fb0",
            "5d9275e4c0634cb68f716fda1725d3d7",
            "98b9a34eb39f4514a4c013b8c579db34",
            "a6eb4668b2ef43808647549bfb40e82c",
            "a8ba20404f714664ad859b38cacbf5f5",
            "1913cacccecb4eb8b8ac7782108c580a",
            "7a3845c6117d46e4b516c5b9cfe12974",
            "d1977ce7255b4ea29a4a389614cfe97b",
            "36cfe5618af7454dbf793938f354c501",
            "54295df02e334834bfbcb863269cccea",
            "5cdaeae8c42541d188dac0f0cb5c5c9f",
            "a8bccf290b284652abc606c4e24eb0af",
            "ec62b5e2d6194a7bbc1208305c486c05",
            "541053dbad0646609651bb01736b3359",
            "0bdddef22ee84b2d965d392a90e6bb82",
            "e88b344250dd42959464edff1af2b17f",
            "7823403c48a648228f81b0d48176b0cf",
            "53b7828701d54c0daf97784cdd02cc9a",
            "350a36914485481e89f9b18f24b80670",
            "159f64c1754648ffa8b00363ceb98093",
            "e737ad24bf7044eb815a5bf5b749acac",
            "77b528ef7d8d45c2bb35480c235e3a9c",
            "1c155f55641d4c2dae8e73b3c6581959",
            "a474495a809c461786c73ae5bbffc6e1",
            "534b6f8bb4d24d49826b62e697c36b56",
            "eecca730a9d34a4c8a7fabbe2c023682",
            "2ec8a2b430d142de8db690f811bc9481",
            "e12285cf86ee4162934a94db49f2fe4a",
            "29888191ae6f41c089bbda0bda7b3135",
            "c86b824951d647a18739c407c68916bb",
            "d823681f255f4a5594cf9126f69b016f",
            "64ba852390c5490fb0ff14297510789c",
            "fb792c5eb98445dda253d39e2ce66153",
            "3849598fdf1442ba91d6940e628dfecb",
            "ea941b96617e44f98b1c7cf683ae0d03",
            "2a36ab41d12942ab9d7d59e14b1ca709",
            "59ae5bed14f449ce92ef6f01b39fab7d",
            "3f2373cf891b46d4a272124185790f62",
            "ec2697f45b954a56a380067e34d88f5f",
            "cef999597b0c47c189c9970ad64898e9",
            "18a8384a681442c39b6f8f3b1f56a4b1",
            "e8dc0cb3d9f24d0eaaf8b560e48eaa0f"
          ]
        },
        "id": "xexP53rQ6NcG",
        "outputId": "be40ede9-c89e-48c4-f788-346e3de1fd36"
      },
      "id": "xexP53rQ6NcG",
      "execution_count": null,
      "outputs": [
        {
          "output_type": "display_data",
          "data": {
            "text/plain": [
              "config.json:   0%|          | 0.00/758 [00:00<?, ?B/s]"
            ],
            "application/vnd.jupyter.widget-view+json": {
              "version_major": 2,
              "version_minor": 0,
              "model_id": "8004cc1bc2b440378cca68821b68d614"
            }
          },
          "metadata": {}
        },
        {
          "output_type": "display_data",
          "data": {
            "text/plain": [
              "pytorch_model.bin:   0%|          | 0.00/438M [00:00<?, ?B/s]"
            ],
            "application/vnd.jupyter.widget-view+json": {
              "version_major": 2,
              "version_minor": 0,
              "model_id": "4163eab7f75a4e3e946db8c1d0918907"
            }
          },
          "metadata": {}
        },
        {
          "output_type": "display_data",
          "data": {
            "text/plain": [
              "tokenizer_config.json:   0%|          | 0.00/252 [00:00<?, ?B/s]"
            ],
            "application/vnd.jupyter.widget-view+json": {
              "version_major": 2,
              "version_minor": 0,
              "model_id": "54295df02e334834bfbcb863269cccea"
            }
          },
          "metadata": {}
        },
        {
          "output_type": "display_data",
          "data": {
            "text/plain": [
              "vocab.txt:   0%|          | 0.00/232k [00:00<?, ?B/s]"
            ],
            "application/vnd.jupyter.widget-view+json": {
              "version_major": 2,
              "version_minor": 0,
              "model_id": "e737ad24bf7044eb815a5bf5b749acac"
            }
          },
          "metadata": {}
        },
        {
          "output_type": "display_data",
          "data": {
            "text/plain": [
              "special_tokens_map.json:   0%|          | 0.00/112 [00:00<?, ?B/s]"
            ],
            "application/vnd.jupyter.widget-view+json": {
              "version_major": 2,
              "version_minor": 0,
              "model_id": "64ba852390c5490fb0ff14297510789c"
            }
          },
          "metadata": {}
        }
      ]
    },
    {
      "cell_type": "code",
      "source": [
        "from google.colab import files\n",
        "uploaded = files.upload()"
      ],
      "metadata": {
        "colab": {
          "base_uri": "https://localhost:8080/",
          "height": 107
        },
        "id": "vfWUwWFW6gcf",
        "outputId": "317da8dc-87ac-4482-8e97-932a52125df0"
      },
      "id": "vfWUwWFW6gcf",
      "execution_count": null,
      "outputs": [
        {
          "output_type": "display_data",
          "data": {
            "text/plain": [
              "<IPython.core.display.HTML object>"
            ],
            "text/html": [
              "\n",
              "     <input type=\"file\" id=\"files-e0623de2-9df3-402a-85b8-ce1e86f98d05\" name=\"files[]\" multiple disabled\n",
              "        style=\"border:none\" />\n",
              "     <output id=\"result-e0623de2-9df3-402a-85b8-ce1e86f98d05\">\n",
              "      Upload widget is only available when the cell has been executed in the\n",
              "      current browser session. Please rerun this cell to enable.\n",
              "      </output>\n",
              "      <script>// Copyright 2017 Google LLC\n",
              "//\n",
              "// Licensed under the Apache License, Version 2.0 (the \"License\");\n",
              "// you may not use this file except in compliance with the License.\n",
              "// You may obtain a copy of the License at\n",
              "//\n",
              "//      http://www.apache.org/licenses/LICENSE-2.0\n",
              "//\n",
              "// Unless required by applicable law or agreed to in writing, software\n",
              "// distributed under the License is distributed on an \"AS IS\" BASIS,\n",
              "// WITHOUT WARRANTIES OR CONDITIONS OF ANY KIND, either express or implied.\n",
              "// See the License for the specific language governing permissions and\n",
              "// limitations under the License.\n",
              "\n",
              "/**\n",
              " * @fileoverview Helpers for google.colab Python module.\n",
              " */\n",
              "(function(scope) {\n",
              "function span(text, styleAttributes = {}) {\n",
              "  const element = document.createElement('span');\n",
              "  element.textContent = text;\n",
              "  for (const key of Object.keys(styleAttributes)) {\n",
              "    element.style[key] = styleAttributes[key];\n",
              "  }\n",
              "  return element;\n",
              "}\n",
              "\n",
              "// Max number of bytes which will be uploaded at a time.\n",
              "const MAX_PAYLOAD_SIZE = 100 * 1024;\n",
              "\n",
              "function _uploadFiles(inputId, outputId) {\n",
              "  const steps = uploadFilesStep(inputId, outputId);\n",
              "  const outputElement = document.getElementById(outputId);\n",
              "  // Cache steps on the outputElement to make it available for the next call\n",
              "  // to uploadFilesContinue from Python.\n",
              "  outputElement.steps = steps;\n",
              "\n",
              "  return _uploadFilesContinue(outputId);\n",
              "}\n",
              "\n",
              "// This is roughly an async generator (not supported in the browser yet),\n",
              "// where there are multiple asynchronous steps and the Python side is going\n",
              "// to poll for completion of each step.\n",
              "// This uses a Promise to block the python side on completion of each step,\n",
              "// then passes the result of the previous step as the input to the next step.\n",
              "function _uploadFilesContinue(outputId) {\n",
              "  const outputElement = document.getElementById(outputId);\n",
              "  const steps = outputElement.steps;\n",
              "\n",
              "  const next = steps.next(outputElement.lastPromiseValue);\n",
              "  return Promise.resolve(next.value.promise).then((value) => {\n",
              "    // Cache the last promise value to make it available to the next\n",
              "    // step of the generator.\n",
              "    outputElement.lastPromiseValue = value;\n",
              "    return next.value.response;\n",
              "  });\n",
              "}\n",
              "\n",
              "/**\n",
              " * Generator function which is called between each async step of the upload\n",
              " * process.\n",
              " * @param {string} inputId Element ID of the input file picker element.\n",
              " * @param {string} outputId Element ID of the output display.\n",
              " * @return {!Iterable<!Object>} Iterable of next steps.\n",
              " */\n",
              "function* uploadFilesStep(inputId, outputId) {\n",
              "  const inputElement = document.getElementById(inputId);\n",
              "  inputElement.disabled = false;\n",
              "\n",
              "  const outputElement = document.getElementById(outputId);\n",
              "  outputElement.innerHTML = '';\n",
              "\n",
              "  const pickedPromise = new Promise((resolve) => {\n",
              "    inputElement.addEventListener('change', (e) => {\n",
              "      resolve(e.target.files);\n",
              "    });\n",
              "  });\n",
              "\n",
              "  const cancel = document.createElement('button');\n",
              "  inputElement.parentElement.appendChild(cancel);\n",
              "  cancel.textContent = 'Cancel upload';\n",
              "  const cancelPromise = new Promise((resolve) => {\n",
              "    cancel.onclick = () => {\n",
              "      resolve(null);\n",
              "    };\n",
              "  });\n",
              "\n",
              "  // Wait for the user to pick the files.\n",
              "  const files = yield {\n",
              "    promise: Promise.race([pickedPromise, cancelPromise]),\n",
              "    response: {\n",
              "      action: 'starting',\n",
              "    }\n",
              "  };\n",
              "\n",
              "  cancel.remove();\n",
              "\n",
              "  // Disable the input element since further picks are not allowed.\n",
              "  inputElement.disabled = true;\n",
              "\n",
              "  if (!files) {\n",
              "    return {\n",
              "      response: {\n",
              "        action: 'complete',\n",
              "      }\n",
              "    };\n",
              "  }\n",
              "\n",
              "  for (const file of files) {\n",
              "    const li = document.createElement('li');\n",
              "    li.append(span(file.name, {fontWeight: 'bold'}));\n",
              "    li.append(span(\n",
              "        `(${file.type || 'n/a'}) - ${file.size} bytes, ` +\n",
              "        `last modified: ${\n",
              "            file.lastModifiedDate ? file.lastModifiedDate.toLocaleDateString() :\n",
              "                                    'n/a'} - `));\n",
              "    const percent = span('0% done');\n",
              "    li.appendChild(percent);\n",
              "\n",
              "    outputElement.appendChild(li);\n",
              "\n",
              "    const fileDataPromise = new Promise((resolve) => {\n",
              "      const reader = new FileReader();\n",
              "      reader.onload = (e) => {\n",
              "        resolve(e.target.result);\n",
              "      };\n",
              "      reader.readAsArrayBuffer(file);\n",
              "    });\n",
              "    // Wait for the data to be ready.\n",
              "    let fileData = yield {\n",
              "      promise: fileDataPromise,\n",
              "      response: {\n",
              "        action: 'continue',\n",
              "      }\n",
              "    };\n",
              "\n",
              "    // Use a chunked sending to avoid message size limits. See b/62115660.\n",
              "    let position = 0;\n",
              "    do {\n",
              "      const length = Math.min(fileData.byteLength - position, MAX_PAYLOAD_SIZE);\n",
              "      const chunk = new Uint8Array(fileData, position, length);\n",
              "      position += length;\n",
              "\n",
              "      const base64 = btoa(String.fromCharCode.apply(null, chunk));\n",
              "      yield {\n",
              "        response: {\n",
              "          action: 'append',\n",
              "          file: file.name,\n",
              "          data: base64,\n",
              "        },\n",
              "      };\n",
              "\n",
              "      let percentDone = fileData.byteLength === 0 ?\n",
              "          100 :\n",
              "          Math.round((position / fileData.byteLength) * 100);\n",
              "      percent.textContent = `${percentDone}% done`;\n",
              "\n",
              "    } while (position < fileData.byteLength);\n",
              "  }\n",
              "\n",
              "  // All done.\n",
              "  yield {\n",
              "    response: {\n",
              "      action: 'complete',\n",
              "    }\n",
              "  };\n",
              "}\n",
              "\n",
              "scope.google = scope.google || {};\n",
              "scope.google.colab = scope.google.colab || {};\n",
              "scope.google.colab._files = {\n",
              "  _uploadFiles,\n",
              "  _uploadFilesContinue,\n",
              "};\n",
              "})(self);\n",
              "</script> "
            ]
          },
          "metadata": {}
        },
        {
          "output_type": "stream",
          "name": "stdout",
          "text": [
            "Saving AAPL_main.csv to AAPL_main.csv\n",
            "Saving AAPL_relation.csv to AAPL_relation.csv\n"
          ]
        }
      ]
    },
    {
      "cell_type": "code",
      "source": [
        "def get_news_text(url):\n",
        "    article = Article(url)\n",
        "    try:\n",
        "        article.download()\n",
        "        article.parse()\n",
        "        return article.text\n",
        "    except Exception as error:\n",
        "        return error"
      ],
      "metadata": {
        "id": "sattHnfN6SeA"
      },
      "id": "sattHnfN6SeA",
      "execution_count": null,
      "outputs": []
    },
    {
      "cell_type": "code",
      "source": [
        "def split_text_by_ticker_aliases(text, nlp, ticker_aliases):\n",
        "    \"\"\"\n",
        "    Splits the text into sections based on the presence of ticker names or their aliases,\n",
        "    as well as a category for text not related to any ticker.\n",
        "    \"\"\"\n",
        "    split_text = {ticker: list([]) for ticker in ticker_aliases.keys()}\n",
        "    split_text[\"none\"] = list([])  # For text unrelated to any ticker\n",
        "\n",
        "    # alias_to_ticker = {}\n",
        "    # for ticker, aliases in ticker_aliases.items():\n",
        "    #     for alias in aliases:\n",
        "    #         alias_to_ticker[alias.lower()] = ticker  # Use lowercase for matching\n",
        "\n",
        "    doc = nlp(text)\n",
        "\n",
        "    sentences = list(doc.sents)\n",
        "\n",
        "    for sentence in sentences:\n",
        "        associated = False\n",
        "\n",
        "        # Check for ticker matches in named entities\n",
        "        for ent in sentence.ents:\n",
        "            alias = ent.text.lower()\n",
        "            for ticker, aliases in ticker_aliases.items():\n",
        "                for aliase in aliases:\n",
        "                    if alias in aliase.lower() or aliase.lower() in alias:\n",
        "                        split_text[ticker].append(sentence.text)\n",
        "                        associated = True\n",
        "                        break\n",
        "\n",
        "\n",
        "            # if alias in alias_to_ticker:\n",
        "            #     ticker = alias_to_ticker[alias]\n",
        "            #     split_text[ticker] += sentence.text + \" \"\n",
        "            #     associated = True\n",
        "\n",
        "        if not associated:\n",
        "            split_text[\"none\"].append(sentence.text)\n",
        "\n",
        "    return split_text"
      ],
      "metadata": {
        "id": "Dkyk7E216bi-"
      },
      "id": "Dkyk7E216bi-",
      "execution_count": null,
      "outputs": []
    },
    {
      "cell_type": "code",
      "source": [
        "def combine_dataframes_with_time_range(main_df, relation_df, start_time, end_time):\n",
        "    start_time = pd.to_datetime(start_time)\n",
        "    end_time = pd.to_datetime(end_time)\n",
        "\n",
        "    main_df['publish_time'] = pd.to_datetime(main_df['publish_time'])\n",
        "    relation_df['time'] = pd.to_datetime(relation_df['time'])\n",
        "    filtered_rel = relation_df[relation_df['ticker'] == relation_df['source_ticker']]\n",
        "\n",
        "    # Merge the two dataframes on `id` and `news_id`\n",
        "    merged_df = main_df.merge(filtered_rel, left_on='id', right_on='news_id', how='inner')\n",
        "\n",
        "    filtered_df = merged_df\n",
        "\n",
        "    time_filtered_df = filtered_df[(filtered_df['publish_time'] >= start_time) & (filtered_df['publish_time'] <= end_time)]\n",
        "\n",
        "    time_filtered_df = time_filtered_df.rename(columns={'ticker_x': 'ticker'})\n",
        "\n",
        "    result_df = time_filtered_df[['id', 'publish_time', 'article_url', 'sentiment', 'ticker']]\n",
        "\n",
        "    return result_df"
      ],
      "metadata": {
        "id": "NpK0l4KO7p0i"
      },
      "id": "NpK0l4KO7p0i",
      "execution_count": null,
      "outputs": []
    },
    {
      "cell_type": "code",
      "source": [
        "def analyze_sentiments_with_aliases(\n",
        "    merged_df, pipe, nlp, ticker_aliases, truncate_or_split=\"truncate\", skip_none=True\n",
        "):\n",
        "    \"\"\"\n",
        "    Perform sentiment analysis on financial news articles grouped by ticker aliases.\n",
        "    \"\"\"\n",
        "    result_data = []\n",
        "\n",
        "    for i, row in enumerate(merged_df.itertuples(), start=1):\n",
        "        if i % 500 == 0:\n",
        "            print(f\"Processing article {i}/{len(merged_df)}\")\n",
        "\n",
        "        url = row.article_url\n",
        "        text = get_news_text(url)\n",
        "\n",
        "        if text != \"Error\" and isinstance(text, str):\n",
        "            split_texts = split_text_by_ticker_aliases(text, nlp, ticker_aliases)\n",
        "\n",
        "            for ticker, sentences in split_texts.items():\n",
        "                if not sentences:  # Skip if no sentences for the ticker\n",
        "                    continue\n",
        "                if skip_none and ticker == \"none\":\n",
        "                    continue\n",
        "\n",
        "                combined_text = \" \".join(sentences)\n",
        "\n",
        "                # Process long text based on the chosen strategy\n",
        "                if truncate_or_split == \"split\":\n",
        "                    tokens = pipe.tokenizer(combined_text, truncation=False, add_special_tokens=True)[\"input_ids\"]\n",
        "                    if len(tokens) > 512:\n",
        "                        chunk_size = 512\n",
        "                        chunks = [combined_text[start : start + chunk_size] for start in range(0, len(combined_text), chunk_size)]\n",
        "\n",
        "                        # Analyze each chunk and compute average score\n",
        "                        total_score = 0\n",
        "                        for chunk in chunks:\n",
        "                            result = pipe(chunk)\n",
        "                            label = result[0][\"label\"]\n",
        "                            score = result[0][\"score\"]\n",
        "                            if label == \"positive\":\n",
        "                                total_score += score\n",
        "                            elif label == \"negative\":\n",
        "                                total_score -= score\n",
        "                        # Determine final sentiment\n",
        "                        predicted_score = total_score / len(chunks)\n",
        "                        if predicted_score > 0.1:\n",
        "                            predicted_sentiment = \"positive\"\n",
        "                        elif predicted_score < -0.1:\n",
        "                            predicted_sentiment = \"negative\"\n",
        "                        else:\n",
        "                            predicted_sentiment = \"neutral\"\n",
        "                    else:\n",
        "                        # Text is already within token limits\n",
        "                        result = pipe(combined_text)\n",
        "                        predicted_sentiment = result[0][\"label\"]\n",
        "                        # predicted_score = result[0][\"score\"]\n",
        "\n",
        "                        if predicted_sentiment == \"positive\":\n",
        "                            predicted_score = result[0]['score']\n",
        "                        elif predicted_sentiment == \"negative\":\n",
        "                            predicted_score = -result[0]['score']\n",
        "                        else:\n",
        "                            predicted_score = 0\n",
        "                else:\n",
        "                    result = pipe(combined_text, truncation=True)\n",
        "                    predicted_sentiment = result[0][\"label\"]\n",
        "                    # predicted_score = result[0][\"score\"]\n",
        "\n",
        "                    if predicted_sentiment == \"positive\":\n",
        "                        predicted_score = result[0]['score']\n",
        "                    elif predicted_sentiment == \"negative\":\n",
        "                        predicted_score = -result[0]['score']\n",
        "                    else:\n",
        "                        predicted_score = 0\n",
        "\n",
        "                result_data.append({\n",
        "                    \"ticker\": ticker,\n",
        "                    \"source_ticker\": row.ticker,\n",
        "                    \"sentiment\": predicted_sentiment,\n",
        "                    \"sentiment_score\": predicted_score,\n",
        "                    \"news_id\": row.id,\n",
        "                    \"time\": row.publish_time,\n",
        "                    \"article_url\": row.article_url\n",
        "                })\n",
        "\n",
        "    result_df = pd.DataFrame(\n",
        "        result_data,\n",
        "        columns=[\"ticker\", \"source_ticker\", \"sentiment\", \"sentiment_score\", \"news_id\", \"time\", \"article_url\"]\n",
        "    )\n",
        "\n",
        "    return result_df"
      ],
      "metadata": {
        "id": "gWFhHVhDOcUH"
      },
      "id": "gWFhHVhDOcUH",
      "execution_count": null,
      "outputs": []
    },
    {
      "cell_type": "code",
      "source": [
        "target_dir = \"/content/old_data\"\n",
        "new_directory = \"/content/total_sentiments\"\n",
        "if not os.path.exists(new_directory):\n",
        "        os.makedirs(new_directory)"
      ],
      "metadata": {
        "id": "T3Nd64jz8682"
      },
      "id": "T3Nd64jz8682",
      "execution_count": null,
      "outputs": []
    },
    {
      "cell_type": "code",
      "source": [
        "aliases = {\n",
        "    \"META\": {\n",
        "        \"META\": {\"Meta\", \"Facebook\", \"Meta Platforms\"}\n",
        "    },\n",
        "    \"AAPL\": {\n",
        "        \"AAPL\": {\"Apple\", \"AAPL\"}\n",
        "    },\n",
        "    \"AMZN\": {\n",
        "        \"AMZN\": {\"Amazon\", \"Amazon.com\", \"AMZN\"}\n",
        "    },\n",
        "    \"NFLX\": {\n",
        "        \"NFLX\": {\"Netflix\", \"NFLX\"}\n",
        "    },\n",
        "    \"GOOGL\": {\n",
        "        \"GOOGL\": {\"Google\", \"Alphabet\", \"GOOGL\"}\n",
        "    },\n",
        "    \"MSFT\": {\n",
        "        \"MSFT\": {\"Microsoft\", \"MSFT\", \"Windows\", \"Azure\"}\n",
        "    },\n",
        "    \"IBM\": {\n",
        "        \"IBM\": {\"IBM\", \"International Business Machines\", \"Big Blue\"}\n",
        "    },\n",
        "    \"ORCL\": {\n",
        "        \"ORCL\": {\"Oracle\", \"ORCL\", \"Oracle Corporation\"}\n",
        "    },\n",
        "    \"NVDA\": {\n",
        "        \"NVDA\": {\"NVIDIA\", \"Nvidia\", \"NVDA\", \"GeForce\"}\n",
        "    },\n",
        "    \"INTC\": {\n",
        "        \"INTC\": {\"Intel\", \"INTC\", \"Intel Corporation\"}\n",
        "    }\n",
        "}"
      ],
      "metadata": {
        "id": "agHlKlZ2PMZL"
      },
      "id": "agHlKlZ2PMZL",
      "execution_count": null,
      "outputs": []
    },
    {
      "cell_type": "code",
      "source": [
        "start_time = \"2024-07-05\"\n",
        "end_time = \"2024-07-06\"\n",
        "\n",
        "test_df = pd.read_csv(\"/content/old_data/AAPL_main.csv\")\n",
        "test_df = test_df[(test_df['publish_time'] >= start_time) & (test_df['publish_time'] <= end_time)]\n",
        "print(test_df)"
      ],
      "metadata": {
        "colab": {
          "base_uri": "https://localhost:8080/"
        },
        "id": "i64UURXS36G9",
        "outputId": "e09796b2-a750-4127-fbc7-c166f6ef3c47"
      },
      "id": "i64UURXS36G9",
      "execution_count": null,
      "outputs": [
        {
          "output_type": "stream",
          "name": "stdout",
          "text": [
            "                                                    id         publish_time  \\\n",
            "610  aff9799c0acb24e8ad98d379473fb51b323101ef58062a...  2024-07-05 22:30:00   \n",
            "611  bb887e8804c0133d0a9b4dce216c6384551a34981e8cfb...  2024-07-05 21:35:51   \n",
            "612  9f32fe77fa214130cb349e4134148ebceb8902bddfe65b...  2024-07-05 20:30:00   \n",
            "613  c48c3a6397fcddafd33de8a5a3b0928ff0ac1e163fda5b...  2024-07-05 20:06:45   \n",
            "614  12db91dff680f61d476a9f48cc4167f37f4331364f778b...  2024-07-05 19:20:06   \n",
            "615  fec6c1e85cb3877391e7f0509ae67e00d9e302b3dda2a5...  2024-07-05 14:23:52   \n",
            "616  6d66f0e3700b559ef5f87c171fe04788896afff13b4451...  2024-07-05 14:04:41   \n",
            "617  d8cfa6720e0d1e79a26b8b2106a584e0ed0504410caa51...  2024-07-05 14:00:53   \n",
            "618  390ca9f6773dbc087a1627354840a24265f498d58ee328...  2024-07-05 13:57:56   \n",
            "619  a85adbfb3047c68c9d64a36e7fb41c2c73bf82f5003cd3...  2024-07-05 13:25:32   \n",
            "620  4dbae762ac5a316f674c52e59dfc823ac508f360452d1f...  2024-07-05 10:21:11   \n",
            "621  9e54e80bd1c0b817e3ac110f34f7704262194794080b98...  2024-07-05 09:30:59   \n",
            "622  5e814b768450e37acb574e26064a3861e46d56308e47ac...  2024-07-05 08:40:25   \n",
            "623  c6998c7d66018d8fb4fe8f1a1b3ed5354d6e970bbb4dde...  2024-07-05 08:30:56   \n",
            "624  83ac010829707557cfe5f7e84348060b8b64608f4dcdd7...  2024-07-05 07:47:51   \n",
            "625  5eef43132b4b960173dfe443a0f3a62b14ebce166669c6...  2024-07-05 07:47:02   \n",
            "626  2084da21d318ff6ed1457629684218e0b6b6da03350486...  2024-07-05 07:05:00   \n",
            "627  a28aa21d91320839eab288579ffe81c5c312cf68f39e97...  2024-07-05 07:04:00   \n",
            "\n",
            "                                                 title  \\\n",
            "610  Can the BetaShares Nasdaq 100 ETF (NDQ) give A...   \n",
            "611  The 2 Most Important Questions in Investing - ...   \n",
            "612  3 things about Vanguard US Total Market Shares...   \n",
            "613  Will The Magnificent 7 Eclipse China's Economy...   \n",
            "614  Magnificent 7 stocks scorecard for 2024: the g...   \n",
            "615  Market Clubhouse Morning Memo - July 5th, 2024...   \n",
            "616  Wedbush sees 15% upside left for Nasdaq, tech ...   \n",
            "617  Epic Games says Apple has twice rejected appli...   \n",
            "618  Wedbush sees 15% upside left for Nasdaq, tech ...   \n",
            "619  Tech Bull Shares Top Stock Picks For Second Ha...   \n",
            "620  Morning Bid: Labor in focus - US jobs, new UK ...   \n",
            "621  The Zacks Analyst Blog Highlights NVIDIA XLK, ...   \n",
            "622  UK Digital Wallets 2024: As More Consumers Tur...   \n",
            "623  The Zacks Analyst Blog Highlights Apple, Alpha...   \n",
            "624  Foxconn Q2 revenue jumps 19% y/y, sees growth ...   \n",
            "625  Foxconn Q2 revenue jumps 19% y/y, sees growth ...   \n",
            "626  1 Unstoppable Stock That Could Join Microsoft,...   \n",
            "627  Should You Buy Into Chipotle's 50-for-1 Stock ...   \n",
            "\n",
            "                                           article_url ticker  \\\n",
            "610  https://www.fool.com.au/2024/07/06/can-the-bet...   AAPL   \n",
            "611  https://www.fool.com/investing/2024/07/05/the-...   AAPL   \n",
            "612  https://www.fool.com.au/2024/07/06/3-things-ab...   AAPL   \n",
            "613  https://www.benzinga.com/markets/asia/24/07/39...   AAPL   \n",
            "614  https://invezz.com/news/2024/07/05/magnificent...   AAPL   \n",
            "615  https://www.benzinga.com/24/07/39647534/market...   AAPL   \n",
            "616  https://ca.investing.com/news/stock-market-new...   AAPL   \n",
            "617  https://www.investing.com/news/stock-market-ne...   AAPL   \n",
            "618  https://au.investing.com/news/stock-market-new...   AAPL   \n",
            "619  https://www.benzinga.com/analyst-ratings/analy...   AAPL   \n",
            "620  https://www.investing.com/news/commodities-new...   AAPL   \n",
            "621  https://www.zacks.com/stock/news/2297098/the-z...   AAPL   \n",
            "622  https://www.globenewswire.com/news-release/202...   AAPL   \n",
            "623  https://www.zacks.com/stock/news/2297088/the-z...   AAPL   \n",
            "624  https://ca.investing.com/news/stock-market-new...   AAPL   \n",
            "625  https://www.investing.com/news/stock-market-ne...   AAPL   \n",
            "626  https://www.fool.com/investing/2024/07/05/1-un...   AAPL   \n",
            "627  https://www.fool.com/investing/2024/07/05/shou...   AAPL   \n",
            "\n",
            "                     publisher  \\\n",
            "610            The Motley Fool   \n",
            "611            The Motley Fool   \n",
            "612            The Motley Fool   \n",
            "613                   Benzinga   \n",
            "614                     Invezz   \n",
            "615                   Benzinga   \n",
            "616              Investing.com   \n",
            "617              Investing.com   \n",
            "618              Investing.com   \n",
            "619                   Benzinga   \n",
            "620              Investing.com   \n",
            "621  Zacks Investment Research   \n",
            "622         GlobeNewswire Inc.   \n",
            "623  Zacks Investment Research   \n",
            "624              Investing.com   \n",
            "625              Investing.com   \n",
            "626            The Motley Fool   \n",
            "627            The Motley Fool   \n",
            "\n",
            "                                           description  \\\n",
            "610  The BetaShares Nasdaq 100 ETF (NDQ) had a stel...   \n",
            "611  The article discusses how retail investors can...   \n",
            "612  The Vanguard US Total Market Shares Index ETF ...   \n",
            "613  The Magnificent 7, a group of seven mega-cap t...   \n",
            "614  The Magnificent 7 stocks, led by Nvidia, have ...   \n",
            "615  The article provides a detailed market analysi...   \n",
            "616  Wedbush analysts are bullish on the tech secto...   \n",
            "617  Epic Games says Apple has rejected its applica...   \n",
            "618  Wedbush analysts are bullish on the tech secto...   \n",
            "619  Wedbush analyst Daniel Ives believes the tech ...   \n",
            "620  The article discusses the focus on labor marke...   \n",
            "621  NVIDIA's stock has surged 146.6% year-to-date,...   \n",
            "622  The report examines the growing adoption of di...   \n",
            "623  Apple's shares have hit a 52-week high, driven...   \n",
            "624  Foxconn, the world's largest contract electron...   \n",
            "625  Foxconn, the world's largest contract electron...   \n",
            "626  Palantir Technologies, a company with a strong...   \n",
            "627  Stock splits are often viewed positively by in...   \n",
            "\n",
            "                                              keywords  \n",
            "610  BetaShares Nasdaq 100 ETF,ASX,FY24,FY25,US eco...  \n",
            "611  stock valuation,retail investors,institutional...  \n",
            "612  Vanguard US Total Market Shares Index ETF,US s...  \n",
            "613  Magnificent 7,China economy,artificial intelli...  \n",
            "614  stocks,market performance,Nvidia,Meta Platform...  \n",
            "615  SPY,QQQ,AAPL,MSFT,NVDA,GOOGL,META,TSLA,market ...  \n",
            "616                  Nasdaq,tech stocks,AI,tech sector  \n",
            "617         Epic Games,Apple,EU games store,rejections  \n",
            "618  Nasdaq,tech stocks,AI revolution,Nvidia,Micros...  \n",
            "619     tech stocks,AI,stock picks,Wedbush,Daniel Ives  \n",
            "620  labor market,US jobs report,UK government,US d...  \n",
            "621  NVIDIA,semiconductor,AI,data center,autonomous...  \n",
            "622         digital wallets,retail,UK,Apple Pay,PayPal  \n",
            "623          Apple,AI,China,Smartphone market,Earnings  \n",
            "624                       Foxconn,revenue,growth,Apple  \n",
            "625                       Foxconn,Apple,revenue,growth  \n",
            "626  Palantir Technologies,Generative AI,Market Cap...  \n",
            "627     stock splits,investor sentiment,Chipotle,Apple  \n"
          ]
        }
      ]
    },
    {
      "cell_type": "code",
      "source": [
        "result_df = analyze_sentiments_with_aliases(test_df, pipe, nlp, aliases[\"AAPL\"], truncate_or_split=\"split\")"
      ],
      "metadata": {
        "colab": {
          "base_uri": "https://localhost:8080/"
        },
        "id": "2YdoQ13l6FJr",
        "outputId": "cbcc24ae-7af3-4602-e16c-4db94550e093"
      },
      "id": "2YdoQ13l6FJr",
      "execution_count": null,
      "outputs": [
        {
          "output_type": "stream",
          "name": "stderr",
          "text": [
            "/usr/local/lib/python3.10/dist-packages/thinc/shims/pytorch.py:114: FutureWarning: `torch.cuda.amp.autocast(args...)` is deprecated. Please use `torch.amp.autocast('cuda', args...)` instead.\n",
            "  with torch.cuda.amp.autocast(self._mixed_precision):\n"
          ]
        },
        {
          "output_type": "stream",
          "name": "stdout",
          "text": [
            "Processing article 10/18\n"
          ]
        }
      ]
    },
    {
      "cell_type": "code",
      "source": [
        "print(result_df)"
      ],
      "metadata": {
        "colab": {
          "base_uri": "https://localhost:8080/"
        },
        "id": "RbPQFZxs6c5e",
        "outputId": "83239d67-ed84-4938-81ef-3cafd0a7f0fc"
      },
      "id": "RbPQFZxs6c5e",
      "execution_count": null,
      "outputs": [
        {
          "output_type": "stream",
          "name": "stdout",
          "text": [
            "   ticker source_ticker sentiment  sentiment_score  \\\n",
            "0    AAPL          AAPL  positive         0.861411   \n",
            "1    AAPL          AAPL   neutral         0.000000   \n",
            "2    AAPL          AAPL   neutral         0.000000   \n",
            "3    AAPL          AAPL  positive         0.840944   \n",
            "4    AAPL          AAPL  negative        -0.968945   \n",
            "5    AAPL          AAPL  positive         0.647968   \n",
            "6    AAPL          AAPL  negative        -0.429588   \n",
            "7    AAPL          AAPL  positive         0.647968   \n",
            "8    AAPL          AAPL   neutral         0.000000   \n",
            "9    AAPL          AAPL   neutral         0.000000   \n",
            "10   AAPL          AAPL  positive         0.835910   \n",
            "11   AAPL          AAPL  positive         0.835910   \n",
            "12   AAPL          AAPL  positive         0.637347   \n",
            "13   AAPL          AAPL   neutral         0.000000   \n",
            "\n",
            "                                              news_id                 time  \\\n",
            "0   aff9799c0acb24e8ad98d379473fb51b323101ef58062a...  2024-07-05 22:30:00   \n",
            "1   bb887e8804c0133d0a9b4dce216c6384551a34981e8cfb...  2024-07-05 21:35:51   \n",
            "2   9f32fe77fa214130cb349e4134148ebceb8902bddfe65b...  2024-07-05 20:30:00   \n",
            "3   c48c3a6397fcddafd33de8a5a3b0928ff0ac1e163fda5b...  2024-07-05 20:06:45   \n",
            "4   12db91dff680f61d476a9f48cc4167f37f4331364f778b...  2024-07-05 19:20:06   \n",
            "5   6d66f0e3700b559ef5f87c171fe04788896afff13b4451...  2024-07-05 14:04:41   \n",
            "6   d8cfa6720e0d1e79a26b8b2106a584e0ed0504410caa51...  2024-07-05 14:00:53   \n",
            "7   390ca9f6773dbc087a1627354840a24265f498d58ee328...  2024-07-05 13:57:56   \n",
            "8   a85adbfb3047c68c9d64a36e7fb41c2c73bf82f5003cd3...  2024-07-05 13:25:32   \n",
            "9   5e814b768450e37acb574e26064a3861e46d56308e47ac...  2024-07-05 08:40:25   \n",
            "10  83ac010829707557cfe5f7e84348060b8b64608f4dcdd7...  2024-07-05 07:47:51   \n",
            "11  5eef43132b4b960173dfe443a0f3a62b14ebce166669c6...  2024-07-05 07:47:02   \n",
            "12  2084da21d318ff6ed1457629684218e0b6b6da03350486...  2024-07-05 07:05:00   \n",
            "13  a28aa21d91320839eab288579ffe81c5c312cf68f39e97...  2024-07-05 07:04:00   \n",
            "\n",
            "                                          article_url  \n",
            "0   https://www.fool.com.au/2024/07/06/can-the-bet...  \n",
            "1   https://www.fool.com/investing/2024/07/05/the-...  \n",
            "2   https://www.fool.com.au/2024/07/06/3-things-ab...  \n",
            "3   https://www.benzinga.com/markets/asia/24/07/39...  \n",
            "4   https://invezz.com/news/2024/07/05/magnificent...  \n",
            "5   https://ca.investing.com/news/stock-market-new...  \n",
            "6   https://www.investing.com/news/stock-market-ne...  \n",
            "7   https://au.investing.com/news/stock-market-new...  \n",
            "8   https://www.benzinga.com/analyst-ratings/analy...  \n",
            "9   https://www.globenewswire.com/news-release/202...  \n",
            "10  https://ca.investing.com/news/stock-market-new...  \n",
            "11  https://www.investing.com/news/stock-market-ne...  \n",
            "12  https://www.fool.com/investing/2024/07/05/1-un...  \n",
            "13  https://www.fool.com/investing/2024/07/05/shou...  \n"
          ]
        }
      ]
    },
    {
      "cell_type": "code",
      "source": [
        "# one file takes too long, split them up\n",
        "for file_name in os.listdir(target_dir):\n",
        "    file_path = os.path.join(target_dir, file_name)\n",
        "    if os.path.isfile(file_path):  # Check if it is a file\n",
        "        if \"main\" in file_name:\n",
        "            # print(file_name)\n",
        "            ticker = file_name.split(\"_\")[0]\n",
        "            print(ticker)\n",
        "            df_news = pd.read_csv(file_path)\n",
        "\n",
        "            result_df = analyze_sentiments_with_aliases(df_news, pipe, nlp, aliases[ticker], truncate_or_split=\"split\")\n",
        "            result_df.to_csv(f\"{new_directory}/{ticker}_total_sentiments.csv\", index=False)"
      ],
      "metadata": {
        "id": "2asTbnPZO-dG"
      },
      "id": "2asTbnPZO-dG",
      "execution_count": null,
      "outputs": []
    },
    {
      "cell_type": "code",
      "source": [
        "# IBM:\n",
        "tick = \"IBM\"\n",
        "input_df = pd.read_csv(f\"{target_dir}/{tick}_main.csv\")\n",
        "result_df = analyze_sentiments_with_aliases(input_df, pipe, nlp, aliases[tick], truncate_or_split=\"split\")"
      ],
      "metadata": {
        "colab": {
          "base_uri": "https://localhost:8080/"
        },
        "id": "BA-KzgP19E5p",
        "outputId": "0a34edaf-b2ee-48c6-ed8a-7e6bc5e6a806"
      },
      "id": "BA-KzgP19E5p",
      "execution_count": null,
      "outputs": [
        {
          "output_type": "stream",
          "name": "stderr",
          "text": [
            "/usr/local/lib/python3.10/dist-packages/thinc/shims/pytorch.py:114: FutureWarning: `torch.cuda.amp.autocast(args...)` is deprecated. Please use `torch.amp.autocast('cuda', args...)` instead.\n",
            "  with torch.cuda.amp.autocast(self._mixed_precision):\n"
          ]
        },
        {
          "output_type": "stream",
          "name": "stdout",
          "text": [
            "Processing article 500/1991\n",
            "Processing article 1000/1991\n",
            "Processing article 1500/1991\n"
          ]
        }
      ]
    },
    {
      "cell_type": "code",
      "source": [
        "print(result_df)"
      ],
      "metadata": {
        "colab": {
          "base_uri": "https://localhost:8080/"
        },
        "id": "eDVNZpmU9nc9",
        "outputId": "68f42c31-6bca-47f8-95a2-d6a90fb8d691"
      },
      "id": "eDVNZpmU9nc9",
      "execution_count": null,
      "outputs": [
        {
          "output_type": "stream",
          "name": "stdout",
          "text": [
            "    ticker source_ticker sentiment  sentiment_score  \\\n",
            "0      IBM           IBM  negative        -0.920723   \n",
            "1      IBM           IBM   neutral         0.000000   \n",
            "2      IBM           IBM  positive         0.275779   \n",
            "3      IBM           IBM  positive         0.702788   \n",
            "4      IBM           IBM  negative        -0.973019   \n",
            "..     ...           ...       ...              ...   \n",
            "794    IBM           IBM   neutral         0.000000   \n",
            "795    IBM           IBM  positive         0.788304   \n",
            "796    IBM           IBM   neutral         0.000000   \n",
            "797    IBM           IBM  positive         0.940293   \n",
            "798    IBM           IBM  positive         0.939638   \n",
            "\n",
            "                                               news_id                 time  \\\n",
            "0    ac68640c4bd892c57b9769569b9021060c7803657044de...  2024-10-28 22:30:00   \n",
            "1    e79a5e50fb91da1c095621f9151c02319747a2a0785edc...  2024-10-25 14:44:00   \n",
            "2    270d2e6f5e0851947f4203ea9b12003cddef813da4d954...  2024-10-25 14:32:00   \n",
            "3    1a28db18f6d90d339c9f07f04e9922c89c7524acd1bb15...  2024-10-25 10:27:00   \n",
            "4    6912e30d6e1286e10f1623fe0cde648318e22d17e109b3...  2024-10-24 15:30:00   \n",
            "..                                                 ...                  ...   \n",
            "794        VYSnFNMVhalTArBeM5bTnl-EjO7dS842e5gFUVPo3uU  2021-09-21 16:10:11   \n",
            "795        EGTRC3B0y6ENfsUJ5yLsmpCBPGvUmCBghW_WWx1qpzw  2021-09-18 11:34:00   \n",
            "796        A85TA8ovEEgY-Kfqxg4tuisk7hRiRu65iY1cW9Ci8Ws  2021-09-15 16:51:01   \n",
            "797        Jah4WZkb1dJeE5dBfHyn4k7DovgLqZmI-PpROQitK6A  2021-09-13 15:23:00   \n",
            "798        zV5uxBc-Nl5sftDo1HVs7wH-thR2uH08EWLet27Rqrw  2021-09-11 10:06:00   \n",
            "\n",
            "                                           article_url  \n",
            "0    https://www.fool.com/investing/2024/10/28/is-o...  \n",
            "1    https://www.globenewswire.com/news-release/202...  \n",
            "2    https://www.investing.com/analysis/is-it-time-...  \n",
            "3    https://www.fool.com/investing/2024/10/25/how-...  \n",
            "4    https://www.investing.com/analysis/industrials...  \n",
            "..                                                 ...  \n",
            "794  https://www.fool.com/investing/2021/09/21/appl...  \n",
            "795  https://www.fool.com/investing/2021/09/18/4-st...  \n",
            "796  https://invezz.com/news/2021/09/15/g-squareds-...  \n",
            "797  https://www.fool.com/investing/2021/09/13/like...  \n",
            "798  https://www.fool.com/investing/2021/09/11/5-sa...  \n",
            "\n",
            "[799 rows x 7 columns]\n"
          ]
        }
      ]
    },
    {
      "cell_type": "code",
      "source": [
        "result_df.to_csv(f\"{new_directory}/{tick}_total_sentiments.csv\", index=False)"
      ],
      "metadata": {
        "id": "_fBzLfCq9lvS"
      },
      "id": "_fBzLfCq9lvS",
      "execution_count": null,
      "outputs": []
    },
    {
      "cell_type": "code",
      "source": [
        "!ls /content/total_sentiments"
      ],
      "metadata": {
        "colab": {
          "base_uri": "https://localhost:8080/"
        },
        "id": "H7o8dxECPij_",
        "outputId": "6ac9d495-26f8-4ef1-f711-5a3b157418c2"
      },
      "id": "H7o8dxECPij_",
      "execution_count": null,
      "outputs": [
        {
          "output_type": "stream",
          "name": "stdout",
          "text": [
            "IBM_total_sentiments.csv   META_total_sentiments.csv  ORCL_total_sentiments.csv\n",
            "INTC_total_sentiments.csv  NFLX_total_sentiments.csv\n"
          ]
        }
      ]
    },
    {
      "cell_type": "code",
      "source": [
        "files.download(f\"{new_directory}/IBM_total_sentiments.csv\")"
      ],
      "metadata": {
        "colab": {
          "base_uri": "https://localhost:8080/",
          "height": 17
        },
        "id": "DMGQbMjDPqLO",
        "outputId": "16805946-10ed-4045-d359-d9bf6cc40417"
      },
      "id": "DMGQbMjDPqLO",
      "execution_count": null,
      "outputs": [
        {
          "output_type": "display_data",
          "data": {
            "text/plain": [
              "<IPython.core.display.Javascript object>"
            ],
            "application/javascript": [
              "\n",
              "    async function download(id, filename, size) {\n",
              "      if (!google.colab.kernel.accessAllowed) {\n",
              "        return;\n",
              "      }\n",
              "      const div = document.createElement('div');\n",
              "      const label = document.createElement('label');\n",
              "      label.textContent = `Downloading \"${filename}\": `;\n",
              "      div.appendChild(label);\n",
              "      const progress = document.createElement('progress');\n",
              "      progress.max = size;\n",
              "      div.appendChild(progress);\n",
              "      document.body.appendChild(div);\n",
              "\n",
              "      const buffers = [];\n",
              "      let downloaded = 0;\n",
              "\n",
              "      const channel = await google.colab.kernel.comms.open(id);\n",
              "      // Send a message to notify the kernel that we're ready.\n",
              "      channel.send({})\n",
              "\n",
              "      for await (const message of channel.messages) {\n",
              "        // Send a message to notify the kernel that we're ready.\n",
              "        channel.send({})\n",
              "        if (message.buffers) {\n",
              "          for (const buffer of message.buffers) {\n",
              "            buffers.push(buffer);\n",
              "            downloaded += buffer.byteLength;\n",
              "            progress.value = downloaded;\n",
              "          }\n",
              "        }\n",
              "      }\n",
              "      const blob = new Blob(buffers, {type: 'application/binary'});\n",
              "      const a = document.createElement('a');\n",
              "      a.href = window.URL.createObjectURL(blob);\n",
              "      a.download = filename;\n",
              "      div.appendChild(a);\n",
              "      a.click();\n",
              "      div.remove();\n",
              "    }\n",
              "  "
            ]
          },
          "metadata": {}
        },
        {
          "output_type": "display_data",
          "data": {
            "text/plain": [
              "<IPython.core.display.Javascript object>"
            ],
            "application/javascript": [
              "download(\"download_c3b05d88-1613-40a7-b0d9-fd6ca6477e1a\", \"IBM_total_sentiments.csv\", 162054)"
            ]
          },
          "metadata": {}
        }
      ]
    },
    {
      "cell_type": "code",
      "source": [
        "# INTC:\n",
        "tick = \"INTC\"\n",
        "input_df = pd.read_csv(f\"{target_dir}/{tick}_main.csv\")\n",
        "result_df = analyze_sentiments_with_aliases(input_df, pipe, nlp, aliases[tick], truncate_or_split=\"split\")"
      ],
      "metadata": {
        "colab": {
          "base_uri": "https://localhost:8080/"
        },
        "id": "pVPKfsHn-Dlj",
        "outputId": "14db39ba-22ef-450c-d6d5-563d7470afe7"
      },
      "id": "pVPKfsHn-Dlj",
      "execution_count": null,
      "outputs": [
        {
          "output_type": "stream",
          "name": "stderr",
          "text": [
            "/usr/local/lib/python3.10/dist-packages/thinc/shims/pytorch.py:114: FutureWarning: `torch.cuda.amp.autocast(args...)` is deprecated. Please use `torch.amp.autocast('cuda', args...)` instead.\n",
            "  with torch.cuda.amp.autocast(self._mixed_precision):\n"
          ]
        },
        {
          "output_type": "stream",
          "name": "stdout",
          "text": [
            "Processing article 500/2989\n",
            "Processing article 1000/2989\n",
            "Processing article 1500/2989\n",
            "Processing article 2000/2989\n",
            "Processing article 2500/2989\n"
          ]
        }
      ]
    },
    {
      "cell_type": "code",
      "source": [
        "print(result_df)"
      ],
      "metadata": {
        "colab": {
          "base_uri": "https://localhost:8080/"
        },
        "id": "85ywEUYb-Lg-",
        "outputId": "52b2ed5b-09eb-4305-90e2-c0a6eade3983"
      },
      "id": "85ywEUYb-Lg-",
      "execution_count": null,
      "outputs": [
        {
          "output_type": "stream",
          "name": "stdout",
          "text": [
            "     ticker source_ticker sentiment  sentiment_score  \\\n",
            "0      INTC          INTC  positive         0.944777   \n",
            "1      INTC          INTC  positive         0.663926   \n",
            "2      INTC          INTC  negative        -0.968407   \n",
            "3      INTC          INTC   neutral         0.000000   \n",
            "4      INTC          INTC  positive         0.922391   \n",
            "...     ...           ...       ...              ...   \n",
            "1515   INTC          INTC  positive         0.525131   \n",
            "1516   INTC          INTC  negative        -0.599807   \n",
            "1517   INTC          INTC  positive         0.489739   \n",
            "1518   INTC          INTC   neutral         0.000000   \n",
            "1519   INTC          INTC  negative        -0.480419   \n",
            "\n",
            "                                                news_id                 time  \\\n",
            "0     7377ea685f9a89bd6ccaae3aa4635e5ffe01245e8634fe...  2024-10-30 09:45:00   \n",
            "1     9fd75f3f763b0ce73c4a20aa8eca75a71c02242b524864...  2024-10-29 11:45:00   \n",
            "2     4fe36e1b97aaab0acff95403c29fffb7c75436de4197ec...  2024-10-29 08:25:00   \n",
            "3     73b4269117fe7fd0fa590192ba9f9f02d679451ed01ba3...  2024-10-28 13:12:33   \n",
            "4     e387f63f600d05db3c69cc12f35a72b89b2f177980fc97...  2024-10-28 09:45:00   \n",
            "...                                                 ...                  ...   \n",
            "1515        eM7WUCd9OK6kgPyDsbPmUqG2q9OwVHb6LcWAiOlLPyY  2022-10-14 11:42:00   \n",
            "1516        eLMVLcp0dkexD2M7LX9TKm5QUsNaI1hv47ewgwpzyWg  2022-10-14 09:40:00   \n",
            "1517        naFE3aUa-g0Bin1SYrCYWrsKEYM7W9s8_UpnBu3tRC0  2022-10-14 09:21:00   \n",
            "1518        CNYHgL71lwUeo6ulbvMIa_7Y19J6ZxIpOndGcMO0nmM  2022-10-13 17:22:19   \n",
            "1519        seHGRwOQSjhb-BxPz_wox3nmQa3ohUr8i1x2qXD9cog  2022-10-13 11:00:00   \n",
            "\n",
            "                                            article_url  \n",
            "0     https://www.fool.com/investing/2024/10/30/tsmc...  \n",
            "1     https://www.fool.com/investing/2024/10/29/inte...  \n",
            "2     https://www.fool.com/investing/2024/10/29/is-t...  \n",
            "3     https://www.fool.com/investing/2024/10/28/this...  \n",
            "4     https://www.fool.com/investing/2024/10/28/marj...  \n",
            "...                                                 ...  \n",
            "1515  https://www.fool.com/investing/2022/10/14/shou...  \n",
            "1516  https://www.fool.com/investing/2022/10/14/5-re...  \n",
            "1517  https://www.fool.com/investing/2022/10/14/3-on...  \n",
            "1518  https://www.fool.com/investing/2022/10/13/why-...  \n",
            "1519  https://www.fool.com/investing/2022/10/13/is-t...  \n",
            "\n",
            "[1520 rows x 7 columns]\n"
          ]
        }
      ]
    },
    {
      "cell_type": "code",
      "source": [
        "result_df.to_csv(f\"{new_directory}/{tick}_total_sentiments.csv\", index=False)"
      ],
      "metadata": {
        "id": "99KZlY5J-Mp4"
      },
      "id": "99KZlY5J-Mp4",
      "execution_count": null,
      "outputs": []
    },
    {
      "cell_type": "code",
      "source": [
        "files.download(f\"{new_directory}/INTC_total_sentiments.csv\")"
      ],
      "metadata": {
        "colab": {
          "base_uri": "https://localhost:8080/",
          "height": 17
        },
        "id": "AIlyCtxDlQam",
        "outputId": "894b2877-384d-4db6-d606-bb6bc886e6c7"
      },
      "id": "AIlyCtxDlQam",
      "execution_count": null,
      "outputs": [
        {
          "output_type": "display_data",
          "data": {
            "text/plain": [
              "<IPython.core.display.Javascript object>"
            ],
            "application/javascript": [
              "\n",
              "    async function download(id, filename, size) {\n",
              "      if (!google.colab.kernel.accessAllowed) {\n",
              "        return;\n",
              "      }\n",
              "      const div = document.createElement('div');\n",
              "      const label = document.createElement('label');\n",
              "      label.textContent = `Downloading \"${filename}\": `;\n",
              "      div.appendChild(label);\n",
              "      const progress = document.createElement('progress');\n",
              "      progress.max = size;\n",
              "      div.appendChild(progress);\n",
              "      document.body.appendChild(div);\n",
              "\n",
              "      const buffers = [];\n",
              "      let downloaded = 0;\n",
              "\n",
              "      const channel = await google.colab.kernel.comms.open(id);\n",
              "      // Send a message to notify the kernel that we're ready.\n",
              "      channel.send({})\n",
              "\n",
              "      for await (const message of channel.messages) {\n",
              "        // Send a message to notify the kernel that we're ready.\n",
              "        channel.send({})\n",
              "        if (message.buffers) {\n",
              "          for (const buffer of message.buffers) {\n",
              "            buffers.push(buffer);\n",
              "            downloaded += buffer.byteLength;\n",
              "            progress.value = downloaded;\n",
              "          }\n",
              "        }\n",
              "      }\n",
              "      const blob = new Blob(buffers, {type: 'application/binary'});\n",
              "      const a = document.createElement('a');\n",
              "      a.href = window.URL.createObjectURL(blob);\n",
              "      a.download = filename;\n",
              "      div.appendChild(a);\n",
              "      a.click();\n",
              "      div.remove();\n",
              "    }\n",
              "  "
            ]
          },
          "metadata": {}
        },
        {
          "output_type": "display_data",
          "data": {
            "text/plain": [
              "<IPython.core.display.Javascript object>"
            ],
            "application/javascript": [
              "download(\"download_ef51d642-65fc-4960-bbfc-bf7678facde9\", \"INTC_total_sentiments.csv\", 303343)"
            ]
          },
          "metadata": {}
        }
      ]
    },
    {
      "cell_type": "code",
      "source": [
        "# META:\n",
        "tick = \"META\"\n",
        "input_df = pd.read_csv(f\"{target_dir}/{tick}_main.csv\")\n",
        "result_df = analyze_sentiments_with_aliases(input_df, pipe, nlp, aliases[tick], truncate_or_split=\"split\")\n"
      ],
      "metadata": {
        "colab": {
          "base_uri": "https://localhost:8080/"
        },
        "id": "ukdAqKurlUVz",
        "outputId": "2d802346-a34d-43a1-f4f6-15e456b69947"
      },
      "id": "ukdAqKurlUVz",
      "execution_count": null,
      "outputs": [
        {
          "output_type": "stream",
          "name": "stderr",
          "text": [
            "/usr/local/lib/python3.10/dist-packages/thinc/shims/pytorch.py:114: FutureWarning: `torch.cuda.amp.autocast(args...)` is deprecated. Please use `torch.amp.autocast('cuda', args...)` instead.\n",
            "  with torch.cuda.amp.autocast(self._mixed_precision):\n"
          ]
        },
        {
          "output_type": "stream",
          "name": "stdout",
          "text": [
            "Processing article 500/6957\n",
            "Processing article 1000/6957\n",
            "Processing article 1500/6957\n",
            "Processing article 2000/6957\n",
            "Processing article 2500/6957\n",
            "Processing article 3000/6957\n",
            "Processing article 3500/6957\n",
            "Processing article 4000/6957\n",
            "Processing article 4500/6957\n",
            "Processing article 5000/6957\n",
            "Processing article 5500/6957\n",
            "Processing article 6000/6957\n",
            "Processing article 6500/6957\n"
          ]
        }
      ]
    },
    {
      "cell_type": "code",
      "source": [
        "print(result_df)"
      ],
      "metadata": {
        "colab": {
          "base_uri": "https://localhost:8080/"
        },
        "id": "yBh0G3O4l09Y",
        "outputId": "21498fd5-216f-48b1-9bee-151f85265308"
      },
      "id": "yBh0G3O4l09Y",
      "execution_count": null,
      "outputs": [
        {
          "output_type": "stream",
          "name": "stdout",
          "text": [
            "     ticker source_ticker sentiment  sentiment_score  \\\n",
            "0      META          META   neutral         0.000000   \n",
            "1      META          META   neutral         0.000000   \n",
            "2      META          META   neutral         0.000000   \n",
            "3      META          META   neutral         0.000000   \n",
            "4      META          META   neutral         0.000000   \n",
            "...     ...           ...       ...              ...   \n",
            "2855   META          META   neutral         0.027943   \n",
            "2856   META          META  positive         0.957545   \n",
            "2857   META          META   neutral         0.000000   \n",
            "2858   META          META   neutral         0.000000   \n",
            "2859   META          META   neutral         0.000000   \n",
            "\n",
            "                                                news_id                 time  \\\n",
            "0     1d9a233266513e7565c8aa26700bc8a7fad1acb0eb8f8f...  2024-10-31 04:26:28   \n",
            "1     40f6f17a31ea6dce828171990cd72377669fa26cabd02b...  2024-10-30 08:57:00   \n",
            "2     73b4269117fe7fd0fa590192ba9f9f02d679451ed01ba3...  2024-10-28 13:12:33   \n",
            "3     f915e8aa2b9ca173f97217e3e20c823c846a9efba9db16...  2024-10-28 09:37:00   \n",
            "4     4d4e504f51033ab67f1ac8848dec47d44d11f1f2206107...  2024-10-27 11:52:00   \n",
            "...                                                 ...                  ...   \n",
            "2855        7XxMFz9uDkCeYegCDIBOq1HnTxYgOIDgvkwU8GP6zdY  2022-08-04 09:20:00   \n",
            "2856        xBW0mEsunerGV96tUzT0CJEh0HmoyeXlqHk7A7EkcpU  2022-08-03 20:28:00   \n",
            "2857        7gkgFkq5T3tCcJ45DVG_CJ_cC5-YVLfpdB6i-zPeJ2Y  2022-08-03 14:07:00   \n",
            "2858        STzo5mw_qcRCRbnmsYZWhi2kxcjdc2sveqNNnaidkFI  2022-08-03 13:22:00   \n",
            "2859        1Lz1jwLfEwvp-JrVh49F701hknmUG8d_rjXq9CpuuG4  2022-08-03 03:00:00   \n",
            "\n",
            "                                            article_url  \n",
            "0     https://www.benzinga.com/markets/equities/24/1...  \n",
            "1     https://www.fool.com/investing/2024/10/30/46-n...  \n",
            "2     https://www.fool.com/investing/2024/10/28/this...  \n",
            "3     https://www.fool.com/investing/2024/10/28/this...  \n",
            "4     https://www.fool.com/investing/2024/10/27/what...  \n",
            "...                                                 ...  \n",
            "2855  https://www.fool.com/investing/2022/08/04/here...  \n",
            "2856  https://www.fool.com/investing/2022/08/03/tech...  \n",
            "2857  https://www.fool.com/investing/2022/08/03/roku...  \n",
            "2858  https://www.fool.com/investing/2022/08/03/why-...  \n",
            "2859  https://www.fool.com/investing/2022/08/02/some...  \n",
            "\n",
            "[2860 rows x 7 columns]\n"
          ]
        }
      ]
    },
    {
      "cell_type": "code",
      "source": [
        "result_df.to_csv(f\"{new_directory}/{tick}_total_sentiments.csv\", index=False)"
      ],
      "metadata": {
        "id": "CrpEJTK6l6zn"
      },
      "id": "CrpEJTK6l6zn",
      "execution_count": null,
      "outputs": []
    },
    {
      "cell_type": "code",
      "source": [
        "files.download(f\"{new_directory}/META_total_sentiments.csv\")"
      ],
      "metadata": {
        "colab": {
          "base_uri": "https://localhost:8080/",
          "height": 17
        },
        "id": "IF6AJWIJu_5A",
        "outputId": "f59b9655-861d-4e00-e83b-5782e6d82fc2"
      },
      "id": "IF6AJWIJu_5A",
      "execution_count": null,
      "outputs": [
        {
          "output_type": "display_data",
          "data": {
            "text/plain": [
              "<IPython.core.display.Javascript object>"
            ],
            "application/javascript": [
              "\n",
              "    async function download(id, filename, size) {\n",
              "      if (!google.colab.kernel.accessAllowed) {\n",
              "        return;\n",
              "      }\n",
              "      const div = document.createElement('div');\n",
              "      const label = document.createElement('label');\n",
              "      label.textContent = `Downloading \"${filename}\": `;\n",
              "      div.appendChild(label);\n",
              "      const progress = document.createElement('progress');\n",
              "      progress.max = size;\n",
              "      div.appendChild(progress);\n",
              "      document.body.appendChild(div);\n",
              "\n",
              "      const buffers = [];\n",
              "      let downloaded = 0;\n",
              "\n",
              "      const channel = await google.colab.kernel.comms.open(id);\n",
              "      // Send a message to notify the kernel that we're ready.\n",
              "      channel.send({})\n",
              "\n",
              "      for await (const message of channel.messages) {\n",
              "        // Send a message to notify the kernel that we're ready.\n",
              "        channel.send({})\n",
              "        if (message.buffers) {\n",
              "          for (const buffer of message.buffers) {\n",
              "            buffers.push(buffer);\n",
              "            downloaded += buffer.byteLength;\n",
              "            progress.value = downloaded;\n",
              "          }\n",
              "        }\n",
              "      }\n",
              "      const blob = new Blob(buffers, {type: 'application/binary'});\n",
              "      const a = document.createElement('a');\n",
              "      a.href = window.URL.createObjectURL(blob);\n",
              "      a.download = filename;\n",
              "      div.appendChild(a);\n",
              "      a.click();\n",
              "      div.remove();\n",
              "    }\n",
              "  "
            ]
          },
          "metadata": {}
        },
        {
          "output_type": "display_data",
          "data": {
            "text/plain": [
              "<IPython.core.display.Javascript object>"
            ],
            "application/javascript": [
              "download(\"download_30372dad-7d13-4626-812f-675ea89c30d4\", \"META_total_sentiments.csv\", 574089)"
            ]
          },
          "metadata": {}
        }
      ]
    },
    {
      "cell_type": "code",
      "source": [
        "!ls /content/total_sentiments"
      ],
      "metadata": {
        "colab": {
          "base_uri": "https://localhost:8080/"
        },
        "id": "P3zFjgO-mjxw",
        "outputId": "deb4d06a-f236-4c89-d2a8-8fd9cda7a58d"
      },
      "id": "P3zFjgO-mjxw",
      "execution_count": null,
      "outputs": [
        {
          "output_type": "stream",
          "name": "stdout",
          "text": [
            "IBM_total_sentiments.csv  INTC_total_sentiments.csv  META_total_sentiments.csv\n"
          ]
        }
      ]
    },
    {
      "cell_type": "code",
      "source": [
        "# NFLX:\n",
        "tick = \"NFLX\"\n",
        "input_df = pd.read_csv(f\"{target_dir}/{tick}_main.csv\")\n",
        "result_df = analyze_sentiments_with_aliases(input_df, pipe, nlp, aliases[tick], truncate_or_split=\"split\")"
      ],
      "metadata": {
        "colab": {
          "base_uri": "https://localhost:8080/"
        },
        "id": "IxR4taxxmrKN",
        "outputId": "762b12cc-85a6-4caf-e569-4156b5f08ee1"
      },
      "id": "IxR4taxxmrKN",
      "execution_count": null,
      "outputs": [
        {
          "output_type": "stream",
          "name": "stderr",
          "text": [
            "/usr/local/lib/python3.10/dist-packages/thinc/shims/pytorch.py:114: FutureWarning: `torch.cuda.amp.autocast(args...)` is deprecated. Please use `torch.amp.autocast('cuda', args...)` instead.\n",
            "  with torch.cuda.amp.autocast(self._mixed_precision):\n"
          ]
        },
        {
          "output_type": "stream",
          "name": "stdout",
          "text": [
            "Processing article 500/2994\n",
            "Processing article 1000/2994\n",
            "Processing article 1500/2994\n",
            "Processing article 2000/2994\n",
            "Processing article 2500/2994\n"
          ]
        }
      ]
    },
    {
      "cell_type": "code",
      "source": [
        "result_df.to_csv(f\"{new_directory}/{tick}_total_sentiments.csv\", index=False)"
      ],
      "metadata": {
        "id": "rBk5d0ZlmrU8"
      },
      "id": "rBk5d0ZlmrU8",
      "execution_count": null,
      "outputs": []
    },
    {
      "cell_type": "code",
      "source": [
        "files.download(f\"{new_directory}/{tick}_total_sentiments.csv\")"
      ],
      "metadata": {
        "colab": {
          "base_uri": "https://localhost:8080/",
          "height": 17
        },
        "id": "kT27qfXHnADm",
        "outputId": "b9c29890-6880-42f7-d31f-1f6674d08a6d"
      },
      "id": "kT27qfXHnADm",
      "execution_count": null,
      "outputs": [
        {
          "output_type": "display_data",
          "data": {
            "text/plain": [
              "<IPython.core.display.Javascript object>"
            ],
            "application/javascript": [
              "\n",
              "    async function download(id, filename, size) {\n",
              "      if (!google.colab.kernel.accessAllowed) {\n",
              "        return;\n",
              "      }\n",
              "      const div = document.createElement('div');\n",
              "      const label = document.createElement('label');\n",
              "      label.textContent = `Downloading \"${filename}\": `;\n",
              "      div.appendChild(label);\n",
              "      const progress = document.createElement('progress');\n",
              "      progress.max = size;\n",
              "      div.appendChild(progress);\n",
              "      document.body.appendChild(div);\n",
              "\n",
              "      const buffers = [];\n",
              "      let downloaded = 0;\n",
              "\n",
              "      const channel = await google.colab.kernel.comms.open(id);\n",
              "      // Send a message to notify the kernel that we're ready.\n",
              "      channel.send({})\n",
              "\n",
              "      for await (const message of channel.messages) {\n",
              "        // Send a message to notify the kernel that we're ready.\n",
              "        channel.send({})\n",
              "        if (message.buffers) {\n",
              "          for (const buffer of message.buffers) {\n",
              "            buffers.push(buffer);\n",
              "            downloaded += buffer.byteLength;\n",
              "            progress.value = downloaded;\n",
              "          }\n",
              "        }\n",
              "      }\n",
              "      const blob = new Blob(buffers, {type: 'application/binary'});\n",
              "      const a = document.createElement('a');\n",
              "      a.href = window.URL.createObjectURL(blob);\n",
              "      a.download = filename;\n",
              "      div.appendChild(a);\n",
              "      a.click();\n",
              "      div.remove();\n",
              "    }\n",
              "  "
            ]
          },
          "metadata": {}
        },
        {
          "output_type": "display_data",
          "data": {
            "text/plain": [
              "<IPython.core.display.Javascript object>"
            ],
            "application/javascript": [
              "download(\"download_65ed54e7-00bd-475d-ab0f-637f93f9e181\", \"NFLX_total_sentiments.csv\", 254384)"
            ]
          },
          "metadata": {}
        }
      ]
    },
    {
      "cell_type": "code",
      "source": [
        "# ORCL:\n",
        "tick = \"ORCL\"\n",
        "input_df = pd.read_csv(f\"{target_dir}/{tick}_main.csv\")\n",
        "result_df = analyze_sentiments_with_aliases(input_df, pipe, nlp, aliases[tick], truncate_or_split=\"split\")"
      ],
      "metadata": {
        "id": "4NqlIVL4nMKn",
        "colab": {
          "base_uri": "https://localhost:8080/"
        },
        "outputId": "11ef9d27-75eb-435a-b807-aa8681b9fe83"
      },
      "id": "4NqlIVL4nMKn",
      "execution_count": null,
      "outputs": [
        {
          "output_type": "stream",
          "name": "stderr",
          "text": [
            "/usr/local/lib/python3.10/dist-packages/thinc/shims/pytorch.py:114: FutureWarning: `torch.cuda.amp.autocast(args...)` is deprecated. Please use `torch.amp.autocast('cuda', args...)` instead.\n",
            "  with torch.cuda.amp.autocast(self._mixed_precision):\n"
          ]
        },
        {
          "output_type": "stream",
          "name": "stdout",
          "text": [
            "Processing article 500/1996\n",
            "Processing article 1000/1996\n",
            "Processing article 1500/1996\n"
          ]
        }
      ]
    },
    {
      "cell_type": "code",
      "source": [
        "result_df.to_csv(f\"{new_directory}/{tick}_total_sentiments.csv\", index=False)"
      ],
      "metadata": {
        "id": "4GvicEDvnQCm"
      },
      "id": "4GvicEDvnQCm",
      "execution_count": null,
      "outputs": []
    },
    {
      "cell_type": "code",
      "source": [
        "files.download(f\"{new_directory}/{tick}_total_sentiments.csv\")"
      ],
      "metadata": {
        "id": "PzaspbqznQQq",
        "colab": {
          "base_uri": "https://localhost:8080/",
          "height": 17
        },
        "outputId": "08a3a4fe-cf20-4688-ced3-f3a58568c860"
      },
      "id": "PzaspbqznQQq",
      "execution_count": null,
      "outputs": [
        {
          "output_type": "display_data",
          "data": {
            "text/plain": [
              "<IPython.core.display.Javascript object>"
            ],
            "application/javascript": [
              "\n",
              "    async function download(id, filename, size) {\n",
              "      if (!google.colab.kernel.accessAllowed) {\n",
              "        return;\n",
              "      }\n",
              "      const div = document.createElement('div');\n",
              "      const label = document.createElement('label');\n",
              "      label.textContent = `Downloading \"${filename}\": `;\n",
              "      div.appendChild(label);\n",
              "      const progress = document.createElement('progress');\n",
              "      progress.max = size;\n",
              "      div.appendChild(progress);\n",
              "      document.body.appendChild(div);\n",
              "\n",
              "      const buffers = [];\n",
              "      let downloaded = 0;\n",
              "\n",
              "      const channel = await google.colab.kernel.comms.open(id);\n",
              "      // Send a message to notify the kernel that we're ready.\n",
              "      channel.send({})\n",
              "\n",
              "      for await (const message of channel.messages) {\n",
              "        // Send a message to notify the kernel that we're ready.\n",
              "        channel.send({})\n",
              "        if (message.buffers) {\n",
              "          for (const buffer of message.buffers) {\n",
              "            buffers.push(buffer);\n",
              "            downloaded += buffer.byteLength;\n",
              "            progress.value = downloaded;\n",
              "          }\n",
              "        }\n",
              "      }\n",
              "      const blob = new Blob(buffers, {type: 'application/binary'});\n",
              "      const a = document.createElement('a');\n",
              "      a.href = window.URL.createObjectURL(blob);\n",
              "      a.download = filename;\n",
              "      div.appendChild(a);\n",
              "      a.click();\n",
              "      div.remove();\n",
              "    }\n",
              "  "
            ]
          },
          "metadata": {}
        },
        {
          "output_type": "display_data",
          "data": {
            "text/plain": [
              "<IPython.core.display.Javascript object>"
            ],
            "application/javascript": [
              "download(\"download_10a77fee-f21a-4600-b7e7-1dd77fa435c2\", \"ORCL_total_sentiments.csv\", 138075)"
            ]
          },
          "metadata": {}
        }
      ]
    },
    {
      "cell_type": "code",
      "source": [
        "# GOOGL:\n",
        "tick = \"GOOGL\"\n",
        "input_df = pd.read_csv(f\"{target_dir}/{tick}_main.csv\")\n",
        "result_df = analyze_sentiments_with_aliases(input_df, pipe, nlp, aliases[tick], truncate_or_split=\"split\")\n",
        "result_df.to_csv(f\"{new_directory}/{tick}_total_sentiments.csv\", index=False)\n",
        "files.download(f\"{new_directory}/{tick}_total_sentiments.csv\")"
      ],
      "metadata": {
        "colab": {
          "base_uri": "https://localhost:8080/",
          "height": 332
        },
        "id": "t4nwUSUYt4x3",
        "outputId": "56eaa279-4b8f-4dac-9dd3-e1607d9f739c"
      },
      "id": "t4nwUSUYt4x3",
      "execution_count": null,
      "outputs": [
        {
          "output_type": "stream",
          "name": "stderr",
          "text": [
            "/usr/local/lib/python3.10/dist-packages/thinc/shims/pytorch.py:114: FutureWarning: `torch.cuda.amp.autocast(args...)` is deprecated. Please use `torch.amp.autocast('cuda', args...)` instead.\n",
            "  with torch.cuda.amp.autocast(self._mixed_precision):\n"
          ]
        },
        {
          "output_type": "stream",
          "name": "stdout",
          "text": [
            "Processing article 500/7926\n",
            "Processing article 1000/7926\n",
            "Processing article 1500/7926\n",
            "Processing article 2000/7926\n",
            "Processing article 2500/7926\n",
            "Processing article 3000/7926\n",
            "Processing article 3500/7926\n",
            "Processing article 4000/7926\n",
            "Processing article 4500/7926\n",
            "Processing article 5000/7926\n",
            "Processing article 5500/7926\n",
            "Processing article 6000/7926\n",
            "Processing article 6500/7926\n",
            "Processing article 7000/7926\n",
            "Processing article 7500/7926\n"
          ]
        },
        {
          "output_type": "display_data",
          "data": {
            "text/plain": [
              "<IPython.core.display.Javascript object>"
            ],
            "application/javascript": [
              "\n",
              "    async function download(id, filename, size) {\n",
              "      if (!google.colab.kernel.accessAllowed) {\n",
              "        return;\n",
              "      }\n",
              "      const div = document.createElement('div');\n",
              "      const label = document.createElement('label');\n",
              "      label.textContent = `Downloading \"${filename}\": `;\n",
              "      div.appendChild(label);\n",
              "      const progress = document.createElement('progress');\n",
              "      progress.max = size;\n",
              "      div.appendChild(progress);\n",
              "      document.body.appendChild(div);\n",
              "\n",
              "      const buffers = [];\n",
              "      let downloaded = 0;\n",
              "\n",
              "      const channel = await google.colab.kernel.comms.open(id);\n",
              "      // Send a message to notify the kernel that we're ready.\n",
              "      channel.send({})\n",
              "\n",
              "      for await (const message of channel.messages) {\n",
              "        // Send a message to notify the kernel that we're ready.\n",
              "        channel.send({})\n",
              "        if (message.buffers) {\n",
              "          for (const buffer of message.buffers) {\n",
              "            buffers.push(buffer);\n",
              "            downloaded += buffer.byteLength;\n",
              "            progress.value = downloaded;\n",
              "          }\n",
              "        }\n",
              "      }\n",
              "      const blob = new Blob(buffers, {type: 'application/binary'});\n",
              "      const a = document.createElement('a');\n",
              "      a.href = window.URL.createObjectURL(blob);\n",
              "      a.download = filename;\n",
              "      div.appendChild(a);\n",
              "      a.click();\n",
              "      div.remove();\n",
              "    }\n",
              "  "
            ]
          },
          "metadata": {}
        },
        {
          "output_type": "display_data",
          "data": {
            "text/plain": [
              "<IPython.core.display.Javascript object>"
            ],
            "application/javascript": [
              "download(\"download_51adc0ad-2313-407e-b009-d7c25fc51c71\", \"GOOGL_total_sentiments.csv\", 801227)"
            ]
          },
          "metadata": {}
        }
      ]
    },
    {
      "cell_type": "code",
      "source": [
        "print(len(result_df))"
      ],
      "metadata": {
        "colab": {
          "base_uri": "https://localhost:8080/"
        },
        "id": "R14oJKbet2Fn",
        "outputId": "1ad90d77-8e19-4832-d6ef-194389a1b342"
      },
      "id": "R14oJKbet2Fn",
      "execution_count": null,
      "outputs": [
        {
          "output_type": "stream",
          "name": "stdout",
          "text": [
            "3977\n"
          ]
        }
      ]
    },
    {
      "cell_type": "code",
      "source": [
        "!ls /content/total_sentiments"
      ],
      "metadata": {
        "colab": {
          "base_uri": "https://localhost:8080/"
        },
        "id": "qCpfUqG-K5G2",
        "outputId": "db95bc61-a3f3-4ff8-d71e-ca96812866a9"
      },
      "id": "qCpfUqG-K5G2",
      "execution_count": 64,
      "outputs": [
        {
          "output_type": "stream",
          "name": "stdout",
          "text": [
            "GOOGL_total_sentiments.csv  INTC_total_sentiments.csv  NFLX_total_sentiments.csv\n",
            "IBM_total_sentiments.csv    META_total_sentiments.csv  ORCL_total_sentiments.csv\n"
          ]
        }
      ]
    },
    {
      "cell_type": "code",
      "source": [
        "# AAPL:\n",
        "tick = \"AAPL\"\n",
        "input_df = pd.read_csv(f\"{target_dir}/{tick}_main.csv\")\n",
        "result_df = analyze_sentiments_with_aliases(input_df, pipe, nlp, aliases[tick], truncate_or_split=\"split\")\n",
        "result_df.to_csv(f\"{new_directory}/{tick}_total_sentiments.csv\", index=False)\n",
        "files.download(f\"{new_directory}/{tick}_total_sentiments.csv\")"
      ],
      "metadata": {
        "colab": {
          "base_uri": "https://localhost:8080/",
          "height": 402
        },
        "id": "oxlgQyy4Krj3",
        "outputId": "29fd635a-c41f-44f6-e007-7ccf89cbf610"
      },
      "id": "oxlgQyy4Krj3",
      "execution_count": 65,
      "outputs": [
        {
          "output_type": "stream",
          "name": "stderr",
          "text": [
            "/usr/local/lib/python3.10/dist-packages/thinc/shims/pytorch.py:114: FutureWarning: `torch.cuda.amp.autocast(args...)` is deprecated. Please use `torch.amp.autocast('cuda', args...)` instead.\n",
            "  with torch.cuda.amp.autocast(self._mixed_precision):\n"
          ]
        },
        {
          "output_type": "stream",
          "name": "stdout",
          "text": [
            "Processing article 500/9881\n",
            "Processing article 1000/9881\n",
            "Processing article 1500/9881\n",
            "Processing article 2000/9881\n",
            "Processing article 2500/9881\n",
            "Processing article 3000/9881\n",
            "Processing article 3500/9881\n",
            "Processing article 4000/9881\n",
            "Processing article 4500/9881\n",
            "Processing article 5000/9881\n",
            "Processing article 5500/9881\n",
            "Processing article 6000/9881\n",
            "Processing article 6500/9881\n",
            "Processing article 7000/9881\n",
            "Processing article 7500/9881\n",
            "Processing article 8000/9881\n",
            "Processing article 8500/9881\n",
            "Processing article 9000/9881\n",
            "Processing article 9500/9881\n"
          ]
        },
        {
          "output_type": "display_data",
          "data": {
            "text/plain": [
              "<IPython.core.display.Javascript object>"
            ],
            "application/javascript": [
              "\n",
              "    async function download(id, filename, size) {\n",
              "      if (!google.colab.kernel.accessAllowed) {\n",
              "        return;\n",
              "      }\n",
              "      const div = document.createElement('div');\n",
              "      const label = document.createElement('label');\n",
              "      label.textContent = `Downloading \"${filename}\": `;\n",
              "      div.appendChild(label);\n",
              "      const progress = document.createElement('progress');\n",
              "      progress.max = size;\n",
              "      div.appendChild(progress);\n",
              "      document.body.appendChild(div);\n",
              "\n",
              "      const buffers = [];\n",
              "      let downloaded = 0;\n",
              "\n",
              "      const channel = await google.colab.kernel.comms.open(id);\n",
              "      // Send a message to notify the kernel that we're ready.\n",
              "      channel.send({})\n",
              "\n",
              "      for await (const message of channel.messages) {\n",
              "        // Send a message to notify the kernel that we're ready.\n",
              "        channel.send({})\n",
              "        if (message.buffers) {\n",
              "          for (const buffer of message.buffers) {\n",
              "            buffers.push(buffer);\n",
              "            downloaded += buffer.byteLength;\n",
              "            progress.value = downloaded;\n",
              "          }\n",
              "        }\n",
              "      }\n",
              "      const blob = new Blob(buffers, {type: 'application/binary'});\n",
              "      const a = document.createElement('a');\n",
              "      a.href = window.URL.createObjectURL(blob);\n",
              "      a.download = filename;\n",
              "      div.appendChild(a);\n",
              "      a.click();\n",
              "      div.remove();\n",
              "    }\n",
              "  "
            ]
          },
          "metadata": {}
        },
        {
          "output_type": "display_data",
          "data": {
            "text/plain": [
              "<IPython.core.display.Javascript object>"
            ],
            "application/javascript": [
              "download(\"download_af617313-7267-498a-9003-b49f130522af\", \"AAPL_total_sentiments.csv\", 931653)"
            ]
          },
          "metadata": {}
        }
      ]
    },
    {
      "cell_type": "code",
      "source": [
        "# AMZN:\n",
        "tick = \"AMZN\"\n",
        "input_df = pd.read_csv(f\"{target_dir}/{tick}_main.csv\")\n",
        "result_df = analyze_sentiments_with_aliases(input_df, pipe, nlp, aliases[tick], truncate_or_split=\"split\")\n",
        "result_df.to_csv(f\"{new_directory}/{tick}_total_sentiments.csv\", index=False)\n",
        "files.download(f\"{new_directory}/{tick}_total_sentiments.csv\")"
      ],
      "metadata": {
        "colab": {
          "base_uri": "https://localhost:8080/",
          "height": 436
        },
        "id": "fFE2aKB_ZasL",
        "outputId": "7b88abb3-740d-41ac-f013-01509fec7e3d"
      },
      "id": "fFE2aKB_ZasL",
      "execution_count": 66,
      "outputs": [
        {
          "output_type": "stream",
          "name": "stderr",
          "text": [
            "/usr/local/lib/python3.10/dist-packages/thinc/shims/pytorch.py:114: FutureWarning: `torch.cuda.amp.autocast(args...)` is deprecated. Please use `torch.amp.autocast('cuda', args...)` instead.\n",
            "  with torch.cuda.amp.autocast(self._mixed_precision):\n"
          ]
        },
        {
          "output_type": "stream",
          "name": "stdout",
          "text": [
            "Processing article 500/10885\n",
            "Processing article 1000/10885\n",
            "Processing article 1500/10885\n",
            "Processing article 2000/10885\n",
            "Processing article 2500/10885\n",
            "Processing article 3000/10885\n",
            "Processing article 3500/10885\n",
            "Processing article 4000/10885\n",
            "Processing article 4500/10885\n",
            "Processing article 5000/10885\n",
            "Processing article 5500/10885\n",
            "Processing article 6000/10885\n",
            "Processing article 6500/10885\n",
            "Processing article 7000/10885\n",
            "Processing article 7500/10885\n",
            "Processing article 8000/10885\n",
            "Processing article 8500/10885\n",
            "Processing article 9000/10885\n",
            "Processing article 9500/10885\n",
            "Processing article 10000/10885\n",
            "Processing article 10500/10885\n"
          ]
        },
        {
          "output_type": "display_data",
          "data": {
            "text/plain": [
              "<IPython.core.display.Javascript object>"
            ],
            "application/javascript": [
              "\n",
              "    async function download(id, filename, size) {\n",
              "      if (!google.colab.kernel.accessAllowed) {\n",
              "        return;\n",
              "      }\n",
              "      const div = document.createElement('div');\n",
              "      const label = document.createElement('label');\n",
              "      label.textContent = `Downloading \"${filename}\": `;\n",
              "      div.appendChild(label);\n",
              "      const progress = document.createElement('progress');\n",
              "      progress.max = size;\n",
              "      div.appendChild(progress);\n",
              "      document.body.appendChild(div);\n",
              "\n",
              "      const buffers = [];\n",
              "      let downloaded = 0;\n",
              "\n",
              "      const channel = await google.colab.kernel.comms.open(id);\n",
              "      // Send a message to notify the kernel that we're ready.\n",
              "      channel.send({})\n",
              "\n",
              "      for await (const message of channel.messages) {\n",
              "        // Send a message to notify the kernel that we're ready.\n",
              "        channel.send({})\n",
              "        if (message.buffers) {\n",
              "          for (const buffer of message.buffers) {\n",
              "            buffers.push(buffer);\n",
              "            downloaded += buffer.byteLength;\n",
              "            progress.value = downloaded;\n",
              "          }\n",
              "        }\n",
              "      }\n",
              "      const blob = new Blob(buffers, {type: 'application/binary'});\n",
              "      const a = document.createElement('a');\n",
              "      a.href = window.URL.createObjectURL(blob);\n",
              "      a.download = filename;\n",
              "      div.appendChild(a);\n",
              "      a.click();\n",
              "      div.remove();\n",
              "    }\n",
              "  "
            ]
          },
          "metadata": {}
        },
        {
          "output_type": "display_data",
          "data": {
            "text/plain": [
              "<IPython.core.display.Javascript object>"
            ],
            "application/javascript": [
              "download(\"download_282540d3-7bce-48cb-9749-f768990e1475\", \"AMZN_total_sentiments.csv\", 1113470)"
            ]
          },
          "metadata": {}
        }
      ]
    },
    {
      "cell_type": "code",
      "source": [
        "!ls /content/total_sentiments"
      ],
      "metadata": {
        "colab": {
          "base_uri": "https://localhost:8080/"
        },
        "id": "AJ7S1Oa_RIui",
        "outputId": "0513f803-ec0e-43b6-94b5-39c2e7e4dd60"
      },
      "id": "AJ7S1Oa_RIui",
      "execution_count": 67,
      "outputs": [
        {
          "output_type": "stream",
          "name": "stdout",
          "text": [
            "AAPL_total_sentiments.csv   IBM_total_sentiments.csv   NFLX_total_sentiments.csv\n",
            "AMZN_total_sentiments.csv   INTC_total_sentiments.csv  ORCL_total_sentiments.csv\n",
            "GOOGL_total_sentiments.csv  META_total_sentiments.csv\n"
          ]
        }
      ]
    },
    {
      "cell_type": "code",
      "source": [
        "# MSFT:\n",
        "tick = \"MSFT\"\n",
        "input_df = pd.read_csv(f\"{target_dir}/{tick}_main.csv\")\n",
        "result_df = analyze_sentiments_with_aliases(input_df, pipe, nlp, aliases[tick], truncate_or_split=\"split\")\n",
        "result_df.to_csv(f\"{new_directory}/{tick}_total_sentiments.csv\", index=False)\n",
        "files.download(f\"{new_directory}/{tick}_total_sentiments.csv\")"
      ],
      "metadata": {
        "colab": {
          "base_uri": "https://localhost:8080/"
        },
        "id": "zl6mWIRvRGNF",
        "outputId": "2c8f8817-4016-4825-bc24-7d76bc670c10"
      },
      "id": "zl6mWIRvRGNF",
      "execution_count": null,
      "outputs": [
        {
          "output_type": "stream",
          "name": "stderr",
          "text": [
            "/usr/local/lib/python3.10/dist-packages/thinc/shims/pytorch.py:114: FutureWarning: `torch.cuda.amp.autocast(args...)` is deprecated. Please use `torch.amp.autocast('cuda', args...)` instead.\n",
            "  with torch.cuda.amp.autocast(self._mixed_precision):\n"
          ]
        }
      ]
    }
  ],
  "metadata": {
    "kernelspec": {
      "display_name": "Python 3",
      "language": "python",
      "name": "python3"
    },
    "language_info": {
      "codemirror_mode": {
        "name": "ipython",
        "version": 3
      },
      "file_extension": ".py",
      "mimetype": "text/x-python",
      "name": "python",
      "nbconvert_exporter": "python",
      "pygments_lexer": "ipython3",
      "version": "3.10.10"
    },
    "colab": {
      "provenance": [],
      "name": "BDA_text_sentiment_analysis"
    },
    "widgets": {
      "application/vnd.jupyter.widget-state+json": {
        "8004cc1bc2b440378cca68821b68d614": {
          "model_module": "@jupyter-widgets/controls",
          "model_name": "HBoxModel",
          "model_module_version": "1.5.0",
          "state": {
            "_dom_classes": [],
            "_model_module": "@jupyter-widgets/controls",
            "_model_module_version": "1.5.0",
            "_model_name": "HBoxModel",
            "_view_count": null,
            "_view_module": "@jupyter-widgets/controls",
            "_view_module_version": "1.5.0",
            "_view_name": "HBoxView",
            "box_style": "",
            "children": [
              "IPY_MODEL_043241524ee34116879bba805737b630",
              "IPY_MODEL_1cde57998aca46ecb747f6d10b9cae3f",
              "IPY_MODEL_05c4af6924c547f7bb7d1e531797ce48"
            ],
            "layout": "IPY_MODEL_abd8d357054a4e67aa78f2c1d9d8c5b7"
          }
        },
        "043241524ee34116879bba805737b630": {
          "model_module": "@jupyter-widgets/controls",
          "model_name": "HTMLModel",
          "model_module_version": "1.5.0",
          "state": {
            "_dom_classes": [],
            "_model_module": "@jupyter-widgets/controls",
            "_model_module_version": "1.5.0",
            "_model_name": "HTMLModel",
            "_view_count": null,
            "_view_module": "@jupyter-widgets/controls",
            "_view_module_version": "1.5.0",
            "_view_name": "HTMLView",
            "description": "",
            "description_tooltip": null,
            "layout": "IPY_MODEL_520b68be2ba144b5a06dec3b33fcc46d",
            "placeholder": "​",
            "style": "IPY_MODEL_bd3a7015fbeb4295b164df0735c464ca",
            "value": "config.json: 100%"
          }
        },
        "1cde57998aca46ecb747f6d10b9cae3f": {
          "model_module": "@jupyter-widgets/controls",
          "model_name": "FloatProgressModel",
          "model_module_version": "1.5.0",
          "state": {
            "_dom_classes": [],
            "_model_module": "@jupyter-widgets/controls",
            "_model_module_version": "1.5.0",
            "_model_name": "FloatProgressModel",
            "_view_count": null,
            "_view_module": "@jupyter-widgets/controls",
            "_view_module_version": "1.5.0",
            "_view_name": "ProgressView",
            "bar_style": "success",
            "description": "",
            "description_tooltip": null,
            "layout": "IPY_MODEL_857d5fc8308e4765b5f1ecefaf4e8e23",
            "max": 758,
            "min": 0,
            "orientation": "horizontal",
            "style": "IPY_MODEL_0339fa8e65574131803a1aad489ad261",
            "value": 758
          }
        },
        "05c4af6924c547f7bb7d1e531797ce48": {
          "model_module": "@jupyter-widgets/controls",
          "model_name": "HTMLModel",
          "model_module_version": "1.5.0",
          "state": {
            "_dom_classes": [],
            "_model_module": "@jupyter-widgets/controls",
            "_model_module_version": "1.5.0",
            "_model_name": "HTMLModel",
            "_view_count": null,
            "_view_module": "@jupyter-widgets/controls",
            "_view_module_version": "1.5.0",
            "_view_name": "HTMLView",
            "description": "",
            "description_tooltip": null,
            "layout": "IPY_MODEL_c2358a2bd8754bd3bdd28f67ce0de09e",
            "placeholder": "​",
            "style": "IPY_MODEL_b551069144b94c03a889958c7842aade",
            "value": " 758/758 [00:00&lt;00:00, 30.6kB/s]"
          }
        },
        "abd8d357054a4e67aa78f2c1d9d8c5b7": {
          "model_module": "@jupyter-widgets/base",
          "model_name": "LayoutModel",
          "model_module_version": "1.2.0",
          "state": {
            "_model_module": "@jupyter-widgets/base",
            "_model_module_version": "1.2.0",
            "_model_name": "LayoutModel",
            "_view_count": null,
            "_view_module": "@jupyter-widgets/base",
            "_view_module_version": "1.2.0",
            "_view_name": "LayoutView",
            "align_content": null,
            "align_items": null,
            "align_self": null,
            "border": null,
            "bottom": null,
            "display": null,
            "flex": null,
            "flex_flow": null,
            "grid_area": null,
            "grid_auto_columns": null,
            "grid_auto_flow": null,
            "grid_auto_rows": null,
            "grid_column": null,
            "grid_gap": null,
            "grid_row": null,
            "grid_template_areas": null,
            "grid_template_columns": null,
            "grid_template_rows": null,
            "height": null,
            "justify_content": null,
            "justify_items": null,
            "left": null,
            "margin": null,
            "max_height": null,
            "max_width": null,
            "min_height": null,
            "min_width": null,
            "object_fit": null,
            "object_position": null,
            "order": null,
            "overflow": null,
            "overflow_x": null,
            "overflow_y": null,
            "padding": null,
            "right": null,
            "top": null,
            "visibility": null,
            "width": null
          }
        },
        "520b68be2ba144b5a06dec3b33fcc46d": {
          "model_module": "@jupyter-widgets/base",
          "model_name": "LayoutModel",
          "model_module_version": "1.2.0",
          "state": {
            "_model_module": "@jupyter-widgets/base",
            "_model_module_version": "1.2.0",
            "_model_name": "LayoutModel",
            "_view_count": null,
            "_view_module": "@jupyter-widgets/base",
            "_view_module_version": "1.2.0",
            "_view_name": "LayoutView",
            "align_content": null,
            "align_items": null,
            "align_self": null,
            "border": null,
            "bottom": null,
            "display": null,
            "flex": null,
            "flex_flow": null,
            "grid_area": null,
            "grid_auto_columns": null,
            "grid_auto_flow": null,
            "grid_auto_rows": null,
            "grid_column": null,
            "grid_gap": null,
            "grid_row": null,
            "grid_template_areas": null,
            "grid_template_columns": null,
            "grid_template_rows": null,
            "height": null,
            "justify_content": null,
            "justify_items": null,
            "left": null,
            "margin": null,
            "max_height": null,
            "max_width": null,
            "min_height": null,
            "min_width": null,
            "object_fit": null,
            "object_position": null,
            "order": null,
            "overflow": null,
            "overflow_x": null,
            "overflow_y": null,
            "padding": null,
            "right": null,
            "top": null,
            "visibility": null,
            "width": null
          }
        },
        "bd3a7015fbeb4295b164df0735c464ca": {
          "model_module": "@jupyter-widgets/controls",
          "model_name": "DescriptionStyleModel",
          "model_module_version": "1.5.0",
          "state": {
            "_model_module": "@jupyter-widgets/controls",
            "_model_module_version": "1.5.0",
            "_model_name": "DescriptionStyleModel",
            "_view_count": null,
            "_view_module": "@jupyter-widgets/base",
            "_view_module_version": "1.2.0",
            "_view_name": "StyleView",
            "description_width": ""
          }
        },
        "857d5fc8308e4765b5f1ecefaf4e8e23": {
          "model_module": "@jupyter-widgets/base",
          "model_name": "LayoutModel",
          "model_module_version": "1.2.0",
          "state": {
            "_model_module": "@jupyter-widgets/base",
            "_model_module_version": "1.2.0",
            "_model_name": "LayoutModel",
            "_view_count": null,
            "_view_module": "@jupyter-widgets/base",
            "_view_module_version": "1.2.0",
            "_view_name": "LayoutView",
            "align_content": null,
            "align_items": null,
            "align_self": null,
            "border": null,
            "bottom": null,
            "display": null,
            "flex": null,
            "flex_flow": null,
            "grid_area": null,
            "grid_auto_columns": null,
            "grid_auto_flow": null,
            "grid_auto_rows": null,
            "grid_column": null,
            "grid_gap": null,
            "grid_row": null,
            "grid_template_areas": null,
            "grid_template_columns": null,
            "grid_template_rows": null,
            "height": null,
            "justify_content": null,
            "justify_items": null,
            "left": null,
            "margin": null,
            "max_height": null,
            "max_width": null,
            "min_height": null,
            "min_width": null,
            "object_fit": null,
            "object_position": null,
            "order": null,
            "overflow": null,
            "overflow_x": null,
            "overflow_y": null,
            "padding": null,
            "right": null,
            "top": null,
            "visibility": null,
            "width": null
          }
        },
        "0339fa8e65574131803a1aad489ad261": {
          "model_module": "@jupyter-widgets/controls",
          "model_name": "ProgressStyleModel",
          "model_module_version": "1.5.0",
          "state": {
            "_model_module": "@jupyter-widgets/controls",
            "_model_module_version": "1.5.0",
            "_model_name": "ProgressStyleModel",
            "_view_count": null,
            "_view_module": "@jupyter-widgets/base",
            "_view_module_version": "1.2.0",
            "_view_name": "StyleView",
            "bar_color": null,
            "description_width": ""
          }
        },
        "c2358a2bd8754bd3bdd28f67ce0de09e": {
          "model_module": "@jupyter-widgets/base",
          "model_name": "LayoutModel",
          "model_module_version": "1.2.0",
          "state": {
            "_model_module": "@jupyter-widgets/base",
            "_model_module_version": "1.2.0",
            "_model_name": "LayoutModel",
            "_view_count": null,
            "_view_module": "@jupyter-widgets/base",
            "_view_module_version": "1.2.0",
            "_view_name": "LayoutView",
            "align_content": null,
            "align_items": null,
            "align_self": null,
            "border": null,
            "bottom": null,
            "display": null,
            "flex": null,
            "flex_flow": null,
            "grid_area": null,
            "grid_auto_columns": null,
            "grid_auto_flow": null,
            "grid_auto_rows": null,
            "grid_column": null,
            "grid_gap": null,
            "grid_row": null,
            "grid_template_areas": null,
            "grid_template_columns": null,
            "grid_template_rows": null,
            "height": null,
            "justify_content": null,
            "justify_items": null,
            "left": null,
            "margin": null,
            "max_height": null,
            "max_width": null,
            "min_height": null,
            "min_width": null,
            "object_fit": null,
            "object_position": null,
            "order": null,
            "overflow": null,
            "overflow_x": null,
            "overflow_y": null,
            "padding": null,
            "right": null,
            "top": null,
            "visibility": null,
            "width": null
          }
        },
        "b551069144b94c03a889958c7842aade": {
          "model_module": "@jupyter-widgets/controls",
          "model_name": "DescriptionStyleModel",
          "model_module_version": "1.5.0",
          "state": {
            "_model_module": "@jupyter-widgets/controls",
            "_model_module_version": "1.5.0",
            "_model_name": "DescriptionStyleModel",
            "_view_count": null,
            "_view_module": "@jupyter-widgets/base",
            "_view_module_version": "1.2.0",
            "_view_name": "StyleView",
            "description_width": ""
          }
        },
        "4163eab7f75a4e3e946db8c1d0918907": {
          "model_module": "@jupyter-widgets/controls",
          "model_name": "HBoxModel",
          "model_module_version": "1.5.0",
          "state": {
            "_dom_classes": [],
            "_model_module": "@jupyter-widgets/controls",
            "_model_module_version": "1.5.0",
            "_model_name": "HBoxModel",
            "_view_count": null,
            "_view_module": "@jupyter-widgets/controls",
            "_view_module_version": "1.5.0",
            "_view_name": "HBoxView",
            "box_style": "",
            "children": [
              "IPY_MODEL_36304421d396438b95ecdaf4ea1e1c77",
              "IPY_MODEL_dca6f2040bb74f75bb76318aceae2fb0",
              "IPY_MODEL_5d9275e4c0634cb68f716fda1725d3d7"
            ],
            "layout": "IPY_MODEL_98b9a34eb39f4514a4c013b8c579db34"
          }
        },
        "36304421d396438b95ecdaf4ea1e1c77": {
          "model_module": "@jupyter-widgets/controls",
          "model_name": "HTMLModel",
          "model_module_version": "1.5.0",
          "state": {
            "_dom_classes": [],
            "_model_module": "@jupyter-widgets/controls",
            "_model_module_version": "1.5.0",
            "_model_name": "HTMLModel",
            "_view_count": null,
            "_view_module": "@jupyter-widgets/controls",
            "_view_module_version": "1.5.0",
            "_view_name": "HTMLView",
            "description": "",
            "description_tooltip": null,
            "layout": "IPY_MODEL_a6eb4668b2ef43808647549bfb40e82c",
            "placeholder": "​",
            "style": "IPY_MODEL_a8ba20404f714664ad859b38cacbf5f5",
            "value": "pytorch_model.bin: 100%"
          }
        },
        "dca6f2040bb74f75bb76318aceae2fb0": {
          "model_module": "@jupyter-widgets/controls",
          "model_name": "FloatProgressModel",
          "model_module_version": "1.5.0",
          "state": {
            "_dom_classes": [],
            "_model_module": "@jupyter-widgets/controls",
            "_model_module_version": "1.5.0",
            "_model_name": "FloatProgressModel",
            "_view_count": null,
            "_view_module": "@jupyter-widgets/controls",
            "_view_module_version": "1.5.0",
            "_view_name": "ProgressView",
            "bar_style": "success",
            "description": "",
            "description_tooltip": null,
            "layout": "IPY_MODEL_1913cacccecb4eb8b8ac7782108c580a",
            "max": 437992753,
            "min": 0,
            "orientation": "horizontal",
            "style": "IPY_MODEL_7a3845c6117d46e4b516c5b9cfe12974",
            "value": 437992753
          }
        },
        "5d9275e4c0634cb68f716fda1725d3d7": {
          "model_module": "@jupyter-widgets/controls",
          "model_name": "HTMLModel",
          "model_module_version": "1.5.0",
          "state": {
            "_dom_classes": [],
            "_model_module": "@jupyter-widgets/controls",
            "_model_module_version": "1.5.0",
            "_model_name": "HTMLModel",
            "_view_count": null,
            "_view_module": "@jupyter-widgets/controls",
            "_view_module_version": "1.5.0",
            "_view_name": "HTMLView",
            "description": "",
            "description_tooltip": null,
            "layout": "IPY_MODEL_d1977ce7255b4ea29a4a389614cfe97b",
            "placeholder": "​",
            "style": "IPY_MODEL_36cfe5618af7454dbf793938f354c501",
            "value": " 438M/438M [00:28&lt;00:00, 16.8MB/s]"
          }
        },
        "98b9a34eb39f4514a4c013b8c579db34": {
          "model_module": "@jupyter-widgets/base",
          "model_name": "LayoutModel",
          "model_module_version": "1.2.0",
          "state": {
            "_model_module": "@jupyter-widgets/base",
            "_model_module_version": "1.2.0",
            "_model_name": "LayoutModel",
            "_view_count": null,
            "_view_module": "@jupyter-widgets/base",
            "_view_module_version": "1.2.0",
            "_view_name": "LayoutView",
            "align_content": null,
            "align_items": null,
            "align_self": null,
            "border": null,
            "bottom": null,
            "display": null,
            "flex": null,
            "flex_flow": null,
            "grid_area": null,
            "grid_auto_columns": null,
            "grid_auto_flow": null,
            "grid_auto_rows": null,
            "grid_column": null,
            "grid_gap": null,
            "grid_row": null,
            "grid_template_areas": null,
            "grid_template_columns": null,
            "grid_template_rows": null,
            "height": null,
            "justify_content": null,
            "justify_items": null,
            "left": null,
            "margin": null,
            "max_height": null,
            "max_width": null,
            "min_height": null,
            "min_width": null,
            "object_fit": null,
            "object_position": null,
            "order": null,
            "overflow": null,
            "overflow_x": null,
            "overflow_y": null,
            "padding": null,
            "right": null,
            "top": null,
            "visibility": null,
            "width": null
          }
        },
        "a6eb4668b2ef43808647549bfb40e82c": {
          "model_module": "@jupyter-widgets/base",
          "model_name": "LayoutModel",
          "model_module_version": "1.2.0",
          "state": {
            "_model_module": "@jupyter-widgets/base",
            "_model_module_version": "1.2.0",
            "_model_name": "LayoutModel",
            "_view_count": null,
            "_view_module": "@jupyter-widgets/base",
            "_view_module_version": "1.2.0",
            "_view_name": "LayoutView",
            "align_content": null,
            "align_items": null,
            "align_self": null,
            "border": null,
            "bottom": null,
            "display": null,
            "flex": null,
            "flex_flow": null,
            "grid_area": null,
            "grid_auto_columns": null,
            "grid_auto_flow": null,
            "grid_auto_rows": null,
            "grid_column": null,
            "grid_gap": null,
            "grid_row": null,
            "grid_template_areas": null,
            "grid_template_columns": null,
            "grid_template_rows": null,
            "height": null,
            "justify_content": null,
            "justify_items": null,
            "left": null,
            "margin": null,
            "max_height": null,
            "max_width": null,
            "min_height": null,
            "min_width": null,
            "object_fit": null,
            "object_position": null,
            "order": null,
            "overflow": null,
            "overflow_x": null,
            "overflow_y": null,
            "padding": null,
            "right": null,
            "top": null,
            "visibility": null,
            "width": null
          }
        },
        "a8ba20404f714664ad859b38cacbf5f5": {
          "model_module": "@jupyter-widgets/controls",
          "model_name": "DescriptionStyleModel",
          "model_module_version": "1.5.0",
          "state": {
            "_model_module": "@jupyter-widgets/controls",
            "_model_module_version": "1.5.0",
            "_model_name": "DescriptionStyleModel",
            "_view_count": null,
            "_view_module": "@jupyter-widgets/base",
            "_view_module_version": "1.2.0",
            "_view_name": "StyleView",
            "description_width": ""
          }
        },
        "1913cacccecb4eb8b8ac7782108c580a": {
          "model_module": "@jupyter-widgets/base",
          "model_name": "LayoutModel",
          "model_module_version": "1.2.0",
          "state": {
            "_model_module": "@jupyter-widgets/base",
            "_model_module_version": "1.2.0",
            "_model_name": "LayoutModel",
            "_view_count": null,
            "_view_module": "@jupyter-widgets/base",
            "_view_module_version": "1.2.0",
            "_view_name": "LayoutView",
            "align_content": null,
            "align_items": null,
            "align_self": null,
            "border": null,
            "bottom": null,
            "display": null,
            "flex": null,
            "flex_flow": null,
            "grid_area": null,
            "grid_auto_columns": null,
            "grid_auto_flow": null,
            "grid_auto_rows": null,
            "grid_column": null,
            "grid_gap": null,
            "grid_row": null,
            "grid_template_areas": null,
            "grid_template_columns": null,
            "grid_template_rows": null,
            "height": null,
            "justify_content": null,
            "justify_items": null,
            "left": null,
            "margin": null,
            "max_height": null,
            "max_width": null,
            "min_height": null,
            "min_width": null,
            "object_fit": null,
            "object_position": null,
            "order": null,
            "overflow": null,
            "overflow_x": null,
            "overflow_y": null,
            "padding": null,
            "right": null,
            "top": null,
            "visibility": null,
            "width": null
          }
        },
        "7a3845c6117d46e4b516c5b9cfe12974": {
          "model_module": "@jupyter-widgets/controls",
          "model_name": "ProgressStyleModel",
          "model_module_version": "1.5.0",
          "state": {
            "_model_module": "@jupyter-widgets/controls",
            "_model_module_version": "1.5.0",
            "_model_name": "ProgressStyleModel",
            "_view_count": null,
            "_view_module": "@jupyter-widgets/base",
            "_view_module_version": "1.2.0",
            "_view_name": "StyleView",
            "bar_color": null,
            "description_width": ""
          }
        },
        "d1977ce7255b4ea29a4a389614cfe97b": {
          "model_module": "@jupyter-widgets/base",
          "model_name": "LayoutModel",
          "model_module_version": "1.2.0",
          "state": {
            "_model_module": "@jupyter-widgets/base",
            "_model_module_version": "1.2.0",
            "_model_name": "LayoutModel",
            "_view_count": null,
            "_view_module": "@jupyter-widgets/base",
            "_view_module_version": "1.2.0",
            "_view_name": "LayoutView",
            "align_content": null,
            "align_items": null,
            "align_self": null,
            "border": null,
            "bottom": null,
            "display": null,
            "flex": null,
            "flex_flow": null,
            "grid_area": null,
            "grid_auto_columns": null,
            "grid_auto_flow": null,
            "grid_auto_rows": null,
            "grid_column": null,
            "grid_gap": null,
            "grid_row": null,
            "grid_template_areas": null,
            "grid_template_columns": null,
            "grid_template_rows": null,
            "height": null,
            "justify_content": null,
            "justify_items": null,
            "left": null,
            "margin": null,
            "max_height": null,
            "max_width": null,
            "min_height": null,
            "min_width": null,
            "object_fit": null,
            "object_position": null,
            "order": null,
            "overflow": null,
            "overflow_x": null,
            "overflow_y": null,
            "padding": null,
            "right": null,
            "top": null,
            "visibility": null,
            "width": null
          }
        },
        "36cfe5618af7454dbf793938f354c501": {
          "model_module": "@jupyter-widgets/controls",
          "model_name": "DescriptionStyleModel",
          "model_module_version": "1.5.0",
          "state": {
            "_model_module": "@jupyter-widgets/controls",
            "_model_module_version": "1.5.0",
            "_model_name": "DescriptionStyleModel",
            "_view_count": null,
            "_view_module": "@jupyter-widgets/base",
            "_view_module_version": "1.2.0",
            "_view_name": "StyleView",
            "description_width": ""
          }
        },
        "54295df02e334834bfbcb863269cccea": {
          "model_module": "@jupyter-widgets/controls",
          "model_name": "HBoxModel",
          "model_module_version": "1.5.0",
          "state": {
            "_dom_classes": [],
            "_model_module": "@jupyter-widgets/controls",
            "_model_module_version": "1.5.0",
            "_model_name": "HBoxModel",
            "_view_count": null,
            "_view_module": "@jupyter-widgets/controls",
            "_view_module_version": "1.5.0",
            "_view_name": "HBoxView",
            "box_style": "",
            "children": [
              "IPY_MODEL_5cdaeae8c42541d188dac0f0cb5c5c9f",
              "IPY_MODEL_a8bccf290b284652abc606c4e24eb0af",
              "IPY_MODEL_ec62b5e2d6194a7bbc1208305c486c05"
            ],
            "layout": "IPY_MODEL_541053dbad0646609651bb01736b3359"
          }
        },
        "5cdaeae8c42541d188dac0f0cb5c5c9f": {
          "model_module": "@jupyter-widgets/controls",
          "model_name": "HTMLModel",
          "model_module_version": "1.5.0",
          "state": {
            "_dom_classes": [],
            "_model_module": "@jupyter-widgets/controls",
            "_model_module_version": "1.5.0",
            "_model_name": "HTMLModel",
            "_view_count": null,
            "_view_module": "@jupyter-widgets/controls",
            "_view_module_version": "1.5.0",
            "_view_name": "HTMLView",
            "description": "",
            "description_tooltip": null,
            "layout": "IPY_MODEL_0bdddef22ee84b2d965d392a90e6bb82",
            "placeholder": "​",
            "style": "IPY_MODEL_e88b344250dd42959464edff1af2b17f",
            "value": "tokenizer_config.json: 100%"
          }
        },
        "a8bccf290b284652abc606c4e24eb0af": {
          "model_module": "@jupyter-widgets/controls",
          "model_name": "FloatProgressModel",
          "model_module_version": "1.5.0",
          "state": {
            "_dom_classes": [],
            "_model_module": "@jupyter-widgets/controls",
            "_model_module_version": "1.5.0",
            "_model_name": "FloatProgressModel",
            "_view_count": null,
            "_view_module": "@jupyter-widgets/controls",
            "_view_module_version": "1.5.0",
            "_view_name": "ProgressView",
            "bar_style": "success",
            "description": "",
            "description_tooltip": null,
            "layout": "IPY_MODEL_7823403c48a648228f81b0d48176b0cf",
            "max": 252,
            "min": 0,
            "orientation": "horizontal",
            "style": "IPY_MODEL_53b7828701d54c0daf97784cdd02cc9a",
            "value": 252
          }
        },
        "ec62b5e2d6194a7bbc1208305c486c05": {
          "model_module": "@jupyter-widgets/controls",
          "model_name": "HTMLModel",
          "model_module_version": "1.5.0",
          "state": {
            "_dom_classes": [],
            "_model_module": "@jupyter-widgets/controls",
            "_model_module_version": "1.5.0",
            "_model_name": "HTMLModel",
            "_view_count": null,
            "_view_module": "@jupyter-widgets/controls",
            "_view_module_version": "1.5.0",
            "_view_name": "HTMLView",
            "description": "",
            "description_tooltip": null,
            "layout": "IPY_MODEL_350a36914485481e89f9b18f24b80670",
            "placeholder": "​",
            "style": "IPY_MODEL_159f64c1754648ffa8b00363ceb98093",
            "value": " 252/252 [00:00&lt;00:00, 16.1kB/s]"
          }
        },
        "541053dbad0646609651bb01736b3359": {
          "model_module": "@jupyter-widgets/base",
          "model_name": "LayoutModel",
          "model_module_version": "1.2.0",
          "state": {
            "_model_module": "@jupyter-widgets/base",
            "_model_module_version": "1.2.0",
            "_model_name": "LayoutModel",
            "_view_count": null,
            "_view_module": "@jupyter-widgets/base",
            "_view_module_version": "1.2.0",
            "_view_name": "LayoutView",
            "align_content": null,
            "align_items": null,
            "align_self": null,
            "border": null,
            "bottom": null,
            "display": null,
            "flex": null,
            "flex_flow": null,
            "grid_area": null,
            "grid_auto_columns": null,
            "grid_auto_flow": null,
            "grid_auto_rows": null,
            "grid_column": null,
            "grid_gap": null,
            "grid_row": null,
            "grid_template_areas": null,
            "grid_template_columns": null,
            "grid_template_rows": null,
            "height": null,
            "justify_content": null,
            "justify_items": null,
            "left": null,
            "margin": null,
            "max_height": null,
            "max_width": null,
            "min_height": null,
            "min_width": null,
            "object_fit": null,
            "object_position": null,
            "order": null,
            "overflow": null,
            "overflow_x": null,
            "overflow_y": null,
            "padding": null,
            "right": null,
            "top": null,
            "visibility": null,
            "width": null
          }
        },
        "0bdddef22ee84b2d965d392a90e6bb82": {
          "model_module": "@jupyter-widgets/base",
          "model_name": "LayoutModel",
          "model_module_version": "1.2.0",
          "state": {
            "_model_module": "@jupyter-widgets/base",
            "_model_module_version": "1.2.0",
            "_model_name": "LayoutModel",
            "_view_count": null,
            "_view_module": "@jupyter-widgets/base",
            "_view_module_version": "1.2.0",
            "_view_name": "LayoutView",
            "align_content": null,
            "align_items": null,
            "align_self": null,
            "border": null,
            "bottom": null,
            "display": null,
            "flex": null,
            "flex_flow": null,
            "grid_area": null,
            "grid_auto_columns": null,
            "grid_auto_flow": null,
            "grid_auto_rows": null,
            "grid_column": null,
            "grid_gap": null,
            "grid_row": null,
            "grid_template_areas": null,
            "grid_template_columns": null,
            "grid_template_rows": null,
            "height": null,
            "justify_content": null,
            "justify_items": null,
            "left": null,
            "margin": null,
            "max_height": null,
            "max_width": null,
            "min_height": null,
            "min_width": null,
            "object_fit": null,
            "object_position": null,
            "order": null,
            "overflow": null,
            "overflow_x": null,
            "overflow_y": null,
            "padding": null,
            "right": null,
            "top": null,
            "visibility": null,
            "width": null
          }
        },
        "e88b344250dd42959464edff1af2b17f": {
          "model_module": "@jupyter-widgets/controls",
          "model_name": "DescriptionStyleModel",
          "model_module_version": "1.5.0",
          "state": {
            "_model_module": "@jupyter-widgets/controls",
            "_model_module_version": "1.5.0",
            "_model_name": "DescriptionStyleModel",
            "_view_count": null,
            "_view_module": "@jupyter-widgets/base",
            "_view_module_version": "1.2.0",
            "_view_name": "StyleView",
            "description_width": ""
          }
        },
        "7823403c48a648228f81b0d48176b0cf": {
          "model_module": "@jupyter-widgets/base",
          "model_name": "LayoutModel",
          "model_module_version": "1.2.0",
          "state": {
            "_model_module": "@jupyter-widgets/base",
            "_model_module_version": "1.2.0",
            "_model_name": "LayoutModel",
            "_view_count": null,
            "_view_module": "@jupyter-widgets/base",
            "_view_module_version": "1.2.0",
            "_view_name": "LayoutView",
            "align_content": null,
            "align_items": null,
            "align_self": null,
            "border": null,
            "bottom": null,
            "display": null,
            "flex": null,
            "flex_flow": null,
            "grid_area": null,
            "grid_auto_columns": null,
            "grid_auto_flow": null,
            "grid_auto_rows": null,
            "grid_column": null,
            "grid_gap": null,
            "grid_row": null,
            "grid_template_areas": null,
            "grid_template_columns": null,
            "grid_template_rows": null,
            "height": null,
            "justify_content": null,
            "justify_items": null,
            "left": null,
            "margin": null,
            "max_height": null,
            "max_width": null,
            "min_height": null,
            "min_width": null,
            "object_fit": null,
            "object_position": null,
            "order": null,
            "overflow": null,
            "overflow_x": null,
            "overflow_y": null,
            "padding": null,
            "right": null,
            "top": null,
            "visibility": null,
            "width": null
          }
        },
        "53b7828701d54c0daf97784cdd02cc9a": {
          "model_module": "@jupyter-widgets/controls",
          "model_name": "ProgressStyleModel",
          "model_module_version": "1.5.0",
          "state": {
            "_model_module": "@jupyter-widgets/controls",
            "_model_module_version": "1.5.0",
            "_model_name": "ProgressStyleModel",
            "_view_count": null,
            "_view_module": "@jupyter-widgets/base",
            "_view_module_version": "1.2.0",
            "_view_name": "StyleView",
            "bar_color": null,
            "description_width": ""
          }
        },
        "350a36914485481e89f9b18f24b80670": {
          "model_module": "@jupyter-widgets/base",
          "model_name": "LayoutModel",
          "model_module_version": "1.2.0",
          "state": {
            "_model_module": "@jupyter-widgets/base",
            "_model_module_version": "1.2.0",
            "_model_name": "LayoutModel",
            "_view_count": null,
            "_view_module": "@jupyter-widgets/base",
            "_view_module_version": "1.2.0",
            "_view_name": "LayoutView",
            "align_content": null,
            "align_items": null,
            "align_self": null,
            "border": null,
            "bottom": null,
            "display": null,
            "flex": null,
            "flex_flow": null,
            "grid_area": null,
            "grid_auto_columns": null,
            "grid_auto_flow": null,
            "grid_auto_rows": null,
            "grid_column": null,
            "grid_gap": null,
            "grid_row": null,
            "grid_template_areas": null,
            "grid_template_columns": null,
            "grid_template_rows": null,
            "height": null,
            "justify_content": null,
            "justify_items": null,
            "left": null,
            "margin": null,
            "max_height": null,
            "max_width": null,
            "min_height": null,
            "min_width": null,
            "object_fit": null,
            "object_position": null,
            "order": null,
            "overflow": null,
            "overflow_x": null,
            "overflow_y": null,
            "padding": null,
            "right": null,
            "top": null,
            "visibility": null,
            "width": null
          }
        },
        "159f64c1754648ffa8b00363ceb98093": {
          "model_module": "@jupyter-widgets/controls",
          "model_name": "DescriptionStyleModel",
          "model_module_version": "1.5.0",
          "state": {
            "_model_module": "@jupyter-widgets/controls",
            "_model_module_version": "1.5.0",
            "_model_name": "DescriptionStyleModel",
            "_view_count": null,
            "_view_module": "@jupyter-widgets/base",
            "_view_module_version": "1.2.0",
            "_view_name": "StyleView",
            "description_width": ""
          }
        },
        "e737ad24bf7044eb815a5bf5b749acac": {
          "model_module": "@jupyter-widgets/controls",
          "model_name": "HBoxModel",
          "model_module_version": "1.5.0",
          "state": {
            "_dom_classes": [],
            "_model_module": "@jupyter-widgets/controls",
            "_model_module_version": "1.5.0",
            "_model_name": "HBoxModel",
            "_view_count": null,
            "_view_module": "@jupyter-widgets/controls",
            "_view_module_version": "1.5.0",
            "_view_name": "HBoxView",
            "box_style": "",
            "children": [
              "IPY_MODEL_77b528ef7d8d45c2bb35480c235e3a9c",
              "IPY_MODEL_1c155f55641d4c2dae8e73b3c6581959",
              "IPY_MODEL_a474495a809c461786c73ae5bbffc6e1"
            ],
            "layout": "IPY_MODEL_534b6f8bb4d24d49826b62e697c36b56"
          }
        },
        "77b528ef7d8d45c2bb35480c235e3a9c": {
          "model_module": "@jupyter-widgets/controls",
          "model_name": "HTMLModel",
          "model_module_version": "1.5.0",
          "state": {
            "_dom_classes": [],
            "_model_module": "@jupyter-widgets/controls",
            "_model_module_version": "1.5.0",
            "_model_name": "HTMLModel",
            "_view_count": null,
            "_view_module": "@jupyter-widgets/controls",
            "_view_module_version": "1.5.0",
            "_view_name": "HTMLView",
            "description": "",
            "description_tooltip": null,
            "layout": "IPY_MODEL_eecca730a9d34a4c8a7fabbe2c023682",
            "placeholder": "​",
            "style": "IPY_MODEL_2ec8a2b430d142de8db690f811bc9481",
            "value": "vocab.txt: 100%"
          }
        },
        "1c155f55641d4c2dae8e73b3c6581959": {
          "model_module": "@jupyter-widgets/controls",
          "model_name": "FloatProgressModel",
          "model_module_version": "1.5.0",
          "state": {
            "_dom_classes": [],
            "_model_module": "@jupyter-widgets/controls",
            "_model_module_version": "1.5.0",
            "_model_name": "FloatProgressModel",
            "_view_count": null,
            "_view_module": "@jupyter-widgets/controls",
            "_view_module_version": "1.5.0",
            "_view_name": "ProgressView",
            "bar_style": "success",
            "description": "",
            "description_tooltip": null,
            "layout": "IPY_MODEL_e12285cf86ee4162934a94db49f2fe4a",
            "max": 231508,
            "min": 0,
            "orientation": "horizontal",
            "style": "IPY_MODEL_29888191ae6f41c089bbda0bda7b3135",
            "value": 231508
          }
        },
        "a474495a809c461786c73ae5bbffc6e1": {
          "model_module": "@jupyter-widgets/controls",
          "model_name": "HTMLModel",
          "model_module_version": "1.5.0",
          "state": {
            "_dom_classes": [],
            "_model_module": "@jupyter-widgets/controls",
            "_model_module_version": "1.5.0",
            "_model_name": "HTMLModel",
            "_view_count": null,
            "_view_module": "@jupyter-widgets/controls",
            "_view_module_version": "1.5.0",
            "_view_name": "HTMLView",
            "description": "",
            "description_tooltip": null,
            "layout": "IPY_MODEL_c86b824951d647a18739c407c68916bb",
            "placeholder": "​",
            "style": "IPY_MODEL_d823681f255f4a5594cf9126f69b016f",
            "value": " 232k/232k [00:00&lt;00:00, 323kB/s]"
          }
        },
        "534b6f8bb4d24d49826b62e697c36b56": {
          "model_module": "@jupyter-widgets/base",
          "model_name": "LayoutModel",
          "model_module_version": "1.2.0",
          "state": {
            "_model_module": "@jupyter-widgets/base",
            "_model_module_version": "1.2.0",
            "_model_name": "LayoutModel",
            "_view_count": null,
            "_view_module": "@jupyter-widgets/base",
            "_view_module_version": "1.2.0",
            "_view_name": "LayoutView",
            "align_content": null,
            "align_items": null,
            "align_self": null,
            "border": null,
            "bottom": null,
            "display": null,
            "flex": null,
            "flex_flow": null,
            "grid_area": null,
            "grid_auto_columns": null,
            "grid_auto_flow": null,
            "grid_auto_rows": null,
            "grid_column": null,
            "grid_gap": null,
            "grid_row": null,
            "grid_template_areas": null,
            "grid_template_columns": null,
            "grid_template_rows": null,
            "height": null,
            "justify_content": null,
            "justify_items": null,
            "left": null,
            "margin": null,
            "max_height": null,
            "max_width": null,
            "min_height": null,
            "min_width": null,
            "object_fit": null,
            "object_position": null,
            "order": null,
            "overflow": null,
            "overflow_x": null,
            "overflow_y": null,
            "padding": null,
            "right": null,
            "top": null,
            "visibility": null,
            "width": null
          }
        },
        "eecca730a9d34a4c8a7fabbe2c023682": {
          "model_module": "@jupyter-widgets/base",
          "model_name": "LayoutModel",
          "model_module_version": "1.2.0",
          "state": {
            "_model_module": "@jupyter-widgets/base",
            "_model_module_version": "1.2.0",
            "_model_name": "LayoutModel",
            "_view_count": null,
            "_view_module": "@jupyter-widgets/base",
            "_view_module_version": "1.2.0",
            "_view_name": "LayoutView",
            "align_content": null,
            "align_items": null,
            "align_self": null,
            "border": null,
            "bottom": null,
            "display": null,
            "flex": null,
            "flex_flow": null,
            "grid_area": null,
            "grid_auto_columns": null,
            "grid_auto_flow": null,
            "grid_auto_rows": null,
            "grid_column": null,
            "grid_gap": null,
            "grid_row": null,
            "grid_template_areas": null,
            "grid_template_columns": null,
            "grid_template_rows": null,
            "height": null,
            "justify_content": null,
            "justify_items": null,
            "left": null,
            "margin": null,
            "max_height": null,
            "max_width": null,
            "min_height": null,
            "min_width": null,
            "object_fit": null,
            "object_position": null,
            "order": null,
            "overflow": null,
            "overflow_x": null,
            "overflow_y": null,
            "padding": null,
            "right": null,
            "top": null,
            "visibility": null,
            "width": null
          }
        },
        "2ec8a2b430d142de8db690f811bc9481": {
          "model_module": "@jupyter-widgets/controls",
          "model_name": "DescriptionStyleModel",
          "model_module_version": "1.5.0",
          "state": {
            "_model_module": "@jupyter-widgets/controls",
            "_model_module_version": "1.5.0",
            "_model_name": "DescriptionStyleModel",
            "_view_count": null,
            "_view_module": "@jupyter-widgets/base",
            "_view_module_version": "1.2.0",
            "_view_name": "StyleView",
            "description_width": ""
          }
        },
        "e12285cf86ee4162934a94db49f2fe4a": {
          "model_module": "@jupyter-widgets/base",
          "model_name": "LayoutModel",
          "model_module_version": "1.2.0",
          "state": {
            "_model_module": "@jupyter-widgets/base",
            "_model_module_version": "1.2.0",
            "_model_name": "LayoutModel",
            "_view_count": null,
            "_view_module": "@jupyter-widgets/base",
            "_view_module_version": "1.2.0",
            "_view_name": "LayoutView",
            "align_content": null,
            "align_items": null,
            "align_self": null,
            "border": null,
            "bottom": null,
            "display": null,
            "flex": null,
            "flex_flow": null,
            "grid_area": null,
            "grid_auto_columns": null,
            "grid_auto_flow": null,
            "grid_auto_rows": null,
            "grid_column": null,
            "grid_gap": null,
            "grid_row": null,
            "grid_template_areas": null,
            "grid_template_columns": null,
            "grid_template_rows": null,
            "height": null,
            "justify_content": null,
            "justify_items": null,
            "left": null,
            "margin": null,
            "max_height": null,
            "max_width": null,
            "min_height": null,
            "min_width": null,
            "object_fit": null,
            "object_position": null,
            "order": null,
            "overflow": null,
            "overflow_x": null,
            "overflow_y": null,
            "padding": null,
            "right": null,
            "top": null,
            "visibility": null,
            "width": null
          }
        },
        "29888191ae6f41c089bbda0bda7b3135": {
          "model_module": "@jupyter-widgets/controls",
          "model_name": "ProgressStyleModel",
          "model_module_version": "1.5.0",
          "state": {
            "_model_module": "@jupyter-widgets/controls",
            "_model_module_version": "1.5.0",
            "_model_name": "ProgressStyleModel",
            "_view_count": null,
            "_view_module": "@jupyter-widgets/base",
            "_view_module_version": "1.2.0",
            "_view_name": "StyleView",
            "bar_color": null,
            "description_width": ""
          }
        },
        "c86b824951d647a18739c407c68916bb": {
          "model_module": "@jupyter-widgets/base",
          "model_name": "LayoutModel",
          "model_module_version": "1.2.0",
          "state": {
            "_model_module": "@jupyter-widgets/base",
            "_model_module_version": "1.2.0",
            "_model_name": "LayoutModel",
            "_view_count": null,
            "_view_module": "@jupyter-widgets/base",
            "_view_module_version": "1.2.0",
            "_view_name": "LayoutView",
            "align_content": null,
            "align_items": null,
            "align_self": null,
            "border": null,
            "bottom": null,
            "display": null,
            "flex": null,
            "flex_flow": null,
            "grid_area": null,
            "grid_auto_columns": null,
            "grid_auto_flow": null,
            "grid_auto_rows": null,
            "grid_column": null,
            "grid_gap": null,
            "grid_row": null,
            "grid_template_areas": null,
            "grid_template_columns": null,
            "grid_template_rows": null,
            "height": null,
            "justify_content": null,
            "justify_items": null,
            "left": null,
            "margin": null,
            "max_height": null,
            "max_width": null,
            "min_height": null,
            "min_width": null,
            "object_fit": null,
            "object_position": null,
            "order": null,
            "overflow": null,
            "overflow_x": null,
            "overflow_y": null,
            "padding": null,
            "right": null,
            "top": null,
            "visibility": null,
            "width": null
          }
        },
        "d823681f255f4a5594cf9126f69b016f": {
          "model_module": "@jupyter-widgets/controls",
          "model_name": "DescriptionStyleModel",
          "model_module_version": "1.5.0",
          "state": {
            "_model_module": "@jupyter-widgets/controls",
            "_model_module_version": "1.5.0",
            "_model_name": "DescriptionStyleModel",
            "_view_count": null,
            "_view_module": "@jupyter-widgets/base",
            "_view_module_version": "1.2.0",
            "_view_name": "StyleView",
            "description_width": ""
          }
        },
        "64ba852390c5490fb0ff14297510789c": {
          "model_module": "@jupyter-widgets/controls",
          "model_name": "HBoxModel",
          "model_module_version": "1.5.0",
          "state": {
            "_dom_classes": [],
            "_model_module": "@jupyter-widgets/controls",
            "_model_module_version": "1.5.0",
            "_model_name": "HBoxModel",
            "_view_count": null,
            "_view_module": "@jupyter-widgets/controls",
            "_view_module_version": "1.5.0",
            "_view_name": "HBoxView",
            "box_style": "",
            "children": [
              "IPY_MODEL_fb792c5eb98445dda253d39e2ce66153",
              "IPY_MODEL_3849598fdf1442ba91d6940e628dfecb",
              "IPY_MODEL_ea941b96617e44f98b1c7cf683ae0d03"
            ],
            "layout": "IPY_MODEL_2a36ab41d12942ab9d7d59e14b1ca709"
          }
        },
        "fb792c5eb98445dda253d39e2ce66153": {
          "model_module": "@jupyter-widgets/controls",
          "model_name": "HTMLModel",
          "model_module_version": "1.5.0",
          "state": {
            "_dom_classes": [],
            "_model_module": "@jupyter-widgets/controls",
            "_model_module_version": "1.5.0",
            "_model_name": "HTMLModel",
            "_view_count": null,
            "_view_module": "@jupyter-widgets/controls",
            "_view_module_version": "1.5.0",
            "_view_name": "HTMLView",
            "description": "",
            "description_tooltip": null,
            "layout": "IPY_MODEL_59ae5bed14f449ce92ef6f01b39fab7d",
            "placeholder": "​",
            "style": "IPY_MODEL_3f2373cf891b46d4a272124185790f62",
            "value": "special_tokens_map.json: 100%"
          }
        },
        "3849598fdf1442ba91d6940e628dfecb": {
          "model_module": "@jupyter-widgets/controls",
          "model_name": "FloatProgressModel",
          "model_module_version": "1.5.0",
          "state": {
            "_dom_classes": [],
            "_model_module": "@jupyter-widgets/controls",
            "_model_module_version": "1.5.0",
            "_model_name": "FloatProgressModel",
            "_view_count": null,
            "_view_module": "@jupyter-widgets/controls",
            "_view_module_version": "1.5.0",
            "_view_name": "ProgressView",
            "bar_style": "success",
            "description": "",
            "description_tooltip": null,
            "layout": "IPY_MODEL_ec2697f45b954a56a380067e34d88f5f",
            "max": 112,
            "min": 0,
            "orientation": "horizontal",
            "style": "IPY_MODEL_cef999597b0c47c189c9970ad64898e9",
            "value": 112
          }
        },
        "ea941b96617e44f98b1c7cf683ae0d03": {
          "model_module": "@jupyter-widgets/controls",
          "model_name": "HTMLModel",
          "model_module_version": "1.5.0",
          "state": {
            "_dom_classes": [],
            "_model_module": "@jupyter-widgets/controls",
            "_model_module_version": "1.5.0",
            "_model_name": "HTMLModel",
            "_view_count": null,
            "_view_module": "@jupyter-widgets/controls",
            "_view_module_version": "1.5.0",
            "_view_name": "HTMLView",
            "description": "",
            "description_tooltip": null,
            "layout": "IPY_MODEL_18a8384a681442c39b6f8f3b1f56a4b1",
            "placeholder": "​",
            "style": "IPY_MODEL_e8dc0cb3d9f24d0eaaf8b560e48eaa0f",
            "value": " 112/112 [00:00&lt;00:00, 6.16kB/s]"
          }
        },
        "2a36ab41d12942ab9d7d59e14b1ca709": {
          "model_module": "@jupyter-widgets/base",
          "model_name": "LayoutModel",
          "model_module_version": "1.2.0",
          "state": {
            "_model_module": "@jupyter-widgets/base",
            "_model_module_version": "1.2.0",
            "_model_name": "LayoutModel",
            "_view_count": null,
            "_view_module": "@jupyter-widgets/base",
            "_view_module_version": "1.2.0",
            "_view_name": "LayoutView",
            "align_content": null,
            "align_items": null,
            "align_self": null,
            "border": null,
            "bottom": null,
            "display": null,
            "flex": null,
            "flex_flow": null,
            "grid_area": null,
            "grid_auto_columns": null,
            "grid_auto_flow": null,
            "grid_auto_rows": null,
            "grid_column": null,
            "grid_gap": null,
            "grid_row": null,
            "grid_template_areas": null,
            "grid_template_columns": null,
            "grid_template_rows": null,
            "height": null,
            "justify_content": null,
            "justify_items": null,
            "left": null,
            "margin": null,
            "max_height": null,
            "max_width": null,
            "min_height": null,
            "min_width": null,
            "object_fit": null,
            "object_position": null,
            "order": null,
            "overflow": null,
            "overflow_x": null,
            "overflow_y": null,
            "padding": null,
            "right": null,
            "top": null,
            "visibility": null,
            "width": null
          }
        },
        "59ae5bed14f449ce92ef6f01b39fab7d": {
          "model_module": "@jupyter-widgets/base",
          "model_name": "LayoutModel",
          "model_module_version": "1.2.0",
          "state": {
            "_model_module": "@jupyter-widgets/base",
            "_model_module_version": "1.2.0",
            "_model_name": "LayoutModel",
            "_view_count": null,
            "_view_module": "@jupyter-widgets/base",
            "_view_module_version": "1.2.0",
            "_view_name": "LayoutView",
            "align_content": null,
            "align_items": null,
            "align_self": null,
            "border": null,
            "bottom": null,
            "display": null,
            "flex": null,
            "flex_flow": null,
            "grid_area": null,
            "grid_auto_columns": null,
            "grid_auto_flow": null,
            "grid_auto_rows": null,
            "grid_column": null,
            "grid_gap": null,
            "grid_row": null,
            "grid_template_areas": null,
            "grid_template_columns": null,
            "grid_template_rows": null,
            "height": null,
            "justify_content": null,
            "justify_items": null,
            "left": null,
            "margin": null,
            "max_height": null,
            "max_width": null,
            "min_height": null,
            "min_width": null,
            "object_fit": null,
            "object_position": null,
            "order": null,
            "overflow": null,
            "overflow_x": null,
            "overflow_y": null,
            "padding": null,
            "right": null,
            "top": null,
            "visibility": null,
            "width": null
          }
        },
        "3f2373cf891b46d4a272124185790f62": {
          "model_module": "@jupyter-widgets/controls",
          "model_name": "DescriptionStyleModel",
          "model_module_version": "1.5.0",
          "state": {
            "_model_module": "@jupyter-widgets/controls",
            "_model_module_version": "1.5.0",
            "_model_name": "DescriptionStyleModel",
            "_view_count": null,
            "_view_module": "@jupyter-widgets/base",
            "_view_module_version": "1.2.0",
            "_view_name": "StyleView",
            "description_width": ""
          }
        },
        "ec2697f45b954a56a380067e34d88f5f": {
          "model_module": "@jupyter-widgets/base",
          "model_name": "LayoutModel",
          "model_module_version": "1.2.0",
          "state": {
            "_model_module": "@jupyter-widgets/base",
            "_model_module_version": "1.2.0",
            "_model_name": "LayoutModel",
            "_view_count": null,
            "_view_module": "@jupyter-widgets/base",
            "_view_module_version": "1.2.0",
            "_view_name": "LayoutView",
            "align_content": null,
            "align_items": null,
            "align_self": null,
            "border": null,
            "bottom": null,
            "display": null,
            "flex": null,
            "flex_flow": null,
            "grid_area": null,
            "grid_auto_columns": null,
            "grid_auto_flow": null,
            "grid_auto_rows": null,
            "grid_column": null,
            "grid_gap": null,
            "grid_row": null,
            "grid_template_areas": null,
            "grid_template_columns": null,
            "grid_template_rows": null,
            "height": null,
            "justify_content": null,
            "justify_items": null,
            "left": null,
            "margin": null,
            "max_height": null,
            "max_width": null,
            "min_height": null,
            "min_width": null,
            "object_fit": null,
            "object_position": null,
            "order": null,
            "overflow": null,
            "overflow_x": null,
            "overflow_y": null,
            "padding": null,
            "right": null,
            "top": null,
            "visibility": null,
            "width": null
          }
        },
        "cef999597b0c47c189c9970ad64898e9": {
          "model_module": "@jupyter-widgets/controls",
          "model_name": "ProgressStyleModel",
          "model_module_version": "1.5.0",
          "state": {
            "_model_module": "@jupyter-widgets/controls",
            "_model_module_version": "1.5.0",
            "_model_name": "ProgressStyleModel",
            "_view_count": null,
            "_view_module": "@jupyter-widgets/base",
            "_view_module_version": "1.2.0",
            "_view_name": "StyleView",
            "bar_color": null,
            "description_width": ""
          }
        },
        "18a8384a681442c39b6f8f3b1f56a4b1": {
          "model_module": "@jupyter-widgets/base",
          "model_name": "LayoutModel",
          "model_module_version": "1.2.0",
          "state": {
            "_model_module": "@jupyter-widgets/base",
            "_model_module_version": "1.2.0",
            "_model_name": "LayoutModel",
            "_view_count": null,
            "_view_module": "@jupyter-widgets/base",
            "_view_module_version": "1.2.0",
            "_view_name": "LayoutView",
            "align_content": null,
            "align_items": null,
            "align_self": null,
            "border": null,
            "bottom": null,
            "display": null,
            "flex": null,
            "flex_flow": null,
            "grid_area": null,
            "grid_auto_columns": null,
            "grid_auto_flow": null,
            "grid_auto_rows": null,
            "grid_column": null,
            "grid_gap": null,
            "grid_row": null,
            "grid_template_areas": null,
            "grid_template_columns": null,
            "grid_template_rows": null,
            "height": null,
            "justify_content": null,
            "justify_items": null,
            "left": null,
            "margin": null,
            "max_height": null,
            "max_width": null,
            "min_height": null,
            "min_width": null,
            "object_fit": null,
            "object_position": null,
            "order": null,
            "overflow": null,
            "overflow_x": null,
            "overflow_y": null,
            "padding": null,
            "right": null,
            "top": null,
            "visibility": null,
            "width": null
          }
        },
        "e8dc0cb3d9f24d0eaaf8b560e48eaa0f": {
          "model_module": "@jupyter-widgets/controls",
          "model_name": "DescriptionStyleModel",
          "model_module_version": "1.5.0",
          "state": {
            "_model_module": "@jupyter-widgets/controls",
            "_model_module_version": "1.5.0",
            "_model_name": "DescriptionStyleModel",
            "_view_count": null,
            "_view_module": "@jupyter-widgets/base",
            "_view_module_version": "1.2.0",
            "_view_name": "StyleView",
            "description_width": ""
          }
        }
      }
    }
  },
  "nbformat": 4,
  "nbformat_minor": 5
}