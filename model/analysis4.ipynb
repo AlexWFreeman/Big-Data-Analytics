{
  "cells": [
    {
      "cell_type": "code",
      "execution_count": 1876,
      "metadata": {
        "id": "9fN6b8GTJmiM"
      },
      "outputs": [],
      "source": [
        "import numpy as np\n",
        "import pandas as pd\n",
        "from sklearn.model_selection import train_test_split\n",
        "from sklearn.linear_model import LinearRegression\n",
        "from sklearn.metrics import mean_squared_error, r2_score\n",
        "from sklearn.preprocessing import MinMaxScaler, StandardScaler\n",
        "import torch\n",
        "import torch.nn as nn\n",
        "import torch.optim as optim"
      ]
    },
    {
      "cell_type": "code",
      "source": [
        "from google.colab import drive\n",
        "drive.mount('/content/drive')\n",
        "device = torch.device(\"cuda\" if torch.cuda.is_available() else \"cpu\")"
      ],
      "metadata": {
        "colab": {
          "base_uri": "https://localhost:8080/"
        },
        "id": "LxwTA9LjLFY7",
        "outputId": "2c11270d-6bad-478d-9a53-f08a9ad65f74"
      },
      "execution_count": 1877,
      "outputs": [
        {
          "output_type": "stream",
          "name": "stdout",
          "text": [
            "Drive already mounted at /content/drive; to attempt to forcibly remount, call drive.mount(\"/content/drive\", force_remount=True).\n"
          ]
        }
      ]
    },
    {
      "cell_type": "code",
      "execution_count": 1878,
      "metadata": {
        "id": "P3w0qAeFJmiO"
      },
      "outputs": [],
      "source": [
        "def label_count(label):\n",
        "    def func(series):\n",
        "        return series.isin(label).sum() / series.count()\n",
        "    return func"
      ]
    },
    {
      "cell_type": "code",
      "execution_count": 1879,
      "metadata": {
        "id": "onnwnm-vJmiO"
      },
      "outputs": [],
      "source": [
        "def prepare_data(ticker):\n",
        "    base_path = \"/content/drive/My Drive\"\n",
        "    stock_price = pd.read_csv(f\"{base_path}/dataset/stocks/{ticker}.csv\")\n",
        "    stock_price['time'] = pd.to_datetime(stock_price['time'])\n",
        "    stock_price['trade_date'] = stock_price['time'].dt.date\n",
        "    stock_price['delta'] = stock_price['close'].diff()\n",
        "\n",
        "    stock_price['prv_close'] = stock_price['close'].shift(periods=1, fill_value=None)\n",
        "    stock_price['200_ma'] = stock_price['prv_close'].rolling(window=200, min_periods=1).mean()\n",
        "    stock_price['50_ma'] = stock_price['prv_close'].rolling(window=50, min_periods=1).mean()\n",
        "\n",
        "    stock_news = pd.read_csv(f\"{base_path}/dataset/polygon_title_sentiment_3/{ticker}_title_sentiments.csv\")\n",
        "    stock_news['time'] = pd.to_datetime(stock_news['time'])\n",
        "    stock_news['trade_date'] = (stock_news['time'] + pd.to_timedelta(0, unit='h')).dt.date\n",
        "\n",
        "    stock_news['neg_score'] = stock_news['sentiment_score']\n",
        "    stock_news.loc[stock_news['sentiment'] != 'negative', 'neg_score'] = 0.0\n",
        "    stock_news['pos_score'] = stock_news['sentiment_score']\n",
        "    stock_news.loc[stock_news['sentiment'] != 'positive', 'pos_score'] = 0.0\n",
        "    stock_news['neg_mean'] = stock_news['sentiment_score']\n",
        "    stock_news.loc[stock_news['sentiment'] != 'negative', 'neg_mean'] = np.nan\n",
        "    stock_news['pos_mean'] = stock_news['sentiment_score']\n",
        "    stock_news.loc[stock_news['sentiment'] != 'positive', 'pos_mean'] = np.nan\n",
        "\n",
        "    news_comb = pd.merge(stock_price, stock_news, how='left', on='trade_date')\n",
        "    relation_gp = news_comb.groupby('trade_date').agg({\n",
        "        'prv_close': 'first', 'delta': 'first', 'close': 'first', 'open': 'first', 'high': 'first', 'low': 'first',\n",
        "        'sentiment': [label_count(['positive']), label_count(['negative'])], '200_ma': 'first', '50_ma': 'first',\n",
        "        'sentiment_score': 'mean', 'pos_score': 'mean', 'neg_score': 'mean', 'pos_mean': 'mean', 'neg_mean': 'mean'\n",
        "    }).fillna(0.0).reset_index()\n",
        "    relation_gp.columns = ['trade_date', 'prv_close', 'delta', 'close', 'open', 'high', 'low', 'positive', 'negative',\n",
        "                           '200_ma', '50_ma', 'all_score', 'pos_score', 'neg_score', 'pos_mean', 'neg_mean']\n",
        "    return relation_gp"
      ]
    },
    {
      "cell_type": "code",
      "execution_count": 1880,
      "metadata": {
        "id": "l6Biq6cAJmiP",
        "outputId": "47b4324e-ef37-4681-b245-ff9a5c79a6ff",
        "colab": {
          "base_uri": "https://localhost:8080/",
          "height": 479
        }
      },
      "outputs": [
        {
          "output_type": "stream",
          "name": "stderr",
          "text": [
            "<ipython-input-1878-cc6a419d00d3>:3: RuntimeWarning: invalid value encountered in scalar divide\n",
            "  return series.isin(label).sum() / series.count()\n"
          ]
        },
        {
          "output_type": "execute_result",
          "data": {
            "text/plain": [
              "     trade_date  prv_close  delta   close     open     high     low  positive  \\\n",
              "0    2022-10-31       0.00   0.00  153.34  153.155  154.240  151.92  0.275862   \n",
              "1    2022-11-01     153.34  -2.69  150.65  155.080  155.450  149.13  0.166667   \n",
              "2    2022-11-02     150.65  -5.62  145.03  148.945  152.170  145.00  0.285714   \n",
              "3    2022-11-03     145.03  -6.15  138.88  142.060  142.800  138.75  0.117647   \n",
              "4    2022-11-04     138.88  -0.50  138.38  142.090  142.670  134.38  0.117647   \n",
              "..          ...        ...    ...     ...      ...      ...     ...       ...   \n",
              "497  2024-10-23     235.86  -5.10  230.76  234.080  235.144  227.76  0.500000   \n",
              "498  2024-10-24     230.76  -0.19  230.57  229.980  230.820  228.41  0.600000   \n",
              "499  2024-10-25     230.57   0.84  231.41  229.740  233.220  229.57  0.400000   \n",
              "500  2024-10-28     231.41   1.99  233.40  233.320  234.730  232.55  0.400000   \n",
              "501  2024-10-29     233.40   0.27  233.67  233.100  234.325  232.32  0.000000   \n",
              "\n",
              "     negative      200_ma       50_ma  all_score  pos_score  neg_score  \\\n",
              "0    0.137931    0.000000    0.000000   0.096446   0.220498  -0.124052   \n",
              "1    0.277778  153.340000  153.340000  -0.085231   0.146493  -0.231724   \n",
              "2    0.142857  151.995000  151.995000   0.103546   0.238440  -0.134894   \n",
              "3    0.529412  149.673333  149.673333  -0.348146   0.090076  -0.438222   \n",
              "4    0.352941  146.975000  146.975000  -0.214672   0.083690  -0.298362   \n",
              "..        ...         ...         ...        ...        ...        ...   \n",
              "497  0.333333  200.375500  226.301000   0.085070   0.404759  -0.319689   \n",
              "498  0.000000  200.601500  226.490800   0.525094   0.525094   0.000000   \n",
              "499  0.200000  200.828650  226.667800   0.233975   0.330385  -0.096410   \n",
              "500  0.000000  201.054750  226.801600   0.274372   0.274372   0.000000   \n",
              "501  0.333333  201.293800  226.948600  -0.182830   0.000000  -0.182830   \n",
              "\n",
              "     pos_mean  neg_mean  \n",
              "0    0.799306 -0.899377  \n",
              "1    0.878957 -0.834206  \n",
              "2    0.834540 -0.944261  \n",
              "3    0.765643 -0.827752  \n",
              "4    0.711366 -0.845359  \n",
              "..        ...       ...  \n",
              "497  0.809518 -0.959066  \n",
              "498  0.875157  0.000000  \n",
              "499  0.825962 -0.482050  \n",
              "500  0.685930  0.000000  \n",
              "501  0.000000 -0.548489  \n",
              "\n",
              "[502 rows x 16 columns]"
            ],
            "text/html": [
              "\n",
              "  <div id=\"df-1abb5578-41eb-44b1-bc7b-bcab0f5459ec\" class=\"colab-df-container\">\n",
              "    <div>\n",
              "<style scoped>\n",
              "    .dataframe tbody tr th:only-of-type {\n",
              "        vertical-align: middle;\n",
              "    }\n",
              "\n",
              "    .dataframe tbody tr th {\n",
              "        vertical-align: top;\n",
              "    }\n",
              "\n",
              "    .dataframe thead th {\n",
              "        text-align: right;\n",
              "    }\n",
              "</style>\n",
              "<table border=\"1\" class=\"dataframe\">\n",
              "  <thead>\n",
              "    <tr style=\"text-align: right;\">\n",
              "      <th></th>\n",
              "      <th>trade_date</th>\n",
              "      <th>prv_close</th>\n",
              "      <th>delta</th>\n",
              "      <th>close</th>\n",
              "      <th>open</th>\n",
              "      <th>high</th>\n",
              "      <th>low</th>\n",
              "      <th>positive</th>\n",
              "      <th>negative</th>\n",
              "      <th>200_ma</th>\n",
              "      <th>50_ma</th>\n",
              "      <th>all_score</th>\n",
              "      <th>pos_score</th>\n",
              "      <th>neg_score</th>\n",
              "      <th>pos_mean</th>\n",
              "      <th>neg_mean</th>\n",
              "    </tr>\n",
              "  </thead>\n",
              "  <tbody>\n",
              "    <tr>\n",
              "      <th>0</th>\n",
              "      <td>2022-10-31</td>\n",
              "      <td>0.00</td>\n",
              "      <td>0.00</td>\n",
              "      <td>153.34</td>\n",
              "      <td>153.155</td>\n",
              "      <td>154.240</td>\n",
              "      <td>151.92</td>\n",
              "      <td>0.275862</td>\n",
              "      <td>0.137931</td>\n",
              "      <td>0.000000</td>\n",
              "      <td>0.000000</td>\n",
              "      <td>0.096446</td>\n",
              "      <td>0.220498</td>\n",
              "      <td>-0.124052</td>\n",
              "      <td>0.799306</td>\n",
              "      <td>-0.899377</td>\n",
              "    </tr>\n",
              "    <tr>\n",
              "      <th>1</th>\n",
              "      <td>2022-11-01</td>\n",
              "      <td>153.34</td>\n",
              "      <td>-2.69</td>\n",
              "      <td>150.65</td>\n",
              "      <td>155.080</td>\n",
              "      <td>155.450</td>\n",
              "      <td>149.13</td>\n",
              "      <td>0.166667</td>\n",
              "      <td>0.277778</td>\n",
              "      <td>153.340000</td>\n",
              "      <td>153.340000</td>\n",
              "      <td>-0.085231</td>\n",
              "      <td>0.146493</td>\n",
              "      <td>-0.231724</td>\n",
              "      <td>0.878957</td>\n",
              "      <td>-0.834206</td>\n",
              "    </tr>\n",
              "    <tr>\n",
              "      <th>2</th>\n",
              "      <td>2022-11-02</td>\n",
              "      <td>150.65</td>\n",
              "      <td>-5.62</td>\n",
              "      <td>145.03</td>\n",
              "      <td>148.945</td>\n",
              "      <td>152.170</td>\n",
              "      <td>145.00</td>\n",
              "      <td>0.285714</td>\n",
              "      <td>0.142857</td>\n",
              "      <td>151.995000</td>\n",
              "      <td>151.995000</td>\n",
              "      <td>0.103546</td>\n",
              "      <td>0.238440</td>\n",
              "      <td>-0.134894</td>\n",
              "      <td>0.834540</td>\n",
              "      <td>-0.944261</td>\n",
              "    </tr>\n",
              "    <tr>\n",
              "      <th>3</th>\n",
              "      <td>2022-11-03</td>\n",
              "      <td>145.03</td>\n",
              "      <td>-6.15</td>\n",
              "      <td>138.88</td>\n",
              "      <td>142.060</td>\n",
              "      <td>142.800</td>\n",
              "      <td>138.75</td>\n",
              "      <td>0.117647</td>\n",
              "      <td>0.529412</td>\n",
              "      <td>149.673333</td>\n",
              "      <td>149.673333</td>\n",
              "      <td>-0.348146</td>\n",
              "      <td>0.090076</td>\n",
              "      <td>-0.438222</td>\n",
              "      <td>0.765643</td>\n",
              "      <td>-0.827752</td>\n",
              "    </tr>\n",
              "    <tr>\n",
              "      <th>4</th>\n",
              "      <td>2022-11-04</td>\n",
              "      <td>138.88</td>\n",
              "      <td>-0.50</td>\n",
              "      <td>138.38</td>\n",
              "      <td>142.090</td>\n",
              "      <td>142.670</td>\n",
              "      <td>134.38</td>\n",
              "      <td>0.117647</td>\n",
              "      <td>0.352941</td>\n",
              "      <td>146.975000</td>\n",
              "      <td>146.975000</td>\n",
              "      <td>-0.214672</td>\n",
              "      <td>0.083690</td>\n",
              "      <td>-0.298362</td>\n",
              "      <td>0.711366</td>\n",
              "      <td>-0.845359</td>\n",
              "    </tr>\n",
              "    <tr>\n",
              "      <th>...</th>\n",
              "      <td>...</td>\n",
              "      <td>...</td>\n",
              "      <td>...</td>\n",
              "      <td>...</td>\n",
              "      <td>...</td>\n",
              "      <td>...</td>\n",
              "      <td>...</td>\n",
              "      <td>...</td>\n",
              "      <td>...</td>\n",
              "      <td>...</td>\n",
              "      <td>...</td>\n",
              "      <td>...</td>\n",
              "      <td>...</td>\n",
              "      <td>...</td>\n",
              "      <td>...</td>\n",
              "      <td>...</td>\n",
              "    </tr>\n",
              "    <tr>\n",
              "      <th>497</th>\n",
              "      <td>2024-10-23</td>\n",
              "      <td>235.86</td>\n",
              "      <td>-5.10</td>\n",
              "      <td>230.76</td>\n",
              "      <td>234.080</td>\n",
              "      <td>235.144</td>\n",
              "      <td>227.76</td>\n",
              "      <td>0.500000</td>\n",
              "      <td>0.333333</td>\n",
              "      <td>200.375500</td>\n",
              "      <td>226.301000</td>\n",
              "      <td>0.085070</td>\n",
              "      <td>0.404759</td>\n",
              "      <td>-0.319689</td>\n",
              "      <td>0.809518</td>\n",
              "      <td>-0.959066</td>\n",
              "    </tr>\n",
              "    <tr>\n",
              "      <th>498</th>\n",
              "      <td>2024-10-24</td>\n",
              "      <td>230.76</td>\n",
              "      <td>-0.19</td>\n",
              "      <td>230.57</td>\n",
              "      <td>229.980</td>\n",
              "      <td>230.820</td>\n",
              "      <td>228.41</td>\n",
              "      <td>0.600000</td>\n",
              "      <td>0.000000</td>\n",
              "      <td>200.601500</td>\n",
              "      <td>226.490800</td>\n",
              "      <td>0.525094</td>\n",
              "      <td>0.525094</td>\n",
              "      <td>0.000000</td>\n",
              "      <td>0.875157</td>\n",
              "      <td>0.000000</td>\n",
              "    </tr>\n",
              "    <tr>\n",
              "      <th>499</th>\n",
              "      <td>2024-10-25</td>\n",
              "      <td>230.57</td>\n",
              "      <td>0.84</td>\n",
              "      <td>231.41</td>\n",
              "      <td>229.740</td>\n",
              "      <td>233.220</td>\n",
              "      <td>229.57</td>\n",
              "      <td>0.400000</td>\n",
              "      <td>0.200000</td>\n",
              "      <td>200.828650</td>\n",
              "      <td>226.667800</td>\n",
              "      <td>0.233975</td>\n",
              "      <td>0.330385</td>\n",
              "      <td>-0.096410</td>\n",
              "      <td>0.825962</td>\n",
              "      <td>-0.482050</td>\n",
              "    </tr>\n",
              "    <tr>\n",
              "      <th>500</th>\n",
              "      <td>2024-10-28</td>\n",
              "      <td>231.41</td>\n",
              "      <td>1.99</td>\n",
              "      <td>233.40</td>\n",
              "      <td>233.320</td>\n",
              "      <td>234.730</td>\n",
              "      <td>232.55</td>\n",
              "      <td>0.400000</td>\n",
              "      <td>0.000000</td>\n",
              "      <td>201.054750</td>\n",
              "      <td>226.801600</td>\n",
              "      <td>0.274372</td>\n",
              "      <td>0.274372</td>\n",
              "      <td>0.000000</td>\n",
              "      <td>0.685930</td>\n",
              "      <td>0.000000</td>\n",
              "    </tr>\n",
              "    <tr>\n",
              "      <th>501</th>\n",
              "      <td>2024-10-29</td>\n",
              "      <td>233.40</td>\n",
              "      <td>0.27</td>\n",
              "      <td>233.67</td>\n",
              "      <td>233.100</td>\n",
              "      <td>234.325</td>\n",
              "      <td>232.32</td>\n",
              "      <td>0.000000</td>\n",
              "      <td>0.333333</td>\n",
              "      <td>201.293800</td>\n",
              "      <td>226.948600</td>\n",
              "      <td>-0.182830</td>\n",
              "      <td>0.000000</td>\n",
              "      <td>-0.182830</td>\n",
              "      <td>0.000000</td>\n",
              "      <td>-0.548489</td>\n",
              "    </tr>\n",
              "  </tbody>\n",
              "</table>\n",
              "<p>502 rows × 16 columns</p>\n",
              "</div>\n",
              "    <div class=\"colab-df-buttons\">\n",
              "\n",
              "  <div class=\"colab-df-container\">\n",
              "    <button class=\"colab-df-convert\" onclick=\"convertToInteractive('df-1abb5578-41eb-44b1-bc7b-bcab0f5459ec')\"\n",
              "            title=\"Convert this dataframe to an interactive table.\"\n",
              "            style=\"display:none;\">\n",
              "\n",
              "  <svg xmlns=\"http://www.w3.org/2000/svg\" height=\"24px\" viewBox=\"0 -960 960 960\">\n",
              "    <path d=\"M120-120v-720h720v720H120Zm60-500h600v-160H180v160Zm220 220h160v-160H400v160Zm0 220h160v-160H400v160ZM180-400h160v-160H180v160Zm440 0h160v-160H620v160ZM180-180h160v-160H180v160Zm440 0h160v-160H620v160Z\"/>\n",
              "  </svg>\n",
              "    </button>\n",
              "\n",
              "  <style>\n",
              "    .colab-df-container {\n",
              "      display:flex;\n",
              "      gap: 12px;\n",
              "    }\n",
              "\n",
              "    .colab-df-convert {\n",
              "      background-color: #E8F0FE;\n",
              "      border: none;\n",
              "      border-radius: 50%;\n",
              "      cursor: pointer;\n",
              "      display: none;\n",
              "      fill: #1967D2;\n",
              "      height: 32px;\n",
              "      padding: 0 0 0 0;\n",
              "      width: 32px;\n",
              "    }\n",
              "\n",
              "    .colab-df-convert:hover {\n",
              "      background-color: #E2EBFA;\n",
              "      box-shadow: 0px 1px 2px rgba(60, 64, 67, 0.3), 0px 1px 3px 1px rgba(60, 64, 67, 0.15);\n",
              "      fill: #174EA6;\n",
              "    }\n",
              "\n",
              "    .colab-df-buttons div {\n",
              "      margin-bottom: 4px;\n",
              "    }\n",
              "\n",
              "    [theme=dark] .colab-df-convert {\n",
              "      background-color: #3B4455;\n",
              "      fill: #D2E3FC;\n",
              "    }\n",
              "\n",
              "    [theme=dark] .colab-df-convert:hover {\n",
              "      background-color: #434B5C;\n",
              "      box-shadow: 0px 1px 3px 1px rgba(0, 0, 0, 0.15);\n",
              "      filter: drop-shadow(0px 1px 2px rgba(0, 0, 0, 0.3));\n",
              "      fill: #FFFFFF;\n",
              "    }\n",
              "  </style>\n",
              "\n",
              "    <script>\n",
              "      const buttonEl =\n",
              "        document.querySelector('#df-1abb5578-41eb-44b1-bc7b-bcab0f5459ec button.colab-df-convert');\n",
              "      buttonEl.style.display =\n",
              "        google.colab.kernel.accessAllowed ? 'block' : 'none';\n",
              "\n",
              "      async function convertToInteractive(key) {\n",
              "        const element = document.querySelector('#df-1abb5578-41eb-44b1-bc7b-bcab0f5459ec');\n",
              "        const dataTable =\n",
              "          await google.colab.kernel.invokeFunction('convertToInteractive',\n",
              "                                                    [key], {});\n",
              "        if (!dataTable) return;\n",
              "\n",
              "        const docLinkHtml = 'Like what you see? Visit the ' +\n",
              "          '<a target=\"_blank\" href=https://colab.research.google.com/notebooks/data_table.ipynb>data table notebook</a>'\n",
              "          + ' to learn more about interactive tables.';\n",
              "        element.innerHTML = '';\n",
              "        dataTable['output_type'] = 'display_data';\n",
              "        await google.colab.output.renderOutput(dataTable, element);\n",
              "        const docLink = document.createElement('div');\n",
              "        docLink.innerHTML = docLinkHtml;\n",
              "        element.appendChild(docLink);\n",
              "      }\n",
              "    </script>\n",
              "  </div>\n",
              "\n",
              "\n",
              "<div id=\"df-b7f37936-8d20-4967-83f9-d3418515872a\">\n",
              "  <button class=\"colab-df-quickchart\" onclick=\"quickchart('df-b7f37936-8d20-4967-83f9-d3418515872a')\"\n",
              "            title=\"Suggest charts\"\n",
              "            style=\"display:none;\">\n",
              "\n",
              "<svg xmlns=\"http://www.w3.org/2000/svg\" height=\"24px\"viewBox=\"0 0 24 24\"\n",
              "     width=\"24px\">\n",
              "    <g>\n",
              "        <path d=\"M19 3H5c-1.1 0-2 .9-2 2v14c0 1.1.9 2 2 2h14c1.1 0 2-.9 2-2V5c0-1.1-.9-2-2-2zM9 17H7v-7h2v7zm4 0h-2V7h2v10zm4 0h-2v-4h2v4z\"/>\n",
              "    </g>\n",
              "</svg>\n",
              "  </button>\n",
              "\n",
              "<style>\n",
              "  .colab-df-quickchart {\n",
              "      --bg-color: #E8F0FE;\n",
              "      --fill-color: #1967D2;\n",
              "      --hover-bg-color: #E2EBFA;\n",
              "      --hover-fill-color: #174EA6;\n",
              "      --disabled-fill-color: #AAA;\n",
              "      --disabled-bg-color: #DDD;\n",
              "  }\n",
              "\n",
              "  [theme=dark] .colab-df-quickchart {\n",
              "      --bg-color: #3B4455;\n",
              "      --fill-color: #D2E3FC;\n",
              "      --hover-bg-color: #434B5C;\n",
              "      --hover-fill-color: #FFFFFF;\n",
              "      --disabled-bg-color: #3B4455;\n",
              "      --disabled-fill-color: #666;\n",
              "  }\n",
              "\n",
              "  .colab-df-quickchart {\n",
              "    background-color: var(--bg-color);\n",
              "    border: none;\n",
              "    border-radius: 50%;\n",
              "    cursor: pointer;\n",
              "    display: none;\n",
              "    fill: var(--fill-color);\n",
              "    height: 32px;\n",
              "    padding: 0;\n",
              "    width: 32px;\n",
              "  }\n",
              "\n",
              "  .colab-df-quickchart:hover {\n",
              "    background-color: var(--hover-bg-color);\n",
              "    box-shadow: 0 1px 2px rgba(60, 64, 67, 0.3), 0 1px 3px 1px rgba(60, 64, 67, 0.15);\n",
              "    fill: var(--button-hover-fill-color);\n",
              "  }\n",
              "\n",
              "  .colab-df-quickchart-complete:disabled,\n",
              "  .colab-df-quickchart-complete:disabled:hover {\n",
              "    background-color: var(--disabled-bg-color);\n",
              "    fill: var(--disabled-fill-color);\n",
              "    box-shadow: none;\n",
              "  }\n",
              "\n",
              "  .colab-df-spinner {\n",
              "    border: 2px solid var(--fill-color);\n",
              "    border-color: transparent;\n",
              "    border-bottom-color: var(--fill-color);\n",
              "    animation:\n",
              "      spin 1s steps(1) infinite;\n",
              "  }\n",
              "\n",
              "  @keyframes spin {\n",
              "    0% {\n",
              "      border-color: transparent;\n",
              "      border-bottom-color: var(--fill-color);\n",
              "      border-left-color: var(--fill-color);\n",
              "    }\n",
              "    20% {\n",
              "      border-color: transparent;\n",
              "      border-left-color: var(--fill-color);\n",
              "      border-top-color: var(--fill-color);\n",
              "    }\n",
              "    30% {\n",
              "      border-color: transparent;\n",
              "      border-left-color: var(--fill-color);\n",
              "      border-top-color: var(--fill-color);\n",
              "      border-right-color: var(--fill-color);\n",
              "    }\n",
              "    40% {\n",
              "      border-color: transparent;\n",
              "      border-right-color: var(--fill-color);\n",
              "      border-top-color: var(--fill-color);\n",
              "    }\n",
              "    60% {\n",
              "      border-color: transparent;\n",
              "      border-right-color: var(--fill-color);\n",
              "    }\n",
              "    80% {\n",
              "      border-color: transparent;\n",
              "      border-right-color: var(--fill-color);\n",
              "      border-bottom-color: var(--fill-color);\n",
              "    }\n",
              "    90% {\n",
              "      border-color: transparent;\n",
              "      border-bottom-color: var(--fill-color);\n",
              "    }\n",
              "  }\n",
              "</style>\n",
              "\n",
              "  <script>\n",
              "    async function quickchart(key) {\n",
              "      const quickchartButtonEl =\n",
              "        document.querySelector('#' + key + ' button');\n",
              "      quickchartButtonEl.disabled = true;  // To prevent multiple clicks.\n",
              "      quickchartButtonEl.classList.add('colab-df-spinner');\n",
              "      try {\n",
              "        const charts = await google.colab.kernel.invokeFunction(\n",
              "            'suggestCharts', [key], {});\n",
              "      } catch (error) {\n",
              "        console.error('Error during call to suggestCharts:', error);\n",
              "      }\n",
              "      quickchartButtonEl.classList.remove('colab-df-spinner');\n",
              "      quickchartButtonEl.classList.add('colab-df-quickchart-complete');\n",
              "    }\n",
              "    (() => {\n",
              "      let quickchartButtonEl =\n",
              "        document.querySelector('#df-b7f37936-8d20-4967-83f9-d3418515872a button');\n",
              "      quickchartButtonEl.style.display =\n",
              "        google.colab.kernel.accessAllowed ? 'block' : 'none';\n",
              "    })();\n",
              "  </script>\n",
              "</div>\n",
              "\n",
              "  <div id=\"id_db9d18e5-acec-47b3-95f1-7c780b3ecaa0\">\n",
              "    <style>\n",
              "      .colab-df-generate {\n",
              "        background-color: #E8F0FE;\n",
              "        border: none;\n",
              "        border-radius: 50%;\n",
              "        cursor: pointer;\n",
              "        display: none;\n",
              "        fill: #1967D2;\n",
              "        height: 32px;\n",
              "        padding: 0 0 0 0;\n",
              "        width: 32px;\n",
              "      }\n",
              "\n",
              "      .colab-df-generate:hover {\n",
              "        background-color: #E2EBFA;\n",
              "        box-shadow: 0px 1px 2px rgba(60, 64, 67, 0.3), 0px 1px 3px 1px rgba(60, 64, 67, 0.15);\n",
              "        fill: #174EA6;\n",
              "      }\n",
              "\n",
              "      [theme=dark] .colab-df-generate {\n",
              "        background-color: #3B4455;\n",
              "        fill: #D2E3FC;\n",
              "      }\n",
              "\n",
              "      [theme=dark] .colab-df-generate:hover {\n",
              "        background-color: #434B5C;\n",
              "        box-shadow: 0px 1px 3px 1px rgba(0, 0, 0, 0.15);\n",
              "        filter: drop-shadow(0px 1px 2px rgba(0, 0, 0, 0.3));\n",
              "        fill: #FFFFFF;\n",
              "      }\n",
              "    </style>\n",
              "    <button class=\"colab-df-generate\" onclick=\"generateWithVariable('relation_gp')\"\n",
              "            title=\"Generate code using this dataframe.\"\n",
              "            style=\"display:none;\">\n",
              "\n",
              "  <svg xmlns=\"http://www.w3.org/2000/svg\" height=\"24px\"viewBox=\"0 0 24 24\"\n",
              "       width=\"24px\">\n",
              "    <path d=\"M7,19H8.4L18.45,9,17,7.55,7,17.6ZM5,21V16.75L18.45,3.32a2,2,0,0,1,2.83,0l1.4,1.43a1.91,1.91,0,0,1,.58,1.4,1.91,1.91,0,0,1-.58,1.4L9.25,21ZM18.45,9,17,7.55Zm-12,3A5.31,5.31,0,0,0,4.9,8.1,5.31,5.31,0,0,0,1,6.5,5.31,5.31,0,0,0,4.9,4.9,5.31,5.31,0,0,0,6.5,1,5.31,5.31,0,0,0,8.1,4.9,5.31,5.31,0,0,0,12,6.5,5.46,5.46,0,0,0,6.5,12Z\"/>\n",
              "  </svg>\n",
              "    </button>\n",
              "    <script>\n",
              "      (() => {\n",
              "      const buttonEl =\n",
              "        document.querySelector('#id_db9d18e5-acec-47b3-95f1-7c780b3ecaa0 button.colab-df-generate');\n",
              "      buttonEl.style.display =\n",
              "        google.colab.kernel.accessAllowed ? 'block' : 'none';\n",
              "\n",
              "      buttonEl.onclick = () => {\n",
              "        google.colab.notebook.generateWithVariable('relation_gp');\n",
              "      }\n",
              "      })();\n",
              "    </script>\n",
              "  </div>\n",
              "\n",
              "    </div>\n",
              "  </div>\n"
            ],
            "application/vnd.google.colaboratory.intrinsic+json": {
              "type": "dataframe",
              "variable_name": "relation_gp",
              "summary": "{\n  \"name\": \"relation_gp\",\n  \"rows\": 502,\n  \"fields\": [\n    {\n      \"column\": \"trade_date\",\n      \"properties\": {\n        \"dtype\": \"date\",\n        \"min\": \"2022-10-31\",\n        \"max\": \"2024-10-29\",\n        \"num_unique_values\": 502,\n        \"samples\": [\n          \"2023-11-24\",\n          \"2023-02-15\",\n          \"2023-12-26\"\n        ],\n        \"semantic_type\": \"\",\n        \"description\": \"\"\n      }\n    },\n    {\n      \"column\": \"prv_close\",\n      \"properties\": {\n        \"dtype\": \"number\",\n        \"std\": 27.502546870425757,\n        \"min\": 0.0,\n        \"max\": 236.48,\n        \"num_unique_values\": 488,\n        \"samples\": [\n          153.85,\n          170.29,\n          224.72\n        ],\n        \"semantic_type\": \"\",\n        \"description\": \"\"\n      }\n    },\n    {\n      \"column\": \"delta\",\n      \"properties\": {\n        \"dtype\": \"number\",\n        \"std\": 2.6489855324066593,\n        \"min\": -10.590000000000003,\n        \"max\": 14.030000000000001,\n        \"num_unique_values\": 404,\n        \"samples\": [\n          2.8400000000000034,\n          -2.5800000000000125,\n          -0.27000000000001023\n        ],\n        \"semantic_type\": \"\",\n        \"description\": \"\"\n      }\n    },\n    {\n      \"column\": \"close\",\n      \"properties\": {\n        \"dtype\": \"number\",\n        \"std\": 26.383598216469128,\n        \"min\": 125.02,\n        \"max\": 236.48,\n        \"num_unique_values\": 488,\n        \"samples\": [\n          153.2,\n          170.77,\n          226.05\n        ],\n        \"semantic_type\": \"\",\n        \"description\": \"\"\n      }\n    },\n    {\n      \"column\": \"open\",\n      \"properties\": {\n        \"dtype\": \"number\",\n        \"std\": 26.38381868958327,\n        \"min\": 126.01,\n        \"max\": 236.48,\n        \"num_unique_values\": 487,\n        \"samples\": [\n          153.11,\n          169.02,\n          225.72\n        ],\n        \"semantic_type\": \"\",\n        \"description\": \"\"\n      }\n    },\n    {\n      \"column\": \"high\",\n      \"properties\": {\n        \"dtype\": \"number\",\n        \"std\": 26.44471405171327,\n        \"min\": 127.77,\n        \"max\": 237.49,\n        \"num_unique_values\": 494,\n        \"samples\": [\n          225.48,\n          155.5,\n          186.95\n        ],\n        \"semantic_type\": \"\",\n        \"description\": \"\"\n      }\n    },\n    {\n      \"column\": \"low\",\n      \"properties\": {\n        \"dtype\": \"number\",\n        \"std\": 26.244930227190043,\n        \"min\": 124.17,\n        \"max\": 234.45,\n        \"num_unique_values\": 495,\n        \"samples\": [\n          217.48,\n          153.3475,\n          187.47\n        ],\n        \"semantic_type\": \"\",\n        \"description\": \"\"\n      }\n    },\n    {\n      \"column\": \"positive\",\n      \"properties\": {\n        \"dtype\": \"number\",\n        \"std\": 0.16493785001347447,\n        \"min\": 0.0,\n        \"max\": 1.0,\n        \"num_unique_values\": 119,\n        \"samples\": [\n          0.3076923076923077,\n          0.375,\n          0.21739130434782608\n        ],\n        \"semantic_type\": \"\",\n        \"description\": \"\"\n      }\n    },\n    {\n      \"column\": \"negative\",\n      \"properties\": {\n        \"dtype\": \"number\",\n        \"std\": 0.13409297739186787,\n        \"min\": 0.0,\n        \"max\": 0.7142857142857143,\n        \"num_unique_values\": 108,\n        \"samples\": [\n          0.4375,\n          0.18181818181818182,\n          0.35294117647058826\n        ],\n        \"semantic_type\": \"\",\n        \"description\": \"\"\n      }\n    },\n    {\n      \"column\": \"200_ma\",\n      \"properties\": {\n        \"dtype\": \"number\",\n        \"std\": 19.883145923883273,\n        \"min\": 0.0,\n        \"max\": 201.2938,\n        \"num_unique_values\": 502,\n        \"samples\": [\n          174.1444,\n          141.71260273972604,\n          178.64905000000002\n        ],\n        \"semantic_type\": \"\",\n        \"description\": \"\"\n      }\n    },\n    {\n      \"column\": \"50_ma\",\n      \"properties\": {\n        \"dtype\": \"number\",\n        \"std\": 25.15784363532599,\n        \"min\": 0.0,\n        \"max\": 226.9486,\n        \"num_unique_values\": 502,\n        \"samples\": [\n          177.7814,\n          139.6132,\n          185.39880000000002\n        ],\n        \"semantic_type\": \"\",\n        \"description\": \"\"\n      }\n    },\n    {\n      \"column\": \"all_score\",\n      \"properties\": {\n        \"dtype\": \"number\",\n        \"std\": 0.20317183475141348,\n        \"min\": -0.650344363280705,\n        \"max\": 0.8588529825210571,\n        \"num_unique_values\": 494,\n        \"samples\": [\n          0.6404755711555481,\n          0.15715775319508143,\n          0.3811770128576379\n        ],\n        \"semantic_type\": \"\",\n        \"description\": \"\"\n      }\n    },\n    {\n      \"column\": \"pos_score\",\n      \"properties\": {\n        \"dtype\": \"number\",\n        \"std\": 0.13520998585199767,\n        \"min\": 0.0,\n        \"max\": 0.8588529825210571,\n        \"num_unique_values\": 481,\n        \"samples\": [\n          0.35726384818553925,\n          0.3322283923625946,\n          0.1821948985258738\n        ],\n        \"semantic_type\": \"\",\n        \"description\": \"\"\n      }\n    },\n    {\n      \"column\": \"neg_score\",\n      \"properties\": {\n        \"dtype\": \"number\",\n        \"std\": 0.11643306535978856,\n        \"min\": -0.650344363280705,\n        \"max\": 0.00044859449068705004,\n        \"num_unique_values\": 441,\n        \"samples\": [\n          -0.12176796131663853,\n          -0.0964099645614624,\n          -0.16879734922857845\n        ],\n        \"semantic_type\": \"\",\n        \"description\": \"\"\n      }\n    },\n    {\n      \"column\": \"pos_mean\",\n      \"properties\": {\n        \"dtype\": \"number\",\n        \"std\": 0.18122332025269489,\n        \"min\": 0.0,\n        \"max\": 0.9507123827934264,\n        \"num_unique_values\": 481,\n        \"samples\": [\n          0.8574332356452942,\n          0.8543015803609576,\n          0.7287795941034952\n        ],\n        \"semantic_type\": \"\",\n        \"description\": \"\"\n      }\n    },\n    {\n      \"column\": \"neg_mean\",\n      \"properties\": {\n        \"dtype\": \"number\",\n        \"std\": 0.2932683911936176,\n        \"min\": -0.9745922684669496,\n        \"max\": 0.0053831338882446,\n        \"num_unique_values\": 441,\n        \"samples\": [\n          -0.7306077678998312,\n          -0.482049822807312,\n          -0.956518312295278\n        ],\n        \"semantic_type\": \"\",\n        \"description\": \"\"\n      }\n    }\n  ]\n}"
            }
          },
          "metadata": {},
          "execution_count": 1880
        }
      ],
      "source": [
        "relation_gp = prepare_data(ticker='AAPL')\n",
        "relation_gp"
      ]
    },
    {
      "cell_type": "code",
      "execution_count": 1881,
      "metadata": {
        "id": "vDeG4qKdJmiQ"
      },
      "outputs": [],
      "source": [
        "def test_relevance(cols):\n",
        "    X, y = relation_gp[cols], relation_gp['delta']\n",
        "    model = LinearRegression()\n",
        "    model.fit(X, y)\n",
        "\n",
        "    # Make predictions\n",
        "    y_pred = model.predict(X)\n",
        "\n",
        "    # Evaluate the model\n",
        "    mse = mean_squared_error(y, y_pred)\n",
        "    r2 = r2_score(y, y_pred)\n",
        "    return mse, r2, model.coef_"
      ]
    },
    {
      "cell_type": "code",
      "execution_count": 1882,
      "metadata": {
        "id": "nloOpRe5JmiQ",
        "outputId": "653aa3a7-f2df-4409-c5ac-585d099375d1",
        "colab": {
          "base_uri": "https://localhost:8080/"
        }
      },
      "outputs": [
        {
          "output_type": "execute_result",
          "data": {
            "text/plain": [
              "(6.818201284096953, 0.02640880698933079, array([-3.21031719]))"
            ]
          },
          "metadata": {},
          "execution_count": 1882
        }
      ],
      "source": [
        "test_relevance(['negative'])"
      ]
    },
    {
      "cell_type": "code",
      "execution_count": 1883,
      "metadata": {
        "id": "EDbbMA6yJmiQ",
        "outputId": "d1c226d9-8866-4477-8dfa-23514949120c",
        "colab": {
          "base_uri": "https://localhost:8080/"
        }
      },
      "outputs": [
        {
          "output_type": "execute_result",
          "data": {
            "text/plain": [
              "((6.736621940179093, 0.03805776357781865, array([2.54353499])),)"
            ]
          },
          "metadata": {},
          "execution_count": 1883
        }
      ],
      "source": [
        "test_relevance(['all_score']),"
      ]
    },
    {
      "cell_type": "code",
      "execution_count": 1884,
      "metadata": {
        "id": "4M0hLEmNJmiQ",
        "outputId": "bce94acd-4366-49e9-833b-af575614e8a6",
        "colab": {
          "base_uri": "https://localhost:8080/"
        }
      },
      "outputs": [
        {
          "output_type": "execute_result",
          "data": {
            "text/plain": [
              "(6.853155119499482, 0.02141764511365818, array([2.86719135]))"
            ]
          },
          "metadata": {},
          "execution_count": 1884
        }
      ],
      "source": [
        "test_relevance(['pos_score'])"
      ]
    },
    {
      "cell_type": "code",
      "execution_count": 1885,
      "metadata": {
        "id": "gJo22-IhJmiR",
        "outputId": "03409bc2-f38a-4e30-e7c5-9d674ce4e452",
        "colab": {
          "base_uri": "https://localhost:8080/"
        }
      },
      "outputs": [
        {
          "output_type": "execute_result",
          "data": {
            "text/plain": [
              "(6.799643484522392, 0.029058730257156884, array([3.87830153]))"
            ]
          },
          "metadata": {},
          "execution_count": 1885
        }
      ],
      "source": [
        "test_relevance(['neg_score'])"
      ]
    },
    {
      "cell_type": "code",
      "execution_count": 1886,
      "metadata": {
        "id": "DVsnSuYYJmiR",
        "outputId": "ea783e52-0b8b-4cf8-f5b4-a9ee1ccb292d",
        "colab": {
          "base_uri": "https://localhost:8080/"
        }
      },
      "outputs": [
        {
          "output_type": "execute_result",
          "data": {
            "text/plain": [
              "(6.818157827214848, 0.02641501232647614, array([-3.17721773,  0.02711697]))"
            ]
          },
          "metadata": {},
          "execution_count": 1886
        }
      ],
      "source": [
        "test_relevance(['negative', 'neg_mean'])"
      ]
    },
    {
      "cell_type": "code",
      "execution_count": 1887,
      "metadata": {
        "id": "-rcqqqZnJmiR",
        "outputId": "d5b3e65c-4baf-4b0b-ba58-9cf5d73502d1",
        "colab": {
          "base_uri": "https://localhost:8080/"
        }
      },
      "outputs": [
        {
          "output_type": "execute_result",
          "data": {
            "text/plain": [
              "(6.751657933019468, 0.035910729543827236, array([ 1.66057666, -2.52924482]))"
            ]
          },
          "metadata": {},
          "execution_count": 1887
        }
      ],
      "source": [
        "test_relevance(['positive', 'negative'])"
      ]
    },
    {
      "cell_type": "code",
      "execution_count": 1888,
      "metadata": {
        "id": "IXuLLqwCJmiS",
        "outputId": "a835b969-0ae3-4bfe-a27e-26f81ff66958",
        "colab": {
          "base_uri": "https://localhost:8080/"
        }
      },
      "outputs": [
        {
          "output_type": "execute_result",
          "data": {
            "text/plain": [
              "(6.729850348260034, 0.039024699281291375, array([2.05014963, 3.16447434]))"
            ]
          },
          "metadata": {},
          "execution_count": 1888
        }
      ],
      "source": [
        "test_relevance(['pos_score', 'neg_score'])"
      ]
    },
    {
      "cell_type": "code",
      "execution_count": 1889,
      "metadata": {
        "id": "TzLWMsjPJmiS",
        "outputId": "84b85ef1-70e8-47f2-b04b-ced21ba27cfd",
        "colab": {
          "base_uri": "https://localhost:8080/",
          "height": 450
        }
      },
      "outputs": [
        {
          "output_type": "execute_result",
          "data": {
            "text/plain": [
              "<matplotlib.collections.PathCollection at 0x79f40dd4b5e0>"
            ]
          },
          "metadata": {},
          "execution_count": 1889
        },
        {
          "output_type": "display_data",
          "data": {
            "text/plain": [
              "<Figure size 640x480 with 1 Axes>"
            ],
            "image/png": "[encoded data removed]"
          },
          "metadata": {}
        }
      ],
      "source": [
        "import matplotlib.pyplot as plt\n",
        "\n",
        "plt.scatter(relation_gp['all_score'], relation_gp['delta'], color='blue', alpha=0.7)"
      ]
    },
    {
      "cell_type": "code",
      "execution_count": 1890,
      "metadata": {
        "id": "qeMrZhPWJmiS"
      },
      "outputs": [],
      "source": [
        "def preprocess(relation_gp, feat_cols, offset=0):\n",
        "    seq_length = 50\n",
        "    std_scaler = StandardScaler()\n",
        "    df = pd.DataFrame()\n",
        "    df[feat_cols] = std_scaler.fit_transform(relation_gp[feat_cols])\n",
        "\n",
        "    X = []\n",
        "    y = []\n",
        "    for i in range(seq_length+offset, len(df)):\n",
        "        X.append(df.iloc[i-seq_length:i])\n",
        "        y.append(df.iloc[i, -1])\n",
        "    X = torch.tensor(np.array(X), dtype=torch.float32).to(device)\n",
        "    y = torch.tensor(np.array(y), dtype=torch.float32).unsqueeze(1).to(device)\n",
        "\n",
        "    split_index = int(len(X) * 0.95)\n",
        "    X, X_test = X[:split_index], X[split_index:]\n",
        "    y, y_test = y[:split_index], y[split_index:]\n",
        "    X_train, X_val, y_train, y_val = train_test_split(X, y, test_size=0.05)\n",
        "\n",
        "    return X, y, X_train, X_val, X_test, y_train, y_val, y_test"
      ]
    },
    {
      "cell_type": "code",
      "execution_count": 1891,
      "metadata": {
        "id": "QaVe5bZ0JmiS"
      },
      "outputs": [],
      "source": [
        "class SimpleLSTM(nn.Module):\n",
        "    def __init__(self, feat_size, layers, dropout):\n",
        "        super(SimpleLSTM, self).__init__()\n",
        "        self.fc1 = nn.Linear(feat_size[0], feat_size[1])\n",
        "        self.lstm = nn.LSTM(feat_size[1], feat_size[2], num_layers=layers, dropout=dropout, batch_first=True)\n",
        "        self.fc2 = nn.Linear(feat_size[2], feat_size[3])\n",
        "\n",
        "    def forward(self, x):\n",
        "        inp = self.fc1(x)\n",
        "        lstm_out, (hn, cn) = self.lstm(inp)\n",
        "        out = self.fc2(hn[-1])\n",
        "        return out"
      ]
    },
    {
      "cell_type": "code",
      "execution_count": 1892,
      "metadata": {
        "id": "KCWODIBPJmiS",
        "outputId": "41c3c15d-e297-41d3-f9de-8da66202ebb9",
        "colab": {
          "base_uri": "https://localhost:8080/"
        }
      },
      "outputs": [
        {
          "output_type": "execute_result",
          "data": {
            "text/plain": [
              "(torch.Size([407, 50, 4]),\n",
              " torch.Size([22, 50, 4]),\n",
              " torch.Size([23, 50, 4]),\n",
              " torch.Size([407, 1]),\n",
              " torch.Size([22, 1]),\n",
              " torch.Size([23, 1]))"
            ]
          },
          "metadata": {},
          "execution_count": 1892
        }
      ],
      "source": [
        "feat_cols = ['neg_score', 'prv_close', '50_ma', 'delta']\n",
        "model = SimpleLSTM(feat_size=[len(feat_cols), 32, 64, 1], layers=2, dropout=0.5).to(device)\n",
        "criterion = nn.MSELoss()\n",
        "optimizer = optim.Adam(model.parameters(), lr=0.001)\n",
        "X, y, X_train, X_val, X_test, y_train, y_val, y_test = preprocess(relation_gp, feat_cols)\n",
        "X_train.shape, X_val.shape, X_test.shape, y_train.shape, y_val.shape, y_test.shape"
      ]
    },
    {
      "cell_type": "code",
      "execution_count": 1893,
      "metadata": {
        "id": "GYY17Mh6JmiT",
        "outputId": "f7dc9dd0-7ce3-46d2-f596-93baba88bce7",
        "colab": {
          "base_uri": "https://localhost:8080/"
        }
      },
      "outputs": [
        {
          "output_type": "stream",
          "name": "stdout",
          "text": [
            "Epoch 9, Train Loss: 0.9276, Val Loss: 0.6108, Test Loss: 1.2799\n",
            "Epoch 19, Train Loss: 0.9170, Val Loss: 0.6655, Test Loss: 1.3101\n",
            "Epoch 29, Train Loss: 0.9082, Val Loss: 0.6740, Test Loss: 1.2963\n",
            "Epoch 39, Train Loss: 0.8837, Val Loss: 0.7311, Test Loss: 1.2561\n",
            "Epoch 49, Train Loss: 0.8482, Val Loss: 0.7245, Test Loss: 1.3451\n",
            "Epoch 59, Train Loss: 0.8164, Val Loss: 0.7133, Test Loss: 1.3560\n",
            "Epoch 69, Train Loss: 0.8050, Val Loss: 0.7494, Test Loss: 1.3317\n",
            "Epoch 79, Train Loss: 0.7927, Val Loss: 0.7497, Test Loss: 1.3319\n",
            "Epoch 89, Train Loss: 0.7669, Val Loss: 0.7600, Test Loss: 1.3437\n",
            "Epoch 99, Train Loss: 0.7435, Val Loss: 0.8326, Test Loss: 1.3363\n",
            "Epoch 109, Train Loss: 0.7193, Val Loss: 0.8637, Test Loss: 1.3542\n",
            "Epoch 119, Train Loss: 0.7065, Val Loss: 0.8281, Test Loss: 1.4747\n",
            "Epoch 129, Train Loss: 0.6788, Val Loss: 0.8896, Test Loss: 1.8034\n",
            "Epoch 139, Train Loss: 0.6593, Val Loss: 0.9570, Test Loss: 2.0714\n",
            "Epoch 149, Train Loss: 0.6346, Val Loss: 1.0204, Test Loss: 2.2444\n",
            "Epoch 159, Train Loss: 0.6170, Val Loss: 1.0280, Test Loss: 2.3422\n",
            "Epoch 169, Train Loss: 0.5989, Val Loss: 1.0737, Test Loss: 2.6649\n",
            "Epoch 179, Train Loss: 0.5849, Val Loss: 1.1374, Test Loss: 2.5568\n",
            "Epoch 189, Train Loss: 0.5779, Val Loss: 1.0994, Test Loss: 2.8332\n",
            "Epoch 199, Train Loss: 0.5649, Val Loss: 1.2257, Test Loss: 2.6454\n",
            "Epoch 209, Train Loss: 0.5443, Val Loss: 1.1062, Test Loss: 3.0386\n",
            "Epoch 219, Train Loss: 0.5276, Val Loss: 1.1935, Test Loss: 3.0603\n",
            "Epoch 229, Train Loss: 0.5155, Val Loss: 1.2250, Test Loss: 3.1975\n",
            "Epoch 239, Train Loss: 0.4997, Val Loss: 1.1562, Test Loss: 2.9723\n",
            "Epoch 249, Train Loss: 0.5085, Val Loss: 1.1498, Test Loss: 2.7252\n",
            "Epoch 259, Train Loss: 0.4796, Val Loss: 1.1968, Test Loss: 2.9305\n",
            "Epoch 269, Train Loss: 0.4725, Val Loss: 1.2180, Test Loss: 2.9186\n",
            "Epoch 279, Train Loss: 0.4562, Val Loss: 1.2187, Test Loss: 3.0568\n",
            "Epoch 289, Train Loss: 0.4502, Val Loss: 1.1859, Test Loss: 2.7223\n",
            "Epoch 299, Train Loss: 0.4325, Val Loss: 1.1916, Test Loss: 2.4353\n",
            "Epoch 309, Train Loss: 0.4176, Val Loss: 1.1554, Test Loss: 2.1614\n",
            "Epoch 319, Train Loss: 0.4103, Val Loss: 1.2135, Test Loss: 1.9572\n",
            "Epoch 329, Train Loss: 0.3853, Val Loss: 1.1528, Test Loss: 1.8638\n",
            "Epoch 339, Train Loss: 0.3790, Val Loss: 1.1620, Test Loss: 1.9734\n",
            "Epoch 349, Train Loss: 0.3688, Val Loss: 1.1535, Test Loss: 1.9062\n",
            "Epoch 359, Train Loss: 0.3581, Val Loss: 1.1794, Test Loss: 1.9617\n",
            "Epoch 369, Train Loss: 0.3447, Val Loss: 1.1373, Test Loss: 1.9451\n",
            "Epoch 379, Train Loss: 0.3287, Val Loss: 1.1563, Test Loss: 2.0190\n",
            "Epoch 389, Train Loss: 0.3241, Val Loss: 1.1239, Test Loss: 1.8649\n",
            "Epoch 399, Train Loss: 0.3261, Val Loss: 1.1237, Test Loss: 1.9398\n",
            "Epoch 409, Train Loss: 0.3150, Val Loss: 1.1518, Test Loss: 1.9812\n",
            "Epoch 419, Train Loss: 0.2995, Val Loss: 1.1501, Test Loss: 1.8769\n",
            "Epoch 429, Train Loss: 0.2967, Val Loss: 1.1139, Test Loss: 1.9217\n",
            "Epoch 439, Train Loss: 0.2831, Val Loss: 1.1309, Test Loss: 1.8799\n",
            "Epoch 449, Train Loss: 0.2789, Val Loss: 1.1397, Test Loss: 1.8740\n",
            "Epoch 459, Train Loss: 0.2742, Val Loss: 1.1324, Test Loss: 1.7887\n",
            "Epoch 469, Train Loss: 0.2648, Val Loss: 1.1087, Test Loss: 1.8266\n",
            "Epoch 479, Train Loss: 0.2569, Val Loss: 1.0939, Test Loss: 1.8352\n",
            "Epoch 489, Train Loss: 0.2561, Val Loss: 1.0933, Test Loss: 1.9293\n",
            "Epoch 499, Train Loss: 0.2540, Val Loss: 1.0802, Test Loss: 1.9152\n",
            "Epoch 509, Train Loss: 0.2489, Val Loss: 1.0611, Test Loss: 1.8674\n",
            "Epoch 519, Train Loss: 0.2443, Val Loss: 1.0645, Test Loss: 1.7714\n",
            "Epoch 529, Train Loss: 0.2291, Val Loss: 1.0817, Test Loss: 1.7616\n",
            "Epoch 539, Train Loss: 0.2310, Val Loss: 1.0832, Test Loss: 1.7538\n",
            "Epoch 549, Train Loss: 0.2202, Val Loss: 1.0448, Test Loss: 1.6931\n",
            "Epoch 559, Train Loss: 0.2215, Val Loss: 1.0857, Test Loss: 1.7908\n",
            "Epoch 569, Train Loss: 0.2089, Val Loss: 1.0655, Test Loss: 1.7386\n",
            "Epoch 579, Train Loss: 0.2071, Val Loss: 1.0919, Test Loss: 1.7557\n",
            "Epoch 589, Train Loss: 0.1902, Val Loss: 1.0925, Test Loss: 1.7470\n",
            "Epoch 599, Train Loss: 0.1926, Val Loss: 1.0170, Test Loss: 1.7053\n",
            "Epoch 609, Train Loss: 0.1821, Val Loss: 1.0585, Test Loss: 1.7140\n",
            "Epoch 619, Train Loss: 0.1827, Val Loss: 1.0525, Test Loss: 1.6748\n",
            "Epoch 629, Train Loss: 0.1838, Val Loss: 1.1094, Test Loss: 1.7121\n",
            "Epoch 639, Train Loss: 0.1785, Val Loss: 1.0779, Test Loss: 1.6503\n",
            "Epoch 649, Train Loss: 0.1686, Val Loss: 1.0699, Test Loss: 1.7007\n",
            "Epoch 659, Train Loss: 0.1606, Val Loss: 1.0993, Test Loss: 1.7066\n",
            "Epoch 669, Train Loss: 0.1531, Val Loss: 1.0601, Test Loss: 1.6991\n",
            "Epoch 679, Train Loss: 0.1535, Val Loss: 1.0716, Test Loss: 1.6288\n",
            "Epoch 689, Train Loss: 0.1524, Val Loss: 1.0814, Test Loss: 1.5694\n",
            "Epoch 699, Train Loss: 0.1437, Val Loss: 1.0597, Test Loss: 1.5927\n",
            "Epoch 709, Train Loss: 0.1424, Val Loss: 1.0858, Test Loss: 1.5586\n",
            "Epoch 719, Train Loss: 0.1375, Val Loss: 1.1050, Test Loss: 1.5622\n",
            "Epoch 729, Train Loss: 0.1300, Val Loss: 1.1471, Test Loss: 1.5672\n",
            "Epoch 739, Train Loss: 0.1291, Val Loss: 1.1247, Test Loss: 1.5295\n",
            "Epoch 749, Train Loss: 0.1218, Val Loss: 1.0952, Test Loss: 1.5424\n",
            "Epoch 759, Train Loss: 0.1215, Val Loss: 1.0872, Test Loss: 1.5193\n",
            "Epoch 769, Train Loss: 0.1174, Val Loss: 1.0923, Test Loss: 1.5168\n",
            "Epoch 779, Train Loss: 0.1131, Val Loss: 1.1147, Test Loss: 1.5134\n",
            "Epoch 789, Train Loss: 0.1118, Val Loss: 1.1039, Test Loss: 1.4789\n",
            "Epoch 799, Train Loss: 0.1059, Val Loss: 1.0915, Test Loss: 1.3930\n",
            "Epoch 809, Train Loss: 0.1084, Val Loss: 1.0841, Test Loss: 1.4561\n",
            "Epoch 819, Train Loss: 0.0948, Val Loss: 1.1509, Test Loss: 1.4431\n",
            "Epoch 829, Train Loss: 0.1003, Val Loss: 1.1188, Test Loss: 1.4596\n",
            "Epoch 839, Train Loss: 0.0965, Val Loss: 1.0803, Test Loss: 1.4449\n",
            "Epoch 849, Train Loss: 0.0940, Val Loss: 1.0891, Test Loss: 1.3759\n",
            "Epoch 859, Train Loss: 0.0895, Val Loss: 1.0730, Test Loss: 1.3719\n",
            "Epoch 869, Train Loss: 0.0887, Val Loss: 1.0997, Test Loss: 1.4252\n",
            "Epoch 879, Train Loss: 0.0848, Val Loss: 1.0710, Test Loss: 1.4275\n",
            "Epoch 889, Train Loss: 0.0847, Val Loss: 1.0796, Test Loss: 1.3646\n",
            "Epoch 899, Train Loss: 0.0782, Val Loss: 1.1076, Test Loss: 1.3618\n",
            "Epoch 909, Train Loss: 0.0828, Val Loss: 1.1089, Test Loss: 1.3038\n",
            "Epoch 919, Train Loss: 0.0755, Val Loss: 1.0853, Test Loss: 1.3441\n",
            "Epoch 929, Train Loss: 0.0767, Val Loss: 1.1095, Test Loss: 1.3322\n",
            "Epoch 939, Train Loss: 0.0742, Val Loss: 1.0878, Test Loss: 1.3260\n",
            "Epoch 949, Train Loss: 0.0737, Val Loss: 1.0977, Test Loss: 1.3201\n",
            "Epoch 959, Train Loss: 0.0691, Val Loss: 1.0623, Test Loss: 1.3354\n",
            "Epoch 969, Train Loss: 0.0715, Val Loss: 1.0767, Test Loss: 1.3067\n",
            "Epoch 979, Train Loss: 0.0681, Val Loss: 1.0912, Test Loss: 1.2754\n",
            "Epoch 989, Train Loss: 0.0653, Val Loss: 1.1105, Test Loss: 1.3341\n",
            "Epoch 999, Train Loss: 0.0615, Val Loss: 1.1167, Test Loss: 1.3198\n"
          ]
        }
      ],
      "source": [
        "num_epochs = 1000\n",
        "train_loss = []\n",
        "val_loss = []\n",
        "test_loss = []\n",
        "for epoch in range(num_epochs):\n",
        "    model.train()\n",
        "    optimizer.zero_grad()\n",
        "    outputs = model(X_train)\n",
        "    loss = criterion(outputs, y_train)\n",
        "    loss.backward()\n",
        "    optimizer.step()\n",
        "    model.eval()\n",
        "    with torch.no_grad():\n",
        "        train_loss.append(loss.item())\n",
        "        val_loss.append(criterion(model(X_val), y_val).item())\n",
        "        test_loss.append(criterion(model(X_test), y_test).item())\n",
        "        if len(train_loss) >= 10:\n",
        "            print(f\"Epoch {epoch}, Train Loss: {np.mean(train_loss):.4f}, Val Loss: {np.mean(val_loss):.4f}, Test Loss: {np.mean(test_loss):.4f}\")\n",
        "            train_loss.clear()\n",
        "            val_loss.clear()\n",
        "            test_loss.clear()\n",
        ""
      ]
    },
    {
      "cell_type": "code",
      "execution_count": 1894,
      "metadata": {
        "id": "V-rYCU_DJmiT",
        "outputId": "b7f8fb28-258d-41cb-d268-b0ff8d783d31",
        "colab": {
          "base_uri": "https://localhost:8080/"
        }
      },
      "outputs": [
        {
          "output_type": "stream",
          "name": "stdout",
          "text": [
            "Test Loss: 1.3212\n",
            "Std: 1.1405\n",
            "Error Range: 1.0078\n"
          ]
        }
      ],
      "source": [
        "model.eval()\n",
        "\n",
        "with torch.no_grad():\n",
        "    outputs = model(X_test)\n",
        "    loss = criterion(outputs, y_test)\n",
        "    std = y_test.std()\n",
        "    print(f'Test Loss: {loss.item():.4f}')\n",
        "    print(f'Std: {std:.4f}')\n",
        "    print(f'Error Range: {loss.sqrt() / std:.4f}')"
      ]
    },
    {
      "cell_type": "code",
      "execution_count": 1895,
      "metadata": {
        "id": "wXagcfMoJmiT"
      },
      "outputs": [],
      "source": [
        "def visualize(pred, ref, limit=1000):\n",
        "    time = np.arange(len(pred))\n",
        "\n",
        "    plt.plot(time[-limit:], pred[-limit:], label='Predicted Price', color='blue')\n",
        "    plt.plot(time[-limit:], ref[-limit:], label='Real Price', color='orange')\n",
        "    plt.xlabel('Trade Day')\n",
        "    plt.ylabel('Value')\n",
        "    plt.grid(True)\n",
        "    plt.legend()\n",
        "\n",
        "    plt.tight_layout()\n",
        "    plt.show()"
      ]
    },
    {
      "cell_type": "code",
      "source": [
        "y_ref1 = y.squeeze().cpu()\n",
        "with torch.no_grad():\n",
        "    y_pred1 = model(X).squeeze().cpu()\n",
        "visualize(y_pred1, y_ref1, 100)\n",
        "np.corrcoef(y_pred1, y_ref1)"
      ],
      "metadata": {
        "colab": {
          "base_uri": "https://localhost:8080/",
          "height": 523
        },
        "id": "ZO8ThK7kUpsJ",
        "outputId": "f3eff0cb-4046-449d-ae1f-62e281fdc7cf"
      },
      "execution_count": 1896,
      "outputs": [
        {
          "output_type": "display_data",
          "data": {
            "text/plain": [
              "<Figure size 640x480 with 1 Axes>"
            ],
            "image/png": "[encoded data removed]"
          },
          "metadata": {}
        },
        {
          "output_type": "execute_result",
          "data": {
            "text/plain": [
              "array([[1.        , 0.95861923],\n",
              "       [0.95861923, 1.        ]])"
            ]
          },
          "metadata": {},
          "execution_count": 1896
        }
      ]
    },
    {
      "cell_type": "code",
      "execution_count": 1897,
      "metadata": {
        "id": "300a12eqJmiT",
        "outputId": "c060643c-2d52-46e7-d282-e86bbfcaaeb7",
        "colab": {
          "base_uri": "https://localhost:8080/",
          "height": 523
        }
      },
      "outputs": [
        {
          "output_type": "display_data",
          "data": {
            "text/plain": [
              "<Figure size 640x480 with 1 Axes>"
            ],
            "image/png": "[encoded data removed]"
          },
          "metadata": {}
        },
        {
          "output_type": "execute_result",
          "data": {
            "text/plain": [
              "array([[1.        , 0.42452712],\n",
              "       [0.42452712, 1.        ]])"
            ]
          },
          "metadata": {},
          "execution_count": 1897
        }
      ],
      "source": [
        "y_ref2 = y_test.squeeze().cpu()\n",
        "with torch.no_grad():\n",
        "    y_pred2 = model(X_test).squeeze().cpu()\n",
        "visualize(y_pred2, y_ref2)\n",
        "np.corrcoef(y_pred2, y_ref2)"
      ]
    },
    {
      "cell_type": "code",
      "execution_count": 1898,
      "metadata": {
        "id": "BXeCK6vWJmiT",
        "outputId": "647ad473-eaae-42df-f2da-aae0f77cf091",
        "colab": {
          "base_uri": "https://localhost:8080/"
        }
      },
      "outputs": [
        {
          "output_type": "execute_result",
          "data": {
            "text/plain": [
              "(tensor(0.2006), tensor(0.7008))"
            ]
          },
          "metadata": {},
          "execution_count": 1898
        }
      ],
      "source": [
        "aveg_error1 = np.abs(y_pred1 - y_ref1).mean()\n",
        "aveg_delta1 = np.abs(y_ref1).mean()\n",
        "aveg_error1 / aveg_delta1, aveg_delta1"
      ]
    },
    {
      "cell_type": "code",
      "execution_count": 1899,
      "metadata": {
        "id": "sDJW0yPhJmiT",
        "colab": {
          "base_uri": "https://localhost:8080/"
        },
        "outputId": "fc657980-ef73-44ac-de75-a9535c913f0d"
      },
      "outputs": [
        {
          "output_type": "execute_result",
          "data": {
            "text/plain": [
              "(tensor(1.0554), tensor(0.8430))"
            ]
          },
          "metadata": {},
          "execution_count": 1899
        }
      ],
      "source": [
        "aveg_error2 = np.abs(y_pred2 - y_ref2).mean()\n",
        "aveg_delta2 = np.abs(y_ref2).mean()\n",
        "aveg_error2 / aveg_delta2, aveg_delta2"
      ]
    },
    {
      "cell_type": "code",
      "execution_count": 1899,
      "metadata": {
        "id": "bSq15SjdJmiU"
      },
      "outputs": [],
      "source": []
    }
  ],
  "metadata": {
    "kernelspec": {
      "display_name": "Python 3",
      "name": "python3"
    },
    "language_info": {
      "codemirror_mode": {
        "name": "ipython",
        "version": 3
      },
      "file_extension": ".py",
      "mimetype": "text/x-python",
      "name": "python",
      "nbconvert_exporter": "python",
      "pygments_lexer": "ipython3",
      "version": "3.12.4"
    },
    "colab": {
      "provenance": [],
      "gpuType": "T4"
    },
    "accelerator": "GPU"
  },
  "nbformat": 4,
  "nbformat_minor": 0
}