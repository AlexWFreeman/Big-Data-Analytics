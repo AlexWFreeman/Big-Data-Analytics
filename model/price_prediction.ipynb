{
  "cells": [
    {
      "cell_type": "code",
      "execution_count": 1018,
      "metadata": {
        "id": "9fN6b8GTJmiM"
      },
      "outputs": [],
      "source": [
        "import numpy as np\n",
        "import pandas as pd\n",
        "from sklearn.model_selection import train_test_split\n",
        "from sklearn.linear_model import LinearRegression\n",
        "from sklearn.metrics import mean_squared_error, r2_score\n",
        "from sklearn.preprocessing import MinMaxScaler, StandardScaler\n",
        "import torch\n",
        "import torch.nn as nn\n",
        "import torch.optim as optim"
      ]
    },
    {
      "cell_type": "code",
      "execution_count": 1019,
      "metadata": {
        "colab": {
          "base_uri": "https://localhost:8080/"
        },
        "id": "LxwTA9LjLFY7",
        "outputId": "30ea0412-7f30-4297-a3eb-33fc5a207cc4"
      },
      "outputs": [
        {
          "output_type": "stream",
          "name": "stdout",
          "text": [
            "Drive already mounted at /content/drive; to attempt to forcibly remount, call drive.mount(\"/content/drive\", force_remount=True).\n"
          ]
        }
      ],
      "source": [
        "from google.colab import drive\n",
        "drive.mount('/content/drive')\n",
        "device = torch.device(\"cuda\" if torch.cuda.is_available() else \"cpu\")"
      ]
    },
    {
      "cell_type": "code",
      "execution_count": 1020,
      "metadata": {
        "id": "P3w0qAeFJmiO"
      },
      "outputs": [],
      "source": [
        "def label_count(label):\n",
        "    def func(series):\n",
        "        return series.isin(label).sum() / series.count()\n",
        "    return func"
      ]
    },
    {
      "cell_type": "code",
      "execution_count": 1021,
      "metadata": {
        "id": "onnwnm-vJmiO"
      },
      "outputs": [],
      "source": [
        "def prepare_data(ticker):\n",
        "    base_path = \"/content/drive/My Drive\"\n",
        "    stock_price = pd.read_csv(f\"{base_path}/dataset/stocks/{ticker}.csv\")\n",
        "    stock_price['time'] = pd.to_datetime(stock_price['time'])\n",
        "    stock_price['trade_date'] = stock_price['time'].dt.date\n",
        "    stock_price['delta'] = stock_price['close'].diff()\n",
        "\n",
        "    stock_price['prv_close'] = stock_price['close'].shift(periods=1, fill_value=None)\n",
        "    stock_price['200_ma'] = stock_price['prv_close'].rolling(window=200, min_periods=1).mean()\n",
        "    stock_price['50_ma'] = stock_price['prv_close'].rolling(window=50, min_periods=1).mean()\n",
        "\n",
        "    stock_news = pd.read_csv(f\"{base_path}/dataset/polygon_title_sentiment_3/{ticker}_title_sentiments.csv\")\n",
        "    stock_news['time'] = pd.to_datetime(stock_news['time'])\n",
        "    stock_news['trade_date'] = (stock_news['time'] + pd.to_timedelta(0, unit='h')).dt.date\n",
        "\n",
        "    stock_news['neg_score'] = stock_news['sentiment_score']\n",
        "    stock_news.loc[stock_news['sentiment'] != 'negative', 'neg_score'] = 0.0\n",
        "    stock_news['pos_score'] = stock_news['sentiment_score']\n",
        "    stock_news.loc[stock_news['sentiment'] != 'positive', 'pos_score'] = 0.0\n",
        "    stock_news['neg_mean'] = stock_news['sentiment_score']\n",
        "    stock_news.loc[stock_news['sentiment'] != 'negative', 'neg_mean'] = np.nan\n",
        "    stock_news['pos_mean'] = stock_news['sentiment_score']\n",
        "    stock_news.loc[stock_news['sentiment'] != 'positive', 'pos_mean'] = np.nan\n",
        "\n",
        "    news_comb = pd.merge(stock_price, stock_news, how='left', on='trade_date')\n",
        "    df_gp = news_comb.groupby('trade_date').agg({\n",
        "        'prv_close': 'first', 'delta': 'first', 'close': 'first', 'open': 'first', 'high': 'first', 'low': 'first',\n",
        "        'sentiment': [label_count(['positive']), label_count(['negative'])], '200_ma': 'first', '50_ma': 'first',\n",
        "        'sentiment_score': 'mean', 'pos_score': 'mean', 'neg_score': 'mean', 'pos_mean': 'mean', 'neg_mean': 'mean'\n",
        "    }).fillna(0.0).reset_index()\n",
        "    df_gp.columns = ['trade_date', 'prv_close', 'delta', 'close', 'open', 'high', 'low', 'positive', 'negative',\n",
        "                           '200_ma', '50_ma', 'all_score', 'pos_score', 'neg_score', 'pos_mean', 'neg_mean']\n",
        "    return df_gp"
      ]
    },
    {
      "cell_type": "code",
      "execution_count": 1022,
      "metadata": {
        "colab": {
          "base_uri": "https://localhost:8080/",
          "height": 479
        },
        "id": "l6Biq6cAJmiP",
        "outputId": "a20957ad-ae9f-45fa-e868-15f2927e03a3"
      },
      "outputs": [
        {
          "output_type": "stream",
          "name": "stderr",
          "text": [
            "<ipython-input-1020-cc6a419d00d3>:3: RuntimeWarning: invalid value encountered in scalar divide\n",
            "  return series.isin(label).sum() / series.count()\n"
          ]
        },
        {
          "output_type": "execute_result",
          "data": {
            "text/plain": [
              "     trade_date  prv_close  delta   close     open      high      low  \\\n",
              "0    2022-10-31       0.00   0.00  102.44  103.560  104.8700  100.740   \n",
              "1    2022-11-01     102.44  -5.65   96.79  103.990  104.5800   96.060   \n",
              "2    2022-11-02      96.79  -4.67   92.12   97.315   97.7400   92.010   \n",
              "3    2022-11-03      92.12  -2.82   89.30   92.470   93.5000   89.020   \n",
              "4    2022-11-04      89.30   1.68   90.98   91.490   92.4400   88.040   \n",
              "..          ...        ...    ...     ...      ...       ...      ...   \n",
              "497  2024-10-23     189.70  -4.99  184.71  188.850  189.1600  183.690   \n",
              "498  2024-10-24     184.71   1.67  186.38  185.250  187.1100  183.860   \n",
              "499  2024-10-25     186.38   1.45  187.83  187.850  190.4500  187.530   \n",
              "500  2024-10-28     187.83   0.56  188.39  189.565  190.2100  188.210   \n",
              "501  2024-10-29     188.39   2.44  190.83  188.580  191.4599  187.815   \n",
              "\n",
              "     positive  negative      200_ma       50_ma  all_score  pos_score  \\\n",
              "0    0.294118  0.235294    0.000000    0.000000   0.044923   0.229039   \n",
              "1    0.206897  0.310345  102.440000  102.440000  -0.073781   0.169824   \n",
              "2    0.238095  0.380952   99.615000   99.615000  -0.150809   0.211836   \n",
              "3    0.157895  0.315789   97.116667   97.116667  -0.152280   0.110308   \n",
              "4    0.222222  0.444444   95.162500   95.162500  -0.206518   0.152944   \n",
              "..        ...       ...         ...         ...        ...        ...   \n",
              "497  0.285714  0.142857  179.123625  182.653000   0.104629   0.240949   \n",
              "498  0.333333  0.333333  179.301675  182.942600  -0.147875   0.172377   \n",
              "499  0.833333  0.000000  179.476725  183.268200   0.666995   0.666995   \n",
              "500  0.666667  0.000000  179.647225  183.473000   0.457286   0.457286   \n",
              "501  0.285714  0.142857  179.813275  183.699600   0.137436   0.215792   \n",
              "\n",
              "     neg_score  pos_mean  neg_mean  \n",
              "0    -0.184116  0.778732 -0.782492  \n",
              "1    -0.243604  0.820814 -0.784948  \n",
              "2    -0.362645  0.889713 -0.951943  \n",
              "3    -0.262588  0.698619 -0.831529  \n",
              "4    -0.359463  0.688250 -0.808791  \n",
              "..         ...       ...       ...  \n",
              "497  -0.136320  0.843320 -0.954241  \n",
              "498  -0.320252  0.517131 -0.960757  \n",
              "499   0.000000  0.800394  0.000000  \n",
              "500   0.000000  0.685930  0.000000  \n",
              "501  -0.078356  0.755271 -0.548489  \n",
              "\n",
              "[502 rows x 16 columns]"
            ],
            "text/html": [
              "\n",
              "  <div id=\"df-11ed6a82-2265-4ae2-9200-a8bf90b83c2e\" class=\"colab-df-container\">\n",
              "    <div>\n",
              "<style scoped>\n",
              "    .dataframe tbody tr th:only-of-type {\n",
              "        vertical-align: middle;\n",
              "    }\n",
              "\n",
              "    .dataframe tbody tr th {\n",
              "        vertical-align: top;\n",
              "    }\n",
              "\n",
              "    .dataframe thead th {\n",
              "        text-align: right;\n",
              "    }\n",
              "</style>\n",
              "<table border=\"1\" class=\"dataframe\">\n",
              "  <thead>\n",
              "    <tr style=\"text-align: right;\">\n",
              "      <th></th>\n",
              "      <th>trade_date</th>\n",
              "      <th>prv_close</th>\n",
              "      <th>delta</th>\n",
              "      <th>close</th>\n",
              "      <th>open</th>\n",
              "      <th>high</th>\n",
              "      <th>low</th>\n",
              "      <th>positive</th>\n",
              "      <th>negative</th>\n",
              "      <th>200_ma</th>\n",
              "      <th>50_ma</th>\n",
              "      <th>all_score</th>\n",
              "      <th>pos_score</th>\n",
              "      <th>neg_score</th>\n",
              "      <th>pos_mean</th>\n",
              "      <th>neg_mean</th>\n",
              "    </tr>\n",
              "  </thead>\n",
              "  <tbody>\n",
              "    <tr>\n",
              "      <th>0</th>\n",
              "      <td>2022-10-31</td>\n",
              "      <td>0.00</td>\n",
              "      <td>0.00</td>\n",
              "      <td>102.44</td>\n",
              "      <td>103.560</td>\n",
              "      <td>104.8700</td>\n",
              "      <td>100.740</td>\n",
              "      <td>0.294118</td>\n",
              "      <td>0.235294</td>\n",
              "      <td>0.000000</td>\n",
              "      <td>0.000000</td>\n",
              "      <td>0.044923</td>\n",
              "      <td>0.229039</td>\n",
              "      <td>-0.184116</td>\n",
              "      <td>0.778732</td>\n",
              "      <td>-0.782492</td>\n",
              "    </tr>\n",
              "    <tr>\n",
              "      <th>1</th>\n",
              "      <td>2022-11-01</td>\n",
              "      <td>102.44</td>\n",
              "      <td>-5.65</td>\n",
              "      <td>96.79</td>\n",
              "      <td>103.990</td>\n",
              "      <td>104.5800</td>\n",
              "      <td>96.060</td>\n",
              "      <td>0.206897</td>\n",
              "      <td>0.310345</td>\n",
              "      <td>102.440000</td>\n",
              "      <td>102.440000</td>\n",
              "      <td>-0.073781</td>\n",
              "      <td>0.169824</td>\n",
              "      <td>-0.243604</td>\n",
              "      <td>0.820814</td>\n",
              "      <td>-0.784948</td>\n",
              "    </tr>\n",
              "    <tr>\n",
              "      <th>2</th>\n",
              "      <td>2022-11-02</td>\n",
              "      <td>96.79</td>\n",
              "      <td>-4.67</td>\n",
              "      <td>92.12</td>\n",
              "      <td>97.315</td>\n",
              "      <td>97.7400</td>\n",
              "      <td>92.010</td>\n",
              "      <td>0.238095</td>\n",
              "      <td>0.380952</td>\n",
              "      <td>99.615000</td>\n",
              "      <td>99.615000</td>\n",
              "      <td>-0.150809</td>\n",
              "      <td>0.211836</td>\n",
              "      <td>-0.362645</td>\n",
              "      <td>0.889713</td>\n",
              "      <td>-0.951943</td>\n",
              "    </tr>\n",
              "    <tr>\n",
              "      <th>3</th>\n",
              "      <td>2022-11-03</td>\n",
              "      <td>92.12</td>\n",
              "      <td>-2.82</td>\n",
              "      <td>89.30</td>\n",
              "      <td>92.470</td>\n",
              "      <td>93.5000</td>\n",
              "      <td>89.020</td>\n",
              "      <td>0.157895</td>\n",
              "      <td>0.315789</td>\n",
              "      <td>97.116667</td>\n",
              "      <td>97.116667</td>\n",
              "      <td>-0.152280</td>\n",
              "      <td>0.110308</td>\n",
              "      <td>-0.262588</td>\n",
              "      <td>0.698619</td>\n",
              "      <td>-0.831529</td>\n",
              "    </tr>\n",
              "    <tr>\n",
              "      <th>4</th>\n",
              "      <td>2022-11-04</td>\n",
              "      <td>89.30</td>\n",
              "      <td>1.68</td>\n",
              "      <td>90.98</td>\n",
              "      <td>91.490</td>\n",
              "      <td>92.4400</td>\n",
              "      <td>88.040</td>\n",
              "      <td>0.222222</td>\n",
              "      <td>0.444444</td>\n",
              "      <td>95.162500</td>\n",
              "      <td>95.162500</td>\n",
              "      <td>-0.206518</td>\n",
              "      <td>0.152944</td>\n",
              "      <td>-0.359463</td>\n",
              "      <td>0.688250</td>\n",
              "      <td>-0.808791</td>\n",
              "    </tr>\n",
              "    <tr>\n",
              "      <th>...</th>\n",
              "      <td>...</td>\n",
              "      <td>...</td>\n",
              "      <td>...</td>\n",
              "      <td>...</td>\n",
              "      <td>...</td>\n",
              "      <td>...</td>\n",
              "      <td>...</td>\n",
              "      <td>...</td>\n",
              "      <td>...</td>\n",
              "      <td>...</td>\n",
              "      <td>...</td>\n",
              "      <td>...</td>\n",
              "      <td>...</td>\n",
              "      <td>...</td>\n",
              "      <td>...</td>\n",
              "      <td>...</td>\n",
              "    </tr>\n",
              "    <tr>\n",
              "      <th>497</th>\n",
              "      <td>2024-10-23</td>\n",
              "      <td>189.70</td>\n",
              "      <td>-4.99</td>\n",
              "      <td>184.71</td>\n",
              "      <td>188.850</td>\n",
              "      <td>189.1600</td>\n",
              "      <td>183.690</td>\n",
              "      <td>0.285714</td>\n",
              "      <td>0.142857</td>\n",
              "      <td>179.123625</td>\n",
              "      <td>182.653000</td>\n",
              "      <td>0.104629</td>\n",
              "      <td>0.240949</td>\n",
              "      <td>-0.136320</td>\n",
              "      <td>0.843320</td>\n",
              "      <td>-0.954241</td>\n",
              "    </tr>\n",
              "    <tr>\n",
              "      <th>498</th>\n",
              "      <td>2024-10-24</td>\n",
              "      <td>184.71</td>\n",
              "      <td>1.67</td>\n",
              "      <td>186.38</td>\n",
              "      <td>185.250</td>\n",
              "      <td>187.1100</td>\n",
              "      <td>183.860</td>\n",
              "      <td>0.333333</td>\n",
              "      <td>0.333333</td>\n",
              "      <td>179.301675</td>\n",
              "      <td>182.942600</td>\n",
              "      <td>-0.147875</td>\n",
              "      <td>0.172377</td>\n",
              "      <td>-0.320252</td>\n",
              "      <td>0.517131</td>\n",
              "      <td>-0.960757</td>\n",
              "    </tr>\n",
              "    <tr>\n",
              "      <th>499</th>\n",
              "      <td>2024-10-25</td>\n",
              "      <td>186.38</td>\n",
              "      <td>1.45</td>\n",
              "      <td>187.83</td>\n",
              "      <td>187.850</td>\n",
              "      <td>190.4500</td>\n",
              "      <td>187.530</td>\n",
              "      <td>0.833333</td>\n",
              "      <td>0.000000</td>\n",
              "      <td>179.476725</td>\n",
              "      <td>183.268200</td>\n",
              "      <td>0.666995</td>\n",
              "      <td>0.666995</td>\n",
              "      <td>0.000000</td>\n",
              "      <td>0.800394</td>\n",
              "      <td>0.000000</td>\n",
              "    </tr>\n",
              "    <tr>\n",
              "      <th>500</th>\n",
              "      <td>2024-10-28</td>\n",
              "      <td>187.83</td>\n",
              "      <td>0.56</td>\n",
              "      <td>188.39</td>\n",
              "      <td>189.565</td>\n",
              "      <td>190.2100</td>\n",
              "      <td>188.210</td>\n",
              "      <td>0.666667</td>\n",
              "      <td>0.000000</td>\n",
              "      <td>179.647225</td>\n",
              "      <td>183.473000</td>\n",
              "      <td>0.457286</td>\n",
              "      <td>0.457286</td>\n",
              "      <td>0.000000</td>\n",
              "      <td>0.685930</td>\n",
              "      <td>0.000000</td>\n",
              "    </tr>\n",
              "    <tr>\n",
              "      <th>501</th>\n",
              "      <td>2024-10-29</td>\n",
              "      <td>188.39</td>\n",
              "      <td>2.44</td>\n",
              "      <td>190.83</td>\n",
              "      <td>188.580</td>\n",
              "      <td>191.4599</td>\n",
              "      <td>187.815</td>\n",
              "      <td>0.285714</td>\n",
              "      <td>0.142857</td>\n",
              "      <td>179.813275</td>\n",
              "      <td>183.699600</td>\n",
              "      <td>0.137436</td>\n",
              "      <td>0.215792</td>\n",
              "      <td>-0.078356</td>\n",
              "      <td>0.755271</td>\n",
              "      <td>-0.548489</td>\n",
              "    </tr>\n",
              "  </tbody>\n",
              "</table>\n",
              "<p>502 rows × 16 columns</p>\n",
              "</div>\n",
              "    <div class=\"colab-df-buttons\">\n",
              "\n",
              "  <div class=\"colab-df-container\">\n",
              "    <button class=\"colab-df-convert\" onclick=\"convertToInteractive('df-11ed6a82-2265-4ae2-9200-a8bf90b83c2e')\"\n",
              "            title=\"Convert this dataframe to an interactive table.\"\n",
              "            style=\"display:none;\">\n",
              "\n",
              "  <svg xmlns=\"http://www.w3.org/2000/svg\" height=\"24px\" viewBox=\"0 -960 960 960\">\n",
              "    <path d=\"M120-120v-720h720v720H120Zm60-500h600v-160H180v160Zm220 220h160v-160H400v160Zm0 220h160v-160H400v160ZM180-400h160v-160H180v160Zm440 0h160v-160H620v160ZM180-180h160v-160H180v160Zm440 0h160v-160H620v160Z\"/>\n",
              "  </svg>\n",
              "    </button>\n",
              "\n",
              "  <style>\n",
              "    .colab-df-container {\n",
              "      display:flex;\n",
              "      gap: 12px;\n",
              "    }\n",
              "\n",
              "    .colab-df-convert {\n",
              "      background-color: #E8F0FE;\n",
              "      border: none;\n",
              "      border-radius: 50%;\n",
              "      cursor: pointer;\n",
              "      display: none;\n",
              "      fill: #1967D2;\n",
              "      height: 32px;\n",
              "      padding: 0 0 0 0;\n",
              "      width: 32px;\n",
              "    }\n",
              "\n",
              "    .colab-df-convert:hover {\n",
              "      background-color: #E2EBFA;\n",
              "      box-shadow: 0px 1px 2px rgba(60, 64, 67, 0.3), 0px 1px 3px 1px rgba(60, 64, 67, 0.15);\n",
              "      fill: #174EA6;\n",
              "    }\n",
              "\n",
              "    .colab-df-buttons div {\n",
              "      margin-bottom: 4px;\n",
              "    }\n",
              "\n",
              "    [theme=dark] .colab-df-convert {\n",
              "      background-color: #3B4455;\n",
              "      fill: #D2E3FC;\n",
              "    }\n",
              "\n",
              "    [theme=dark] .colab-df-convert:hover {\n",
              "      background-color: #434B5C;\n",
              "      box-shadow: 0px 1px 3px 1px rgba(0, 0, 0, 0.15);\n",
              "      filter: drop-shadow(0px 1px 2px rgba(0, 0, 0, 0.3));\n",
              "      fill: #FFFFFF;\n",
              "    }\n",
              "  </style>\n",
              "\n",
              "    <script>\n",
              "      const buttonEl =\n",
              "        document.querySelector('#df-11ed6a82-2265-4ae2-9200-a8bf90b83c2e button.colab-df-convert');\n",
              "      buttonEl.style.display =\n",
              "        google.colab.kernel.accessAllowed ? 'block' : 'none';\n",
              "\n",
              "      async function convertToInteractive(key) {\n",
              "        const element = document.querySelector('#df-11ed6a82-2265-4ae2-9200-a8bf90b83c2e');\n",
              "        const dataTable =\n",
              "          await google.colab.kernel.invokeFunction('convertToInteractive',\n",
              "                                                    [key], {});\n",
              "        if (!dataTable) return;\n",
              "\n",
              "        const docLinkHtml = 'Like what you see? Visit the ' +\n",
              "          '<a target=\"_blank\" href=https://colab.research.google.com/notebooks/data_table.ipynb>data table notebook</a>'\n",
              "          + ' to learn more about interactive tables.';\n",
              "        element.innerHTML = '';\n",
              "        dataTable['output_type'] = 'display_data';\n",
              "        await google.colab.output.renderOutput(dataTable, element);\n",
              "        const docLink = document.createElement('div');\n",
              "        docLink.innerHTML = docLinkHtml;\n",
              "        element.appendChild(docLink);\n",
              "      }\n",
              "    </script>\n",
              "  </div>\n",
              "\n",
              "\n",
              "<div id=\"df-d936f256-9042-47ee-b8c2-d04617cacffd\">\n",
              "  <button class=\"colab-df-quickchart\" onclick=\"quickchart('df-d936f256-9042-47ee-b8c2-d04617cacffd')\"\n",
              "            title=\"Suggest charts\"\n",
              "            style=\"display:none;\">\n",
              "\n",
              "<svg xmlns=\"http://www.w3.org/2000/svg\" height=\"24px\"viewBox=\"0 0 24 24\"\n",
              "     width=\"24px\">\n",
              "    <g>\n",
              "        <path d=\"M19 3H5c-1.1 0-2 .9-2 2v14c0 1.1.9 2 2 2h14c1.1 0 2-.9 2-2V5c0-1.1-.9-2-2-2zM9 17H7v-7h2v7zm4 0h-2V7h2v10zm4 0h-2v-4h2v4z\"/>\n",
              "    </g>\n",
              "</svg>\n",
              "  </button>\n",
              "\n",
              "<style>\n",
              "  .colab-df-quickchart {\n",
              "      --bg-color: #E8F0FE;\n",
              "      --fill-color: #1967D2;\n",
              "      --hover-bg-color: #E2EBFA;\n",
              "      --hover-fill-color: #174EA6;\n",
              "      --disabled-fill-color: #AAA;\n",
              "      --disabled-bg-color: #DDD;\n",
              "  }\n",
              "\n",
              "  [theme=dark] .colab-df-quickchart {\n",
              "      --bg-color: #3B4455;\n",
              "      --fill-color: #D2E3FC;\n",
              "      --hover-bg-color: #434B5C;\n",
              "      --hover-fill-color: #FFFFFF;\n",
              "      --disabled-bg-color: #3B4455;\n",
              "      --disabled-fill-color: #666;\n",
              "  }\n",
              "\n",
              "  .colab-df-quickchart {\n",
              "    background-color: var(--bg-color);\n",
              "    border: none;\n",
              "    border-radius: 50%;\n",
              "    cursor: pointer;\n",
              "    display: none;\n",
              "    fill: var(--fill-color);\n",
              "    height: 32px;\n",
              "    padding: 0;\n",
              "    width: 32px;\n",
              "  }\n",
              "\n",
              "  .colab-df-quickchart:hover {\n",
              "    background-color: var(--hover-bg-color);\n",
              "    box-shadow: 0 1px 2px rgba(60, 64, 67, 0.3), 0 1px 3px 1px rgba(60, 64, 67, 0.15);\n",
              "    fill: var(--button-hover-fill-color);\n",
              "  }\n",
              "\n",
              "  .colab-df-quickchart-complete:disabled,\n",
              "  .colab-df-quickchart-complete:disabled:hover {\n",
              "    background-color: var(--disabled-bg-color);\n",
              "    fill: var(--disabled-fill-color);\n",
              "    box-shadow: none;\n",
              "  }\n",
              "\n",
              "  .colab-df-spinner {\n",
              "    border: 2px solid var(--fill-color);\n",
              "    border-color: transparent;\n",
              "    border-bottom-color: var(--fill-color);\n",
              "    animation:\n",
              "      spin 1s steps(1) infinite;\n",
              "  }\n",
              "\n",
              "  @keyframes spin {\n",
              "    0% {\n",
              "      border-color: transparent;\n",
              "      border-bottom-color: var(--fill-color);\n",
              "      border-left-color: var(--fill-color);\n",
              "    }\n",
              "    20% {\n",
              "      border-color: transparent;\n",
              "      border-left-color: var(--fill-color);\n",
              "      border-top-color: var(--fill-color);\n",
              "    }\n",
              "    30% {\n",
              "      border-color: transparent;\n",
              "      border-left-color: var(--fill-color);\n",
              "      border-top-color: var(--fill-color);\n",
              "      border-right-color: var(--fill-color);\n",
              "    }\n",
              "    40% {\n",
              "      border-color: transparent;\n",
              "      border-right-color: var(--fill-color);\n",
              "      border-top-color: var(--fill-color);\n",
              "    }\n",
              "    60% {\n",
              "      border-color: transparent;\n",
              "      border-right-color: var(--fill-color);\n",
              "    }\n",
              "    80% {\n",
              "      border-color: transparent;\n",
              "      border-right-color: var(--fill-color);\n",
              "      border-bottom-color: var(--fill-color);\n",
              "    }\n",
              "    90% {\n",
              "      border-color: transparent;\n",
              "      border-bottom-color: var(--fill-color);\n",
              "    }\n",
              "  }\n",
              "</style>\n",
              "\n",
              "  <script>\n",
              "    async function quickchart(key) {\n",
              "      const quickchartButtonEl =\n",
              "        document.querySelector('#' + key + ' button');\n",
              "      quickchartButtonEl.disabled = true;  // To prevent multiple clicks.\n",
              "      quickchartButtonEl.classList.add('colab-df-spinner');\n",
              "      try {\n",
              "        const charts = await google.colab.kernel.invokeFunction(\n",
              "            'suggestCharts', [key], {});\n",
              "      } catch (error) {\n",
              "        console.error('Error during call to suggestCharts:', error);\n",
              "      }\n",
              "      quickchartButtonEl.classList.remove('colab-df-spinner');\n",
              "      quickchartButtonEl.classList.add('colab-df-quickchart-complete');\n",
              "    }\n",
              "    (() => {\n",
              "      let quickchartButtonEl =\n",
              "        document.querySelector('#df-d936f256-9042-47ee-b8c2-d04617cacffd button');\n",
              "      quickchartButtonEl.style.display =\n",
              "        google.colab.kernel.accessAllowed ? 'block' : 'none';\n",
              "    })();\n",
              "  </script>\n",
              "</div>\n",
              "\n",
              "  <div id=\"id_e7912032-b141-4568-8276-a76fe66ab8c6\">\n",
              "    <style>\n",
              "      .colab-df-generate {\n",
              "        background-color: #E8F0FE;\n",
              "        border: none;\n",
              "        border-radius: 50%;\n",
              "        cursor: pointer;\n",
              "        display: none;\n",
              "        fill: #1967D2;\n",
              "        height: 32px;\n",
              "        padding: 0 0 0 0;\n",
              "        width: 32px;\n",
              "      }\n",
              "\n",
              "      .colab-df-generate:hover {\n",
              "        background-color: #E2EBFA;\n",
              "        box-shadow: 0px 1px 2px rgba(60, 64, 67, 0.3), 0px 1px 3px 1px rgba(60, 64, 67, 0.15);\n",
              "        fill: #174EA6;\n",
              "      }\n",
              "\n",
              "      [theme=dark] .colab-df-generate {\n",
              "        background-color: #3B4455;\n",
              "        fill: #D2E3FC;\n",
              "      }\n",
              "\n",
              "      [theme=dark] .colab-df-generate:hover {\n",
              "        background-color: #434B5C;\n",
              "        box-shadow: 0px 1px 3px 1px rgba(0, 0, 0, 0.15);\n",
              "        filter: drop-shadow(0px 1px 2px rgba(0, 0, 0, 0.3));\n",
              "        fill: #FFFFFF;\n",
              "      }\n",
              "    </style>\n",
              "    <button class=\"colab-df-generate\" onclick=\"generateWithVariable('df_gp')\"\n",
              "            title=\"Generate code using this dataframe.\"\n",
              "            style=\"display:none;\">\n",
              "\n",
              "  <svg xmlns=\"http://www.w3.org/2000/svg\" height=\"24px\"viewBox=\"0 0 24 24\"\n",
              "       width=\"24px\">\n",
              "    <path d=\"M7,19H8.4L18.45,9,17,7.55,7,17.6ZM5,21V16.75L18.45,3.32a2,2,0,0,1,2.83,0l1.4,1.43a1.91,1.91,0,0,1,.58,1.4,1.91,1.91,0,0,1-.58,1.4L9.25,21ZM18.45,9,17,7.55Zm-12,3A5.31,5.31,0,0,0,4.9,8.1,5.31,5.31,0,0,0,1,6.5,5.31,5.31,0,0,0,4.9,4.9,5.31,5.31,0,0,0,6.5,1,5.31,5.31,0,0,0,8.1,4.9,5.31,5.31,0,0,0,12,6.5,5.46,5.46,0,0,0,6.5,12Z\"/>\n",
              "  </svg>\n",
              "    </button>\n",
              "    <script>\n",
              "      (() => {\n",
              "      const buttonEl =\n",
              "        document.querySelector('#id_e7912032-b141-4568-8276-a76fe66ab8c6 button.colab-df-generate');\n",
              "      buttonEl.style.display =\n",
              "        google.colab.kernel.accessAllowed ? 'block' : 'none';\n",
              "\n",
              "      buttonEl.onclick = () => {\n",
              "        google.colab.notebook.generateWithVariable('df_gp');\n",
              "      }\n",
              "      })();\n",
              "    </script>\n",
              "  </div>\n",
              "\n",
              "    </div>\n",
              "  </div>\n"
            ],
            "application/vnd.google.colaboratory.intrinsic+json": {
              "type": "dataframe",
              "variable_name": "df_gp",
              "summary": "{\n  \"name\": \"df_gp\",\n  \"rows\": 502,\n  \"fields\": [\n    {\n      \"column\": \"trade_date\",\n      \"properties\": {\n        \"dtype\": \"date\",\n        \"min\": \"2022-10-31\",\n        \"max\": \"2024-10-29\",\n        \"num_unique_values\": 502,\n        \"samples\": [\n          \"2023-11-24\",\n          \"2023-02-15\",\n          \"2023-12-26\"\n        ],\n        \"semantic_type\": \"\",\n        \"description\": \"\"\n      }\n    },\n    {\n      \"column\": \"prv_close\",\n      \"properties\": {\n        \"dtype\": \"number\",\n        \"std\": 35.56887373593813,\n        \"min\": 0.0,\n        \"max\": 200.0,\n        \"num_unique_values\": 484,\n        \"samples\": [\n          180.83,\n          187.54,\n          129.13\n        ],\n        \"semantic_type\": \"\",\n        \"description\": \"\"\n      }\n    },\n    {\n      \"column\": \"delta\",\n      \"properties\": {\n        \"dtype\": \"number\",\n        \"std\": 2.7186419239072577,\n        \"min\": -16.169999999999987,\n        \"max\": 12.530000000000001,\n        \"num_unique_values\": 428,\n        \"samples\": [\n          0.15000000000000568,\n          -2.319999999999993,\n          -2.280000000000001\n        ],\n        \"semantic_type\": \"\",\n        \"description\": \"\"\n      }\n    },\n    {\n      \"column\": \"close\",\n      \"properties\": {\n        \"dtype\": \"number\",\n        \"std\": 35.061332188666434,\n        \"min\": 81.82,\n        \"max\": 200.0,\n        \"num_unique_values\": 484,\n        \"samples\": [\n          179.85,\n          187.69,\n          128.15\n        ],\n        \"semantic_type\": \"\",\n        \"description\": \"\"\n      }\n    },\n    {\n      \"column\": \"open\",\n      \"properties\": {\n        \"dtype\": \"number\",\n        \"std\": 35.08005788610385,\n        \"min\": 82.8,\n        \"max\": 200.09,\n        \"num_unique_values\": 492,\n        \"samples\": [\n          93.87,\n          92.56,\n          145.48\n        ],\n        \"semantic_type\": \"\",\n        \"description\": \"\"\n      }\n    },\n    {\n      \"column\": \"high\",\n      \"properties\": {\n        \"dtype\": \"number\",\n        \"std\": 35.186246569096596,\n        \"min\": 83.48,\n        \"max\": 201.2,\n        \"num_unique_values\": 493,\n        \"samples\": [\n          179.875,\n          100.63,\n          170.55\n        ],\n        \"semantic_type\": \"\",\n        \"description\": \"\"\n      }\n    },\n    {\n      \"column\": \"low\",\n      \"properties\": {\n        \"dtype\": \"number\",\n        \"std\": 34.901182372517624,\n        \"min\": 81.43,\n        \"max\": 199.045,\n        \"num_unique_values\": 493,\n        \"samples\": [\n          172.54,\n          98.45,\n          167.65\n        ],\n        \"semantic_type\": \"\",\n        \"description\": \"\"\n      }\n    },\n    {\n      \"column\": \"positive\",\n      \"properties\": {\n        \"dtype\": \"number\",\n        \"std\": 0.16180421895431613,\n        \"min\": 0.0,\n        \"max\": 1.0,\n        \"num_unique_values\": 125,\n        \"samples\": [\n          0.42857142857142855,\n          0.391304347826087,\n          0.6818181818181818\n        ],\n        \"semantic_type\": \"\",\n        \"description\": \"\"\n      }\n    },\n    {\n      \"column\": \"negative\",\n      \"properties\": {\n        \"dtype\": \"number\",\n        \"std\": 0.13609145200663378,\n        \"min\": 0.0,\n        \"max\": 0.6842105263157895,\n        \"num_unique_values\": 114,\n        \"samples\": [\n          0.17647058823529413,\n          0.4444444444444444,\n          0.5\n        ],\n        \"semantic_type\": \"\",\n        \"description\": \"\"\n      }\n    },\n    {\n      \"column\": \"200_ma\",\n      \"properties\": {\n        \"dtype\": \"number\",\n        \"std\": 29.70351503296522,\n        \"min\": 0.0,\n        \"max\": 179.813275,\n        \"num_unique_values\": 502,\n        \"samples\": [\n          121.01297499999998,\n          93.52575342465754,\n          126.54457499999998\n        ],\n        \"semantic_type\": \"\",\n        \"description\": \"\"\n      }\n    },\n    {\n      \"column\": \"50_ma\",\n      \"properties\": {\n        \"dtype\": \"number\",\n        \"std\": 34.92170843797617,\n        \"min\": 0.0,\n        \"max\": 187.87940000000003,\n        \"num_unique_values\": 502,\n        \"samples\": [\n          133.8724,\n          93.1306,\n          141.243\n        ],\n        \"semantic_type\": \"\",\n        \"description\": \"\"\n      }\n    },\n    {\n      \"column\": \"all_score\",\n      \"properties\": {\n        \"dtype\": \"number\",\n        \"std\": 0.21629224965373375,\n        \"min\": -0.6421950658162435,\n        \"max\": 0.9524545073509216,\n        \"num_unique_values\": 501,\n        \"samples\": [\n          0.5147076802594321,\n          -0.12174094807017938,\n          -0.07751474499702452\n        ],\n        \"semantic_type\": \"\",\n        \"description\": \"\"\n      }\n    },\n    {\n      \"column\": \"pos_score\",\n      \"properties\": {\n        \"dtype\": \"number\",\n        \"std\": 0.13618955889512235,\n        \"min\": 0.0,\n        \"max\": 0.9524545073509216,\n        \"num_unique_values\": 495,\n        \"samples\": [\n          0.38780445522732204,\n          0.2509736960584467,\n          0.3057987902845655\n        ],\n        \"semantic_type\": \"\",\n        \"description\": \"\"\n      }\n    },\n    {\n      \"column\": \"neg_score\",\n      \"properties\": {\n        \"dtype\": \"number\",\n        \"std\": 0.12033094045586769,\n        \"min\": -0.6421950658162435,\n        \"max\": 0.0004893758080222364,\n        \"num_unique_values\": 433,\n        \"samples\": [\n          -0.4857519567012787,\n          -0.13357718288898468,\n          -0.16583094785087987\n        ],\n        \"semantic_type\": \"\",\n        \"description\": \"\"\n      }\n    },\n    {\n      \"column\": \"pos_mean\",\n      \"properties\": {\n        \"dtype\": \"number\",\n        \"std\": 0.12480483197399629,\n        \"min\": 0.0,\n        \"max\": 0.9526947736740112,\n        \"num_unique_values\": 495,\n        \"samples\": [\n          0.8725600242614746,\n          0.9202368855476379,\n          0.7135305106639862\n        ],\n        \"semantic_type\": \"\",\n        \"description\": \"\"\n      }\n    },\n    {\n      \"column\": \"neg_mean\",\n      \"properties\": {\n        \"dtype\": \"number\",\n        \"std\": 0.3104169406196403,\n        \"min\": -0.9743866920471193,\n        \"max\": 0.0053831338882446,\n        \"num_unique_values\": 433,\n        \"samples\": [\n          -0.9715039134025574,\n          -0.712411642074585,\n          -0.7876970022916794\n        ],\n        \"semantic_type\": \"\",\n        \"description\": \"\"\n      }\n    }\n  ]\n}"
            }
          },
          "metadata": {},
          "execution_count": 1022
        }
      ],
      "source": [
        "tickers = ['AAPL', 'GOOGL', 'MSFT', 'META', 'AMZN']\n",
        "ticker = tickers[4]\n",
        "df_gp = prepare_data(ticker)\n",
        "df_gp"
      ]
    },
    {
      "cell_type": "code",
      "execution_count": 1023,
      "metadata": {
        "id": "vDeG4qKdJmiQ"
      },
      "outputs": [],
      "source": [
        "def test_relevance(cols):\n",
        "    X, y = df_gp[cols], df_gp['delta']\n",
        "    model = LinearRegression()\n",
        "    model.fit(X, y)\n",
        "\n",
        "    # Make predictions\n",
        "    y_pred = model.predict(X)\n",
        "\n",
        "    # Evaluate the model\n",
        "    r2 = r2_score(y, y_pred)\n",
        "    corr = [np.corrcoef(X[col], y)[0, 1] for col in X]\n",
        "\n",
        "    return corr, r2, model.coef_"
      ]
    },
    {
      "cell_type": "code",
      "execution_count": 1024,
      "metadata": {
        "colab": {
          "base_uri": "https://localhost:8080/"
        },
        "id": "nloOpRe5JmiQ",
        "outputId": "c1efbe01-b6b3-4048-d2ce-b50af31cf5ea"
      },
      "outputs": [
        {
          "output_type": "execute_result",
          "data": {
            "text/plain": [
              "([-0.1112234818670413], 0.012370662918628095, array([-2.2218649]))"
            ]
          },
          "metadata": {},
          "execution_count": 1024
        }
      ],
      "source": [
        "test_relevance(['negative'])"
      ]
    },
    {
      "cell_type": "code",
      "execution_count": 1025,
      "metadata": {
        "colab": {
          "base_uri": "https://localhost:8080/"
        },
        "id": "4M0hLEmNJmiQ",
        "outputId": "00b87c44-ed30-4ec5-f6a6-45bdd95fb6f3"
      },
      "outputs": [
        {
          "output_type": "execute_result",
          "data": {
            "text/plain": [
              "([0.09275769809199166], 0.008603990555325125, array([1.85164684]))"
            ]
          },
          "metadata": {},
          "execution_count": 1025
        }
      ],
      "source": [
        "test_relevance(['pos_score'])"
      ]
    },
    {
      "cell_type": "code",
      "execution_count": 1026,
      "metadata": {
        "colab": {
          "base_uri": "https://localhost:8080/"
        },
        "id": "gJo22-IhJmiR",
        "outputId": "6fc991ee-e62a-49d4-c5f6-2e827ed89f68"
      },
      "outputs": [
        {
          "output_type": "execute_result",
          "data": {
            "text/plain": [
              "([0.11807827641299153], 0.01394247936066284, array([2.66774739]))"
            ]
          },
          "metadata": {},
          "execution_count": 1026
        }
      ],
      "source": [
        "test_relevance(['neg_score'])"
      ]
    },
    {
      "cell_type": "code",
      "execution_count": 1027,
      "metadata": {
        "colab": {
          "base_uri": "https://localhost:8080/"
        },
        "id": "IXuLLqwCJmiS",
        "outputId": "ca231f70-e351-4adc-cccd-6514b65a857f"
      },
      "outputs": [
        {
          "output_type": "execute_result",
          "data": {
            "text/plain": [
              "([0.09275769809199166, 0.11807827641299153],\n",
              " 0.016207990413158013,\n",
              " array([1.04679538, 2.17053232]))"
            ]
          },
          "metadata": {},
          "execution_count": 1027
        }
      ],
      "source": [
        "test_relevance(['pos_score', 'neg_score'])"
      ]
    },
    {
      "cell_type": "code",
      "execution_count": 1028,
      "metadata": {
        "colab": {
          "base_uri": "https://localhost:8080/",
          "height": 448
        },
        "id": "TzLWMsjPJmiS",
        "outputId": "a6754b1f-0d22-4afa-c226-3b1629f69d48"
      },
      "outputs": [
        {
          "output_type": "execute_result",
          "data": {
            "text/plain": [
              "<matplotlib.collections.PathCollection at 0x7b48926b7b50>"
            ]
          },
          "metadata": {},
          "execution_count": 1028
        },
        {
          "output_type": "display_data",
          "data": {
            "text/plain": [
              "<Figure size 640x480 with 1 Axes>"
            ],
            "image/png": "[encoded data removed]"
          },
          "metadata": {}
        }
      ],
      "source": [
        "import matplotlib.pyplot as plt\n",
        "\n",
        "plt.scatter(df_gp['neg_score'], df_gp['delta'], color='blue', alpha=0.7)"
      ]
    },
    {
      "cell_type": "code",
      "execution_count": 1029,
      "metadata": {
        "id": "qeMrZhPWJmiS"
      },
      "outputs": [],
      "source": [
        "def preprocess(df_gp, feat_cols, seq_length=50, offset=0):\n",
        "    std_scaler = StandardScaler()\n",
        "    df = pd.DataFrame()\n",
        "    df[feat_cols] = std_scaler.fit_transform(df_gp[feat_cols])\n",
        "\n",
        "    X = []\n",
        "    y = []\n",
        "    st = seq_length + offset\n",
        "    for i in range(st, len(df)):\n",
        "        X.append(df.iloc[i-seq_length:i])\n",
        "        y.append(df.iloc[i, -1])\n",
        "    X = torch.tensor(np.array(X), dtype=torch.float32).to(device)\n",
        "    y = torch.tensor(np.array(y), dtype=torch.float32).unsqueeze(1).to(device)\n",
        "\n",
        "    split_index = int(len(X) * 0.95)\n",
        "    X_train, X_test = X[:split_index], X[split_index:]\n",
        "    y_train, y_test = y[:split_index], y[split_index:]\n",
        "    X_train, X_val, y_train, y_val = train_test_split(X_train, y_train, test_size=0.05)\n",
        "\n",
        "    return X, y, X_train, X_val, X_test, y_train, y_val, y_test, st"
      ]
    },
    {
      "cell_type": "code",
      "execution_count": 1030,
      "metadata": {
        "id": "QaVe5bZ0JmiS"
      },
      "outputs": [],
      "source": [
        "class SimpleLSTM(nn.Module):\n",
        "    def __init__(self, feat_size, layers, dropout):\n",
        "        super(SimpleLSTM, self).__init__()\n",
        "        self.fc1 = nn.Linear(feat_size[0], feat_size[1])\n",
        "        self.lstm = nn.LSTM(feat_size[1], feat_size[2], num_layers=layers, dropout=dropout, batch_first=True)\n",
        "        self.fc2 = nn.Linear(feat_size[2], feat_size[3])\n",
        "\n",
        "    def forward(self, x):\n",
        "        inp = self.fc1(x)\n",
        "        lstm_out, (hn, cn) = self.lstm(inp)\n",
        "        out = self.fc2(hn[-1])\n",
        "        return out"
      ]
    },
    {
      "cell_type": "code",
      "execution_count": 1031,
      "metadata": {
        "id": "3P_QqcKujdLS"
      },
      "outputs": [],
      "source": [
        "feat_dict = {\n",
        "    'AAPL': ['neg_score', 'prv_close', '50_ma', 'delta'],\n",
        "    'GOOGL': ['neg_score', 'prv_close', '50_ma', 'delta'],\n",
        "    'other': ['neg_score', 'prv_close', 'delta'],\n",
        "}\n",
        "epoch_dict = {\n",
        "    'other': 1000,\n",
        "}"
      ]
    },
    {
      "cell_type": "code",
      "execution_count": 1032,
      "metadata": {
        "colab": {
          "base_uri": "https://localhost:8080/"
        },
        "id": "KCWODIBPJmiS",
        "outputId": "cdebace8-eef6-4ddb-bd6d-acf7db329f41"
      },
      "outputs": [
        {
          "output_type": "execute_result",
          "data": {
            "text/plain": [
              "(torch.Size([407, 50, 3]),\n",
              " torch.Size([22, 50, 3]),\n",
              " torch.Size([23, 50, 3]),\n",
              " torch.Size([407, 1]),\n",
              " torch.Size([22, 1]),\n",
              " torch.Size([23, 1]),\n",
              " 50)"
            ]
          },
          "metadata": {},
          "execution_count": 1032
        }
      ],
      "source": [
        "feat_cols = feat_dict[ticker] if ticker in feat_dict else feat_dict['other']\n",
        "X, y, X_train, X_val, X_test, y_train, y_val, y_test, st = preprocess(df_gp, feat_cols)\n",
        "X_train.shape, X_val.shape, X_test.shape, y_train.shape, y_val.shape, y_test.shape, st"
      ]
    },
    {
      "cell_type": "code",
      "execution_count": 1033,
      "metadata": {
        "id": "Ljs9e5hMiRIp"
      },
      "outputs": [],
      "source": [
        "def split_set(X, y, deltas, num=20, ratio=0.05):\n",
        "    X_list = []\n",
        "    y_list = []\n",
        "    y_stat = []\n",
        "    for i in range(num):\n",
        "        X_train, y_train = [], []\n",
        "        X_test, y_test = [], []\n",
        "        y_ref = []\n",
        "        for j in range(X.shape[0]):\n",
        "            if j % num != i:\n",
        "                X_train.append(X[j].cpu().numpy())\n",
        "                y_train.append(y[j].cpu().numpy())\n",
        "                y_ref.append(deltas[j])\n",
        "            else:\n",
        "                X_test.append(X[j].cpu().numpy())\n",
        "                y_test.append(y[j].cpu().numpy())\n",
        "\n",
        "        X_train, X_test = np.array(X_train), np.array(X_test)\n",
        "        y_train, y_test = np.array(y_train), np.array(y_test)\n",
        "        X_train, X_val, y_train, y_val = train_test_split(X_train, y_train, test_size=ratio)\n",
        "\n",
        "        X_list.append((\n",
        "            torch.tensor(X_train).to(device),\n",
        "            torch.tensor(X_val).to(device),\n",
        "            torch.tensor(X_test).to(device),\n",
        "        ))\n",
        "        y_list.append((\n",
        "            torch.tensor(y_train).to(device),\n",
        "            torch.tensor(y_val).to(device),\n",
        "            torch.tensor(y_test).to(device),\n",
        "        ))\n",
        "        y_stat.append((np.mean(y_ref), np.std(y_ref)))\n",
        "    print(f\"train size:{X_list[0][0].shape}, val size: {X_list[0][1].shape}, test size: {X_list[0][2].shape}\")\n",
        "    return X_list, y_list, y_stat"
      ]
    },
    {
      "cell_type": "code",
      "execution_count": 1034,
      "metadata": {
        "id": "GYY17Mh6JmiT"
      },
      "outputs": [],
      "source": [
        "def train(X_train, X_val, X_test, y_train, y_val, y_test, mute=False):\n",
        "    num_epochs = epoch_dict[ticker] if ticker in epoch_dict else epoch_dict['other']\n",
        "    model = SimpleLSTM(feat_size=[len(feat_cols), 32, 64, 1], layers=2, dropout=0.5).to(device)\n",
        "    criterion = nn.MSELoss()\n",
        "    optimizer = optim.Adam(model.parameters(), lr=0.001)\n",
        "\n",
        "    train_loss = []\n",
        "    val_loss = []\n",
        "    test_loss = []\n",
        "    for epoch in range(num_epochs):\n",
        "        model.train()\n",
        "        optimizer.zero_grad()\n",
        "        outputs = model(X_train)\n",
        "        loss = criterion(outputs, y_train)\n",
        "        loss.backward()\n",
        "        optimizer.step()\n",
        "        model.eval()\n",
        "        if mute and epoch < num_epochs-1:\n",
        "            continue\n",
        "        with torch.no_grad():\n",
        "            train_loss.append(loss.item())\n",
        "            val_loss.append(criterion(model(X_val), y_val).item())\n",
        "            test_loss.append(criterion(model(X_test), y_test).item())\n",
        "            if len(train_loss) >= 10 or mute:\n",
        "                print(f\"Epoch {epoch}, Train Loss: {np.mean(train_loss):.4f}, Val Loss: {np.mean(val_loss):.4f}, Test Loss: {np.mean(test_loss):.4f}\")\n",
        "                train_loss.clear()\n",
        "                val_loss.clear()\n",
        "                test_loss.clear()\n",
        "    return model, criterion\n"
      ]
    },
    {
      "cell_type": "code",
      "execution_count": 1035,
      "metadata": {
        "id": "RepgKHqno6Gf"
      },
      "outputs": [],
      "source": [
        "def simulate(X, y, deltas, prices):\n",
        "    y_pred_list, y_pred_rsl, y_pred_rec = [], [], []\n",
        "    X_list, y_list, y_stat = split_set(X, y, deltas)\n",
        "    for X_t, y_t in zip(X_list, y_list):\n",
        "        X_train, X_val, X_test = X_t\n",
        "        y_train, y_val, y_test = y_t\n",
        "        model, _ = train(X_train, X_val, X_test, y_train, y_val, y_test, True)\n",
        "        model.eval()\n",
        "        with torch.no_grad():\n",
        "            y_pred = model(X_test).squeeze().cpu().numpy()\n",
        "            y_pred_list.append(y_pred)\n",
        "    for i in range(len(y_pred_list[0])):\n",
        "        for j in range(len(y_pred_list)):\n",
        "            if i < len(y_pred_list[j]):\n",
        "                y_pred_rsl.append(y_pred_list[j][i])\n",
        "                y_pred_rec.append(y_pred_list[j][i] * y_stat[j][1] + y_stat[j][0])\n",
        "    return pd.DataFrame({\n",
        "        'pred_delta_ratio': np.array(y_pred_rsl),\n",
        "        'real_delta_ratio': np.array(y.squeeze().cpu()),\n",
        "        'pred_delta': np.array(y_pred_rec),\n",
        "        'real_delta': np.array(deltas),\n",
        "        'real_price': np.array(prices),\n",
        "    })\n"
      ]
    },
    {
      "cell_type": "code",
      "execution_count": 1036,
      "metadata": {
        "colab": {
          "base_uri": "https://localhost:8080/"
        },
        "id": "V-rYCU_DJmiT",
        "outputId": "9edb04c1-110a-453f-a02a-558ea3e9c301"
      },
      "outputs": [
        {
          "output_type": "stream",
          "name": "stdout",
          "text": [
            "Epoch 9, Train Loss: 0.9851, Val Loss: 1.3157, Test Loss: 0.7840\n",
            "Epoch 19, Train Loss: 0.9760, Val Loss: 1.2830, Test Loss: 0.7782\n",
            "Epoch 29, Train Loss: 0.9653, Val Loss: 1.2669, Test Loss: 0.8087\n",
            "Epoch 39, Train Loss: 0.9479, Val Loss: 1.2300, Test Loss: 0.8656\n",
            "Epoch 49, Train Loss: 0.9289, Val Loss: 1.1820, Test Loss: 1.0687\n",
            "Epoch 59, Train Loss: 0.9004, Val Loss: 1.1755, Test Loss: 1.1289\n",
            "Epoch 69, Train Loss: 0.8771, Val Loss: 1.2177, Test Loss: 1.0812\n",
            "Epoch 79, Train Loss: 0.8293, Val Loss: 1.2924, Test Loss: 1.3725\n",
            "Epoch 89, Train Loss: 0.7877, Val Loss: 1.3881, Test Loss: 1.7026\n",
            "Epoch 99, Train Loss: 0.8503, Val Loss: 1.5793, Test Loss: 1.8766\n",
            "Epoch 109, Train Loss: 0.9324, Val Loss: 1.7096, Test Loss: 1.0779\n",
            "Epoch 119, Train Loss: 0.8781, Val Loss: 1.5782, Test Loss: 0.8309\n",
            "Epoch 129, Train Loss: 0.8585, Val Loss: 1.5634, Test Loss: 0.8500\n",
            "Epoch 139, Train Loss: 0.8352, Val Loss: 1.5567, Test Loss: 1.0913\n",
            "Epoch 149, Train Loss: 0.8027, Val Loss: 1.4996, Test Loss: 1.2324\n",
            "Epoch 159, Train Loss: 0.7825, Val Loss: 1.6032, Test Loss: 1.2848\n",
            "Epoch 169, Train Loss: 0.7551, Val Loss: 1.5456, Test Loss: 1.4749\n",
            "Epoch 179, Train Loss: 0.7320, Val Loss: 1.5431, Test Loss: 1.7170\n",
            "Epoch 189, Train Loss: 0.7053, Val Loss: 1.5636, Test Loss: 1.9905\n",
            "Epoch 199, Train Loss: 0.6871, Val Loss: 1.6189, Test Loss: 2.1701\n",
            "Epoch 209, Train Loss: 0.6581, Val Loss: 1.5381, Test Loss: 2.1965\n",
            "Epoch 219, Train Loss: 0.6366, Val Loss: 1.6145, Test Loss: 2.3265\n",
            "Epoch 229, Train Loss: 0.6157, Val Loss: 1.5741, Test Loss: 2.6442\n",
            "Epoch 239, Train Loss: 0.5953, Val Loss: 1.5627, Test Loss: 2.8444\n",
            "Epoch 249, Train Loss: 0.5702, Val Loss: 1.5319, Test Loss: 3.1692\n",
            "Epoch 259, Train Loss: 0.5596, Val Loss: 1.4963, Test Loss: 3.4459\n",
            "Epoch 269, Train Loss: 0.5336, Val Loss: 1.5195, Test Loss: 3.9338\n",
            "Epoch 279, Train Loss: 0.5065, Val Loss: 1.4807, Test Loss: 4.1956\n",
            "Epoch 289, Train Loss: 0.4998, Val Loss: 1.5136, Test Loss: 3.8151\n",
            "Epoch 299, Train Loss: 0.4858, Val Loss: 1.5119, Test Loss: 4.1070\n",
            "Epoch 309, Train Loss: 0.4727, Val Loss: 1.4598, Test Loss: 4.5905\n",
            "Epoch 319, Train Loss: 0.4631, Val Loss: 1.5608, Test Loss: 4.6209\n",
            "Epoch 329, Train Loss: 0.4433, Val Loss: 1.5556, Test Loss: 4.9320\n",
            "Epoch 339, Train Loss: 0.4260, Val Loss: 1.6292, Test Loss: 4.8559\n",
            "Epoch 349, Train Loss: 0.4329, Val Loss: 1.6857, Test Loss: 4.8053\n",
            "Epoch 359, Train Loss: 0.4080, Val Loss: 1.6339, Test Loss: 4.3152\n",
            "Epoch 369, Train Loss: 0.3888, Val Loss: 1.6920, Test Loss: 4.0050\n",
            "Epoch 379, Train Loss: 0.3783, Val Loss: 1.7187, Test Loss: 4.5557\n",
            "Epoch 389, Train Loss: 0.3605, Val Loss: 1.7035, Test Loss: 4.6509\n",
            "Epoch 399, Train Loss: 0.3537, Val Loss: 1.6963, Test Loss: 4.5203\n",
            "Epoch 409, Train Loss: 0.3356, Val Loss: 1.6857, Test Loss: 4.5160\n",
            "Epoch 419, Train Loss: 0.3269, Val Loss: 1.7640, Test Loss: 4.4621\n",
            "Epoch 429, Train Loss: 0.3044, Val Loss: 1.7386, Test Loss: 4.6626\n",
            "Epoch 439, Train Loss: 0.3203, Val Loss: 1.6342, Test Loss: 4.5089\n",
            "Epoch 449, Train Loss: 0.2980, Val Loss: 1.7286, Test Loss: 4.4227\n",
            "Epoch 459, Train Loss: 0.2883, Val Loss: 1.8037, Test Loss: 4.6116\n",
            "Epoch 469, Train Loss: 0.2857, Val Loss: 1.8148, Test Loss: 4.5749\n",
            "Epoch 479, Train Loss: 0.2802, Val Loss: 1.6946, Test Loss: 4.8671\n",
            "Epoch 489, Train Loss: 0.2705, Val Loss: 1.7523, Test Loss: 4.7549\n",
            "Epoch 499, Train Loss: 0.2732, Val Loss: 1.7161, Test Loss: 4.5025\n",
            "Epoch 509, Train Loss: 0.2565, Val Loss: 1.6754, Test Loss: 4.4865\n",
            "Epoch 519, Train Loss: 0.2524, Val Loss: 1.8584, Test Loss: 4.3012\n",
            "Epoch 529, Train Loss: 0.2623, Val Loss: 1.8504, Test Loss: 4.1219\n",
            "Epoch 539, Train Loss: 0.2479, Val Loss: 1.7619, Test Loss: 4.1900\n",
            "Epoch 549, Train Loss: 0.2283, Val Loss: 1.8744, Test Loss: 4.1520\n",
            "Epoch 559, Train Loss: 0.2193, Val Loss: 1.7834, Test Loss: 4.2208\n",
            "Epoch 569, Train Loss: 0.2379, Val Loss: 1.8272, Test Loss: 4.4502\n",
            "Epoch 579, Train Loss: 0.2437, Val Loss: 1.9403, Test Loss: 4.1468\n",
            "Epoch 589, Train Loss: 0.2220, Val Loss: 1.7898, Test Loss: 3.9562\n",
            "Epoch 599, Train Loss: 0.2134, Val Loss: 1.7617, Test Loss: 3.8967\n",
            "Epoch 609, Train Loss: 0.2027, Val Loss: 1.9301, Test Loss: 4.1707\n",
            "Epoch 619, Train Loss: 0.2161, Val Loss: 1.7801, Test Loss: 4.2466\n",
            "Epoch 629, Train Loss: 0.2164, Val Loss: 1.8935, Test Loss: 4.0006\n",
            "Epoch 639, Train Loss: 0.2040, Val Loss: 1.9037, Test Loss: 4.0051\n",
            "Epoch 649, Train Loss: 0.1981, Val Loss: 1.8081, Test Loss: 4.0750\n",
            "Epoch 659, Train Loss: 0.1900, Val Loss: 1.8197, Test Loss: 4.1021\n",
            "Epoch 669, Train Loss: 0.1884, Val Loss: 1.8259, Test Loss: 4.2890\n",
            "Epoch 679, Train Loss: 0.1861, Val Loss: 1.8398, Test Loss: 4.0998\n",
            "Epoch 689, Train Loss: 0.1785, Val Loss: 1.7383, Test Loss: 4.0852\n",
            "Epoch 699, Train Loss: 0.1711, Val Loss: 1.9748, Test Loss: 3.8123\n",
            "Epoch 709, Train Loss: 0.1696, Val Loss: 1.8275, Test Loss: 3.9885\n",
            "Epoch 719, Train Loss: 0.1597, Val Loss: 2.0396, Test Loss: 3.9874\n",
            "Epoch 729, Train Loss: 0.1536, Val Loss: 1.9602, Test Loss: 3.9317\n",
            "Epoch 739, Train Loss: 0.1543, Val Loss: 1.9116, Test Loss: 3.7251\n",
            "Epoch 749, Train Loss: 0.1493, Val Loss: 1.9854, Test Loss: 3.8673\n",
            "Epoch 759, Train Loss: 0.1418, Val Loss: 1.9360, Test Loss: 3.8824\n",
            "Epoch 769, Train Loss: 0.1434, Val Loss: 2.0490, Test Loss: 3.7710\n",
            "Epoch 779, Train Loss: 0.1387, Val Loss: 1.9553, Test Loss: 3.8851\n",
            "Epoch 789, Train Loss: 0.1381, Val Loss: 1.9694, Test Loss: 3.8902\n",
            "Epoch 799, Train Loss: 0.1344, Val Loss: 2.0715, Test Loss: 3.8730\n",
            "Epoch 809, Train Loss: 0.1325, Val Loss: 1.9040, Test Loss: 3.8971\n",
            "Epoch 819, Train Loss: 0.1342, Val Loss: 2.0379, Test Loss: 3.6300\n",
            "Epoch 829, Train Loss: 0.1708, Val Loss: 1.8382, Test Loss: 3.6044\n",
            "Epoch 839, Train Loss: 0.1505, Val Loss: 2.2059, Test Loss: 3.2422\n",
            "Epoch 849, Train Loss: 0.1401, Val Loss: 2.1665, Test Loss: 3.5660\n",
            "Epoch 859, Train Loss: 0.1282, Val Loss: 2.1078, Test Loss: 3.6243\n",
            "Epoch 869, Train Loss: 0.1307, Val Loss: 2.1099, Test Loss: 3.5630\n",
            "Epoch 879, Train Loss: 0.1202, Val Loss: 2.1802, Test Loss: 3.5201\n",
            "Epoch 889, Train Loss: 0.1183, Val Loss: 2.1425, Test Loss: 3.6260\n",
            "Epoch 899, Train Loss: 0.1198, Val Loss: 2.1090, Test Loss: 3.5162\n",
            "Epoch 909, Train Loss: 0.1282, Val Loss: 2.0717, Test Loss: 3.4353\n",
            "Epoch 919, Train Loss: 0.1228, Val Loss: 1.8521, Test Loss: 3.6246\n",
            "Epoch 929, Train Loss: 0.1172, Val Loss: 1.9775, Test Loss: 3.5557\n",
            "Epoch 939, Train Loss: 0.1101, Val Loss: 1.8983, Test Loss: 3.4011\n",
            "Epoch 949, Train Loss: 0.1037, Val Loss: 2.0763, Test Loss: 3.3904\n",
            "Epoch 959, Train Loss: 0.0985, Val Loss: 2.1035, Test Loss: 3.3244\n",
            "Epoch 969, Train Loss: 0.0998, Val Loss: 2.0249, Test Loss: 3.3915\n",
            "Epoch 979, Train Loss: 0.0935, Val Loss: 1.9819, Test Loss: 3.3559\n",
            "Epoch 989, Train Loss: 0.0877, Val Loss: 1.9804, Test Loss: 3.2609\n",
            "Epoch 999, Train Loss: 0.0900, Val Loss: 1.9913, Test Loss: 3.2364\n",
            "Test Loss: 3.3339\n",
            "Std: 0.9069\n",
            "Error Range: 2.0133\n"
          ]
        }
      ],
      "source": [
        "model, criterion = train(X_train, X_val, X_test, y_train, y_val, y_test)\n",
        "model.eval()\n",
        "with torch.no_grad():\n",
        "    outputs = model(X_test)\n",
        "    loss = criterion(outputs, y_test)\n",
        "    std = y_test.std()\n",
        "    print(f'Test Loss: {loss.item():.4f}')\n",
        "    print(f'Std: {std:.4f}')\n",
        "    print(f'Error Range: {loss.sqrt() / std:.4f}')"
      ]
    },
    {
      "cell_type": "code",
      "execution_count": 1037,
      "metadata": {
        "id": "wXagcfMoJmiT"
      },
      "outputs": [],
      "source": [
        "def visualize(pred, ref, limit=1000):\n",
        "    time = np.arange(len(pred))\n",
        "\n",
        "    plt.plot(time[-limit:], pred[-limit:], label='Predicted Price', color='blue')\n",
        "    plt.plot(time[-limit:], ref[-limit:], label='Real Price', color='orange')\n",
        "    plt.xlabel('Trade Day')\n",
        "    plt.ylabel('Value')\n",
        "    plt.grid(True)\n",
        "    plt.legend()\n",
        "\n",
        "    plt.tight_layout()\n",
        "    plt.show()"
      ]
    },
    {
      "cell_type": "code",
      "execution_count": 1038,
      "metadata": {
        "colab": {
          "base_uri": "https://localhost:8080/",
          "height": 523
        },
        "id": "ZO8ThK7kUpsJ",
        "outputId": "a07e20f5-d9e0-4209-e20a-f98cabdcd459"
      },
      "outputs": [
        {
          "output_type": "display_data",
          "data": {
            "text/plain": [
              "<Figure size 640x480 with 1 Axes>"
            ],
            "image/png": "[encoded data removed]"
          },
          "metadata": {}
        },
        {
          "output_type": "execute_result",
          "data": {
            "text/plain": [
              "array([[1.        , 0.84710462],\n",
              "       [0.84710462, 1.        ]])"
            ]
          },
          "metadata": {},
          "execution_count": 1038
        }
      ],
      "source": [
        "y_ref1 = y.squeeze().cpu()\n",
        "with torch.no_grad():\n",
        "    y_pred1 = model(X).squeeze().cpu()\n",
        "visualize(y_pred1, y_ref1, 100)\n",
        "np.corrcoef(y_pred1, y_ref1)"
      ]
    },
    {
      "cell_type": "code",
      "execution_count": 1039,
      "metadata": {
        "colab": {
          "base_uri": "https://localhost:8080/",
          "height": 505
        },
        "id": "300a12eqJmiT",
        "outputId": "4c1204b6-8571-40a3-e750-4b4b9904169e"
      },
      "outputs": [
        {
          "output_type": "display_data",
          "data": {
            "text/plain": [
              "<Figure size 640x480 with 1 Axes>"
            ],
            "image/png": "[encoded data removed]"
          },
          "metadata": {}
        },
        {
          "output_type": "execute_result",
          "data": {
            "text/plain": [
              "0.04044064129828616"
            ]
          },
          "metadata": {},
          "execution_count": 1039
        }
      ],
      "source": [
        "y_ref2 = y_val.squeeze().cpu()\n",
        "with torch.no_grad():\n",
        "    y_pred2 = model(X_val).squeeze().cpu()\n",
        "visualize(y_pred2, y_ref2)\n",
        "np.corrcoef(y_pred2, y_ref2)[0, 1]"
      ]
    },
    {
      "cell_type": "code",
      "execution_count": 1040,
      "metadata": {
        "colab": {
          "base_uri": "https://localhost:8080/",
          "height": 505
        },
        "id": "k1laWgGJlqGX",
        "outputId": "874f6163-2eb4-427d-bb40-fbc2f2410686"
      },
      "outputs": [
        {
          "output_type": "display_data",
          "data": {
            "text/plain": [
              "<Figure size 640x480 with 1 Axes>"
            ],
            "image/png": "[encoded data removed]"
          },
          "metadata": {}
        },
        {
          "output_type": "execute_result",
          "data": {
            "text/plain": [
              "0.1666100614049472"
            ]
          },
          "metadata": {},
          "execution_count": 1040
        }
      ],
      "source": [
        "y_ref3 = y_test.squeeze().cpu()\n",
        "with torch.no_grad():\n",
        "    y_pred3 = model(X_test).squeeze().cpu()\n",
        "visualize(y_pred3, y_ref3)\n",
        "np.corrcoef(y_pred3, y_ref3)[0, 1]"
      ]
    },
    {
      "cell_type": "code",
      "execution_count": 1041,
      "metadata": {
        "colab": {
          "base_uri": "https://localhost:8080/"
        },
        "id": "AiQh6oSzD1Uu",
        "outputId": "255fe0ad-d3e1-40d1-a560-ff04dedd16c8"
      },
      "outputs": [
        {
          "output_type": "execute_result",
          "data": {
            "text/plain": [
              "(array([95.27, 98.12, 96.05, 95.46, 93.68, 97.25, 97.52, 96.32, 97.18,\n",
              "        99.22]),\n",
              " tensor([-0.1477,  2.6067, -1.8438, -0.7613,  1.3232,  3.7111,  0.3272, -1.5854,\n",
              "          0.5730,  2.3338]),\n",
              " array([ 0.18,  2.85, -2.07, -0.59, -1.78,  3.57,  0.27, -1.2 ,  0.86,\n",
              "         2.04]))"
            ]
          },
          "metadata": {},
          "execution_count": 1041
        }
      ],
      "source": [
        "pred_delta = y_pred1 * df_gp['delta'].std() + df_gp['delta'].mean()\n",
        "real_price = df_gp['close'][st:].to_numpy()\n",
        "real_delta =  df_gp['delta'][st:].to_numpy()\n",
        "real_price[:10], pred_delta[:10], real_delta[:10]"
      ]
    },
    {
      "cell_type": "code",
      "execution_count": 1042,
      "metadata": {
        "colab": {
          "base_uri": "https://localhost:8080/"
        },
        "id": "Tz1PUfN1sRjL",
        "outputId": "33a22601-4ba5-4705-b18c-7e3fa4b691c2"
      },
      "outputs": [
        {
          "output_type": "stream",
          "name": "stdout",
          "text": [
            "train size:torch.Size([407, 50, 3]), val size: torch.Size([22, 50, 3]), test size: torch.Size([23, 50, 3])\n",
            "Epoch 999, Train Loss: 0.0431, Val Loss: 1.6363, Test Loss: 0.7714\n",
            "Epoch 999, Train Loss: 0.0722, Val Loss: 0.6681, Test Loss: 0.7368\n",
            "Epoch 999, Train Loss: 0.0775, Val Loss: 1.8027, Test Loss: 0.8833\n",
            "Epoch 999, Train Loss: 0.0875, Val Loss: 0.9177, Test Loss: 0.5485\n",
            "Epoch 999, Train Loss: 0.0468, Val Loss: 0.5813, Test Loss: 0.4142\n",
            "Epoch 999, Train Loss: 0.0891, Val Loss: 1.9452, Test Loss: 1.4902\n",
            "Epoch 999, Train Loss: 0.0632, Val Loss: 0.8522, Test Loss: 1.3666\n",
            "Epoch 999, Train Loss: 0.0480, Val Loss: 1.3486, Test Loss: 0.6341\n",
            "Epoch 999, Train Loss: 0.0860, Val Loss: 0.9852, Test Loss: 0.9766\n",
            "Epoch 999, Train Loss: 0.0416, Val Loss: 0.8609, Test Loss: 1.2661\n",
            "Epoch 999, Train Loss: 0.0481, Val Loss: 1.0146, Test Loss: 1.8937\n",
            "Epoch 999, Train Loss: 0.0539, Val Loss: 0.5391, Test Loss: 0.7546\n",
            "Epoch 999, Train Loss: 0.0576, Val Loss: 0.7117, Test Loss: 1.1180\n",
            "Epoch 999, Train Loss: 0.0427, Val Loss: 0.5865, Test Loss: 1.0651\n",
            "Epoch 999, Train Loss: 0.0498, Val Loss: 0.7358, Test Loss: 2.4998\n",
            "Epoch 999, Train Loss: 0.0583, Val Loss: 0.9759, Test Loss: 1.7517\n",
            "Epoch 999, Train Loss: 0.0724, Val Loss: 1.5579, Test Loss: 0.6541\n",
            "Epoch 999, Train Loss: 0.0764, Val Loss: 1.1360, Test Loss: 0.8991\n",
            "Epoch 999, Train Loss: 0.0481, Val Loss: 1.4201, Test Loss: 0.6145\n",
            "Epoch 999, Train Loss: 0.0478, Val Loss: 0.9250, Test Loss: 0.8682\n"
          ]
        }
      ],
      "source": [
        "df_sim = simulate(X, y, real_delta, real_price)"
      ]
    },
    {
      "cell_type": "code",
      "source": [
        "from google.colab import files\n",
        "df_sim.to_csv(f\"{ticker}_sim.csv\", index=False)\n",
        "files.download(f\"{ticker}_sim.csv\")"
      ],
      "metadata": {
        "colab": {
          "base_uri": "https://localhost:8080/",
          "height": 17
        },
        "id": "J-kAhaiaA58q",
        "outputId": "1199c7cf-ba77-44d8-ee18-321da53b2a15"
      },
      "execution_count": 1043,
      "outputs": [
        {
          "output_type": "display_data",
          "data": {
            "text/plain": [
              "<IPython.core.display.Javascript object>"
            ],
            "application/javascript": [
              "\n",
              "    async function download(id, filename, size) {\n",
              "      if (!google.colab.kernel.accessAllowed) {\n",
              "        return;\n",
              "      }\n",
              "      const div = document.createElement('div');\n",
              "      const label = document.createElement('label');\n",
              "      label.textContent = `Downloading \"${filename}\": `;\n",
              "      div.appendChild(label);\n",
              "      const progress = document.createElement('progress');\n",
              "      progress.max = size;\n",
              "      div.appendChild(progress);\n",
              "      document.body.appendChild(div);\n",
              "\n",
              "      const buffers = [];\n",
              "      let downloaded = 0;\n",
              "\n",
              "      const channel = await google.colab.kernel.comms.open(id);\n",
              "      // Send a message to notify the kernel that we're ready.\n",
              "      channel.send({})\n",
              "\n",
              "      for await (const message of channel.messages) {\n",
              "        // Send a message to notify the kernel that we're ready.\n",
              "        channel.send({})\n",
              "        if (message.buffers) {\n",
              "          for (const buffer of message.buffers) {\n",
              "            buffers.push(buffer);\n",
              "            downloaded += buffer.byteLength;\n",
              "            progress.value = downloaded;\n",
              "          }\n",
              "        }\n",
              "      }\n",
              "      const blob = new Blob(buffers, {type: 'application/binary'});\n",
              "      const a = document.createElement('a');\n",
              "      a.href = window.URL.createObjectURL(blob);\n",
              "      a.download = filename;\n",
              "      div.appendChild(a);\n",
              "      a.click();\n",
              "      div.remove();\n",
              "    }\n",
              "  "
            ]
          },
          "metadata": {}
        },
        {
          "output_type": "display_data",
          "data": {
            "text/plain": [
              "<IPython.core.display.Javascript object>"
            ],
            "application/javascript": [
              "download(\"download_d80d1ee0-1e1d-4512-b7ba-8052a35a993f\", \"AMZN_sim.csv\", 30268)"
            ]
          },
          "metadata": {}
        }
      ]
    },
    {
      "cell_type": "code",
      "source": [
        "np.corrcoef(df_sim['pred_delta_ratio'], df_sim['real_delta_ratio'])"
      ],
      "metadata": {
        "colab": {
          "base_uri": "https://localhost:8080/"
        },
        "id": "n168qQlc5xzK",
        "outputId": "281db0ff-0d32-4d30-b1f7-32cbd9fd0f1d"
      },
      "execution_count": 1044,
      "outputs": [
        {
          "output_type": "execute_result",
          "data": {
            "text/plain": [
              "array([[1.        , 0.33328971],\n",
              "       [0.33328971, 1.        ]])"
            ]
          },
          "metadata": {},
          "execution_count": 1044
        }
      ]
    },
    {
      "cell_type": "code",
      "source": [
        "np.corrcoef(df_sim['pred_delta'], df_sim['real_delta'])"
      ],
      "metadata": {
        "colab": {
          "base_uri": "https://localhost:8080/"
        },
        "id": "lBqgPAahOs9k",
        "outputId": "f357ad35-bfb3-449f-9de7-88b1588328f0"
      },
      "execution_count": 1045,
      "outputs": [
        {
          "output_type": "execute_result",
          "data": {
            "text/plain": [
              "array([[1.        , 0.33073904],\n",
              "       [0.33073904, 1.        ]])"
            ]
          },
          "metadata": {},
          "execution_count": 1045
        }
      ]
    },
    {
      "cell_type": "code",
      "execution_count": 1046,
      "metadata": {
        "id": "epolGh6aRfi5"
      },
      "outputs": [],
      "source": [
        "def sigmoid(x, k=1):\n",
        "    return np.array(1 / (1 + np.exp(-k * x)))"
      ]
    },
    {
      "cell_type": "code",
      "execution_count": 1047,
      "metadata": {
        "id": "3ypZyS7cZ7q3"
      },
      "outputs": [],
      "source": [
        "def arctan(x, k=1):\n",
        "  return np.array(np.arctan(k * x) / (np.pi / 4))"
      ]
    },
    {
      "cell_type": "code",
      "execution_count": 1048,
      "metadata": {
        "id": "BdJutI9JcKzk"
      },
      "outputs": [],
      "source": [
        "def sharpe_ratio(capital, risk_free=0.0):\n",
        "    returns = np.diff(capital) / capital[:-1]\n",
        "    excess = np.mean(returns - risk_free)\n",
        "    std_dev = np.std(returns)\n",
        "    return (excess / std_dev) * np.sqrt(252)"
      ]
    },
    {
      "cell_type": "code",
      "execution_count": 1049,
      "metadata": {
        "id": "QvGJhmhVH0h3"
      },
      "outputs": [],
      "source": [
        "def trade(ratios, prices):\n",
        "    capital = []\n",
        "    currency = [1.0]\n",
        "    position = [0.0]\n",
        "    for ratio, price in zip(ratios[1:], prices[:-1]):\n",
        "        money = currency[-1] + position[-1] * price\n",
        "        assert money >= 0, \"Bankruptcy\"\n",
        "        capital.append(money)\n",
        "        nxt_cur = money * (1 - ratio)\n",
        "        nxt_pos = money * ratio / price\n",
        "        currency.append(nxt_cur)\n",
        "        position.append(nxt_pos)\n",
        "    money = currency[-1] + position[-1] * prices[-1]\n",
        "    capital.append(money)\n",
        "\n",
        "    return pd.DataFrame({\n",
        "        'ratios': ratios,\n",
        "        'prices': prices,\n",
        "        'capital': capital,\n",
        "        'currency': currency,\n",
        "        'position': position\n",
        "    })"
      ]
    },
    {
      "cell_type": "code",
      "source": [
        "annual_risk_free = 0.04\n",
        "daily_risk_free = (1+annual_risk_free) ** (1/252) - 1\n",
        "daily_risk_free"
      ],
      "metadata": {
        "colab": {
          "base_uri": "https://localhost:8080/"
        },
        "id": "2ACo7JMBSCXp",
        "outputId": "62b1dd71-4aed-4c2a-d397-c8c97d114c52"
      },
      "execution_count": 1050,
      "outputs": [
        {
          "output_type": "execute_result",
          "data": {
            "text/plain": [
              "0.0001556498627912628"
            ]
          },
          "metadata": {},
          "execution_count": 1050
        }
      ]
    },
    {
      "cell_type": "code",
      "execution_count": 1051,
      "metadata": {
        "colab": {
          "base_uri": "https://localhost:8080/"
        },
        "id": "oiBwq5B-Mggh",
        "outputId": "3bdec95d-fede-4c5f-ecec-74878dc4a0b6"
      },
      "outputs": [
        {
          "output_type": "execute_result",
          "data": {
            "text/plain": [
              "(2.003043980266611, 2.003043980266612)"
            ]
          },
          "metadata": {},
          "execution_count": 1051
        }
      ],
      "source": [
        "ratios1, prices1 = np.ones(len(real_price), dtype=float), real_price\n",
        "df_trade1 = trade(ratios1, prices1)\n",
        "df_trade1['prices'].iloc[-1] / df_trade1['prices'].iloc[0], df_trade1['capital'].iloc[-1]"
      ]
    },
    {
      "cell_type": "code",
      "execution_count": 1052,
      "metadata": {
        "colab": {
          "base_uri": "https://localhost:8080/"
        },
        "id": "JMFiZr7bNQL1",
        "outputId": "b3f52ead-fea5-45f5-a2ed-386ad42ae8ac"
      },
      "outputs": [
        {
          "output_type": "execute_result",
          "data": {
            "text/plain": [
              "(2.003043980266611, 21.430361292693988)"
            ]
          },
          "metadata": {},
          "execution_count": 1052
        }
      ],
      "source": [
        "ratios2, prices2 = sigmoid(pred_delta, 5), real_price\n",
        "df_trade2 = trade(ratios2, prices2)\n",
        "df_trade2['prices'].iloc[-1] / df_trade2['prices'].iloc[0], df_trade2['capital'].iloc[-1]"
      ]
    },
    {
      "cell_type": "code",
      "execution_count": 1053,
      "metadata": {
        "colab": {
          "base_uri": "https://localhost:8080/"
        },
        "id": "F4qFVT9hSF5F",
        "outputId": "4a00b0e9-dc2e-452d-9824-b4305cce317a"
      },
      "outputs": [
        {
          "output_type": "execute_result",
          "data": {
            "text/plain": [
              "(2.003043980266611, 2656.4025311988635)"
            ]
          },
          "metadata": {},
          "execution_count": 1053
        }
      ],
      "source": [
        "ratios3, prices3 = arctan(pred_delta, 1), real_price\n",
        "df_trade3 = trade(ratios3, prices3)\n",
        "df_trade3['prices'].iloc[-1] / df_trade3['prices'].iloc[0], df_trade3['capital'].iloc[-1]"
      ]
    },
    {
      "cell_type": "code",
      "execution_count": 1054,
      "metadata": {
        "colab": {
          "base_uri": "https://localhost:8080/"
        },
        "id": "dkjcDddccm8T",
        "outputId": "b0081c76-f0fa-4189-cd19-d558e27252cb"
      },
      "outputs": [
        {
          "output_type": "execute_result",
          "data": {
            "text/plain": [
              "(2.003043980266611, 1.9921703726902598)"
            ]
          },
          "metadata": {},
          "execution_count": 1054
        }
      ],
      "source": [
        "ma50 = df_gp['50_ma'][st:].to_numpy()\n",
        "ma200 = df_gp['200_ma'][st:].to_numpy()\n",
        "ratios4, prices4 = (ma50 >= ma200).astype(int), real_price\n",
        "df_trade4 = trade(ratios4, prices4)\n",
        "df_trade4['prices'].iloc[-1] / df_trade4['prices'].iloc[0], df_trade4['capital'].iloc[-1]"
      ]
    },
    {
      "cell_type": "code",
      "source": [
        "ratios5, prices5 = sigmoid(df_sim['pred_delta'], 5), real_price\n",
        "df_trade5 = trade(ratios5, prices5)\n",
        "df_trade5['prices'].iloc[-1] / df_trade5['prices'].iloc[0], df_trade5['capital'].iloc[-1]"
      ],
      "metadata": {
        "colab": {
          "base_uri": "https://localhost:8080/"
        },
        "id": "HMY8IHOyO3uU",
        "outputId": "71451255-3496-4514-f6c2-949be1f2cc18"
      },
      "execution_count": 1055,
      "outputs": [
        {
          "output_type": "execute_result",
          "data": {
            "text/plain": [
              "(2.003043980266611, 4.451961034273296)"
            ]
          },
          "metadata": {},
          "execution_count": 1055
        }
      ]
    },
    {
      "cell_type": "code",
      "source": [
        "ratios6, prices6 = arctan(df_sim['pred_delta'], 1), real_price\n",
        "df_trade6 = trade(ratios6, prices6)\n",
        "df_trade6['prices'].iloc[-1] / df_trade6['prices'].iloc[0], df_trade6['capital'].iloc[-1]"
      ],
      "metadata": {
        "colab": {
          "base_uri": "https://localhost:8080/"
        },
        "id": "z2VEkhQwckMO",
        "outputId": "fd64eb96-5128-45e3-ca67-56409f3665ed"
      },
      "execution_count": 1056,
      "outputs": [
        {
          "output_type": "execute_result",
          "data": {
            "text/plain": [
              "(2.003043980266611, 19.08929331152316)"
            ]
          },
          "metadata": {},
          "execution_count": 1056
        }
      ]
    },
    {
      "cell_type": "code",
      "execution_count": 1057,
      "metadata": {
        "colab": {
          "base_uri": "https://localhost:8080/"
        },
        "id": "IO5jLY11ZfjY",
        "outputId": "7dc3afc3-329f-413a-de33-53474162e586"
      },
      "outputs": [
        {
          "output_type": "stream",
          "name": "stdout",
          "text": [
            "Always hold stock: (Sharpe)1.31, (Yield)2.00\n",
            "Simple long-short term strategy: (Sharpe)1.38, (Yield)1.99\n",
            "Our strategy (no short selling): (Sharpe)3.74, (Yield)4.45\n",
            "Our strategy (short selling): (Sharpe)4.61, (Yield)19.09\n"
          ]
        }
      ],
      "source": [
        "print(f\"Always hold stock: (Sharpe){sharpe_ratio(df_trade1['capital'], daily_risk_free):.2f}, (Yield){df_trade1['capital'].iloc[-1]:.2f}\")\n",
        "print(f\"Simple long-short term strategy: (Sharpe){sharpe_ratio(df_trade4['capital'], daily_risk_free):.2f}, (Yield){df_trade4['capital'].iloc[-1]:.2f}\")\n",
        "print(f\"Our strategy (no short selling): (Sharpe){sharpe_ratio(df_trade5['capital'], daily_risk_free):.2f}, (Yield){df_trade5['capital'].iloc[-1]:.2f}\")\n",
        "print(f\"Our strategy (short selling): (Sharpe){sharpe_ratio(df_trade6['capital'], daily_risk_free):.2f}, (Yield){df_trade6['capital'].iloc[-1]:.2f}\")"
      ]
    },
    {
      "cell_type": "code",
      "source": [],
      "metadata": {
        "id": "I7XmQGmYPPaC"
      },
      "execution_count": 1057,
      "outputs": []
    }
  ],
  "metadata": {
    "accelerator": "GPU",
    "colab": {
      "gpuType": "T4",
      "provenance": []
    },
    "kernelspec": {
      "display_name": "Python 3",
      "name": "python3"
    },
    "language_info": {
      "codemirror_mode": {
        "name": "ipython",
        "version": 3
      },
      "file_extension": ".py",
      "mimetype": "text/x-python",
      "name": "python",
      "nbconvert_exporter": "python",
      "pygments_lexer": "ipython3",
      "version": "3.12.4"
    }
  },
  "nbformat": 4,
  "nbformat_minor": 0
}