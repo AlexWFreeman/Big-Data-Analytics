{
 "cells": [
  {
   "cell_type": "code",
   "execution_count": 2461,
   "metadata": {},
   "outputs": [],
   "source": [
    "import numpy as np\n",
    "import pandas as pd\n",
    "from sklearn.model_selection import train_test_split\n",
    "from sklearn.linear_model import LinearRegression\n",
    "from sklearn.metrics import mean_squared_error, r2_score\n",
    "from sklearn.preprocessing import MinMaxScaler, StandardScaler\n",
    "import torch\n",
    "import torch.nn as nn\n",
    "import torch.optim as optim"
   ]
  },
  {
   "cell_type": "code",
   "execution_count": 2462,
   "metadata": {},
   "outputs": [],
   "source": [
    "def concat_df(df_train, df_test, time_col='time', time_split='2024-10-30'):\n",
    "    df_train = df_train[df_train[time_col] < time_split]\n",
    "    df_test = df_test[df_test[time_col] >= time_split]\n",
    "    return pd.concat([df_train, df_test], axis=0, ignore_index=True)"
   ]
  },
  {
   "cell_type": "code",
   "execution_count": 2463,
   "metadata": {},
   "outputs": [
    {
     "data": {
      "text/html": [
       "<div>\n",
       "<style scoped>\n",
       "    .dataframe tbody tr th:only-of-type {\n",
       "        vertical-align: middle;\n",
       "    }\n",
       "\n",
       "    .dataframe tbody tr th {\n",
       "        vertical-align: top;\n",
       "    }\n",
       "\n",
       "    .dataframe thead th {\n",
       "        text-align: right;\n",
       "    }\n",
       "</style>\n",
       "<table border=\"1\" class=\"dataframe\">\n",
       "  <thead>\n",
       "    <tr style=\"text-align: right;\">\n",
       "      <th></th>\n",
       "      <th>ticker</th>\n",
       "      <th>sentiment</th>\n",
       "      <th>sentiment_reasoning</th>\n",
       "      <th>news_id</th>\n",
       "      <th>source_ticker</th>\n",
       "      <th>time</th>\n",
       "    </tr>\n",
       "  </thead>\n",
       "  <tbody>\n",
       "    <tr>\n",
       "      <th>0</th>\n",
       "      <td>NFLX</td>\n",
       "      <td>positive</td>\n",
       "      <td>The article indicates that significant investo...</td>\n",
       "      <td>d913f8609f0266a3934c767e3e08b5cb3a5b907373cf4c...</td>\n",
       "      <td>NFLX</td>\n",
       "      <td>2024-07-02 17:46:38</td>\n",
       "    </tr>\n",
       "    <tr>\n",
       "      <th>1</th>\n",
       "      <td>AMZN</td>\n",
       "      <td>positive</td>\n",
       "      <td>AWS is mentioned as one of the biggest names i...</td>\n",
       "      <td>8acd1c36c41725f571ef8611bcecdb9223800381a2543b...</td>\n",
       "      <td>MSFT</td>\n",
       "      <td>2024-07-02 17:46:57</td>\n",
       "    </tr>\n",
       "    <tr>\n",
       "      <th>2</th>\n",
       "      <td>MSFT</td>\n",
       "      <td>positive</td>\n",
       "      <td>Microsoft is mentioned as one of the prominent...</td>\n",
       "      <td>8acd1c36c41725f571ef8611bcecdb9223800381a2543b...</td>\n",
       "      <td>GOOGL</td>\n",
       "      <td>2024-07-02 17:46:57</td>\n",
       "    </tr>\n",
       "    <tr>\n",
       "      <th>3</th>\n",
       "      <td>GOOG</td>\n",
       "      <td>positive</td>\n",
       "      <td>Google is also mentioned as one of the promine...</td>\n",
       "      <td>8acd1c36c41725f571ef8611bcecdb9223800381a2543b...</td>\n",
       "      <td>GOOGL</td>\n",
       "      <td>2024-07-02 17:46:57</td>\n",
       "    </tr>\n",
       "    <tr>\n",
       "      <th>4</th>\n",
       "      <td>GOOGL</td>\n",
       "      <td>positive</td>\n",
       "      <td>Google is also mentioned as one of the promine...</td>\n",
       "      <td>8acd1c36c41725f571ef8611bcecdb9223800381a2543b...</td>\n",
       "      <td>GOOGL</td>\n",
       "      <td>2024-07-02 17:46:57</td>\n",
       "    </tr>\n",
       "    <tr>\n",
       "      <th>...</th>\n",
       "      <td>...</td>\n",
       "      <td>...</td>\n",
       "      <td>...</td>\n",
       "      <td>...</td>\n",
       "      <td>...</td>\n",
       "      <td>...</td>\n",
       "    </tr>\n",
       "    <tr>\n",
       "      <th>30144</th>\n",
       "      <td>PINS</td>\n",
       "      <td>negative</td>\n",
       "      <td>Pinterest's revenue growth is decelerating, go...</td>\n",
       "      <td>784b3e4ed634caf42b5231185445266ad2ba5e496af7cb...</td>\n",
       "      <td>AMZN</td>\n",
       "      <td>2024-11-29 15:30:00</td>\n",
       "    </tr>\n",
       "    <tr>\n",
       "      <th>30145</th>\n",
       "      <td>AMZN</td>\n",
       "      <td>neutral</td>\n",
       "      <td>Amazon is facing slowing growth and increased ...</td>\n",
       "      <td>784b3e4ed634caf42b5231185445266ad2ba5e496af7cb...</td>\n",
       "      <td>AMZN</td>\n",
       "      <td>2024-11-29 15:30:00</td>\n",
       "    </tr>\n",
       "    <tr>\n",
       "      <th>30146</th>\n",
       "      <td>NVDA</td>\n",
       "      <td>neutral</td>\n",
       "      <td>The article provides an update on Nvidia but d...</td>\n",
       "      <td>35df0d912c3dfd75abf8102bd782257a02b725eab618c4...</td>\n",
       "      <td>NVDA</td>\n",
       "      <td>2024-11-29 15:41:31</td>\n",
       "    </tr>\n",
       "    <tr>\n",
       "      <th>30147</th>\n",
       "      <td>NVDA</td>\n",
       "      <td>positive</td>\n",
       "      <td>The Motley Fool has positions in and recommend...</td>\n",
       "      <td>f7662caac2faa279ca952fbb1b8f90fe30b6c575b50714...</td>\n",
       "      <td>NVDA</td>\n",
       "      <td>2024-11-29 15:42:45</td>\n",
       "    </tr>\n",
       "    <tr>\n",
       "      <th>30148</th>\n",
       "      <td>SMCI</td>\n",
       "      <td>negative</td>\n",
       "      <td>The article mentions that Super Micro Computer...</td>\n",
       "      <td>f7662caac2faa279ca952fbb1b8f90fe30b6c575b50714...</td>\n",
       "      <td>NVDA</td>\n",
       "      <td>2024-11-29 15:42:45</td>\n",
       "    </tr>\n",
       "  </tbody>\n",
       "</table>\n",
       "<p>30149 rows × 6 columns</p>\n",
       "</div>"
      ],
      "text/plain": [
       "      ticker sentiment                                sentiment_reasoning  \\\n",
       "0       NFLX  positive  The article indicates that significant investo...   \n",
       "1       AMZN  positive  AWS is mentioned as one of the biggest names i...   \n",
       "2       MSFT  positive  Microsoft is mentioned as one of the prominent...   \n",
       "3       GOOG  positive  Google is also mentioned as one of the promine...   \n",
       "4      GOOGL  positive  Google is also mentioned as one of the promine...   \n",
       "...      ...       ...                                                ...   \n",
       "30144   PINS  negative  Pinterest's revenue growth is decelerating, go...   \n",
       "30145   AMZN   neutral  Amazon is facing slowing growth and increased ...   \n",
       "30146   NVDA   neutral  The article provides an update on Nvidia but d...   \n",
       "30147   NVDA  positive  The Motley Fool has positions in and recommend...   \n",
       "30148   SMCI  negative  The article mentions that Super Micro Computer...   \n",
       "\n",
       "                                                 news_id source_ticker  \\\n",
       "0      d913f8609f0266a3934c767e3e08b5cb3a5b907373cf4c...          NFLX   \n",
       "1      8acd1c36c41725f571ef8611bcecdb9223800381a2543b...          MSFT   \n",
       "2      8acd1c36c41725f571ef8611bcecdb9223800381a2543b...         GOOGL   \n",
       "3      8acd1c36c41725f571ef8611bcecdb9223800381a2543b...         GOOGL   \n",
       "4      8acd1c36c41725f571ef8611bcecdb9223800381a2543b...         GOOGL   \n",
       "...                                                  ...           ...   \n",
       "30144  784b3e4ed634caf42b5231185445266ad2ba5e496af7cb...          AMZN   \n",
       "30145  784b3e4ed634caf42b5231185445266ad2ba5e496af7cb...          AMZN   \n",
       "30146  35df0d912c3dfd75abf8102bd782257a02b725eab618c4...          NVDA   \n",
       "30147  f7662caac2faa279ca952fbb1b8f90fe30b6c575b50714...          NVDA   \n",
       "30148  f7662caac2faa279ca952fbb1b8f90fe30b6c575b50714...          NVDA   \n",
       "\n",
       "                     time  \n",
       "0     2024-07-02 17:46:38  \n",
       "1     2024-07-02 17:46:57  \n",
       "2     2024-07-02 17:46:57  \n",
       "3     2024-07-02 17:46:57  \n",
       "4     2024-07-02 17:46:57  \n",
       "...                   ...  \n",
       "30144 2024-11-29 15:30:00  \n",
       "30145 2024-11-29 15:30:00  \n",
       "30146 2024-11-29 15:41:31  \n",
       "30147 2024-11-29 15:42:45  \n",
       "30148 2024-11-29 15:42:45  \n",
       "\n",
       "[30149 rows x 6 columns]"
      ]
     },
     "execution_count": 2463,
     "metadata": {},
     "output_type": "execute_result"
    }
   ],
   "source": [
    "stock_relation1 = pd.read_csv(\"../dataset/news/relation_all.csv\")\n",
    "stock_relation2 = pd.read_csv(\"../dataset/news/relation_all_test.csv\")\n",
    "stock_relation = concat_df(stock_relation1, stock_relation2)\n",
    "stock_relation['time'] = pd.to_datetime(stock_relation['time'])\n",
    "stock_relation"
   ]
  },
  {
   "cell_type": "code",
   "execution_count": 2464,
   "metadata": {},
   "outputs": [
    {
     "data": {
      "text/plain": [
       "<Axes: xlabel='time'>"
      ]
     },
     "execution_count": 2464,
     "metadata": {},
     "output_type": "execute_result"
    },
    {
     "data": {
      "image/png": "[encoded data removed]",
      "text/plain": [
       "<Figure size 640x480 with 1 Axes>"
      ]
     },
     "metadata": {},
     "output_type": "display_data"
    }
   ],
   "source": [
    "stock_date = stock_relation['time'].dt.hour.value_counts().sort_index()\n",
    "stock_date.plot(kind='bar', color='skyblue')"
   ]
  },
  {
   "cell_type": "code",
   "execution_count": 2465,
   "metadata": {},
   "outputs": [],
   "source": [
    "def sentiment_transform(label):\n",
    "    def func(series):\n",
    "        return series.isin(label).sum() / series.count()\n",
    "    return func"
   ]
  },
  {
   "cell_type": "code",
   "execution_count": 2466,
   "metadata": {},
   "outputs": [],
   "source": [
    "def prepare_data(ticker, stock_relation):\n",
    "    stock_price1 = pd.read_csv(f\"../dataset/stocks/{ticker}.csv\")\n",
    "    stock_price2 = pd.read_csv(f\"../dataset/stocks/{ticker}_test.csv\")\n",
    "    stock_price = concat_df(stock_price1, stock_price2)\n",
    "    \n",
    "    stock_price['time'] = pd.to_datetime(stock_price['time'])\n",
    "    stock_price['trade_date'] = stock_price['time'].dt.date\n",
    "    stock_price['delta'] = stock_price['close'].diff()\n",
    "    stock_price['prv_close'] = stock_price['close'].shift(periods=1, fill_value=None)\n",
    "    \n",
    "    relation_t = stock_relation[stock_relation['ticker'] == ticker]\n",
    "    relation_t['news_date'] = (relation_t['time'] + pd.to_timedelta(0, unit='h')).dt.date\n",
    "    relation_t['same_source'] = (relation_t['source_ticker'] == relation_t['ticker']).astype(int)\n",
    "    relation_t['direct_sentiment'] = relation_t['sentiment']\n",
    "    relation_t.loc[relation_t['same_source'] == 0, 'direct_sentiment'] = 'None'\n",
    "\n",
    "    news_comb = pd.merge(relation_t, stock_price, how='left', left_on='news_date', right_on='trade_date')\n",
    "    # news_comb['trade_date'] = news_comb['trade_date'].fillna(method='bfill')\n",
    "    news_comb = news_comb.dropna(subset=['trade_date'])\n",
    "    news_comb['direct_sentiment'] = news_comb['sentiment']\n",
    "    news_comb.loc[news_comb['source_ticker'] != news_comb['ticker'], 'direct_sentiment'] = 'None'\n",
    "\n",
    "    relation_gp = news_comb.groupby('trade_date').agg({\n",
    "        'prv_close': 'first', 'delta': 'first', 'close': 'first', 'open': 'first', 'high': 'first', 'low': 'first',\n",
    "        'sentiment': [sentiment_transform(['positive', 'bullish']), sentiment_transform(['negative', 'bearish'])],\n",
    "        'direct_sentiment': [sentiment_transform(['positive', 'bullish']), sentiment_transform(['negative', 'bearish'])],\n",
    "    }).fillna(0.0).reset_index()\n",
    "    relation_gp.columns = ['trade_date', 'prv_close', 'delta', 'close', 'open', 'high', 'low', \n",
    "                           'positive', 'negative', 'dir_positive', 'dir_negative']\n",
    "    return relation_gp"
   ]
  },
  {
   "cell_type": "code",
   "execution_count": 2467,
   "metadata": {},
   "outputs": [
    {
     "name": "stderr",
     "output_type": "stream",
     "text": [
      "/var/folders/pj/znl5r0ln0hv_g1yjdthtr3f40000gn/T/ipykernel_6480/1638052838.py:12: SettingWithCopyWarning: \n",
      "A value is trying to be set on a copy of a slice from a DataFrame.\n",
      "Try using .loc[row_indexer,col_indexer] = value instead\n",
      "\n",
      "See the caveats in the documentation: https://pandas.pydata.org/pandas-docs/stable/user_guide/indexing.html#returning-a-view-versus-a-copy\n",
      "  relation_t['news_date'] = (relation_t['time'] + pd.to_timedelta(0, unit='h')).dt.date\n",
      "/var/folders/pj/znl5r0ln0hv_g1yjdthtr3f40000gn/T/ipykernel_6480/1638052838.py:13: SettingWithCopyWarning: \n",
      "A value is trying to be set on a copy of a slice from a DataFrame.\n",
      "Try using .loc[row_indexer,col_indexer] = value instead\n",
      "\n",
      "See the caveats in the documentation: https://pandas.pydata.org/pandas-docs/stable/user_guide/indexing.html#returning-a-view-versus-a-copy\n",
      "  relation_t['same_source'] = (relation_t['source_ticker'] == relation_t['ticker']).astype(int)\n",
      "/var/folders/pj/znl5r0ln0hv_g1yjdthtr3f40000gn/T/ipykernel_6480/1638052838.py:14: SettingWithCopyWarning: \n",
      "A value is trying to be set on a copy of a slice from a DataFrame.\n",
      "Try using .loc[row_indexer,col_indexer] = value instead\n",
      "\n",
      "See the caveats in the documentation: https://pandas.pydata.org/pandas-docs/stable/user_guide/indexing.html#returning-a-view-versus-a-copy\n",
      "  relation_t['direct_sentiment'] = relation_t['sentiment']\n"
     ]
    },
    {
     "data": {
      "text/plain": [
       "(59, 103)"
      ]
     },
     "execution_count": 2467,
     "metadata": {},
     "output_type": "execute_result"
    }
   ],
   "source": [
    "relation_gp = prepare_data(ticker='AAPL', stock_relation=stock_relation)\n",
    "relation_gp_t = relation_gp[relation_gp['negative'] > 0]\n",
    "len(relation_gp_t), len(relation_gp)"
   ]
  },
  {
   "cell_type": "code",
   "execution_count": 2468,
   "metadata": {},
   "outputs": [],
   "source": [
    "def test_relevance(cols):\n",
    "    X, y = relation_gp_t[cols], relation_gp_t['delta']\n",
    "    model = LinearRegression()\n",
    "    model.fit(X, y)\n",
    "\n",
    "    # Make predictions\n",
    "    y_pred = model.predict(X)\n",
    "\n",
    "    # Evaluate the model\n",
    "    mse = mean_squared_error(y, y_pred)\n",
    "    r2 = r2_score(y, y_pred)\n",
    "    return mse, r2, model.coef_"
   ]
  },
  {
   "cell_type": "code",
   "execution_count": 2469,
   "metadata": {},
   "outputs": [
    {
     "data": {
      "text/plain": [
       "(8.646529345492858, 0.26356620934724895, array([-13.06692784,  -0.19096334]))"
      ]
     },
     "execution_count": 2469,
     "metadata": {},
     "output_type": "execute_result"
    }
   ],
   "source": [
    "test_relevance(['dir_negative', 'prv_close'])"
   ]
  },
  {
   "cell_type": "code",
   "execution_count": 2470,
   "metadata": {},
   "outputs": [
    {
     "data": {
      "text/plain": [
       "(9.236442002349742, 0.2133227420918461, array([-9.13538785, -0.17902409]))"
      ]
     },
     "execution_count": 2470,
     "metadata": {},
     "output_type": "execute_result"
    }
   ],
   "source": [
    "test_relevance(['negative', 'prv_close'])"
   ]
  },
  {
   "cell_type": "code",
   "execution_count": 2471,
   "metadata": {},
   "outputs": [
    {
     "data": {
      "text/plain": [
       "(8.637421594961276,\n",
       " 0.2643419258203318,\n",
       " array([-11.89691661,  -1.22323174,  -0.19026006]))"
      ]
     },
     "execution_count": 2471,
     "metadata": {},
     "output_type": "execute_result"
    }
   ],
   "source": [
    "test_relevance(['dir_negative', 'negative', 'prv_close'])"
   ]
  },
  {
   "cell_type": "code",
   "execution_count": 2472,
   "metadata": {},
   "outputs": [
    {
     "data": {
      "text/plain": [
       "(10.37467928532561, 0.11637790290025174, array([ 4.67726086, -0.17405259]))"
      ]
     },
     "execution_count": 2472,
     "metadata": {},
     "output_type": "execute_result"
    }
   ],
   "source": [
    "test_relevance(['dir_positive', 'prv_close'])"
   ]
  },
  {
   "cell_type": "code",
   "execution_count": 2473,
   "metadata": {},
   "outputs": [
    {
     "data": {
      "text/plain": [
       "(8.564210587220412,\n",
       " 0.27057738259076614,\n",
       " array([-12.63766915,   2.67724765,  -0.192174  ]))"
      ]
     },
     "execution_count": 2473,
     "metadata": {},
     "output_type": "execute_result"
    }
   ],
   "source": [
    "test_relevance(['dir_negative', 'dir_positive', 'prv_close'])"
   ]
  },
  {
   "cell_type": "code",
   "execution_count": 2474,
   "metadata": {},
   "outputs": [
    {
     "data": {
      "text/plain": [
       "(8.539731980430153,\n",
       " 0.2726622506884896,\n",
       " array([-10.63121816,  -2.04737379,   2.9775835 ,  -0.19113268]))"
      ]
     },
     "execution_count": 2474,
     "metadata": {},
     "output_type": "execute_result"
    }
   ],
   "source": [
    "test_relevance(['dir_negative', 'negative', 'dir_positive', 'prv_close'])"
   ]
  },
  {
   "cell_type": "code",
   "execution_count": 2475,
   "metadata": {},
   "outputs": [
    {
     "data": {
      "text/plain": [
       "<matplotlib.collections.PathCollection at 0x17dd122d0>"
      ]
     },
     "execution_count": 2475,
     "metadata": {},
     "output_type": "execute_result"
    },
    {
     "data": {
      "image/png": "[encoded data removed]",
      "text/plain": [
       "<Figure size 640x480 with 1 Axes>"
      ]
     },
     "metadata": {},
     "output_type": "display_data"
    }
   ],
   "source": [
    "import matplotlib.pyplot as plt\n",
    "\n",
    "plt.scatter(relation_gp_t['negative'], relation_gp_t['delta'], color='blue', alpha=0.7)"
   ]
  },
  {
   "cell_type": "code",
   "execution_count": 2476,
   "metadata": {},
   "outputs": [],
   "source": [
    "def preprocess(relation_gp):\n",
    "    seq_length = 10\n",
    "    std_scaler, max_scaler = StandardScaler(), MinMaxScaler()\n",
    "    score_cols = ['dir_negative', 'negative', 'dir_positive', 'positive', 'close']\n",
    "    price_cols = ['close']\n",
    "\n",
    "    df = pd.DataFrame()\n",
    "    df[score_cols] = std_scaler.fit_transform(relation_gp[score_cols])\n",
    "    # df[price_cols] = max_scaler.fit_transform(relation_gp[price_cols])\n",
    "\n",
    "    X = []\n",
    "    y = []\n",
    "    for i in range(seq_length, len(df)):\n",
    "        X.append(df.iloc[i-seq_length:i])\n",
    "        y.append(df.iloc[i, -1])\n",
    "    X = np.array(X)\n",
    "    y = np.array(y)\n",
    "\n",
    "    split_index = int(len(X) * 0.8)\n",
    "    X_train, X_val, X_test = X[:split_index], X[split_index::2], X[split_index+1::2]\n",
    "    y_train, y_val, y_test = y[:split_index], y[split_index::2], y[split_index+1::2]\n",
    "\n",
    "    X_train = torch.tensor(X_train, dtype=torch.float32)\n",
    "    X_val = torch.tensor(X_val, dtype=torch.float32)\n",
    "    X_test = torch.tensor(X_test, dtype=torch.float32)\n",
    "    y_train = torch.tensor(y_train, dtype=torch.float32).unsqueeze(1) \n",
    "    y_val = torch.tensor(y_val, dtype=torch.float32).unsqueeze(1) \n",
    "    y_test = torch.tensor(y_test, dtype=torch.float32).unsqueeze(1) \n",
    "\n",
    "    return X_train, X_val, X_test, y_train, y_val, y_test"
   ]
  },
  {
   "cell_type": "code",
   "execution_count": 2477,
   "metadata": {},
   "outputs": [],
   "source": [
    "class SimpleLSTM(nn.Module):\n",
    "    def __init__(self, input_size, hidden_size, output_size, layers, dropout):\n",
    "        super(SimpleLSTM, self).__init__()\n",
    "        self.lstm = nn.LSTM(input_size, hidden_size, num_layers=layers, dropout=dropout, batch_first=True)\n",
    "        self.fc = nn.Linear(hidden_size, output_size)\n",
    "    \n",
    "    def forward(self, x):\n",
    "        lstm_out, (hn, cn) = self.lstm(x)\n",
    "        out = self.fc(hn[-1])\n",
    "        return out"
   ]
  },
  {
   "cell_type": "code",
   "execution_count": 2478,
   "metadata": {},
   "outputs": [
    {
     "data": {
      "text/plain": [
       "(torch.Size([74, 10, 5]),\n",
       " torch.Size([10, 10, 5]),\n",
       " torch.Size([9, 10, 5]),\n",
       " torch.Size([74, 1]),\n",
       " torch.Size([10, 1]),\n",
       " torch.Size([9, 1]))"
      ]
     },
     "execution_count": 2478,
     "metadata": {},
     "output_type": "execute_result"
    }
   ],
   "source": [
    "model = SimpleLSTM(input_size=5, hidden_size=64, output_size=1, layers=2, dropout=0.2)\n",
    "criterion = nn.MSELoss()\n",
    "optimizer = optim.Adam(model.parameters(), lr=0.001)\n",
    "X_train, X_val, X_test, y_train, y_val, y_test = preprocess(relation_gp)\n",
    "X_train.shape, X_val.shape, X_test.shape, y_train.shape, y_val.shape, y_test.shape"
   ]
  },
  {
   "cell_type": "code",
   "execution_count": 2479,
   "metadata": {},
   "outputs": [],
   "source": [
    "class EarlyStopper:\n",
    "    def __init__(self, min_steps=0, mem_ratio=1, threshold=0):\n",
    "        self.min_steps = min_steps\n",
    "        self.mem_ratio = mem_ratio\n",
    "        self.threshold = threshold\n",
    "        self.aveg_loss = 0\n",
    "        self.steps = 0\n",
    "        self.min_loss = float('inf')\n",
    "\n",
    "    def early_stop(self, loss):\n",
    "        self.steps += 1;\n",
    "        self.aveg_loss = self.aveg_loss * self.mem_ratio + loss * (1-self.mem_ratio)\n",
    "        if self.steps >= self.min_steps:\n",
    "            self.min_loss = min(self.min_loss, self.aveg_loss)\n",
    "            if self.aveg_loss >= self.min_loss * (1+self.threshold):\n",
    "                return True\n",
    "        return False"
   ]
  },
  {
   "cell_type": "code",
   "execution_count": 2480,
   "metadata": {},
   "outputs": [
    {
     "name": "stdout",
     "output_type": "stream",
     "text": [
      "Epoch 1, Train Loss: 1.1538, Val Loss: 0.5066\n",
      "Epoch 2, Train Loss: 1.1348, Val Loss: 0.5146\n",
      "Epoch 3, Train Loss: 1.1220, Val Loss: 0.5231\n",
      "Epoch 4, Train Loss: 1.1046, Val Loss: 0.5325\n",
      "Epoch 5, Train Loss: 1.0879, Val Loss: 0.5428\n",
      "Epoch 6, Train Loss: 1.0731, Val Loss: 0.5542\n",
      "Epoch 7, Train Loss: 1.0587, Val Loss: 0.5668\n",
      "Epoch 8, Train Loss: 1.0420, Val Loss: 0.5806\n",
      "Epoch 9, Train Loss: 1.0247, Val Loss: 0.5957\n",
      "Epoch 10, Train Loss: 1.0055, Val Loss: 0.6125\n",
      "Epoch 11, Train Loss: 0.9857, Val Loss: 0.6308\n",
      "Epoch 12, Train Loss: 0.9652, Val Loss: 0.6502\n",
      "Epoch 13, Train Loss: 0.9398, Val Loss: 0.6703\n",
      "Epoch 14, Train Loss: 0.9158, Val Loss: 0.6907\n",
      "Epoch 15, Train Loss: 0.8920, Val Loss: 0.7099\n",
      "Epoch 16, Train Loss: 0.8688, Val Loss: 0.7269\n",
      "Epoch 17, Train Loss: 0.8311, Val Loss: 0.7403\n",
      "Epoch 18, Train Loss: 0.7990, Val Loss: 0.7477\n",
      "Epoch 19, Train Loss: 0.7585, Val Loss: 0.7479\n",
      "Epoch 20, Train Loss: 0.7303, Val Loss: 0.7387\n",
      "Epoch 21, Train Loss: 0.7029, Val Loss: 0.7187\n",
      "Epoch 22, Train Loss: 0.6697, Val Loss: 0.6885\n",
      "Epoch 23, Train Loss: 0.6474, Val Loss: 0.6529\n",
      "Epoch 24, Train Loss: 0.6341, Val Loss: 0.6152\n",
      "Epoch 25, Train Loss: 0.5967, Val Loss: 0.5826\n",
      "Epoch 26, Train Loss: 0.5694, Val Loss: 0.5560\n",
      "Epoch 27, Train Loss: 0.5643, Val Loss: 0.5376\n",
      "Epoch 28, Train Loss: 0.5153, Val Loss: 0.5282\n",
      "Epoch 29, Train Loss: 0.4963, Val Loss: 0.5265\n",
      "Epoch 30, Train Loss: 0.4816, Val Loss: 0.5320\n",
      "Epoch 31, Train Loss: 0.4561, Val Loss: 0.5439\n",
      "Epoch 32, Train Loss: 0.4339, Val Loss: 0.5611\n",
      "Epoch 33, Train Loss: 0.4256, Val Loss: 0.5804\n",
      "Epoch 34, Train Loss: 0.3960, Val Loss: 0.6009\n",
      "Epoch 35, Train Loss: 0.3829, Val Loss: 0.6230\n",
      "Epoch 36, Train Loss: 0.3717, Val Loss: 0.6401\n",
      "Epoch 37, Train Loss: 0.3786, Val Loss: 0.6478\n",
      "Epoch 38, Train Loss: 0.3551, Val Loss: 0.6458\n",
      "Epoch 39, Train Loss: 0.3681, Val Loss: 0.6311\n",
      "Epoch 40, Train Loss: 0.3675, Val Loss: 0.6153\n",
      "Epoch 41, Train Loss: 0.3551, Val Loss: 0.5986\n",
      "Epoch 42, Train Loss: 0.3548, Val Loss: 0.5740\n",
      "Epoch 43, Train Loss: 0.3430, Val Loss: 0.5398\n",
      "Epoch 44, Train Loss: 0.3494, Val Loss: 0.4995\n",
      "Epoch 45, Train Loss: 0.3313, Val Loss: 0.4677\n",
      "Epoch 46, Train Loss: 0.3158, Val Loss: 0.4491\n",
      "Epoch 47, Train Loss: 0.3157, Val Loss: 0.4415\n",
      "Epoch 48, Train Loss: 0.3001, Val Loss: 0.4406\n",
      "Epoch 49, Train Loss: 0.2941, Val Loss: 0.4453\n",
      "Epoch 50, Train Loss: 0.2804, Val Loss: 0.4508\n",
      "Epoch 51, Train Loss: 0.2871, Val Loss: 0.4498\n",
      "Epoch 52, Train Loss: 0.2830, Val Loss: 0.4419\n",
      "Epoch 53, Train Loss: 0.2670, Val Loss: 0.4342\n",
      "Epoch 54, Train Loss: 0.2626, Val Loss: 0.4236\n",
      "Epoch 55, Train Loss: 0.2735, Val Loss: 0.4138\n",
      "Epoch 56, Train Loss: 0.2653, Val Loss: 0.4073\n",
      "Epoch 57, Train Loss: 0.2454, Val Loss: 0.4007\n",
      "Epoch 58, Train Loss: 0.2566, Val Loss: 0.3922\n",
      "Epoch 59, Train Loss: 0.2372, Val Loss: 0.3832\n",
      "Epoch 60, Train Loss: 0.2297, Val Loss: 0.3746\n",
      "Epoch 61, Train Loss: 0.2204, Val Loss: 0.3634\n",
      "Epoch 62, Train Loss: 0.2058, Val Loss: 0.3532\n",
      "Epoch 63, Train Loss: 0.2228, Val Loss: 0.3436\n",
      "Epoch 64, Train Loss: 0.1998, Val Loss: 0.3365\n",
      "Epoch 65, Train Loss: 0.2082, Val Loss: 0.3336\n",
      "Epoch 66, Train Loss: 0.1980, Val Loss: 0.3313\n",
      "Epoch 67, Train Loss: 0.1853, Val Loss: 0.3251\n",
      "Epoch 68, Train Loss: 0.1899, Val Loss: 0.3209\n",
      "Epoch 69, Train Loss: 0.1868, Val Loss: 0.3173\n",
      "Epoch 70, Train Loss: 0.1891, Val Loss: 0.3172\n",
      "Epoch 71, Train Loss: 0.1726, Val Loss: 0.3173\n",
      "Epoch 72, Train Loss: 0.1750, Val Loss: 0.3193\n",
      "Epoch 73, Train Loss: 0.1806, Val Loss: 0.3182\n",
      "Epoch 74, Train Loss: 0.1573, Val Loss: 0.3167\n",
      "Epoch 75, Train Loss: 0.1730, Val Loss: 0.3136\n",
      "Epoch 76, Train Loss: 0.1700, Val Loss: 0.3165\n",
      "Epoch 77, Train Loss: 0.1582, Val Loss: 0.3247\n",
      "Epoch 78, Train Loss: 0.1652, Val Loss: 0.3312\n",
      "Epoch 79, Train Loss: 0.1500, Val Loss: 0.3329\n",
      "Epoch 80, Train Loss: 0.1566, Val Loss: 0.3317\n",
      "Epoch 81, Train Loss: 0.1489, Val Loss: 0.3282\n",
      "Epoch 82, Train Loss: 0.1577, Val Loss: 0.3250\n",
      "Epoch 83, Train Loss: 0.1471, Val Loss: 0.3272\n",
      "Epoch 84, Train Loss: 0.1507, Val Loss: 0.3334\n",
      "Epoch 85, Train Loss: 0.1488, Val Loss: 0.3436\n",
      "Epoch 86, Train Loss: 0.1518, Val Loss: 0.3519\n",
      "Epoch 87, Train Loss: 0.1436, Val Loss: 0.3542\n",
      "Epoch 88, Train Loss: 0.1454, Val Loss: 0.3546\n",
      "Epoch 89, Train Loss: 0.1400, Val Loss: 0.3466\n",
      "Epoch 90, Train Loss: 0.1457, Val Loss: 0.3356\n",
      "Epoch 91, Train Loss: 0.1426, Val Loss: 0.3312\n",
      "Epoch 92, Train Loss: 0.1366, Val Loss: 0.3327\n",
      "Epoch 93, Train Loss: 0.1301, Val Loss: 0.3426\n",
      "Epoch 94, Train Loss: 0.1339, Val Loss: 0.3544\n",
      "Epoch 95, Train Loss: 0.1257, Val Loss: 0.3589\n",
      "Epoch 96, Train Loss: 0.1263, Val Loss: 0.3554\n",
      "Epoch 97, Train Loss: 0.1426, Val Loss: 0.3443\n",
      "Epoch 98, Train Loss: 0.1382, Val Loss: 0.3381\n",
      "Epoch 99, Train Loss: 0.1264, Val Loss: 0.3350\n",
      "Epoch 100, Train Loss: 0.1375, Val Loss: 0.3384\n",
      "Epoch 101, Train Loss: 0.1297, Val Loss: 0.3452\n",
      "Epoch 102, Train Loss: 0.1478, Val Loss: 0.3516\n",
      "Epoch 103, Train Loss: 0.1294, Val Loss: 0.3495\n",
      "Epoch 104, Train Loss: 0.1325, Val Loss: 0.3449\n",
      "Epoch 105, Train Loss: 0.1297, Val Loss: 0.3386\n",
      "Epoch 106, Train Loss: 0.1201, Val Loss: 0.3345\n",
      "Epoch 107, Train Loss: 0.1284, Val Loss: 0.3328\n",
      "Epoch 108, Train Loss: 0.1278, Val Loss: 0.3342\n",
      "Epoch 109, Train Loss: 0.1221, Val Loss: 0.3382\n",
      "Epoch 110, Train Loss: 0.1140, Val Loss: 0.3403\n",
      "Epoch 111, Train Loss: 0.1249, Val Loss: 0.3397\n",
      "Epoch 112, Train Loss: 0.1276, Val Loss: 0.3348\n",
      "Epoch 113, Train Loss: 0.1036, Val Loss: 0.3320\n",
      "Epoch 114, Train Loss: 0.1212, Val Loss: 0.3316\n",
      "Epoch 115, Train Loss: 0.1177, Val Loss: 0.3313\n",
      "Epoch 116, Train Loss: 0.1208, Val Loss: 0.3316\n",
      "Epoch 117, Train Loss: 0.1228, Val Loss: 0.3326\n",
      "Epoch 118, Train Loss: 0.1288, Val Loss: 0.3332\n",
      "Epoch 119, Train Loss: 0.0989, Val Loss: 0.3342\n",
      "Epoch 120, Train Loss: 0.1044, Val Loss: 0.3336\n",
      "Epoch 121, Train Loss: 0.1050, Val Loss: 0.3369\n",
      "Epoch 122, Train Loss: 0.0986, Val Loss: 0.3407\n",
      "Epoch 123, Train Loss: 0.1045, Val Loss: 0.3433\n",
      "Epoch 124, Train Loss: 0.1069, Val Loss: 0.3439\n",
      "Epoch 125, Train Loss: 0.1142, Val Loss: 0.3421\n",
      "Epoch 126, Train Loss: 0.0997, Val Loss: 0.3381\n",
      "Epoch 127, Train Loss: 0.1027, Val Loss: 0.3329\n",
      "Epoch 128, Train Loss: 0.1005, Val Loss: 0.3322\n",
      "Epoch 129, Train Loss: 0.0968, Val Loss: 0.3310\n",
      "Epoch 130, Train Loss: 0.0992, Val Loss: 0.3331\n",
      "Epoch 131, Train Loss: 0.0964, Val Loss: 0.3331\n",
      "Epoch 132, Train Loss: 0.0978, Val Loss: 0.3322\n",
      "Epoch 133, Train Loss: 0.0895, Val Loss: 0.3319\n",
      "Epoch 134, Train Loss: 0.0991, Val Loss: 0.3335\n",
      "Epoch 135, Train Loss: 0.0985, Val Loss: 0.3371\n",
      "Epoch 136, Train Loss: 0.1034, Val Loss: 0.3381\n",
      "Epoch 137, Train Loss: 0.0985, Val Loss: 0.3355\n",
      "Epoch 138, Train Loss: 0.0970, Val Loss: 0.3328\n",
      "Epoch 139, Train Loss: 0.0871, Val Loss: 0.3329\n",
      "Epoch 140, Train Loss: 0.0966, Val Loss: 0.3315\n",
      "Epoch 141, Train Loss: 0.0960, Val Loss: 0.3340\n",
      "Epoch 142, Train Loss: 0.0920, Val Loss: 0.3307\n",
      "Epoch 143, Train Loss: 0.0768, Val Loss: 0.3269\n",
      "Epoch 144, Train Loss: 0.0897, Val Loss: 0.3238\n",
      "Epoch 145, Train Loss: 0.0856, Val Loss: 0.3230\n",
      "Epoch 146, Train Loss: 0.0789, Val Loss: 0.3266\n",
      "Epoch 147, Train Loss: 0.0827, Val Loss: 0.3253\n",
      "Epoch 148, Train Loss: 0.0929, Val Loss: 0.3207\n",
      "Epoch 149, Train Loss: 0.0744, Val Loss: 0.3172\n",
      "Epoch 150, Train Loss: 0.0856, Val Loss: 0.3153\n",
      "Epoch 151, Train Loss: 0.0830, Val Loss: 0.3129\n",
      "Epoch 152, Train Loss: 0.0827, Val Loss: 0.3087\n",
      "Epoch 153, Train Loss: 0.0841, Val Loss: 0.3069\n",
      "Epoch 154, Train Loss: 0.0842, Val Loss: 0.3096\n",
      "Epoch 155, Train Loss: 0.0773, Val Loss: 0.3120\n",
      "Epoch 156, Train Loss: 0.0723, Val Loss: 0.3123\n",
      "Epoch 157, Train Loss: 0.0797, Val Loss: 0.3106\n",
      "Epoch 158, Train Loss: 0.0681, Val Loss: 0.3096\n",
      "Epoch 159, Train Loss: 0.0778, Val Loss: 0.3092\n",
      "Epoch 160, Train Loss: 0.0755, Val Loss: 0.3083\n",
      "Epoch 161, Train Loss: 0.0740, Val Loss: 0.3066\n",
      "Epoch 162, Train Loss: 0.0694, Val Loss: 0.3028\n",
      "Epoch 163, Train Loss: 0.0806, Val Loss: 0.3001\n",
      "Epoch 164, Train Loss: 0.0731, Val Loss: 0.2974\n",
      "Epoch 165, Train Loss: 0.0747, Val Loss: 0.2963\n",
      "Epoch 166, Train Loss: 0.0698, Val Loss: 0.2950\n",
      "Epoch 167, Train Loss: 0.0701, Val Loss: 0.2951\n",
      "Epoch 168, Train Loss: 0.0661, Val Loss: 0.2972\n",
      "Epoch 169, Train Loss: 0.0692, Val Loss: 0.3019\n",
      "Epoch 170, Train Loss: 0.0662, Val Loss: 0.3074\n",
      "Epoch 171, Train Loss: 0.0589, Val Loss: 0.3096\n",
      "Epoch 172, Train Loss: 0.0735, Val Loss: 0.3085\n",
      "Epoch 173, Train Loss: 0.0698, Val Loss: 0.3052\n",
      "Epoch 174, Train Loss: 0.0696, Val Loss: 0.3016\n",
      "Epoch 175, Train Loss: 0.0735, Val Loss: 0.2973\n",
      "Epoch 176, Train Loss: 0.0683, Val Loss: 0.2978\n",
      "Epoch 177, Train Loss: 0.0641, Val Loss: 0.2990\n",
      "Epoch 178, Train Loss: 0.0669, Val Loss: 0.3022\n",
      "Epoch 179, Train Loss: 0.0636, Val Loss: 0.3075\n",
      "Epoch 180, Train Loss: 0.0663, Val Loss: 0.3104\n",
      "Epoch 181, Train Loss: 0.0677, Val Loss: 0.3120\n",
      "Epoch 182, Train Loss: 0.0627, Val Loss: 0.3089\n",
      "Epoch 183, Train Loss: 0.0599, Val Loss: 0.3083\n",
      "Epoch 184, Train Loss: 0.0695, Val Loss: 0.3095\n",
      "Epoch 185, Train Loss: 0.0657, Val Loss: 0.3107\n",
      "Epoch 186, Train Loss: 0.0718, Val Loss: 0.3172\n",
      "Epoch 187, Train Loss: 0.0625, Val Loss: 0.3235\n",
      "Epoch 188, Train Loss: 0.0583, Val Loss: 0.3227\n",
      "Epoch 189, Train Loss: 0.0586, Val Loss: 0.3171\n",
      "Epoch 190, Train Loss: 0.0650, Val Loss: 0.3105\n",
      "Epoch 191, Train Loss: 0.0628, Val Loss: 0.3074\n",
      "Epoch 192, Train Loss: 0.0647, Val Loss: 0.3035\n",
      "Epoch 193, Train Loss: 0.0559, Val Loss: 0.3044\n",
      "Epoch 194, Train Loss: 0.0644, Val Loss: 0.3121\n",
      "Epoch 195, Train Loss: 0.0553, Val Loss: 0.3213\n",
      "Epoch 196, Train Loss: 0.0602, Val Loss: 0.3282\n",
      "Epoch 197, Train Loss: 0.0611, Val Loss: 0.3251\n",
      "Epoch 198, Train Loss: 0.0651, Val Loss: 0.3181\n",
      "Epoch 199, Train Loss: 0.0518, Val Loss: 0.3145\n",
      "Epoch 200, Train Loss: 0.0579, Val Loss: 0.3133\n",
      "Epoch 201, Train Loss: 0.0527, Val Loss: 0.3185\n",
      "Epoch 202, Train Loss: 0.0635, Val Loss: 0.3227\n",
      "Epoch 203, Train Loss: 0.0560, Val Loss: 0.3266\n",
      "Epoch 204, Train Loss: 0.0641, Val Loss: 0.3261\n",
      "Epoch 205, Train Loss: 0.0526, Val Loss: 0.3236\n",
      "Epoch 206, Train Loss: 0.0585, Val Loss: 0.3195\n",
      "Epoch 207, Train Loss: 0.0629, Val Loss: 0.3157\n",
      "Epoch 208, Train Loss: 0.0631, Val Loss: 0.3166\n",
      "Epoch 209, Train Loss: 0.0573, Val Loss: 0.3174\n",
      "Epoch 210, Train Loss: 0.0530, Val Loss: 0.3198\n",
      "Epoch 211, Train Loss: 0.0523, Val Loss: 0.3220\n",
      "Epoch 212, Train Loss: 0.0527, Val Loss: 0.3231\n",
      "Epoch 213, Train Loss: 0.0491, Val Loss: 0.3271\n",
      "Epoch 214, Train Loss: 0.0541, Val Loss: 0.3237\n",
      "Epoch 215, Train Loss: 0.0543, Val Loss: 0.3155\n",
      "Epoch 216, Train Loss: 0.0489, Val Loss: 0.3104\n",
      "Epoch 217, Train Loss: 0.0538, Val Loss: 0.3113\n",
      "Epoch 218, Train Loss: 0.0544, Val Loss: 0.3168\n",
      "Epoch 219, Train Loss: 0.0463, Val Loss: 0.3241\n",
      "Epoch 220, Train Loss: 0.0480, Val Loss: 0.3283\n",
      "Epoch 221, Train Loss: 0.0562, Val Loss: 0.3259\n",
      "Epoch 222, Train Loss: 0.0530, Val Loss: 0.3254\n",
      "Epoch 223, Train Loss: 0.0513, Val Loss: 0.3259\n",
      "Epoch 224, Train Loss: 0.0490, Val Loss: 0.3251\n",
      "Epoch 225, Train Loss: 0.0475, Val Loss: 0.3248\n",
      "Epoch 226, Train Loss: 0.0577, Val Loss: 0.3251\n",
      "Epoch 227, Train Loss: 0.0495, Val Loss: 0.3306\n",
      "Epoch 228, Train Loss: 0.0594, Val Loss: 0.3345\n",
      "Epoch 229, Train Loss: 0.0495, Val Loss: 0.3270\n",
      "Epoch 230, Train Loss: 0.0500, Val Loss: 0.3213\n",
      "Epoch 231, Train Loss: 0.0482, Val Loss: 0.3192\n",
      "Epoch 232, Train Loss: 0.0530, Val Loss: 0.3261\n",
      "Epoch 233, Train Loss: 0.0508, Val Loss: 0.3292\n",
      "Epoch 234, Train Loss: 0.0520, Val Loss: 0.3341\n",
      "Epoch 235, Train Loss: 0.0460, Val Loss: 0.3394\n",
      "Epoch 236, Train Loss: 0.0433, Val Loss: 0.3373\n",
      "Epoch 237, Train Loss: 0.0416, Val Loss: 0.3303\n",
      "Epoch 238, Train Loss: 0.0492, Val Loss: 0.3243\n",
      "Epoch 239, Train Loss: 0.0527, Val Loss: 0.3260\n",
      "Epoch 240, Train Loss: 0.0532, Val Loss: 0.3378\n",
      "Epoch 241, Train Loss: 0.0476, Val Loss: 0.3517\n",
      "Epoch 242, Train Loss: 0.0418, Val Loss: 0.3652\n",
      "Epoch 243, Train Loss: 0.0475, Val Loss: 0.3573\n"
     ]
    }
   ],
   "source": [
    "num_epochs = 1000\n",
    "early_stopping = EarlyStopper(min_steps=200, mem_ratio=0.95, threshold=0.05)\n",
    "for epoch in range(num_epochs):\n",
    "    model.train()\n",
    "    optimizer.zero_grad()\n",
    "    outputs = model(X_train)\n",
    "    loss = criterion(outputs, y_train)\n",
    "    loss.backward()\n",
    "    optimizer.step()\n",
    "    model.eval()\n",
    "    with torch.no_grad():\n",
    "        val_outputs = model(X_val)\n",
    "        val_loss = criterion(val_outputs, y_val).item()\n",
    "    \n",
    "    print(f\"Epoch {epoch+1}, Train Loss: {loss.item():.4f}, Val Loss: {val_loss:.4f}\")\n",
    "    \n",
    "    # Early stopping check\n",
    "    if early_stopping.early_stop(val_loss):\n",
    "        break"
   ]
  },
  {
   "cell_type": "code",
   "execution_count": 2481,
   "metadata": {},
   "outputs": [
    {
     "name": "stdout",
     "output_type": "stream",
     "text": [
      "Test Loss: 0.2986\n",
      "Std: 0.7024\n",
      "Error Range: 0.7779\n"
     ]
    }
   ],
   "source": [
    "model.eval()\n",
    "\n",
    "with torch.no_grad():\n",
    "    outputs = model(X_test)\n",
    "    loss = criterion(outputs, y_test)\n",
    "    std = y_test.std()\n",
    "    print(f'Test Loss: {loss.item():.4f}')\n",
    "    print(f'Std: {std:.4f}')\n",
    "    print(f'Error Range: {loss.sqrt() / std:.4f}')"
   ]
  },
  {
   "cell_type": "code",
   "execution_count": null,
   "metadata": {},
   "outputs": [],
   "source": []
  }
 ],
 "metadata": {
  "kernelspec": {
   "display_name": "base",
   "language": "python",
   "name": "python3"
  },
  "language_info": {
   "codemirror_mode": {
    "name": "ipython",
    "version": 3
   },
   "file_extension": ".py",
   "mimetype": "text/x-python",
   "name": "python",
   "nbconvert_exporter": "python",
   "pygments_lexer": "ipython3",
   "version": "3.12.4"
  }
 },
 "nbformat": 4,
 "nbformat_minor": 2
}
