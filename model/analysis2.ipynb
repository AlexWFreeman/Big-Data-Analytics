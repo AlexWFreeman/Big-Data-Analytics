{
 "cells": [
  {
   "cell_type": "code",
   "execution_count": 374,
   "metadata": {},
   "outputs": [],
   "source": [
    "import numpy as np\n",
    "import pandas as pd\n",
    "from sklearn.model_selection import train_test_split\n",
    "from sklearn.linear_model import LinearRegression\n",
    "from sklearn.metrics import mean_squared_error, r2_score\n",
    "from sklearn.preprocessing import MinMaxScaler, StandardScaler\n",
    "import torch\n",
    "import torch.nn as nn\n",
    "import torch.optim as optim"
   ]
  },
  {
   "cell_type": "code",
   "execution_count": 375,
   "metadata": {},
   "outputs": [],
   "source": [
    "def concat_df(df_train, df_test, time_col='time', time_split='2024-10-30'):\n",
    "    df_train = df_train[df_train[time_col] < time_split]\n",
    "    df_test = df_test[df_test[time_col] >= time_split]\n",
    "    return pd.concat([df_train, df_test], axis=0, ignore_index=True)"
   ]
  },
  {
   "cell_type": "code",
   "execution_count": 376,
   "metadata": {},
   "outputs": [
    {
     "data": {
      "text/html": [
       "<div>\n",
       "<style scoped>\n",
       "    .dataframe tbody tr th:only-of-type {\n",
       "        vertical-align: middle;\n",
       "    }\n",
       "\n",
       "    .dataframe tbody tr th {\n",
       "        vertical-align: top;\n",
       "    }\n",
       "\n",
       "    .dataframe thead th {\n",
       "        text-align: right;\n",
       "    }\n",
       "</style>\n",
       "<table border=\"1\" class=\"dataframe\">\n",
       "  <thead>\n",
       "    <tr style=\"text-align: right;\">\n",
       "      <th></th>\n",
       "      <th>ticker</th>\n",
       "      <th>sentiment</th>\n",
       "      <th>sentiment_reasoning</th>\n",
       "      <th>news_id</th>\n",
       "      <th>source_ticker</th>\n",
       "      <th>time</th>\n",
       "    </tr>\n",
       "  </thead>\n",
       "  <tbody>\n",
       "    <tr>\n",
       "      <th>0</th>\n",
       "      <td>NFLX</td>\n",
       "      <td>positive</td>\n",
       "      <td>The article indicates that significant investo...</td>\n",
       "      <td>d913f8609f0266a3934c767e3e08b5cb3a5b907373cf4c...</td>\n",
       "      <td>NFLX</td>\n",
       "      <td>2024-07-02 17:46:38</td>\n",
       "    </tr>\n",
       "    <tr>\n",
       "      <th>1</th>\n",
       "      <td>AMZN</td>\n",
       "      <td>positive</td>\n",
       "      <td>AWS is mentioned as one of the biggest names i...</td>\n",
       "      <td>8acd1c36c41725f571ef8611bcecdb9223800381a2543b...</td>\n",
       "      <td>MSFT</td>\n",
       "      <td>2024-07-02 17:46:57</td>\n",
       "    </tr>\n",
       "    <tr>\n",
       "      <th>2</th>\n",
       "      <td>MSFT</td>\n",
       "      <td>positive</td>\n",
       "      <td>Microsoft is mentioned as one of the prominent...</td>\n",
       "      <td>8acd1c36c41725f571ef8611bcecdb9223800381a2543b...</td>\n",
       "      <td>GOOGL</td>\n",
       "      <td>2024-07-02 17:46:57</td>\n",
       "    </tr>\n",
       "    <tr>\n",
       "      <th>3</th>\n",
       "      <td>GOOG</td>\n",
       "      <td>positive</td>\n",
       "      <td>Google is also mentioned as one of the promine...</td>\n",
       "      <td>8acd1c36c41725f571ef8611bcecdb9223800381a2543b...</td>\n",
       "      <td>GOOGL</td>\n",
       "      <td>2024-07-02 17:46:57</td>\n",
       "    </tr>\n",
       "    <tr>\n",
       "      <th>4</th>\n",
       "      <td>GOOGL</td>\n",
       "      <td>positive</td>\n",
       "      <td>Google is also mentioned as one of the promine...</td>\n",
       "      <td>8acd1c36c41725f571ef8611bcecdb9223800381a2543b...</td>\n",
       "      <td>GOOGL</td>\n",
       "      <td>2024-07-02 17:46:57</td>\n",
       "    </tr>\n",
       "    <tr>\n",
       "      <th>...</th>\n",
       "      <td>...</td>\n",
       "      <td>...</td>\n",
       "      <td>...</td>\n",
       "      <td>...</td>\n",
       "      <td>...</td>\n",
       "      <td>...</td>\n",
       "    </tr>\n",
       "    <tr>\n",
       "      <th>30144</th>\n",
       "      <td>PINS</td>\n",
       "      <td>negative</td>\n",
       "      <td>Pinterest's revenue growth is decelerating, go...</td>\n",
       "      <td>784b3e4ed634caf42b5231185445266ad2ba5e496af7cb...</td>\n",
       "      <td>AMZN</td>\n",
       "      <td>2024-11-29 15:30:00</td>\n",
       "    </tr>\n",
       "    <tr>\n",
       "      <th>30145</th>\n",
       "      <td>AMZN</td>\n",
       "      <td>neutral</td>\n",
       "      <td>Amazon is facing slowing growth and increased ...</td>\n",
       "      <td>784b3e4ed634caf42b5231185445266ad2ba5e496af7cb...</td>\n",
       "      <td>AMZN</td>\n",
       "      <td>2024-11-29 15:30:00</td>\n",
       "    </tr>\n",
       "    <tr>\n",
       "      <th>30146</th>\n",
       "      <td>NVDA</td>\n",
       "      <td>neutral</td>\n",
       "      <td>The article provides an update on Nvidia but d...</td>\n",
       "      <td>35df0d912c3dfd75abf8102bd782257a02b725eab618c4...</td>\n",
       "      <td>NVDA</td>\n",
       "      <td>2024-11-29 15:41:31</td>\n",
       "    </tr>\n",
       "    <tr>\n",
       "      <th>30147</th>\n",
       "      <td>NVDA</td>\n",
       "      <td>positive</td>\n",
       "      <td>The Motley Fool has positions in and recommend...</td>\n",
       "      <td>f7662caac2faa279ca952fbb1b8f90fe30b6c575b50714...</td>\n",
       "      <td>NVDA</td>\n",
       "      <td>2024-11-29 15:42:45</td>\n",
       "    </tr>\n",
       "    <tr>\n",
       "      <th>30148</th>\n",
       "      <td>SMCI</td>\n",
       "      <td>negative</td>\n",
       "      <td>The article mentions that Super Micro Computer...</td>\n",
       "      <td>f7662caac2faa279ca952fbb1b8f90fe30b6c575b50714...</td>\n",
       "      <td>NVDA</td>\n",
       "      <td>2024-11-29 15:42:45</td>\n",
       "    </tr>\n",
       "  </tbody>\n",
       "</table>\n",
       "<p>30149 rows × 6 columns</p>\n",
       "</div>"
      ],
      "text/plain": [
       "      ticker sentiment                                sentiment_reasoning  \\\n",
       "0       NFLX  positive  The article indicates that significant investo...   \n",
       "1       AMZN  positive  AWS is mentioned as one of the biggest names i...   \n",
       "2       MSFT  positive  Microsoft is mentioned as one of the prominent...   \n",
       "3       GOOG  positive  Google is also mentioned as one of the promine...   \n",
       "4      GOOGL  positive  Google is also mentioned as one of the promine...   \n",
       "...      ...       ...                                                ...   \n",
       "30144   PINS  negative  Pinterest's revenue growth is decelerating, go...   \n",
       "30145   AMZN   neutral  Amazon is facing slowing growth and increased ...   \n",
       "30146   NVDA   neutral  The article provides an update on Nvidia but d...   \n",
       "30147   NVDA  positive  The Motley Fool has positions in and recommend...   \n",
       "30148   SMCI  negative  The article mentions that Super Micro Computer...   \n",
       "\n",
       "                                                 news_id source_ticker  \\\n",
       "0      d913f8609f0266a3934c767e3e08b5cb3a5b907373cf4c...          NFLX   \n",
       "1      8acd1c36c41725f571ef8611bcecdb9223800381a2543b...          MSFT   \n",
       "2      8acd1c36c41725f571ef8611bcecdb9223800381a2543b...         GOOGL   \n",
       "3      8acd1c36c41725f571ef8611bcecdb9223800381a2543b...         GOOGL   \n",
       "4      8acd1c36c41725f571ef8611bcecdb9223800381a2543b...         GOOGL   \n",
       "...                                                  ...           ...   \n",
       "30144  784b3e4ed634caf42b5231185445266ad2ba5e496af7cb...          AMZN   \n",
       "30145  784b3e4ed634caf42b5231185445266ad2ba5e496af7cb...          AMZN   \n",
       "30146  35df0d912c3dfd75abf8102bd782257a02b725eab618c4...          NVDA   \n",
       "30147  f7662caac2faa279ca952fbb1b8f90fe30b6c575b50714...          NVDA   \n",
       "30148  f7662caac2faa279ca952fbb1b8f90fe30b6c575b50714...          NVDA   \n",
       "\n",
       "                     time  \n",
       "0     2024-07-02 17:46:38  \n",
       "1     2024-07-02 17:46:57  \n",
       "2     2024-07-02 17:46:57  \n",
       "3     2024-07-02 17:46:57  \n",
       "4     2024-07-02 17:46:57  \n",
       "...                   ...  \n",
       "30144 2024-11-29 15:30:00  \n",
       "30145 2024-11-29 15:30:00  \n",
       "30146 2024-11-29 15:41:31  \n",
       "30147 2024-11-29 15:42:45  \n",
       "30148 2024-11-29 15:42:45  \n",
       "\n",
       "[30149 rows x 6 columns]"
      ]
     },
     "execution_count": 376,
     "metadata": {},
     "output_type": "execute_result"
    }
   ],
   "source": [
    "stock_relation1 = pd.read_csv(\"../dataset/news/relation_all.csv\")\n",
    "stock_relation2 = pd.read_csv(\"../dataset/news/relation_all_test.csv\")\n",
    "stock_relation = concat_df(stock_relation1, stock_relation2)\n",
    "stock_relation['time'] = pd.to_datetime(stock_relation['time'])\n",
    "stock_relation"
   ]
  },
  {
   "cell_type": "code",
   "execution_count": 377,
   "metadata": {},
   "outputs": [
    {
     "data": {
      "text/plain": [
       "<Axes: xlabel='time'>"
      ]
     },
     "execution_count": 377,
     "metadata": {},
     "output_type": "execute_result"
    },
    {
     "data": {
      "image/png": "[encoded data removed]",
      "text/plain": [
       "<Figure size 640x480 with 1 Axes>"
      ]
     },
     "metadata": {},
     "output_type": "display_data"
    }
   ],
   "source": [
    "stock_date = stock_relation['time'].dt.hour.value_counts().sort_index()\n",
    "stock_date.plot(kind='bar', color='skyblue')"
   ]
  },
  {
   "cell_type": "code",
   "execution_count": 378,
   "metadata": {},
   "outputs": [],
   "source": [
    "def sentiment_transform(label):\n",
    "    def func(series):\n",
    "        return series.isin(label).sum() / series.count()\n",
    "    return func"
   ]
  },
  {
   "cell_type": "code",
   "execution_count": 379,
   "metadata": {},
   "outputs": [],
   "source": [
    "def prepare_data(ticker, stock_relation):\n",
    "    stock_price1 = pd.read_csv(f\"../dataset/stocks/{ticker}.csv\")\n",
    "    stock_price2 = pd.read_csv(f\"../dataset/stocks/{ticker}_test.csv\")\n",
    "    stock_price = concat_df(stock_price1, stock_price2)\n",
    "    \n",
    "    stock_price['time'] = pd.to_datetime(stock_price['time'])\n",
    "    stock_price['trade_date'] = stock_price['time'].dt.date\n",
    "    stock_price['delta'] = stock_price['close'].diff()\n",
    "    stock_price['prv_close'] = stock_price['close'].shift(periods=1, fill_value=None)\n",
    "    \n",
    "    relation_t = stock_relation[stock_relation['ticker'] == ticker]\n",
    "    relation_t['news_date'] = (relation_t['time'] + pd.to_timedelta(0, unit='h')).dt.date\n",
    "    relation_t['same_source'] = (relation_t['source_ticker'] == relation_t['ticker']).astype(int)\n",
    "    relation_t['direct_sentiment'] = relation_t['sentiment']\n",
    "    relation_t.loc[relation_t['same_source'] == 0, 'direct_sentiment'] = 'None'\n",
    "\n",
    "    news_comb = pd.merge(relation_t, stock_price, how='left', left_on='news_date', right_on='trade_date')\n",
    "    # news_comb['trade_date'] = news_comb['trade_date'].fillna(method='bfill')\n",
    "    news_comb = news_comb.dropna(subset=['trade_date'])\n",
    "    news_comb['direct_sentiment'] = news_comb['sentiment']\n",
    "    news_comb.loc[news_comb['source_ticker'] != news_comb['ticker'], 'direct_sentiment'] = 'None'\n",
    "\n",
    "    relation_gp = news_comb.groupby('trade_date').agg({\n",
    "        'prv_close': 'first', 'delta': 'first', 'close': 'first',\n",
    "        'sentiment': [sentiment_transform(['positive', 'bullish']), sentiment_transform(['negative', 'bearish'])],\n",
    "        'direct_sentiment': [sentiment_transform(['positive', 'bullish']), sentiment_transform(['negative', 'bearish'])],\n",
    "    }).fillna(0.0).reset_index()\n",
    "    relation_gp.columns = ['trade_date', 'prv_close', 'delta', 'close', 'positive', 'negative', 'dir_positive', 'dir_negative']\n",
    "    return relation_gp"
   ]
  },
  {
   "cell_type": "code",
   "execution_count": 380,
   "metadata": {},
   "outputs": [
    {
     "name": "stderr",
     "output_type": "stream",
     "text": [
      "/var/folders/pj/znl5r0ln0hv_g1yjdthtr3f40000gn/T/ipykernel_4861/1254732481.py:12: SettingWithCopyWarning: \n",
      "A value is trying to be set on a copy of a slice from a DataFrame.\n",
      "Try using .loc[row_indexer,col_indexer] = value instead\n",
      "\n",
      "See the caveats in the documentation: https://pandas.pydata.org/pandas-docs/stable/user_guide/indexing.html#returning-a-view-versus-a-copy\n",
      "  relation_t['news_date'] = (relation_t['time'] + pd.to_timedelta(0, unit='h')).dt.date\n",
      "/var/folders/pj/znl5r0ln0hv_g1yjdthtr3f40000gn/T/ipykernel_4861/1254732481.py:13: SettingWithCopyWarning: \n",
      "A value is trying to be set on a copy of a slice from a DataFrame.\n",
      "Try using .loc[row_indexer,col_indexer] = value instead\n",
      "\n",
      "See the caveats in the documentation: https://pandas.pydata.org/pandas-docs/stable/user_guide/indexing.html#returning-a-view-versus-a-copy\n",
      "  relation_t['same_source'] = (relation_t['source_ticker'] == relation_t['ticker']).astype(int)\n",
      "/var/folders/pj/znl5r0ln0hv_g1yjdthtr3f40000gn/T/ipykernel_4861/1254732481.py:14: SettingWithCopyWarning: \n",
      "A value is trying to be set on a copy of a slice from a DataFrame.\n",
      "Try using .loc[row_indexer,col_indexer] = value instead\n",
      "\n",
      "See the caveats in the documentation: https://pandas.pydata.org/pandas-docs/stable/user_guide/indexing.html#returning-a-view-versus-a-copy\n",
      "  relation_t['direct_sentiment'] = relation_t['sentiment']\n"
     ]
    },
    {
     "data": {
      "text/plain": [
       "(25, 99)"
      ]
     },
     "execution_count": 380,
     "metadata": {},
     "output_type": "execute_result"
    }
   ],
   "source": [
    "relation_gp = prepare_data(ticker='META', stock_relation=stock_relation)\n",
    "relation_gp_t = relation_gp[relation_gp['negative'] > 0]\n",
    "len(relation_gp_t), len(relation_gp)"
   ]
  },
  {
   "cell_type": "code",
   "execution_count": 381,
   "metadata": {},
   "outputs": [],
   "source": [
    "def test_relevance(cols):\n",
    "    X, y = relation_gp_t[cols], relation_gp_t['delta']\n",
    "    model = LinearRegression()\n",
    "    model.fit(X, y)\n",
    "\n",
    "    # Make predictions\n",
    "    y_pred = model.predict(X)\n",
    "\n",
    "    # Evaluate the model\n",
    "    mse = mean_squared_error(y, y_pred)\n",
    "    r2 = r2_score(y, y_pred)\n",
    "    return mse, r2, model.coef_"
   ]
  },
  {
   "cell_type": "code",
   "execution_count": 382,
   "metadata": {},
   "outputs": [
    {
     "data": {
      "text/plain": [
       "(111.662015345827, 0.11372599886147938, array([16.44124053,  0.02759272]))"
      ]
     },
     "execution_count": 382,
     "metadata": {},
     "output_type": "execute_result"
    }
   ],
   "source": [
    "test_relevance(['dir_negative', 'prv_close'])"
   ]
  },
  {
   "cell_type": "code",
   "execution_count": 383,
   "metadata": {},
   "outputs": [
    {
     "data": {
      "text/plain": [
       "(121.7496478943156, 0.03365932235492575, array([-3.50484316,  0.06807523]))"
      ]
     },
     "execution_count": 383,
     "metadata": {},
     "output_type": "execute_result"
    }
   ],
   "source": [
    "test_relevance(['negative', 'prv_close'])"
   ]
  },
  {
   "cell_type": "code",
   "execution_count": 384,
   "metadata": {},
   "outputs": [
    {
     "data": {
      "text/plain": [
       "(99.90288912893044,\n",
       " 0.20705950900693526,\n",
       " array([ 27.8015961 , -14.55266776,   0.06803384]))"
      ]
     },
     "execution_count": 384,
     "metadata": {},
     "output_type": "execute_result"
    }
   ],
   "source": [
    "test_relevance(['dir_negative', 'negative', 'prv_close'])"
   ]
  },
  {
   "cell_type": "code",
   "execution_count": 385,
   "metadata": {},
   "outputs": [
    {
     "data": {
      "text/plain": [
       "(117.39368819273459, 0.06823306546319607, array([-24.35345999,   0.03663794]))"
      ]
     },
     "execution_count": 385,
     "metadata": {},
     "output_type": "execute_result"
    }
   ],
   "source": [
    "test_relevance(['dir_positive', 'prv_close'])"
   ]
  },
  {
   "cell_type": "code",
   "execution_count": 386,
   "metadata": {},
   "outputs": [
    {
     "data": {
      "text/plain": [
       "(109.94643785759386,\n",
       " 0.127342730746987,\n",
       " array([ 14.24005074, -14.57406121,   0.02076156]))"
      ]
     },
     "execution_count": 386,
     "metadata": {},
     "output_type": "execute_result"
    }
   ],
   "source": [
    "test_relevance(['dir_negative', 'dir_positive', 'prv_close'])"
   ]
  },
  {
   "cell_type": "code",
   "execution_count": 387,
   "metadata": {},
   "outputs": [
    {
     "data": {
      "text/plain": [
       "(92.1217324568457,\n",
       " 0.2688194265213737,\n",
       " array([ 26.46269386, -19.30934777, -33.45020898,   0.06557361]))"
      ]
     },
     "execution_count": 387,
     "metadata": {},
     "output_type": "execute_result"
    }
   ],
   "source": [
    "test_relevance(['dir_negative', 'negative', 'dir_positive', 'prv_close'])"
   ]
  },
  {
   "cell_type": "code",
   "execution_count": 388,
   "metadata": {},
   "outputs": [
    {
     "data": {
      "text/plain": [
       "<matplotlib.collections.PathCollection at 0x15b42c3b0>"
      ]
     },
     "execution_count": 388,
     "metadata": {},
     "output_type": "execute_result"
    },
    {
     "data": {
      "image/png": "[encoded data removed]",
      "text/plain": [
       "<Figure size 640x480 with 1 Axes>"
      ]
     },
     "metadata": {},
     "output_type": "display_data"
    }
   ],
   "source": [
    "import matplotlib.pyplot as plt\n",
    "\n",
    "plt.scatter(relation_gp_t['negative'], relation_gp_t['delta'], color='blue', alpha=0.7)"
   ]
  },
  {
   "cell_type": "code",
   "execution_count": 389,
   "metadata": {},
   "outputs": [],
   "source": [
    "def preprocess(relation_gp):\n",
    "    seq_length = 10\n",
    "    std_scaler, max_scaler = StandardScaler(), MinMaxScaler()\n",
    "    score_cols = ['dir_negative', 'negative', 'dir_positive']\n",
    "    price_cols = ['close']\n",
    "\n",
    "    df = pd.DataFrame()\n",
    "    df[score_cols] = std_scaler.fit_transform(relation_gp[score_cols])\n",
    "    df[price_cols] = max_scaler.fit_transform(relation_gp[price_cols])\n",
    "\n",
    "    X = []\n",
    "    y = []\n",
    "    for i in range(seq_length, len(df)):\n",
    "        X.append(df.iloc[i-seq_length:i])\n",
    "        y.append(df.iloc[i, -1])\n",
    "    X = np.array(X)\n",
    "    y = np.array(y)\n",
    "\n",
    "    X_train, X_test, y_train, y_test = train_test_split(X, y, test_size=0.2, random_state=42)\n",
    "\n",
    "    X_train = torch.tensor(X_train, dtype=torch.float32)\n",
    "    X_test = torch.tensor(X_test, dtype=torch.float32)\n",
    "    y_train = torch.tensor(y_train, dtype=torch.float32).unsqueeze(1) \n",
    "    y_test = torch.tensor(y_test, dtype=torch.float32).unsqueeze(1) \n",
    "\n",
    "    return X_train, y_train, X_test, y_test"
   ]
  },
  {
   "cell_type": "code",
   "execution_count": 390,
   "metadata": {},
   "outputs": [],
   "source": [
    "class SimpleLSTM(nn.Module):\n",
    "    def __init__(self, input_size, hidden_size, output_size, dropout):\n",
    "        super(SimpleLSTM, self).__init__()\n",
    "        self.lstm = nn.LSTM(input_size, hidden_size, dropout=dropout, batch_first=True)\n",
    "        self.fc = nn.Linear(hidden_size, output_size)\n",
    "    \n",
    "    def forward(self, x):\n",
    "        lstm_out, (hn, cn) = self.lstm(x)\n",
    "        out = self.fc(hn[-1])\n",
    "        return out"
   ]
  },
  {
   "cell_type": "code",
   "execution_count": 391,
   "metadata": {},
   "outputs": [
    {
     "name": "stderr",
     "output_type": "stream",
     "text": [
      "/opt/anaconda3/lib/python3.12/site-packages/torch/nn/modules/rnn.py:83: UserWarning: dropout option adds dropout after all but last recurrent layer, so non-zero dropout expects num_layers greater than 1, but got dropout=0.2 and num_layers=1\n",
      "  warnings.warn(\"dropout option adds dropout after all but last \"\n"
     ]
    },
    {
     "data": {
      "text/plain": [
       "(torch.Size([71, 10, 4]),\n",
       " torch.Size([71, 1]),\n",
       " torch.Size([18, 10, 4]),\n",
       " torch.Size([18, 1]))"
      ]
     },
     "execution_count": 391,
     "metadata": {},
     "output_type": "execute_result"
    }
   ],
   "source": [
    "model = SimpleLSTM(input_size=4, hidden_size=64, output_size=1, dropout=0.2)\n",
    "criterion = nn.MSELoss()\n",
    "optimizer = optim.Adam(model.parameters(), lr=0.001)\n",
    "X_train, y_train, X_test, y_test = preprocess(relation_gp)\n",
    "X_train.shape, y_train.shape, X_test.shape, y_test.shape"
   ]
  },
  {
   "cell_type": "code",
   "execution_count": 392,
   "metadata": {},
   "outputs": [
    {
     "name": "stdout",
     "output_type": "stream",
     "text": [
      "Epoch [1/100], Loss: 0.5474\n",
      "Epoch [2/100], Loss: 0.5264\n",
      "Epoch [3/100], Loss: 0.5057\n",
      "Epoch [4/100], Loss: 0.4853\n",
      "Epoch [5/100], Loss: 0.4652\n",
      "Epoch [6/100], Loss: 0.4454\n",
      "Epoch [7/100], Loss: 0.4256\n",
      "Epoch [8/100], Loss: 0.4059\n",
      "Epoch [9/100], Loss: 0.3861\n",
      "Epoch [10/100], Loss: 0.3661\n",
      "Epoch [11/100], Loss: 0.3458\n",
      "Epoch [12/100], Loss: 0.3251\n",
      "Epoch [13/100], Loss: 0.3040\n",
      "Epoch [14/100], Loss: 0.2823\n",
      "Epoch [15/100], Loss: 0.2601\n",
      "Epoch [16/100], Loss: 0.2372\n",
      "Epoch [17/100], Loss: 0.2137\n",
      "Epoch [18/100], Loss: 0.1896\n",
      "Epoch [19/100], Loss: 0.1649\n",
      "Epoch [20/100], Loss: 0.1400\n",
      "Epoch [21/100], Loss: 0.1152\n",
      "Epoch [22/100], Loss: 0.0912\n",
      "Epoch [23/100], Loss: 0.0691\n",
      "Epoch [24/100], Loss: 0.0508\n",
      "Epoch [25/100], Loss: 0.0387\n",
      "Epoch [26/100], Loss: 0.0359\n",
      "Epoch [27/100], Loss: 0.0442\n",
      "Epoch [28/100], Loss: 0.0593\n",
      "Epoch [29/100], Loss: 0.0709\n",
      "Epoch [30/100], Loss: 0.0725\n",
      "Epoch [31/100], Loss: 0.0656\n",
      "Epoch [32/100], Loss: 0.0550\n",
      "Epoch [33/100], Loss: 0.0449\n",
      "Epoch [34/100], Loss: 0.0377\n",
      "Epoch [35/100], Loss: 0.0338\n",
      "Epoch [36/100], Loss: 0.0329\n",
      "Epoch [37/100], Loss: 0.0337\n",
      "Epoch [38/100], Loss: 0.0355\n",
      "Epoch [39/100], Loss: 0.0375\n",
      "Epoch [40/100], Loss: 0.0391\n",
      "Epoch [41/100], Loss: 0.0400\n",
      "Epoch [42/100], Loss: 0.0401\n",
      "Epoch [43/100], Loss: 0.0394\n",
      "Epoch [44/100], Loss: 0.0381\n",
      "Epoch [45/100], Loss: 0.0362\n",
      "Epoch [46/100], Loss: 0.0340\n",
      "Epoch [47/100], Loss: 0.0318\n",
      "Epoch [48/100], Loss: 0.0297\n",
      "Epoch [49/100], Loss: 0.0280\n",
      "Epoch [50/100], Loss: 0.0269\n",
      "Epoch [51/100], Loss: 0.0264\n",
      "Epoch [52/100], Loss: 0.0264\n",
      "Epoch [53/100], Loss: 0.0267\n",
      "Epoch [54/100], Loss: 0.0271\n",
      "Epoch [55/100], Loss: 0.0271\n",
      "Epoch [56/100], Loss: 0.0267\n",
      "Epoch [57/100], Loss: 0.0259\n",
      "Epoch [58/100], Loss: 0.0247\n",
      "Epoch [59/100], Loss: 0.0236\n",
      "Epoch [60/100], Loss: 0.0225\n",
      "Epoch [61/100], Loss: 0.0217\n",
      "Epoch [62/100], Loss: 0.0212\n",
      "Epoch [63/100], Loss: 0.0209\n",
      "Epoch [64/100], Loss: 0.0206\n",
      "Epoch [65/100], Loss: 0.0204\n",
      "Epoch [66/100], Loss: 0.0202\n",
      "Epoch [67/100], Loss: 0.0197\n",
      "Epoch [68/100], Loss: 0.0192\n",
      "Epoch [69/100], Loss: 0.0185\n",
      "Epoch [70/100], Loss: 0.0178\n",
      "Epoch [71/100], Loss: 0.0171\n",
      "Epoch [72/100], Loss: 0.0166\n",
      "Epoch [73/100], Loss: 0.0161\n",
      "Epoch [74/100], Loss: 0.0158\n",
      "Epoch [75/100], Loss: 0.0155\n",
      "Epoch [76/100], Loss: 0.0152\n",
      "Epoch [77/100], Loss: 0.0149\n",
      "Epoch [78/100], Loss: 0.0144\n",
      "Epoch [79/100], Loss: 0.0139\n",
      "Epoch [80/100], Loss: 0.0134\n",
      "Epoch [81/100], Loss: 0.0130\n",
      "Epoch [82/100], Loss: 0.0127\n",
      "Epoch [83/100], Loss: 0.0124\n",
      "Epoch [84/100], Loss: 0.0122\n",
      "Epoch [85/100], Loss: 0.0119\n",
      "Epoch [86/100], Loss: 0.0116\n",
      "Epoch [87/100], Loss: 0.0113\n",
      "Epoch [88/100], Loss: 0.0110\n",
      "Epoch [89/100], Loss: 0.0107\n",
      "Epoch [90/100], Loss: 0.0105\n",
      "Epoch [91/100], Loss: 0.0103\n",
      "Epoch [92/100], Loss: 0.0102\n",
      "Epoch [93/100], Loss: 0.0100\n",
      "Epoch [94/100], Loss: 0.0098\n",
      "Epoch [95/100], Loss: 0.0096\n",
      "Epoch [96/100], Loss: 0.0094\n",
      "Epoch [97/100], Loss: 0.0093\n",
      "Epoch [98/100], Loss: 0.0092\n",
      "Epoch [99/100], Loss: 0.0091\n",
      "Epoch [100/100], Loss: 0.0089\n"
     ]
    }
   ],
   "source": [
    "num_epochs = 100\n",
    "for epoch in range(num_epochs):\n",
    "    model.train()\n",
    "    optimizer.zero_grad()\n",
    "    outputs = model(X_train)\n",
    "    loss = criterion(outputs, y_train)\n",
    "    loss.backward()\n",
    "    optimizer.step()\n",
    "    print(f'Epoch [{epoch+1}/{num_epochs}], Loss: {loss.item():.4f}')"
   ]
  },
  {
   "cell_type": "code",
   "execution_count": 393,
   "metadata": {},
   "outputs": [
    {
     "name": "stdout",
     "output_type": "stream",
     "text": [
      "Test Loss: 0.0247\n",
      "Std: 0.3015\n",
      "Error Range: 0.5213\n"
     ]
    }
   ],
   "source": [
    "model.eval()\n",
    "\n",
    "with torch.no_grad():\n",
    "    outputs = model(X_test)\n",
    "    loss = criterion(outputs, y_test)\n",
    "    std = y_test.std()\n",
    "    print(f'Test Loss: {loss.item():.4f}')\n",
    "    print(f'Std: {std:.4f}')\n",
    "    print(f'Error Range: {loss.sqrt() / std:.4f}')"
   ]
  },
  {
   "cell_type": "code",
   "execution_count": null,
   "metadata": {},
   "outputs": [],
   "source": []
  }
 ],
 "metadata": {
  "kernelspec": {
   "display_name": "base",
   "language": "python",
   "name": "python3"
  },
  "language_info": {
   "codemirror_mode": {
    "name": "ipython",
    "version": 3
   },
   "file_extension": ".py",
   "mimetype": "text/x-python",
   "name": "python",
   "nbconvert_exporter": "python",
   "pygments_lexer": "ipython3",
   "version": "3.12.4"
  }
 },
 "nbformat": 4,
 "nbformat_minor": 2
}
