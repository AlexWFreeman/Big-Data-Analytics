{
 "cells": [
  {
   "cell_type": "code",
   "execution_count": 340,
   "metadata": {},
   "outputs": [],
   "source": [
    "import numpy as np\n",
    "import pandas as pd\n",
    "from sklearn.model_selection import train_test_split\n",
    "from sklearn.linear_model import LinearRegression\n",
    "from sklearn.metrics import mean_squared_error, r2_score"
   ]
  },
  {
   "cell_type": "code",
   "execution_count": 341,
   "metadata": {},
   "outputs": [
    {
     "data": {
      "text/html": [
       "<div>\n",
       "<style scoped>\n",
       "    .dataframe tbody tr th:only-of-type {\n",
       "        vertical-align: middle;\n",
       "    }\n",
       "\n",
       "    .dataframe tbody tr th {\n",
       "        vertical-align: top;\n",
       "    }\n",
       "\n",
       "    .dataframe thead th {\n",
       "        text-align: right;\n",
       "    }\n",
       "</style>\n",
       "<table border=\"1\" class=\"dataframe\">\n",
       "  <thead>\n",
       "    <tr style=\"text-align: right;\">\n",
       "      <th></th>\n",
       "      <th>ticker</th>\n",
       "      <th>sentiment</th>\n",
       "      <th>sentiment_reasoning</th>\n",
       "      <th>news_id</th>\n",
       "      <th>source_ticker</th>\n",
       "      <th>time</th>\n",
       "    </tr>\n",
       "  </thead>\n",
       "  <tbody>\n",
       "    <tr>\n",
       "      <th>0</th>\n",
       "      <td>NFLX</td>\n",
       "      <td>positive</td>\n",
       "      <td>The article indicates that significant investo...</td>\n",
       "      <td>d913f8609f0266a3934c767e3e08b5cb3a5b907373cf4c...</td>\n",
       "      <td>NFLX</td>\n",
       "      <td>2024-07-02 17:46:38</td>\n",
       "    </tr>\n",
       "    <tr>\n",
       "      <th>1</th>\n",
       "      <td>AMZN</td>\n",
       "      <td>positive</td>\n",
       "      <td>AWS is mentioned as one of the biggest names i...</td>\n",
       "      <td>8acd1c36c41725f571ef8611bcecdb9223800381a2543b...</td>\n",
       "      <td>MSFT</td>\n",
       "      <td>2024-07-02 17:46:57</td>\n",
       "    </tr>\n",
       "    <tr>\n",
       "      <th>2</th>\n",
       "      <td>MSFT</td>\n",
       "      <td>positive</td>\n",
       "      <td>Microsoft is mentioned as one of the prominent...</td>\n",
       "      <td>8acd1c36c41725f571ef8611bcecdb9223800381a2543b...</td>\n",
       "      <td>GOOGL</td>\n",
       "      <td>2024-07-02 17:46:57</td>\n",
       "    </tr>\n",
       "    <tr>\n",
       "      <th>3</th>\n",
       "      <td>GOOG</td>\n",
       "      <td>positive</td>\n",
       "      <td>Google is also mentioned as one of the promine...</td>\n",
       "      <td>8acd1c36c41725f571ef8611bcecdb9223800381a2543b...</td>\n",
       "      <td>GOOGL</td>\n",
       "      <td>2024-07-02 17:46:57</td>\n",
       "    </tr>\n",
       "    <tr>\n",
       "      <th>4</th>\n",
       "      <td>GOOGL</td>\n",
       "      <td>positive</td>\n",
       "      <td>Google is also mentioned as one of the promine...</td>\n",
       "      <td>8acd1c36c41725f571ef8611bcecdb9223800381a2543b...</td>\n",
       "      <td>GOOGL</td>\n",
       "      <td>2024-07-02 17:46:57</td>\n",
       "    </tr>\n",
       "    <tr>\n",
       "      <th>...</th>\n",
       "      <td>...</td>\n",
       "      <td>...</td>\n",
       "      <td>...</td>\n",
       "      <td>...</td>\n",
       "      <td>...</td>\n",
       "      <td>...</td>\n",
       "    </tr>\n",
       "    <tr>\n",
       "      <th>25522</th>\n",
       "      <td>META</td>\n",
       "      <td>neutral</td>\n",
       "      <td>The article mentions Meta Platforms' developme...</td>\n",
       "      <td>1d9a233266513e7565c8aa26700bc8a7fad1acb0eb8f8f...</td>\n",
       "      <td>NVDA</td>\n",
       "      <td>2024-10-31 04:26:28</td>\n",
       "    </tr>\n",
       "    <tr>\n",
       "      <th>25523</th>\n",
       "      <td>AMD</td>\n",
       "      <td>positive</td>\n",
       "      <td>The article highlights AMD CEO Lisa Su's optim...</td>\n",
       "      <td>1d9a233266513e7565c8aa26700bc8a7fad1acb0eb8f8f...</td>\n",
       "      <td>NVDA</td>\n",
       "      <td>2024-10-31 04:26:28</td>\n",
       "    </tr>\n",
       "    <tr>\n",
       "      <th>25524</th>\n",
       "      <td>NVDA</td>\n",
       "      <td>neutral</td>\n",
       "      <td>The article acknowledges NVIDIA as a major com...</td>\n",
       "      <td>1d9a233266513e7565c8aa26700bc8a7fad1acb0eb8f8f...</td>\n",
       "      <td>META</td>\n",
       "      <td>2024-10-31 04:26:28</td>\n",
       "    </tr>\n",
       "    <tr>\n",
       "      <th>25525</th>\n",
       "      <td>META</td>\n",
       "      <td>neutral</td>\n",
       "      <td>The article mentions Meta Platforms' developme...</td>\n",
       "      <td>1d9a233266513e7565c8aa26700bc8a7fad1acb0eb8f8f...</td>\n",
       "      <td>META</td>\n",
       "      <td>2024-10-31 04:26:28</td>\n",
       "    </tr>\n",
       "    <tr>\n",
       "      <th>25526</th>\n",
       "      <td>AMD</td>\n",
       "      <td>positive</td>\n",
       "      <td>The article highlights AMD CEO Lisa Su's optim...</td>\n",
       "      <td>1d9a233266513e7565c8aa26700bc8a7fad1acb0eb8f8f...</td>\n",
       "      <td>META</td>\n",
       "      <td>2024-10-31 04:26:28</td>\n",
       "    </tr>\n",
       "  </tbody>\n",
       "</table>\n",
       "<p>25527 rows × 6 columns</p>\n",
       "</div>"
      ],
      "text/plain": [
       "      ticker sentiment                                sentiment_reasoning  \\\n",
       "0       NFLX  positive  The article indicates that significant investo...   \n",
       "1       AMZN  positive  AWS is mentioned as one of the biggest names i...   \n",
       "2       MSFT  positive  Microsoft is mentioned as one of the prominent...   \n",
       "3       GOOG  positive  Google is also mentioned as one of the promine...   \n",
       "4      GOOGL  positive  Google is also mentioned as one of the promine...   \n",
       "...      ...       ...                                                ...   \n",
       "25522   META   neutral  The article mentions Meta Platforms' developme...   \n",
       "25523    AMD  positive  The article highlights AMD CEO Lisa Su's optim...   \n",
       "25524   NVDA   neutral  The article acknowledges NVIDIA as a major com...   \n",
       "25525   META   neutral  The article mentions Meta Platforms' developme...   \n",
       "25526    AMD  positive  The article highlights AMD CEO Lisa Su's optim...   \n",
       "\n",
       "                                                 news_id source_ticker  \\\n",
       "0      d913f8609f0266a3934c767e3e08b5cb3a5b907373cf4c...          NFLX   \n",
       "1      8acd1c36c41725f571ef8611bcecdb9223800381a2543b...          MSFT   \n",
       "2      8acd1c36c41725f571ef8611bcecdb9223800381a2543b...         GOOGL   \n",
       "3      8acd1c36c41725f571ef8611bcecdb9223800381a2543b...         GOOGL   \n",
       "4      8acd1c36c41725f571ef8611bcecdb9223800381a2543b...         GOOGL   \n",
       "...                                                  ...           ...   \n",
       "25522  1d9a233266513e7565c8aa26700bc8a7fad1acb0eb8f8f...          NVDA   \n",
       "25523  1d9a233266513e7565c8aa26700bc8a7fad1acb0eb8f8f...          NVDA   \n",
       "25524  1d9a233266513e7565c8aa26700bc8a7fad1acb0eb8f8f...          META   \n",
       "25525  1d9a233266513e7565c8aa26700bc8a7fad1acb0eb8f8f...          META   \n",
       "25526  1d9a233266513e7565c8aa26700bc8a7fad1acb0eb8f8f...          META   \n",
       "\n",
       "                     time  \n",
       "0     2024-07-02 17:46:38  \n",
       "1     2024-07-02 17:46:57  \n",
       "2     2024-07-02 17:46:57  \n",
       "3     2024-07-02 17:46:57  \n",
       "4     2024-07-02 17:46:57  \n",
       "...                   ...  \n",
       "25522 2024-10-31 04:26:28  \n",
       "25523 2024-10-31 04:26:28  \n",
       "25524 2024-10-31 04:26:28  \n",
       "25525 2024-10-31 04:26:28  \n",
       "25526 2024-10-31 04:26:28  \n",
       "\n",
       "[25527 rows x 6 columns]"
      ]
     },
     "execution_count": 341,
     "metadata": {},
     "output_type": "execute_result"
    }
   ],
   "source": [
    "stock_relation = pd.read_csv(\"../dataset/news/relation_all.csv\")\n",
    "stock_relation['time'] = pd.to_datetime(stock_relation['time'])\n",
    "stock_relation"
   ]
  },
  {
   "cell_type": "code",
   "execution_count": 342,
   "metadata": {},
   "outputs": [
    {
     "data": {
      "text/plain": [
       "sentiment\n",
       "positive    15321\n",
       "neutral      7369\n",
       "negative     2684\n",
       "bearish        74\n",
       "hold           42\n",
       "bullish        32\n",
       "mixed           5\n",
       "Name: count, dtype: int64"
      ]
     },
     "execution_count": 342,
     "metadata": {},
     "output_type": "execute_result"
    }
   ],
   "source": [
    "stock_relation['sentiment'].value_counts()"
   ]
  },
  {
   "cell_type": "code",
   "execution_count": 343,
   "metadata": {},
   "outputs": [],
   "source": [
    "ticker = 'AMZN'"
   ]
  },
  {
   "cell_type": "code",
   "execution_count": 344,
   "metadata": {},
   "outputs": [
    {
     "data": {
      "text/html": [
       "<div>\n",
       "<style scoped>\n",
       "    .dataframe tbody tr th:only-of-type {\n",
       "        vertical-align: middle;\n",
       "    }\n",
       "\n",
       "    .dataframe tbody tr th {\n",
       "        vertical-align: top;\n",
       "    }\n",
       "\n",
       "    .dataframe thead th {\n",
       "        text-align: right;\n",
       "    }\n",
       "</style>\n",
       "<table border=\"1\" class=\"dataframe\">\n",
       "  <thead>\n",
       "    <tr style=\"text-align: right;\">\n",
       "      <th></th>\n",
       "      <th>volumn</th>\n",
       "      <th>vwap</th>\n",
       "      <th>open</th>\n",
       "      <th>close</th>\n",
       "      <th>high</th>\n",
       "      <th>low</th>\n",
       "      <th>time</th>\n",
       "      <th>num_trades</th>\n",
       "      <th>trade_date</th>\n",
       "      <th>delta</th>\n",
       "      <th>prv_close</th>\n",
       "    </tr>\n",
       "  </thead>\n",
       "  <tbody>\n",
       "    <tr>\n",
       "      <th>0</th>\n",
       "      <td>99248920.0</td>\n",
       "      <td>102.2496</td>\n",
       "      <td>103.560</td>\n",
       "      <td>102.44</td>\n",
       "      <td>104.8700</td>\n",
       "      <td>100.740</td>\n",
       "      <td>2022-10-31 04:00:00</td>\n",
       "      <td>755820</td>\n",
       "      <td>2022-10-31</td>\n",
       "      <td>NaN</td>\n",
       "      <td>NaN</td>\n",
       "    </tr>\n",
       "    <tr>\n",
       "      <th>1</th>\n",
       "      <td>153370022.0</td>\n",
       "      <td>98.2156</td>\n",
       "      <td>103.990</td>\n",
       "      <td>96.79</td>\n",
       "      <td>104.5800</td>\n",
       "      <td>96.060</td>\n",
       "      <td>2022-11-01 04:00:00</td>\n",
       "      <td>1356112</td>\n",
       "      <td>2022-11-01</td>\n",
       "      <td>-5.65</td>\n",
       "      <td>102.44</td>\n",
       "    </tr>\n",
       "    <tr>\n",
       "      <th>2</th>\n",
       "      <td>135730798.0</td>\n",
       "      <td>94.8311</td>\n",
       "      <td>97.315</td>\n",
       "      <td>92.12</td>\n",
       "      <td>97.7400</td>\n",
       "      <td>92.010</td>\n",
       "      <td>2022-11-02 04:00:00</td>\n",
       "      <td>1199947</td>\n",
       "      <td>2022-11-02</td>\n",
       "      <td>-4.67</td>\n",
       "      <td>96.79</td>\n",
       "    </tr>\n",
       "    <tr>\n",
       "      <th>3</th>\n",
       "      <td>136651803.0</td>\n",
       "      <td>90.3820</td>\n",
       "      <td>92.470</td>\n",
       "      <td>89.30</td>\n",
       "      <td>93.5000</td>\n",
       "      <td>89.020</td>\n",
       "      <td>2022-11-03 04:00:00</td>\n",
       "      <td>1217237</td>\n",
       "      <td>2022-11-03</td>\n",
       "      <td>-2.82</td>\n",
       "      <td>92.12</td>\n",
       "    </tr>\n",
       "    <tr>\n",
       "      <th>4</th>\n",
       "      <td>128579836.0</td>\n",
       "      <td>90.1098</td>\n",
       "      <td>91.490</td>\n",
       "      <td>90.98</td>\n",
       "      <td>92.4400</td>\n",
       "      <td>88.040</td>\n",
       "      <td>2022-11-04 04:00:00</td>\n",
       "      <td>1000081</td>\n",
       "      <td>2022-11-04</td>\n",
       "      <td>1.68</td>\n",
       "      <td>89.30</td>\n",
       "    </tr>\n",
       "    <tr>\n",
       "      <th>...</th>\n",
       "      <td>...</td>\n",
       "      <td>...</td>\n",
       "      <td>...</td>\n",
       "      <td>...</td>\n",
       "      <td>...</td>\n",
       "      <td>...</td>\n",
       "      <td>...</td>\n",
       "      <td>...</td>\n",
       "      <td>...</td>\n",
       "      <td>...</td>\n",
       "      <td>...</td>\n",
       "    </tr>\n",
       "    <tr>\n",
       "      <th>497</th>\n",
       "      <td>31410489.0</td>\n",
       "      <td>185.7016</td>\n",
       "      <td>188.850</td>\n",
       "      <td>184.71</td>\n",
       "      <td>189.1600</td>\n",
       "      <td>183.690</td>\n",
       "      <td>2024-10-23 04:00:00</td>\n",
       "      <td>402016</td>\n",
       "      <td>2024-10-23</td>\n",
       "      <td>-4.99</td>\n",
       "      <td>189.70</td>\n",
       "    </tr>\n",
       "    <tr>\n",
       "      <th>498</th>\n",
       "      <td>20385701.0</td>\n",
       "      <td>186.1250</td>\n",
       "      <td>185.250</td>\n",
       "      <td>186.38</td>\n",
       "      <td>187.1100</td>\n",
       "      <td>183.860</td>\n",
       "      <td>2024-10-24 04:00:00</td>\n",
       "      <td>300389</td>\n",
       "      <td>2024-10-24</td>\n",
       "      <td>1.67</td>\n",
       "      <td>184.71</td>\n",
       "    </tr>\n",
       "    <tr>\n",
       "      <th>499</th>\n",
       "      <td>27815175.0</td>\n",
       "      <td>188.7589</td>\n",
       "      <td>187.850</td>\n",
       "      <td>187.83</td>\n",
       "      <td>190.4500</td>\n",
       "      <td>187.530</td>\n",
       "      <td>2024-10-25 04:00:00</td>\n",
       "      <td>357467</td>\n",
       "      <td>2024-10-25</td>\n",
       "      <td>1.45</td>\n",
       "      <td>186.38</td>\n",
       "    </tr>\n",
       "    <tr>\n",
       "      <th>500</th>\n",
       "      <td>23009842.0</td>\n",
       "      <td>189.0699</td>\n",
       "      <td>189.565</td>\n",
       "      <td>188.39</td>\n",
       "      <td>190.2100</td>\n",
       "      <td>188.210</td>\n",
       "      <td>2024-10-28 04:00:00</td>\n",
       "      <td>330670</td>\n",
       "      <td>2024-10-28</td>\n",
       "      <td>0.56</td>\n",
       "      <td>187.83</td>\n",
       "    </tr>\n",
       "    <tr>\n",
       "      <th>501</th>\n",
       "      <td>30161576.0</td>\n",
       "      <td>190.2546</td>\n",
       "      <td>188.580</td>\n",
       "      <td>190.83</td>\n",
       "      <td>191.4599</td>\n",
       "      <td>187.815</td>\n",
       "      <td>2024-10-29 04:00:00</td>\n",
       "      <td>371666</td>\n",
       "      <td>2024-10-29</td>\n",
       "      <td>2.44</td>\n",
       "      <td>188.39</td>\n",
       "    </tr>\n",
       "  </tbody>\n",
       "</table>\n",
       "<p>502 rows × 11 columns</p>\n",
       "</div>"
      ],
      "text/plain": [
       "          volumn      vwap     open   close      high      low  \\\n",
       "0     99248920.0  102.2496  103.560  102.44  104.8700  100.740   \n",
       "1    153370022.0   98.2156  103.990   96.79  104.5800   96.060   \n",
       "2    135730798.0   94.8311   97.315   92.12   97.7400   92.010   \n",
       "3    136651803.0   90.3820   92.470   89.30   93.5000   89.020   \n",
       "4    128579836.0   90.1098   91.490   90.98   92.4400   88.040   \n",
       "..           ...       ...      ...     ...       ...      ...   \n",
       "497   31410489.0  185.7016  188.850  184.71  189.1600  183.690   \n",
       "498   20385701.0  186.1250  185.250  186.38  187.1100  183.860   \n",
       "499   27815175.0  188.7589  187.850  187.83  190.4500  187.530   \n",
       "500   23009842.0  189.0699  189.565  188.39  190.2100  188.210   \n",
       "501   30161576.0  190.2546  188.580  190.83  191.4599  187.815   \n",
       "\n",
       "                   time  num_trades  trade_date  delta  prv_close  \n",
       "0   2022-10-31 04:00:00      755820  2022-10-31    NaN        NaN  \n",
       "1   2022-11-01 04:00:00     1356112  2022-11-01  -5.65     102.44  \n",
       "2   2022-11-02 04:00:00     1199947  2022-11-02  -4.67      96.79  \n",
       "3   2022-11-03 04:00:00     1217237  2022-11-03  -2.82      92.12  \n",
       "4   2022-11-04 04:00:00     1000081  2022-11-04   1.68      89.30  \n",
       "..                  ...         ...         ...    ...        ...  \n",
       "497 2024-10-23 04:00:00      402016  2024-10-23  -4.99     189.70  \n",
       "498 2024-10-24 04:00:00      300389  2024-10-24   1.67     184.71  \n",
       "499 2024-10-25 04:00:00      357467  2024-10-25   1.45     186.38  \n",
       "500 2024-10-28 04:00:00      330670  2024-10-28   0.56     187.83  \n",
       "501 2024-10-29 04:00:00      371666  2024-10-29   2.44     188.39  \n",
       "\n",
       "[502 rows x 11 columns]"
      ]
     },
     "execution_count": 344,
     "metadata": {},
     "output_type": "execute_result"
    }
   ],
   "source": [
    "stock_price = pd.read_csv(f\"../dataset/stocks/{ticker}.csv\")\n",
    "stock_price['time'] = pd.to_datetime(stock_price['time'])\n",
    "stock_price['trade_date'] = stock_price['time'].dt.date\n",
    "stock_price['delta'] = stock_price['close'].diff()\n",
    "stock_price['prv_close'] = stock_price['close'].shift(periods=1, fill_value=None)\n",
    "stock_price"
   ]
  },
  {
   "cell_type": "code",
   "execution_count": 345,
   "metadata": {},
   "outputs": [],
   "source": [
    "def sentiment_transform(label):\n",
    "    def func(series):\n",
    "        return series.isin(label).sum() / series.count()\n",
    "    return func"
   ]
  },
  {
   "cell_type": "code",
   "execution_count": 346,
   "metadata": {},
   "outputs": [],
   "source": [
    "def sentiment_score(threshold, gt):\n",
    "    def func(series):\n",
    "        if gt:\n",
    "            return series[series >= threshold].mean()\n",
    "        else:\n",
    "            return series[series <= threshold].mean()\n",
    "    return func"
   ]
  },
  {
   "cell_type": "code",
   "execution_count": 347,
   "metadata": {},
   "outputs": [
    {
     "name": "stderr",
     "output_type": "stream",
     "text": [
      "/var/folders/pj/znl5r0ln0hv_g1yjdthtr3f40000gn/T/ipykernel_1234/2764697557.py:2: SettingWithCopyWarning: \n",
      "A value is trying to be set on a copy of a slice from a DataFrame.\n",
      "Try using .loc[row_indexer,col_indexer] = value instead\n",
      "\n",
      "See the caveats in the documentation: https://pandas.pydata.org/pandas-docs/stable/user_guide/indexing.html#returning-a-view-versus-a-copy\n",
      "  relation_t['trade_date'] = (relation_t['time'] + pd.to_timedelta(0, unit='h')).dt.date\n",
      "/var/folders/pj/znl5r0ln0hv_g1yjdthtr3f40000gn/T/ipykernel_1234/2764697557.py:3: SettingWithCopyWarning: \n",
      "A value is trying to be set on a copy of a slice from a DataFrame.\n",
      "Try using .loc[row_indexer,col_indexer] = value instead\n",
      "\n",
      "See the caveats in the documentation: https://pandas.pydata.org/pandas-docs/stable/user_guide/indexing.html#returning-a-view-versus-a-copy\n",
      "  relation_t['same_source'] = (relation_t['source_ticker'] == relation_t['ticker']).astype(int)\n",
      "/var/folders/pj/znl5r0ln0hv_g1yjdthtr3f40000gn/T/ipykernel_1234/2764697557.py:5: SettingWithCopyWarning: \n",
      "A value is trying to be set on a copy of a slice from a DataFrame.\n",
      "Try using .loc[row_indexer,col_indexer] = value instead\n",
      "\n",
      "See the caveats in the documentation: https://pandas.pydata.org/pandas-docs/stable/user_guide/indexing.html#returning-a-view-versus-a-copy\n",
      "  relation_t['direct_sentiment'] = relation_t['sentiment']\n"
     ]
    }
   ],
   "source": [
    "relation_t = stock_relation[stock_relation['ticker'] == ticker]\n",
    "relation_t['trade_date'] = (relation_t['time'] + pd.to_timedelta(0, unit='h')).dt.date\n",
    "relation_t['same_source'] = (relation_t['source_ticker'] == relation_t['ticker']).astype(int)\n",
    "\n",
    "relation_t['direct_sentiment'] = relation_t['sentiment']\n",
    "relation_t.loc[relation_t['same_source'] == 0, 'direct_sentiment'] = 'None'\n"
   ]
  },
  {
   "cell_type": "code",
   "execution_count": 348,
   "metadata": {},
   "outputs": [
    {
     "data": {
      "text/plain": [
       "count    764.000000\n",
       "mean       2.401832\n",
       "std        1.693267\n",
       "min        1.000000\n",
       "25%        1.000000\n",
       "50%        2.000000\n",
       "75%        3.000000\n",
       "max        8.000000\n",
       "Name: count, dtype: float64"
      ]
     },
     "execution_count": 348,
     "metadata": {},
     "output_type": "execute_result"
    }
   ],
   "source": [
    "relation_t['news_id'].value_counts().describe()"
   ]
  },
  {
   "cell_type": "code",
   "execution_count": 349,
   "metadata": {},
   "outputs": [
    {
     "data": {
      "text/plain": [
       "<Axes: xlabel='time'>"
      ]
     },
     "execution_count": 349,
     "metadata": {},
     "output_type": "execute_result"
    },
    {
     "data": {
      "image/png": "[encoded data removed]",
      "text/plain": [
       "<Figure size 640x480 with 1 Axes>"
      ]
     },
     "metadata": {},
     "output_type": "display_data"
    }
   ],
   "source": [
    "stock_date = relation_t['time'].dt.hour.value_counts().sort_index()\n",
    "stock_date.plot(kind='bar', color='skyblue')"
   ]
  },
  {
   "cell_type": "code",
   "execution_count": 350,
   "metadata": {},
   "outputs": [
    {
     "data": {
      "text/html": [
       "<div>\n",
       "<style scoped>\n",
       "    .dataframe tbody tr th:only-of-type {\n",
       "        vertical-align: middle;\n",
       "    }\n",
       "\n",
       "    .dataframe tbody tr th {\n",
       "        vertical-align: top;\n",
       "    }\n",
       "\n",
       "    .dataframe thead th {\n",
       "        text-align: right;\n",
       "    }\n",
       "</style>\n",
       "<table border=\"1\" class=\"dataframe\">\n",
       "  <thead>\n",
       "    <tr style=\"text-align: right;\">\n",
       "      <th></th>\n",
       "      <th>trade_date</th>\n",
       "      <th>positive</th>\n",
       "      <th>negative</th>\n",
       "      <th>dir_positive</th>\n",
       "      <th>dir_negative</th>\n",
       "      <th>prv_close</th>\n",
       "      <th>delta</th>\n",
       "    </tr>\n",
       "  </thead>\n",
       "  <tbody>\n",
       "    <tr>\n",
       "      <th>0</th>\n",
       "      <td>2024-07-02</td>\n",
       "      <td>1.000000</td>\n",
       "      <td>0.000000</td>\n",
       "      <td>0.357143</td>\n",
       "      <td>0.000000</td>\n",
       "      <td>197.20</td>\n",
       "      <td>2.80</td>\n",
       "    </tr>\n",
       "    <tr>\n",
       "      <th>1</th>\n",
       "      <td>2024-07-03</td>\n",
       "      <td>0.631579</td>\n",
       "      <td>0.070175</td>\n",
       "      <td>0.263158</td>\n",
       "      <td>0.052632</td>\n",
       "      <td>200.00</td>\n",
       "      <td>-2.41</td>\n",
       "    </tr>\n",
       "    <tr>\n",
       "      <th>2</th>\n",
       "      <td>2024-07-05</td>\n",
       "      <td>0.654545</td>\n",
       "      <td>0.072727</td>\n",
       "      <td>0.200000</td>\n",
       "      <td>0.054545</td>\n",
       "      <td>197.59</td>\n",
       "      <td>2.41</td>\n",
       "    </tr>\n",
       "    <tr>\n",
       "      <th>3</th>\n",
       "      <td>2024-07-08</td>\n",
       "      <td>0.783784</td>\n",
       "      <td>0.189189</td>\n",
       "      <td>0.297297</td>\n",
       "      <td>0.027027</td>\n",
       "      <td>200.00</td>\n",
       "      <td>-0.71</td>\n",
       "    </tr>\n",
       "    <tr>\n",
       "      <th>4</th>\n",
       "      <td>2024-07-09</td>\n",
       "      <td>0.920000</td>\n",
       "      <td>0.080000</td>\n",
       "      <td>0.360000</td>\n",
       "      <td>0.080000</td>\n",
       "      <td>199.29</td>\n",
       "      <td>0.05</td>\n",
       "    </tr>\n",
       "    <tr>\n",
       "      <th>...</th>\n",
       "      <td>...</td>\n",
       "      <td>...</td>\n",
       "      <td>...</td>\n",
       "      <td>...</td>\n",
       "      <td>...</td>\n",
       "      <td>...</td>\n",
       "      <td>...</td>\n",
       "    </tr>\n",
       "    <tr>\n",
       "      <th>78</th>\n",
       "      <td>2024-10-23</td>\n",
       "      <td>0.750000</td>\n",
       "      <td>0.125000</td>\n",
       "      <td>0.625000</td>\n",
       "      <td>0.125000</td>\n",
       "      <td>189.70</td>\n",
       "      <td>-4.99</td>\n",
       "    </tr>\n",
       "    <tr>\n",
       "      <th>79</th>\n",
       "      <td>2024-10-24</td>\n",
       "      <td>0.750000</td>\n",
       "      <td>0.250000</td>\n",
       "      <td>0.500000</td>\n",
       "      <td>0.250000</td>\n",
       "      <td>184.71</td>\n",
       "      <td>1.67</td>\n",
       "    </tr>\n",
       "    <tr>\n",
       "      <th>80</th>\n",
       "      <td>2024-10-25</td>\n",
       "      <td>1.000000</td>\n",
       "      <td>0.000000</td>\n",
       "      <td>0.352941</td>\n",
       "      <td>0.000000</td>\n",
       "      <td>186.38</td>\n",
       "      <td>1.45</td>\n",
       "    </tr>\n",
       "    <tr>\n",
       "      <th>81</th>\n",
       "      <td>2024-10-28</td>\n",
       "      <td>1.000000</td>\n",
       "      <td>0.000000</td>\n",
       "      <td>0.300000</td>\n",
       "      <td>0.000000</td>\n",
       "      <td>187.83</td>\n",
       "      <td>0.56</td>\n",
       "    </tr>\n",
       "    <tr>\n",
       "      <th>82</th>\n",
       "      <td>2024-10-29</td>\n",
       "      <td>0.500000</td>\n",
       "      <td>0.000000</td>\n",
       "      <td>0.500000</td>\n",
       "      <td>0.000000</td>\n",
       "      <td>188.39</td>\n",
       "      <td>2.44</td>\n",
       "    </tr>\n",
       "  </tbody>\n",
       "</table>\n",
       "<p>83 rows × 7 columns</p>\n",
       "</div>"
      ],
      "text/plain": [
       "    trade_date  positive  negative  dir_positive  dir_negative  prv_close  \\\n",
       "0   2024-07-02  1.000000  0.000000      0.357143      0.000000     197.20   \n",
       "1   2024-07-03  0.631579  0.070175      0.263158      0.052632     200.00   \n",
       "2   2024-07-05  0.654545  0.072727      0.200000      0.054545     197.59   \n",
       "3   2024-07-08  0.783784  0.189189      0.297297      0.027027     200.00   \n",
       "4   2024-07-09  0.920000  0.080000      0.360000      0.080000     199.29   \n",
       "..         ...       ...       ...           ...           ...        ...   \n",
       "78  2024-10-23  0.750000  0.125000      0.625000      0.125000     189.70   \n",
       "79  2024-10-24  0.750000  0.250000      0.500000      0.250000     184.71   \n",
       "80  2024-10-25  1.000000  0.000000      0.352941      0.000000     186.38   \n",
       "81  2024-10-28  1.000000  0.000000      0.300000      0.000000     187.83   \n",
       "82  2024-10-29  0.500000  0.000000      0.500000      0.000000     188.39   \n",
       "\n",
       "    delta  \n",
       "0    2.80  \n",
       "1   -2.41  \n",
       "2    2.41  \n",
       "3   -0.71  \n",
       "4    0.05  \n",
       "..    ...  \n",
       "78  -4.99  \n",
       "79   1.67  \n",
       "80   1.45  \n",
       "81   0.56  \n",
       "82   2.44  \n",
       "\n",
       "[83 rows x 7 columns]"
      ]
     },
     "execution_count": 350,
     "metadata": {},
     "output_type": "execute_result"
    }
   ],
   "source": [
    "relation_gp = relation_t.groupby('trade_date').agg({\n",
    "    'sentiment': [sentiment_transform(['positive', 'bullish']), sentiment_transform(['negative', 'bearish'])],\n",
    "    'direct_sentiment': [sentiment_transform(['positive', 'bullish']), sentiment_transform(['negative', 'bearish'])],\n",
    "}).fillna(0.0).reset_index()\n",
    "relation_gp.columns = ['trade_date', 'positive', 'negative', 'dir_positive', 'dir_negative']\n",
    "\n",
    "stock_comb = pd.merge(relation_gp, stock_price[['trade_date', 'prv_close', 'delta']], how='inner', on='trade_date')\n",
    "stock_comb"
   ]
  },
  {
   "cell_type": "code",
   "execution_count": 351,
   "metadata": {},
   "outputs": [
    {
     "data": {
      "text/plain": [
       "(27, 27, 83)"
      ]
     },
     "execution_count": 351,
     "metadata": {},
     "output_type": "execute_result"
    }
   ],
   "source": [
    "stock_comb_t = stock_comb[stock_comb['negative'] > 0]\n",
    "(stock_comb['dir_negative'] > 0).sum(), len(stock_comb_t), len(stock_comb)"
   ]
  },
  {
   "cell_type": "code",
   "execution_count": 352,
   "metadata": {},
   "outputs": [],
   "source": [
    "def test_relevance(cols):\n",
    "    X, y = stock_comb_t[cols], stock_comb_t['delta']\n",
    "    model = LinearRegression()\n",
    "    model.fit(X, y)\n",
    "\n",
    "    # Make predictions\n",
    "    y_pred = model.predict(X)\n",
    "\n",
    "    # Evaluate the model\n",
    "    mse = mean_squared_error(y, y_pred)\n",
    "    r2 = r2_score(y, y_pred)\n",
    "    return mse, r2, model.coef_"
   ]
  },
  {
   "cell_type": "code",
   "execution_count": 353,
   "metadata": {},
   "outputs": [
    {
     "data": {
      "text/plain": [
       "(16.49561167745591, 0.021353721713282092, array([11.18193152,  0.0455343 ]))"
      ]
     },
     "execution_count": 353,
     "metadata": {},
     "output_type": "execute_result"
    }
   ],
   "source": [
    "test_relevance(['dir_negative', 'prv_close'])"
   ]
  },
  {
   "cell_type": "code",
   "execution_count": 354,
   "metadata": {},
   "outputs": [
    {
     "data": {
      "text/plain": [
       "(16.524712859529497,\n",
       " 0.019627216259168745,\n",
       " array([-4.58178363e+00, -2.02481823e-03]))"
      ]
     },
     "execution_count": 354,
     "metadata": {},
     "output_type": "execute_result"
    }
   ],
   "source": [
    "test_relevance(['negative', 'prv_close'])"
   ]
  },
  {
   "cell_type": "code",
   "execution_count": 355,
   "metadata": {},
   "outputs": [
    {
     "data": {
      "text/plain": [
       "(15.681249548928442,\n",
       " 0.06966793290135542,\n",
       " array([ 2.28827687e+01, -9.74041393e+00, -3.63137598e-03]))"
      ]
     },
     "execution_count": 355,
     "metadata": {},
     "output_type": "execute_result"
    }
   ],
   "source": [
    "test_relevance(['dir_negative', 'negative', 'prv_close'])"
   ]
  },
  {
   "cell_type": "code",
   "execution_count": 356,
   "metadata": {},
   "outputs": [
    {
     "data": {
      "text/plain": [
       "<matplotlib.collections.PathCollection at 0x149f0a540>"
      ]
     },
     "execution_count": 356,
     "metadata": {},
     "output_type": "execute_result"
    },
    {
     "data": {
      "image/png": "[encoded data removed]",
      "text/plain": [
       "<Figure size 640x480 with 1 Axes>"
      ]
     },
     "metadata": {},
     "output_type": "display_data"
    }
   ],
   "source": [
    "import matplotlib.pyplot as plt\n",
    "\n",
    "plt.scatter(stock_comb_t['negative'], stock_comb_t['delta'], color='blue', alpha=0.7)"
   ]
  },
  {
   "cell_type": "code",
   "execution_count": null,
   "metadata": {},
   "outputs": [],
   "source": []
  }
 ],
 "metadata": {
  "kernelspec": {
   "display_name": "base",
   "language": "python",
   "name": "python3"
  },
  "language_info": {
   "codemirror_mode": {
    "name": "ipython",
    "version": 3
   },
   "file_extension": ".py",
   "mimetype": "text/x-python",
   "name": "python",
   "nbconvert_exporter": "python",
   "pygments_lexer": "ipython3",
   "version": "3.12.4"
  }
 },
 "nbformat": 4,
 "nbformat_minor": 2
}
