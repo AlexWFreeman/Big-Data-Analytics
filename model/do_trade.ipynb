{
 "cells": [
  {
   "cell_type": "code",
   "execution_count": 14,
   "metadata": {
    "id": "9fN6b8GTJmiM"
   },
   "outputs": [],
   "source": [
    "import numpy as np\n",
    "import pandas as pd"
   ]
  },
  {
   "cell_type": "code",
   "execution_count": 15,
   "metadata": {
    "colab": {
     "base_uri": "https://localhost:8080/",
     "height": 17
    },
    "id": "J-kAhaiaA58q",
    "outputId": "1199c7cf-ba77-44d8-ee18-321da53b2a15"
   },
   "outputs": [
    {
     "data": {
      "text/html": [
       "<div>\n",
       "<style scoped>\n",
       "    .dataframe tbody tr th:only-of-type {\n",
       "        vertical-align: middle;\n",
       "    }\n",
       "\n",
       "    .dataframe tbody tr th {\n",
       "        vertical-align: top;\n",
       "    }\n",
       "\n",
       "    .dataframe thead th {\n",
       "        text-align: right;\n",
       "    }\n",
       "</style>\n",
       "<table border=\"1\" class=\"dataframe\">\n",
       "  <thead>\n",
       "    <tr style=\"text-align: right;\">\n",
       "      <th></th>\n",
       "      <th>pred_delta_ratio</th>\n",
       "      <th>real_delta_ratio</th>\n",
       "      <th>pred_delta</th>\n",
       "      <th>real_delta</th>\n",
       "      <th>real_price</th>\n",
       "    </tr>\n",
       "  </thead>\n",
       "  <tbody>\n",
       "    <tr>\n",
       "      <th>0</th>\n",
       "      <td>0.426718</td>\n",
       "      <td>-0.090699</td>\n",
       "      <td>1.345067</td>\n",
       "      <td>-0.08</td>\n",
       "      <td>133.41</td>\n",
       "    </tr>\n",
       "    <tr>\n",
       "      <th>1</th>\n",
       "      <td>0.214654</td>\n",
       "      <td>0.449669</td>\n",
       "      <td>0.780239</td>\n",
       "      <td>1.35</td>\n",
       "      <td>134.76</td>\n",
       "    </tr>\n",
       "    <tr>\n",
       "      <th>2</th>\n",
       "      <td>0.175662</td>\n",
       "      <td>0.385430</td>\n",
       "      <td>0.671739</td>\n",
       "      <td>1.18</td>\n",
       "      <td>135.94</td>\n",
       "    </tr>\n",
       "    <tr>\n",
       "      <th>3</th>\n",
       "      <td>-0.082796</td>\n",
       "      <td>-0.336320</td>\n",
       "      <td>0.028877</td>\n",
       "      <td>-0.73</td>\n",
       "      <td>135.21</td>\n",
       "    </tr>\n",
       "    <tr>\n",
       "      <th>4</th>\n",
       "      <td>0.682156</td>\n",
       "      <td>-0.037795</td>\n",
       "      <td>1.991047</td>\n",
       "      <td>0.06</td>\n",
       "      <td>135.27</td>\n",
       "    </tr>\n",
       "    <tr>\n",
       "      <th>...</th>\n",
       "      <td>...</td>\n",
       "      <td>...</td>\n",
       "      <td>...</td>\n",
       "      <td>...</td>\n",
       "      <td>...</td>\n",
       "    </tr>\n",
       "    <tr>\n",
       "      <th>447</th>\n",
       "      <td>-1.250595</td>\n",
       "      <td>-1.987654</td>\n",
       "      <td>-3.000688</td>\n",
       "      <td>-5.10</td>\n",
       "      <td>230.76</td>\n",
       "    </tr>\n",
       "    <tr>\n",
       "      <th>448</th>\n",
       "      <td>-0.622708</td>\n",
       "      <td>-0.132265</td>\n",
       "      <td>-1.411231</td>\n",
       "      <td>-0.19</td>\n",
       "      <td>230.57</td>\n",
       "    </tr>\n",
       "    <tr>\n",
       "      <th>449</th>\n",
       "      <td>0.774646</td>\n",
       "      <td>0.256951</td>\n",
       "      <td>2.245893</td>\n",
       "      <td>0.84</td>\n",
       "      <td>231.41</td>\n",
       "    </tr>\n",
       "    <tr>\n",
       "      <th>450</th>\n",
       "      <td>0.635950</td>\n",
       "      <td>0.691512</td>\n",
       "      <td>1.825455</td>\n",
       "      <td>1.99</td>\n",
       "      <td>233.40</td>\n",
       "    </tr>\n",
       "    <tr>\n",
       "      <th>451</th>\n",
       "      <td>0.487269</td>\n",
       "      <td>0.041559</td>\n",
       "      <td>1.507157</td>\n",
       "      <td>0.27</td>\n",
       "      <td>233.67</td>\n",
       "    </tr>\n",
       "  </tbody>\n",
       "</table>\n",
       "<p>452 rows × 5 columns</p>\n",
       "</div>"
      ],
      "text/plain": [
       "     pred_delta_ratio  real_delta_ratio  pred_delta  real_delta  real_price\n",
       "0            0.426718         -0.090699    1.345067       -0.08      133.41\n",
       "1            0.214654          0.449669    0.780239        1.35      134.76\n",
       "2            0.175662          0.385430    0.671739        1.18      135.94\n",
       "3           -0.082796         -0.336320    0.028877       -0.73      135.21\n",
       "4            0.682156         -0.037795    1.991047        0.06      135.27\n",
       "..                ...               ...         ...         ...         ...\n",
       "447         -1.250595         -1.987654   -3.000688       -5.10      230.76\n",
       "448         -0.622708         -0.132265   -1.411231       -0.19      230.57\n",
       "449          0.774646          0.256951    2.245893        0.84      231.41\n",
       "450          0.635950          0.691512    1.825455        1.99      233.40\n",
       "451          0.487269          0.041559    1.507157        0.27      233.67\n",
       "\n",
       "[452 rows x 5 columns]"
      ]
     },
     "execution_count": 15,
     "metadata": {},
     "output_type": "execute_result"
    }
   ],
   "source": [
    "ticker = 'AAPL'\n",
    "df_sim = pd.read_csv(f\"../price_sim/{ticker}_sim.csv\")\n",
    "df_sim"
   ]
  },
  {
   "cell_type": "code",
   "execution_count": 16,
   "metadata": {
    "colab": {
     "base_uri": "https://localhost:8080/"
    },
    "id": "n168qQlc5xzK",
    "outputId": "281db0ff-0d32-4d30-b1f7-32cbd9fd0f1d"
   },
   "outputs": [
    {
     "data": {
      "text/plain": [
       "array([[1.        , 0.26731525],\n",
       "       [0.26731525, 1.        ]])"
      ]
     },
     "execution_count": 16,
     "metadata": {},
     "output_type": "execute_result"
    }
   ],
   "source": [
    "np.corrcoef(df_sim['pred_delta_ratio'], df_sim['real_delta_ratio'])"
   ]
  },
  {
   "cell_type": "code",
   "execution_count": 17,
   "metadata": {
    "colab": {
     "base_uri": "https://localhost:8080/"
    },
    "id": "lBqgPAahOs9k",
    "outputId": "f357ad35-bfb3-449f-9de7-88b1588328f0"
   },
   "outputs": [
    {
     "data": {
      "text/plain": [
       "array([[1.       , 0.2618984],\n",
       "       [0.2618984, 1.       ]])"
      ]
     },
     "execution_count": 17,
     "metadata": {},
     "output_type": "execute_result"
    }
   ],
   "source": [
    "np.corrcoef(df_sim['pred_delta'], df_sim['real_delta'])"
   ]
  },
  {
   "cell_type": "code",
   "execution_count": 18,
   "metadata": {
    "id": "epolGh6aRfi5"
   },
   "outputs": [],
   "source": [
    "def sigmoid(x, k=1):\n",
    "    return np.array(1 / (1 + np.exp(-k * x)))"
   ]
  },
  {
   "cell_type": "code",
   "execution_count": 19,
   "metadata": {
    "id": "3ypZyS7cZ7q3"
   },
   "outputs": [],
   "source": [
    "def arctan(x, k=1):\n",
    "  return np.array(np.arctan(k * x) / (np.pi / 4))"
   ]
  },
  {
   "cell_type": "code",
   "execution_count": 20,
   "metadata": {
    "id": "BdJutI9JcKzk"
   },
   "outputs": [],
   "source": [
    "def sharpe_ratio(capital, risk_free=0.0):\n",
    "    returns = np.diff(capital) / capital[:-1]\n",
    "    excess = np.mean(returns - risk_free)\n",
    "    std_dev = np.std(returns)\n",
    "    return (excess / std_dev) * np.sqrt(252)"
   ]
  },
  {
   "cell_type": "code",
   "execution_count": 21,
   "metadata": {
    "id": "QvGJhmhVH0h3"
   },
   "outputs": [],
   "source": [
    "def trade(ratios, prices):\n",
    "    capital = []\n",
    "    currency = [1.0]\n",
    "    position = [0.0]\n",
    "    for ratio, price in zip(ratios[1:], prices[:-1]):\n",
    "        money = currency[-1] + position[-1] * price\n",
    "        assert money >= 0, \"Bankruptcy\"\n",
    "        capital.append(money)\n",
    "        nxt_cur = money * (1 - ratio)\n",
    "        nxt_pos = money * ratio / price\n",
    "        currency.append(nxt_cur)\n",
    "        position.append(nxt_pos)\n",
    "    money = currency[-1] + position[-1] * prices[-1]\n",
    "    capital.append(money)\n",
    "\n",
    "    return pd.DataFrame({\n",
    "        'ratios': ratios,\n",
    "        'prices': prices,\n",
    "        'capital': capital,\n",
    "        'currency': currency,\n",
    "        'position': position\n",
    "    })"
   ]
  },
  {
   "cell_type": "code",
   "execution_count": 22,
   "metadata": {
    "colab": {
     "base_uri": "https://localhost:8080/"
    },
    "id": "2ACo7JMBSCXp",
    "outputId": "62b1dd71-4aed-4c2a-d397-c8c97d114c52"
   },
   "outputs": [
    {
     "data": {
      "text/plain": [
       "0.0001556498627912628"
      ]
     },
     "execution_count": 22,
     "metadata": {},
     "output_type": "execute_result"
    }
   ],
   "source": [
    "annual_risk_free = 0.04\n",
    "daily_risk_free = (1+annual_risk_free) ** (1/252) - 1\n",
    "daily_risk_free"
   ]
  },
  {
   "cell_type": "code",
   "execution_count": 23,
   "metadata": {
    "colab": {
     "base_uri": "https://localhost:8080/"
    },
    "id": "oiBwq5B-Mggh",
    "outputId": "3bdec95d-fede-4c5f-ecec-74878dc4a0b6"
   },
   "outputs": [
    {
     "data": {
      "text/plain": [
       "(1.7515178772205982, 1.7515178772206033)"
      ]
     },
     "execution_count": 23,
     "metadata": {},
     "output_type": "execute_result"
    }
   ],
   "source": [
    "ratios1, prices1 = np.ones(len(df_sim), dtype=float), df_sim['real_price'].to_numpy()\n",
    "df_trade1 = trade(ratios1, prices1)\n",
    "df_trade1['prices'].iloc[-1] / df_trade1['prices'].iloc[0], df_trade1['capital'].iloc[-1]"
   ]
  },
  {
   "cell_type": "code",
   "execution_count": 24,
   "metadata": {
    "colab": {
     "base_uri": "https://localhost:8080/"
    },
    "id": "HMY8IHOyO3uU",
    "outputId": "71451255-3496-4514-f6c2-949be1f2cc18"
   },
   "outputs": [
    {
     "data": {
      "text/plain": [
       "(1.7515178772205982, 2.692128384557236)"
      ]
     },
     "execution_count": 24,
     "metadata": {},
     "output_type": "execute_result"
    }
   ],
   "source": [
    "ratios5, prices5 = sigmoid(df_sim['pred_delta'], 5), df_sim['real_price'].to_numpy()\n",
    "df_trade5 = trade(ratios5, prices5)\n",
    "df_trade5['prices'].iloc[-1] / df_trade5['prices'].iloc[0], df_trade5['capital'].iloc[-1]"
   ]
  },
  {
   "cell_type": "code",
   "execution_count": 25,
   "metadata": {
    "colab": {
     "base_uri": "https://localhost:8080/"
    },
    "id": "z2VEkhQwckMO",
    "outputId": "fd64eb96-5128-45e3-ca67-56409f3665ed"
   },
   "outputs": [
    {
     "data": {
      "text/plain": [
       "(1.7515178772205982, 6.177542870619419)"
      ]
     },
     "execution_count": 25,
     "metadata": {},
     "output_type": "execute_result"
    }
   ],
   "source": [
    "ratios6, prices6 = arctan(df_sim['pred_delta'], 1), df_sim['real_price'].to_numpy()\n",
    "df_trade6 = trade(ratios6, prices6)\n",
    "df_trade6['prices'].iloc[-1] / df_trade6['prices'].iloc[0], df_trade6['capital'].iloc[-1]"
   ]
  },
  {
   "cell_type": "code",
   "execution_count": 26,
   "metadata": {
    "colab": {
     "base_uri": "https://localhost:8080/"
    },
    "id": "IO5jLY11ZfjY",
    "outputId": "7dc3afc3-329f-413a-de33-53474162e586"
   },
   "outputs": [
    {
     "name": "stdout",
     "output_type": "stream",
     "text": [
      "Always hold stock: (Sharpe)1.37, (Yield)1.75\n",
      "Our strategy (no short selling): (Sharpe)3.32, (Yield)2.69\n",
      "Our strategy (short selling): (Sharpe)4.02, (Yield)6.18\n"
     ]
    }
   ],
   "source": [
    "print(f\"Always hold stock: (Sharpe){sharpe_ratio(df_trade1['capital'], daily_risk_free):.2f}, (Yield){df_trade1['capital'].iloc[-1]:.2f}\")\n",
    "print(f\"Our strategy (no short selling): (Sharpe){sharpe_ratio(df_trade5['capital'], daily_risk_free):.2f}, (Yield){df_trade5['capital'].iloc[-1]:.2f}\")\n",
    "print(f\"Our strategy (short selling): (Sharpe){sharpe_ratio(df_trade6['capital'], daily_risk_free):.2f}, (Yield){df_trade6['capital'].iloc[-1]:.2f}\")"
   ]
  },
  {
   "cell_type": "code",
   "execution_count": null,
   "metadata": {
    "id": "I7XmQGmYPPaC"
   },
   "outputs": [],
   "source": []
  }
 ],
 "metadata": {
  "accelerator": "GPU",
  "colab": {
   "gpuType": "T4",
   "provenance": []
  },
  "kernelspec": {
   "display_name": "base",
   "language": "python",
   "name": "python3"
  },
  "language_info": {
   "codemirror_mode": {
    "name": "ipython",
    "version": 3
   },
   "file_extension": ".py",
   "mimetype": "text/x-python",
   "name": "python",
   "nbconvert_exporter": "python",
   "pygments_lexer": "ipython3",
   "version": "3.12.4"
  }
 },
 "nbformat": 4,
 "nbformat_minor": 0
}
