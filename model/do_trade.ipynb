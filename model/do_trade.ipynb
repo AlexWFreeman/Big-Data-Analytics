{
 "cells": [
  {
   "cell_type": "code",
   "execution_count": 315,
   "metadata": {
    "id": "9fN6b8GTJmiM"
   },
   "outputs": [],
   "source": [
    "import numpy as np\n",
    "import pandas as pd\n",
    "from scipy.special import softmax"
   ]
  },
  {
   "cell_type": "code",
   "execution_count": 316,
   "metadata": {},
   "outputs": [],
   "source": [
    "def prepare_data(ticker):\n",
    "    stock_price = pd.read_csv(f\"../dataset/stocks/{ticker}.csv\")\n",
    "    stock_price['time'] = pd.to_datetime(stock_price['time'])\n",
    "    stock_price['trade_date'] = stock_price['time'].dt.date\n",
    "    stock_price['delta'] = stock_price['close'].diff()\n",
    "\n",
    "    stock_price['prv_close'] = stock_price['close'].shift(periods=1, fill_value=None)\n",
    "    stock_price['200_ma'] = stock_price['prv_close'].rolling(window=200, min_periods=1).mean()\n",
    "    stock_price['50_ma'] = stock_price['prv_close'].rolling(window=50, min_periods=1).mean()\n",
    "\n",
    "    stock_news = pd.read_csv(f\"../dataset/polygon_title_sentiment_3/{ticker}_title_sentiments.csv\")\n",
    "    stock_news['time'] = pd.to_datetime(stock_news['time'])\n",
    "    stock_news['trade_date'] = (stock_news['time'] + pd.to_timedelta(0, unit='h')).dt.date\n",
    "\n",
    "    stock_news['neg_score'] = stock_news['sentiment_score']\n",
    "    stock_news.loc[stock_news['sentiment'] != 'negative', 'neg_score'] = 0.0\n",
    "    stock_news['pos_score'] = stock_news['sentiment_score']\n",
    "    stock_news.loc[stock_news['sentiment'] != 'positive', 'pos_score'] = 0.0\n",
    "\n",
    "    news_comb = pd.merge(stock_price, stock_news, how='left', on='trade_date')\n",
    "    df_gp = news_comb.groupby('trade_date').agg({\n",
    "        'prv_close': 'first', 'delta': 'first', 'close': 'first', 'open': 'first', 'high': 'first', 'low': 'first',\n",
    "        '200_ma': 'first', '50_ma': 'first', 'sentiment_score': 'mean', 'pos_score': 'mean', 'neg_score': 'mean'\n",
    "    }).fillna(0.0).reset_index()\n",
    "    df_gp.columns = ['trade_date', 'prv_close', 'delta', 'close', 'open', 'high', 'low', '200_ma', '50_ma', \n",
    "                     'all_score', 'pos_score', 'neg_score']\n",
    "    return df_gp"
   ]
  },
  {
   "cell_type": "code",
   "execution_count": 317,
   "metadata": {
    "colab": {
     "base_uri": "https://localhost:8080/",
     "height": 17
    },
    "id": "J-kAhaiaA58q",
    "outputId": "1199c7cf-ba77-44d8-ee18-321da53b2a15"
   },
   "outputs": [],
   "source": [
    "tickers = ['AAPL', 'GOOGL', 'MSFT', 'AMZN', 'META']\n",
    "df_sims = {t: pd.read_csv(f\"../price_sim/{t}_sim.csv\") for t in tickers}\n",
    "df_gps = {t: prepare_data(t) for t in tickers}"
   ]
  },
  {
   "cell_type": "code",
   "execution_count": 318,
   "metadata": {},
   "outputs": [
    {
     "name": "stdout",
     "output_type": "stream",
     "text": [
      "AAPL corr 0.2618983974743353\n",
      "GOOGL corr 0.3092283865751369\n",
      "MSFT corr 0.28033320617878865\n",
      "AMZN corr 0.33073903843109737\n",
      "META corr 0.1726340500425867\n"
     ]
    }
   ],
   "source": [
    "for t, df in df_sims.items():\n",
    "    print(f\"{t} corr {np.corrcoef(df['pred_delta'], df['real_delta'])[0, 1]}\")"
   ]
  },
  {
   "cell_type": "code",
   "execution_count": 319,
   "metadata": {
    "id": "epolGh6aRfi5"
   },
   "outputs": [],
   "source": [
    "def sigmoid(x, k=1):\n",
    "    return np.array(1 / (1 + np.exp(-k * x)))"
   ]
  },
  {
   "cell_type": "code",
   "execution_count": 320,
   "metadata": {
    "id": "3ypZyS7cZ7q3"
   },
   "outputs": [],
   "source": [
    "def arctan(x, k=1):\n",
    "    return np.array(np.arctan(k * x) / (np.pi / 2))"
   ]
  },
  {
   "cell_type": "code",
   "execution_count": 321,
   "metadata": {},
   "outputs": [],
   "source": [
    "def auto_scale(x, decay=0.9):\n",
    "    arr = x.copy()\n",
    "    base_ratio = 1/arr.shape[1]\n",
    "    for i in range(len(arr)):\n",
    "        while True:\n",
    "            atan_x = arctan(arr[i])\n",
    "            arr[i] = (atan_x - atan_x.mean()) * (1-base_ratio) * decay + base_ratio\n",
    "            if not (arr[i].max() > 1 or arr[i].min() < -1):\n",
    "                break\n",
    "    return arr"
   ]
  },
  {
   "cell_type": "code",
   "execution_count": 322,
   "metadata": {
    "id": "BdJutI9JcKzk"
   },
   "outputs": [],
   "source": [
    "def sharpe_ratio(capital, risk_free=0.0):\n",
    "    returns = np.diff(capital) / capital[:-1]\n",
    "    excess = np.mean(returns - risk_free)\n",
    "    std_dev = np.std(returns)\n",
    "    return round((excess / std_dev) * np.sqrt(252), 2)"
   ]
  },
  {
   "cell_type": "code",
   "execution_count": 323,
   "metadata": {},
   "outputs": [],
   "source": [
    "def yield_rate(capital):\n",
    "    total_yield = (capital.iloc[-1] / capital.iloc[0]) ** (252/len(capital))\n",
    "    return round((total_yield - 1) * 100, 2)"
   ]
  },
  {
   "cell_type": "code",
   "execution_count": 324,
   "metadata": {},
   "outputs": [],
   "source": [
    "def multi_preprocess(df_sims, pool):\n",
    "    length = len(df_sims[pool[0]])\n",
    "    real_price = np.column_stack([df_sims[t]['real_price'] for t in pool] + [np.ones(length)])\n",
    "    pred_delta = np.column_stack([df_sims[t]['pred_delta'] for t in pool] + [np.zeros(length)])\n",
    "    pred_ratio = np.column_stack([df_sims[t]['pred_delta'] / df_sims[t]['real_price'].shift(1) for t in pool] + [np.zeros(length)])\n",
    "    return pred_ratio, pred_delta, real_price"
   ]
  },
  {
   "cell_type": "code",
   "execution_count": 325,
   "metadata": {
    "id": "QvGJhmhVH0h3"
   },
   "outputs": [],
   "source": [
    "def trade(ratios, prices, trade_fee=0.0015):  # Regulatory + PFOF\n",
    "    capital = []\n",
    "    currency = [1.0]\n",
    "    position = [0.0]\n",
    "    for ratio, price in zip(ratios[1:], prices[:-1]):\n",
    "        money = currency[-1] + position[-1] * price\n",
    "        capital.append(money)\n",
    "        assert money >= 0, \"Bankruptcy\"\n",
    "        nxt_cur = money * (1 - ratio)\n",
    "        nxt_pos = money * ratio / price\n",
    "        nxt_cur -= abs(nxt_pos - position[-1]) * price * trade_fee\n",
    "        currency.append(nxt_cur)\n",
    "        position.append(nxt_pos)\n",
    "    money = currency[-1] + position[-1] * prices[-1]\n",
    "    capital.append(money)\n",
    "\n",
    "    return pd.DataFrame({\n",
    "        'ratios': ratios,\n",
    "        'prices': prices,\n",
    "        'capital': capital,\n",
    "        'currency': currency,\n",
    "        'position': position\n",
    "    })"
   ]
  },
  {
   "cell_type": "code",
   "execution_count": 326,
   "metadata": {},
   "outputs": [],
   "source": [
    "def multi_trade(ratios, prices, trade_fee=0.0015):\n",
    "    capital = []\n",
    "    position = [np.eye(prices.shape[1])[-1]]\n",
    "    for ratio, price in zip(ratios[1:], prices[:-1]):\n",
    "        if not capital:\n",
    "            money = 1.0\n",
    "        else:\n",
    "            money = (position[-1] * price).sum()\n",
    "        capital.append(money)\n",
    "        assert money >= 0, \"Bankruptcy\"\n",
    "        nxt_pos = money * ratio / price\n",
    "        dt_pos = np.abs(nxt_pos[:-1] - position[-1][:-1])\n",
    "        nxt_pos[-1] -= np.sum(dt_pos * price[:-1]) * trade_fee\n",
    "        position.append(nxt_pos)\n",
    "    money = (position[-1] * prices[-1]).sum()\n",
    "    capital.append(money)\n",
    "    \n",
    "    return pd.DataFrame({\n",
    "        'ratios': np.sum(ratios[:, :-1], axis=1),\n",
    "        'prices': np.mean(prices[:, :-1], axis=1),\n",
    "        'capital': capital,\n",
    "        'position': position\n",
    "    })"
   ]
  },
  {
   "cell_type": "code",
   "execution_count": 327,
   "metadata": {
    "colab": {
     "base_uri": "https://localhost:8080/"
    },
    "id": "2ACo7JMBSCXp",
    "outputId": "62b1dd71-4aed-4c2a-d397-c8c97d114c52"
   },
   "outputs": [
    {
     "data": {
      "text/plain": [
       "0.0001556498627912628"
      ]
     },
     "execution_count": 327,
     "metadata": {},
     "output_type": "execute_result"
    }
   ],
   "source": [
    "annual_risk_free = 0.04\n",
    "daily_risk_free = (1+annual_risk_free) ** (1/252) - 1\n",
    "daily_risk_free"
   ]
  },
  {
   "cell_type": "code",
   "execution_count": 328,
   "metadata": {
    "colab": {
     "base_uri": "https://localhost:8080/"
    },
    "id": "oiBwq5B-Mggh",
    "outputId": "3bdec95d-fede-4c5f-ecec-74878dc4a0b6"
   },
   "outputs": [
    {
     "name": "stdout",
     "output_type": "stream",
     "text": [
      "Ticker: AAPL\n",
      "Always hold stock: (Sharpe)1.37, (Yield)36.57%\n",
      "Long-short term strategy: (Sharpe)0.58, (Yield)13.31%\n",
      "Single stock (going long): (Sharpe)2.29, (Yield)48.96%\n",
      "Ticker: GOOGL\n",
      "Always hold stock: (Sharpe)1.21, (Yield)41.3%\n",
      "Long-short term strategy: (Sharpe)1.26, (Yield)42.92%\n",
      "Single stock (going long): (Sharpe)3.3, (Yield)82.46%\n",
      "Ticker: MSFT\n",
      "Always hold stock: (Sharpe)1.43, (Yield)39.14%\n",
      "Long-short term strategy: (Sharpe)1.43, (Yield)39.14%\n",
      "Single stock (going long): (Sharpe)2.25, (Yield)49.38%\n",
      "Ticker: AMZN\n",
      "Always hold stock: (Sharpe)1.31, (Yield)47.18%\n",
      "Long-short term strategy: (Sharpe)1.37, (Yield)46.73%\n",
      "Single stock (going long): (Sharpe)3.0, (Yield)97.39%\n",
      "Ticker: META\n",
      "Always hold stock: (Sharpe)2.18, (Yield)126.48%\n",
      "Long-short term strategy: (Sharpe)2.18, (Yield)126.48%\n",
      "Single stock (going long): (Sharpe)2.49, (Yield)128.03%\n"
     ]
    }
   ],
   "source": [
    "for key in df_sims:\n",
    "    df_sim, df_gp = df_sims[key], df_gps[key]\n",
    "    ratios0, prices0 = np.ones(len(df_sim), dtype=float), df_sim['real_price'].to_numpy()\n",
    "    df_trade0 = trade(ratios0, prices0)\n",
    "    ma50 = df_gp['50_ma'][-len(df_sim):].to_numpy()\n",
    "    ma200 = df_gp['200_ma'][-len(df_sim):].to_numpy()\n",
    "    ratios1, prices1 = (ma50 >= ma200).astype(int), df_sim['real_price'].to_numpy()\n",
    "    df_trade1 = trade(ratios1, prices1)\n",
    "    ratios2, prices2 = sigmoid(df_sim['pred_delta'], 5), df_sim['real_price'].to_numpy()\n",
    "    df_trade2 = trade(ratios2, prices2)\n",
    "    ratios3, prices3 = arctan(df_sim['pred_delta'], 1), df_sim['real_price'].to_numpy()\n",
    "    df_trade3 = trade(ratios3, prices3)\n",
    "    print(f\"Ticker: {key}\")\n",
    "    print(f\"Always hold stock: (Sharpe){sharpe_ratio(df_trade0['capital'], daily_risk_free)}, (Yield){yield_rate(df_trade0['capital'])}%\")\n",
    "    print(f\"Long-short term strategy: (Sharpe){sharpe_ratio(df_trade1['capital'], daily_risk_free)}, (Yield){yield_rate(df_trade1['capital'])}%\")\n",
    "    print(f\"Single stock (going long): (Sharpe){sharpe_ratio(df_trade2['capital'], daily_risk_free)}, (Yield){yield_rate(df_trade2['capital'])}%\")\n",
    "    # print(f\"Single stock (short selling): (Sharpe){sharpe_ratio(df_trade3['capital'], daily_risk_free)}, (Yield){yield_rate(df_trade3['capital'])}%\")"
   ]
  },
  {
   "cell_type": "code",
   "execution_count": 329,
   "metadata": {
    "id": "I7XmQGmYPPaC"
   },
   "outputs": [],
   "source": [
    "pred_ratio, pred_delta, real_price = multi_preprocess(df_sims, tickers)\n",
    "ratios4, prices4 = softmax(pred_ratio * 5 * real_price.mean(), axis=1), real_price\n",
    "df_trade4 = multi_trade(ratios4, prices4)"
   ]
  },
  {
   "cell_type": "code",
   "execution_count": 330,
   "metadata": {},
   "outputs": [],
   "source": [
    "prices5 = real_price\n",
    "ratios5 = np.full(prices5.shape, 1/len(tickers))\n",
    "ratios5[:, -1] = 0\n",
    "df_trade5 = multi_trade(ratios5, prices5)"
   ]
  },
  {
   "cell_type": "code",
   "execution_count": 331,
   "metadata": {},
   "outputs": [],
   "source": [
    "avg_delta, avg_price = np.mean(pred_delta[:, :-1], axis=1), np.mean(real_price[:, :-1], axis=1)\n",
    "ratios6, prices6 = sigmoid(avg_delta, 5), avg_price\n",
    "df_trade6 = trade(ratios6, prices6)"
   ]
  },
  {
   "cell_type": "code",
   "execution_count": 332,
   "metadata": {},
   "outputs": [],
   "source": [
    "ratios7, prices7 = arctan(avg_delta, 1), avg_price\n",
    "df_trade7 = trade(ratios7, prices7)"
   ]
  },
  {
   "cell_type": "code",
   "execution_count": 333,
   "metadata": {},
   "outputs": [],
   "source": [
    "ratios8, prices8 = auto_scale(pred_ratio * 1 * real_price.mean()), real_price\n",
    "df_trade8 = multi_trade(ratios8, prices8)"
   ]
  },
  {
   "cell_type": "code",
   "execution_count": 334,
   "metadata": {},
   "outputs": [
    {
     "name": "stdout",
     "output_type": "stream",
     "text": [
      "Portfolio\n",
      "Fixed Portfolio (always hold): (Sharpe)1.97, (Yield)57.19%\n",
      "Fixed Portfolio (going long): (Sharpe)3.21, (Yield)77.8%\n",
      "Dynanmic Portfolio (going long): (Sharpe)2.89, (Yield)130.68%\n",
      "Dynanmic Portfolio (short selling): (Sharpe)3.7, (Yield)186.54%\n"
     ]
    }
   ],
   "source": [
    "print(f\"Portfolio\")\n",
    "print(f\"Fixed Portfolio (always hold): (Sharpe){sharpe_ratio(df_trade5['capital'], daily_risk_free)}, (Yield){yield_rate(df_trade5['capital'])}%\")\n",
    "print(f\"Fixed Portfolio (going long): (Sharpe){sharpe_ratio(df_trade6['capital'], daily_risk_free)}, (Yield){yield_rate(df_trade6['capital'])}%\")\n",
    "print(f\"Dynanmic Portfolio (going long): (Sharpe){sharpe_ratio(df_trade4['capital'], daily_risk_free)}, (Yield){yield_rate(df_trade4['capital'])}%\")\n",
    "# print(f\"Fixed Portfolio (short selling): (Sharpe){sharpe_ratio(df_trade7['capital'], daily_risk_free)}, (Yield){yield_rate(df_trade7['capital'])}%\")\n",
    "print(f\"Dynanmic Portfolio (short selling): (Sharpe){sharpe_ratio(df_trade8['capital'], daily_risk_free)}, (Yield){yield_rate(df_trade8['capital'])}%\")"
   ]
  },
  {
   "cell_type": "code",
   "execution_count": null,
   "metadata": {},
   "outputs": [],
   "source": []
  }
 ],
 "metadata": {
  "accelerator": "GPU",
  "colab": {
   "gpuType": "T4",
   "provenance": []
  },
  "kernelspec": {
   "display_name": "base",
   "language": "python",
   "name": "python3"
  },
  "language_info": {
   "codemirror_mode": {
    "name": "ipython",
    "version": 3
   },
   "file_extension": ".py",
   "mimetype": "text/x-python",
   "name": "python",
   "nbconvert_exporter": "python",
   "pygments_lexer": "ipython3",
   "version": "3.12.4"
  }
 },
 "nbformat": 4,
 "nbformat_minor": 0
}
