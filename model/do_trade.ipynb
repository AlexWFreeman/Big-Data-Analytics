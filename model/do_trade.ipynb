{
 "cells": [
  {
   "cell_type": "code",
   "execution_count": 396,
   "metadata": {
    "id": "9fN6b8GTJmiM"
   },
   "outputs": [],
   "source": [
    "import numpy as np\n",
    "import pandas as pd\n",
    "from scipy.special import softmax"
   ]
  },
  {
   "cell_type": "code",
   "execution_count": 397,
   "metadata": {
    "colab": {
     "base_uri": "https://localhost:8080/",
     "height": 17
    },
    "id": "J-kAhaiaA58q",
    "outputId": "1199c7cf-ba77-44d8-ee18-321da53b2a15"
   },
   "outputs": [],
   "source": [
    "tickers = ['AAPL', 'GOOGL', 'MSFT', 'META', 'AMZN']\n",
    "df_sims = {t: pd.read_csv(f\"../price_sim/{t}_sim.csv\") for t in tickers}"
   ]
  },
  {
   "cell_type": "code",
   "execution_count": 398,
   "metadata": {},
   "outputs": [
    {
     "data": {
      "text/plain": [
       "(0.2673152497690316, 0.2618983974743353)"
      ]
     },
     "execution_count": 398,
     "metadata": {},
     "output_type": "execute_result"
    }
   ],
   "source": [
    "df_sim = df_sims['AAPL']\n",
    "np.corrcoef(df_sim['pred_delta_ratio'], df_sim['real_delta_ratio'])[0, 1], \\\n",
    "np.corrcoef(df_sim['pred_delta'], df_sim['real_delta'])[0, 1]"
   ]
  },
  {
   "cell_type": "code",
   "execution_count": 399,
   "metadata": {
    "id": "epolGh6aRfi5"
   },
   "outputs": [],
   "source": [
    "def sigmoid(x, k=1):\n",
    "    return np.array(1 / (1 + np.exp(-k * x)))"
   ]
  },
  {
   "cell_type": "code",
   "execution_count": 400,
   "metadata": {
    "id": "3ypZyS7cZ7q3"
   },
   "outputs": [],
   "source": [
    "def arctan(x, k=1):\n",
    "    return np.array(np.arctan(k * x) / (np.pi / 2))"
   ]
  },
  {
   "cell_type": "code",
   "execution_count": 401,
   "metadata": {
    "id": "BdJutI9JcKzk"
   },
   "outputs": [],
   "source": [
    "def sharpe_ratio(capital, risk_free=0.0):\n",
    "    returns = np.diff(capital) / capital[:-1]\n",
    "    excess = np.mean(returns - risk_free)\n",
    "    std_dev = np.std(returns)\n",
    "    return (excess / std_dev) * np.sqrt(252)"
   ]
  },
  {
   "cell_type": "code",
   "execution_count": 402,
   "metadata": {},
   "outputs": [],
   "source": [
    "def multi_preprocess(df_sims, pool):\n",
    "    length = len(df_sims[pool[0]])\n",
    "    real_price = np.column_stack([df_sims[t]['real_price'] for t in pool] + [np.ones(length)])\n",
    "    pred_delta = np.column_stack([df_sims[t]['pred_delta'] for t in pool] + [np.zeros(length)])\n",
    "    pred_ratio = np.column_stack([df_sims[t]['pred_delta'] / df_sims[t]['real_price'].shift(1) for t in pool] + [np.zeros(length)])\n",
    "    return pred_ratio, pred_delta, real_price"
   ]
  },
  {
   "cell_type": "code",
   "execution_count": 403,
   "metadata": {
    "id": "QvGJhmhVH0h3"
   },
   "outputs": [],
   "source": [
    "def trade(ratios, prices):\n",
    "    capital = []\n",
    "    currency = [1.0]\n",
    "    position = [0.0]\n",
    "    for ratio, price in zip(ratios[1:], prices[:-1]):\n",
    "        money = currency[-1] + position[-1] * price\n",
    "        assert money >= 0, \"Bankruptcy\"\n",
    "        capital.append(money)\n",
    "        nxt_cur = money * (1 - ratio)\n",
    "        nxt_pos = money * ratio / price\n",
    "        currency.append(nxt_cur)\n",
    "        position.append(nxt_pos)\n",
    "    money = currency[-1] + position[-1] * prices[-1]\n",
    "    capital.append(money)\n",
    "\n",
    "    return pd.DataFrame({\n",
    "        'ratios': ratios,\n",
    "        'prices': prices,\n",
    "        'capital': capital,\n",
    "        'currency': currency,\n",
    "        'position': position\n",
    "    })"
   ]
  },
  {
   "cell_type": "code",
   "execution_count": 404,
   "metadata": {},
   "outputs": [],
   "source": [
    "def multi_trade(ratios, prices):\n",
    "    capital = []\n",
    "    position = [np.eye(prices.shape[1])[-1]]\n",
    "    for ratio, price in zip(ratios[1:], prices[:-1]):\n",
    "        if not capital:\n",
    "            money = 1.0\n",
    "        else:\n",
    "            money = (position[-1] * price).sum()\n",
    "        capital.append(money)\n",
    "        assert money >= 0, \"Bankruptcy\"\n",
    "        nxt_pos = money * ratio / price\n",
    "        position.append(nxt_pos)\n",
    "    money = (position[-1] * prices[-1]).sum()\n",
    "    capital.append(money)\n",
    "    \n",
    "    return pd.DataFrame({\n",
    "        'ratios': np.sum(ratios[:, :-1], axis=1),\n",
    "        'prices': np.mean(prices[:, :-1], axis=1),\n",
    "        'capital': capital,\n",
    "        'position': position\n",
    "    })"
   ]
  },
  {
   "cell_type": "code",
   "execution_count": 405,
   "metadata": {
    "colab": {
     "base_uri": "https://localhost:8080/"
    },
    "id": "2ACo7JMBSCXp",
    "outputId": "62b1dd71-4aed-4c2a-d397-c8c97d114c52"
   },
   "outputs": [
    {
     "data": {
      "text/plain": [
       "0.0001556498627912628"
      ]
     },
     "execution_count": 405,
     "metadata": {},
     "output_type": "execute_result"
    }
   ],
   "source": [
    "annual_risk_free = 0.04\n",
    "daily_risk_free = (1+annual_risk_free) ** (1/252) - 1\n",
    "daily_risk_free"
   ]
  },
  {
   "cell_type": "code",
   "execution_count": 406,
   "metadata": {
    "colab": {
     "base_uri": "https://localhost:8080/"
    },
    "id": "oiBwq5B-Mggh",
    "outputId": "3bdec95d-fede-4c5f-ecec-74878dc4a0b6"
   },
   "outputs": [],
   "source": [
    "ratios1, prices1 = np.ones(len(df_sim), dtype=float), df_sim['real_price'].to_numpy()\n",
    "df_trade1 = trade(ratios1, prices1)\n",
    "ratios2, prices2 = sigmoid(df_sim['pred_delta'] / df_sim['real_price'].shift(1), 5 * df_sim['real_price'].mean()), df_sim['real_price'].to_numpy()\n",
    "df_trade2 = trade(ratios2, prices2)\n",
    "ratios3, prices3 = arctan(df_sim['pred_delta'] / df_sim['real_price'].shift(1), 1 * df_sim['real_price'].mean()), df_sim['real_price'].to_numpy()\n",
    "df_trade3 = trade(ratios3, prices3)"
   ]
  },
  {
   "cell_type": "code",
   "execution_count": 407,
   "metadata": {
    "colab": {
     "base_uri": "https://localhost:8080/"
    },
    "id": "IO5jLY11ZfjY",
    "outputId": "7dc3afc3-329f-413a-de33-53474162e586"
   },
   "outputs": [
    {
     "name": "stdout",
     "output_type": "stream",
     "text": [
      "Always hold stock: (Sharpe)1.37, (Yield)1.75\n",
      "Single stock (no short selling): (Sharpe)3.32, (Yield)2.70\n",
      "Single stock (short selling): (Sharpe)3.86, (Yield)2.53\n"
     ]
    }
   ],
   "source": [
    "print(f\"Always hold stock: (Sharpe){sharpe_ratio(df_trade1['capital'], daily_risk_free):.2f}, (Yield){df_trade1['capital'].iloc[-1]:.2f}\")\n",
    "print(f\"Single stock (no short selling): (Sharpe){sharpe_ratio(df_trade2['capital'], daily_risk_free):.2f}, (Yield){df_trade2['capital'].iloc[-1]:.2f}\")\n",
    "print(f\"Single stock (short selling): (Sharpe){sharpe_ratio(df_trade3['capital'], daily_risk_free):.2f}, (Yield){df_trade3['capital'].iloc[-1]:.2f}\")"
   ]
  },
  {
   "cell_type": "code",
   "execution_count": 408,
   "metadata": {
    "id": "I7XmQGmYPPaC"
   },
   "outputs": [],
   "source": [
    "pred_ratio, pred_delta, real_price = multi_preprocess(df_sims, tickers)\n",
    "ratios4, prices4 = softmax(pred_ratio * 5 * real_price.mean(), axis=1), real_price\n",
    "df_trade4 = multi_trade(ratios4, prices4)"
   ]
  },
  {
   "cell_type": "code",
   "execution_count": 409,
   "metadata": {},
   "outputs": [],
   "source": [
    "prices5 = real_price[:, :-1]\n",
    "ratios5 = np.full(prices5.shape, 1/len(tickers))\n",
    "df_trade5 = multi_trade(ratios5, prices5)"
   ]
  },
  {
   "cell_type": "code",
   "execution_count": 410,
   "metadata": {},
   "outputs": [],
   "source": [
    "avg_delta, avg_price = np.mean(pred_delta[:, :-1], axis=1), np.mean(real_price[:, :-1], axis=1)\n",
    "ratios6, prices6 = sigmoid(avg_delta / np.roll(avg_price, 1), 5 * avg_price.mean()), avg_price\n",
    "df_trade6 = trade(ratios6, prices6)"
   ]
  },
  {
   "cell_type": "code",
   "execution_count": 411,
   "metadata": {},
   "outputs": [],
   "source": [
    "avg_delta, avg_price = np.mean(pred_delta[:, :-1], axis=1), np.mean(real_price[:, :-1], axis=1)\n",
    "ratios7, prices7 = arctan(avg_delta / np.roll(avg_price, 1), 1 * avg_price.mean()), avg_price\n",
    "df_trade7 = trade(ratios7, prices7)"
   ]
  },
  {
   "cell_type": "code",
   "execution_count": 412,
   "metadata": {},
   "outputs": [],
   "source": [
    "atan_ratio = arctan(pred_ratio, 1 * real_price.mean())\n",
    "base_ratio = 1/atan_ratio.shape[1]\n",
    "ratios8, prices8 = (atan_ratio - atan_ratio.mean(axis=1, keepdims=True)) * (1-base_ratio) + base_ratio, real_price\n",
    "df_trade8 = multi_trade(ratios8, prices8)"
   ]
  },
  {
   "cell_type": "code",
   "execution_count": 413,
   "metadata": {},
   "outputs": [
    {
     "name": "stdout",
     "output_type": "stream",
     "text": [
      "Fixed Portfolio (always hold): (Sharpe)1.99, (Yield)2.27\n",
      "Fixed Portfolio (no short selling): (Sharpe)4.08, (Yield)3.57\n",
      "Dynanmic Portfolio (no short selling): (Sharpe)4.71, (Yield)11.14\n",
      "Fixed Portfolio (short selling): (Sharpe)4.67, (Yield)3.19\n",
      "Dynanmic Portfolio (short selling): (Sharpe)6.46, (Yield)31.60\n"
     ]
    }
   ],
   "source": [
    "print(f\"Fixed Portfolio (always hold): (Sharpe){sharpe_ratio(df_trade5['capital'], daily_risk_free):.2f}, (Yield){df_trade5['capital'].iloc[-1]:.2f}\")\n",
    "print(f\"Fixed Portfolio (no short selling): (Sharpe){sharpe_ratio(df_trade6['capital'], daily_risk_free):.2f}, (Yield){df_trade6['capital'].iloc[-1]:.2f}\")\n",
    "print(f\"Dynanmic Portfolio (no short selling): (Sharpe){sharpe_ratio(df_trade4['capital'], daily_risk_free):.2f}, (Yield){df_trade4['capital'].iloc[-1]:.2f}\")\n",
    "print(f\"Fixed Portfolio (short selling): (Sharpe){sharpe_ratio(df_trade7['capital'], daily_risk_free):.2f}, (Yield){df_trade7['capital'].iloc[-1]:.2f}\")\n",
    "print(f\"Dynanmic Portfolio (short selling): (Sharpe){sharpe_ratio(df_trade8['capital'], daily_risk_free):.2f}, (Yield){df_trade8['capital'].iloc[-1]:.2f}\")"
   ]
  },
  {
   "cell_type": "code",
   "execution_count": null,
   "metadata": {},
   "outputs": [],
   "source": []
  }
 ],
 "metadata": {
  "accelerator": "GPU",
  "colab": {
   "gpuType": "T4",
   "provenance": []
  },
  "kernelspec": {
   "display_name": "base",
   "language": "python",
   "name": "python3"
  },
  "language_info": {
   "codemirror_mode": {
    "name": "ipython",
    "version": 3
   },
   "file_extension": ".py",
   "mimetype": "text/x-python",
   "name": "python",
   "nbconvert_exporter": "python",
   "pygments_lexer": "ipython3",
   "version": "3.12.4"
  }
 },
 "nbformat": 4,
 "nbformat_minor": 0
}
