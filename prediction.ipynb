{
 "cells": [
  {
   "cell_type": "code",
   "execution_count": 1,
   "id": "59b56b0e-c293-4397-909f-6b54ed43626c",
   "metadata": {},
   "outputs": [],
   "source": [
    "import pandas as pd\n",
    "import numpy as np\n",
    "from scipy import stats\n",
    "from sklearn.linear_model import LinearRegression\n",
    "from sklearn.metrics import mean_squared_error"
   ]
  },
  {
   "cell_type": "code",
   "execution_count": 2,
   "id": "9a885aaa-223c-445b-9464-4d90e660e815",
   "metadata": {},
   "outputs": [],
   "source": [
    "df_news = pd.read_csv('dataset/news/AAPL_main.csv')\n",
    "df_rela = pd.read_csv('dataset/news/AAPL_relation.csv')"
   ]
  },
  {
   "cell_type": "code",
   "execution_count": 3,
   "id": "e92567b1-10f3-448a-9492-d8a6d2add294",
   "metadata": {},
   "outputs": [],
   "source": [
    "df_aapl = pd.read_csv('dataset/stocks/AAPL.csv')"
   ]
  },
  {
   "cell_type": "code",
   "execution_count": 4,
   "id": "e7b6defd-3731-47f0-bf9b-305b76e85548",
   "metadata": {},
   "outputs": [
    {
     "name": "stderr",
     "output_type": "stream",
     "text": [
      "/var/folders/pj/znl5r0ln0hv_g1yjdthtr3f40000gn/T/ipykernel_3662/3384407807.py:2: SettingWithCopyWarning: \n",
      "A value is trying to be set on a copy of a slice from a DataFrame.\n",
      "Try using .loc[row_indexer,col_indexer] = value instead\n",
      "\n",
      "See the caveats in the documentation: https://pandas.pydata.org/pandas-docs/stable/user_guide/indexing.html#returning-a-view-versus-a-copy\n",
      "  df_news_t['time'] = pd.to_datetime(df_news_t['time']).dt.tz_localize(\"UTC\") \\\n",
      "/var/folders/pj/znl5r0ln0hv_g1yjdthtr3f40000gn/T/ipykernel_3662/3384407807.py:4: SettingWithCopyWarning: \n",
      "A value is trying to be set on a copy of a slice from a DataFrame.\n",
      "Try using .loc[row_indexer,col_indexer] = value instead\n",
      "\n",
      "See the caveats in the documentation: https://pandas.pydata.org/pandas-docs/stable/user_guide/indexing.html#returning-a-view-versus-a-copy\n",
      "  df_news_t['sentiment'] = df_news_t['sentiment'].map(\n",
      "/var/folders/pj/znl5r0ln0hv_g1yjdthtr3f40000gn/T/ipykernel_3662/3384407807.py:7: SettingWithCopyWarning: \n",
      "A value is trying to be set on a copy of a slice from a DataFrame.\n",
      "Try using .loc[row_indexer,col_indexer] = value instead\n",
      "\n",
      "See the caveats in the documentation: https://pandas.pydata.org/pandas-docs/stable/user_guide/indexing.html#returning-a-view-versus-a-copy\n",
      "  df_news_t['date'] = df_news_t['time'].dt.date\n"
     ]
    }
   ],
   "source": [
    "df_news_t = df_rela[df_rela['ticker'] == df_rela['source_ticker']]\n",
    "df_news_t['time'] = pd.to_datetime(df_news_t['time']).dt.tz_localize(\"UTC\") \\\n",
    "                    .dt.tz_convert(\"America/New_York\")\n",
    "df_news_t['sentiment'] = df_news_t['sentiment'].map(\n",
    "    {'neutral':0, 'positive':1, 'negative':-4.22} # maybe\n",
    ")\n",
    "df_news_t['date'] = df_news_t['time'].dt.date"
   ]
  },
  {
   "cell_type": "code",
   "execution_count": 5,
   "id": "d2fdc9f1-b013-4cfd-a706-00b2e29c77cf",
   "metadata": {},
   "outputs": [],
   "source": [
    "s_senti = df_news_t.groupby('date')['sentiment'].sum().reset_index()"
   ]
  },
  {
   "cell_type": "code",
   "execution_count": 6,
   "id": "a7a950ed-1407-4e09-9e37-0cdafa45ef8f",
   "metadata": {},
   "outputs": [
    {
     "name": "stderr",
     "output_type": "stream",
     "text": [
      "/var/folders/pj/znl5r0ln0hv_g1yjdthtr3f40000gn/T/ipykernel_3662/3429688966.py:2: SettingWithCopyWarning: \n",
      "A value is trying to be set on a copy of a slice from a DataFrame.\n",
      "Try using .loc[row_indexer,col_indexer] = value instead\n",
      "\n",
      "See the caveats in the documentation: https://pandas.pydata.org/pandas-docs/stable/user_guide/indexing.html#returning-a-view-versus-a-copy\n",
      "  df_aapl_t['time'] = pd.to_datetime(df_aapl_t['time']).dt.tz_localize(\"UTC\") \\\n",
      "/var/folders/pj/znl5r0ln0hv_g1yjdthtr3f40000gn/T/ipykernel_3662/3429688966.py:4: SettingWithCopyWarning: \n",
      "A value is trying to be set on a copy of a slice from a DataFrame.\n",
      "Try using .loc[row_indexer,col_indexer] = value instead\n",
      "\n",
      "See the caveats in the documentation: https://pandas.pydata.org/pandas-docs/stable/user_guide/indexing.html#returning-a-view-versus-a-copy\n",
      "  df_aapl_t['change'] = df_aapl['close'].diff()\n",
      "/var/folders/pj/znl5r0ln0hv_g1yjdthtr3f40000gn/T/ipykernel_3662/3429688966.py:5: SettingWithCopyWarning: \n",
      "A value is trying to be set on a copy of a slice from a DataFrame.\n",
      "Try using .loc[row_indexer,col_indexer] = value instead\n",
      "\n",
      "See the caveats in the documentation: https://pandas.pydata.org/pandas-docs/stable/user_guide/indexing.html#returning-a-view-versus-a-copy\n",
      "  df_aapl_t['date'] = df_aapl_t['time'].dt.date\n"
     ]
    }
   ],
   "source": [
    "df_aapl_t = df_aapl[df_aapl['time'] >= \"2024-07-02\"]\n",
    "df_aapl_t['time'] = pd.to_datetime(df_aapl_t['time']).dt.tz_localize(\"UTC\") \\\n",
    "                    .dt.tz_convert(\"America/New_York\")\n",
    "df_aapl_t['change'] = df_aapl['close'].diff()\n",
    "df_aapl_t['date'] = df_aapl_t['time'].dt.date"
   ]
  },
  {
   "cell_type": "code",
   "execution_count": 7,
   "id": "8c42b555-e714-4755-b9fb-878ff4c3355c",
   "metadata": {},
   "outputs": [],
   "source": [
    "s_stock = df_aapl_t[['date', 'change']].reset_index(drop=True)"
   ]
  },
  {
   "cell_type": "code",
   "execution_count": 8,
   "id": "8b930b57-a4f9-4c66-97a8-c817aefef5be",
   "metadata": {},
   "outputs": [],
   "source": [
    "s_corr = pd.merge(s_stock, s_senti, on=\"date\", how=\"left\")\n",
    "s_corr['sentiment'] = s_corr['sentiment'].fillna(0)"
   ]
  },
  {
   "cell_type": "code",
   "execution_count": 9,
   "id": "5386ae1f-2d40-4da0-9899-72fd4de3c479",
   "metadata": {},
   "outputs": [
    {
     "data": {
      "text/plain": [
       "PearsonRResult(statistic=0.38455360070978467, pvalue=0.00030430175142348305)"
      ]
     },
     "execution_count": 9,
     "metadata": {},
     "output_type": "execute_result"
    }
   ],
   "source": [
    "stats.pearsonr(s_corr['change'], s_corr['sentiment'])"
   ]
  },
  {
   "cell_type": "code",
   "execution_count": 10,
   "id": "16d1b60d-1eb3-49cf-9e9a-b365ce1cfb3a",
   "metadata": {},
   "outputs": [],
   "source": [
    "s_corr['change_c'] = (s_corr['change'] > 0).astype(int)\n",
    "s_corr['sentiment_c'] = (s_corr['sentiment'] > 0).astype(int)"
   ]
  },
  {
   "cell_type": "code",
   "execution_count": 11,
   "id": "b48c31a7-0766-4191-aff4-1c9cd9556424",
   "metadata": {},
   "outputs": [
    {
     "data": {
      "text/plain": [
       "PearsonRResult(statistic=0.16581183399153315, pvalue=0.13171452155004842)"
      ]
     },
     "execution_count": 11,
     "metadata": {},
     "output_type": "execute_result"
    }
   ],
   "source": [
    "stats.pearsonr(s_corr['change_c'], s_corr['sentiment_c'])"
   ]
  },
  {
   "cell_type": "code",
   "execution_count": 12,
   "id": "79423b4a-439d-4bce-8cba-b082066b27b6",
   "metadata": {},
   "outputs": [],
   "source": [
    "split_index = int(len(s_corr) * 0.8)\n",
    "s_corr_train = s_corr.iloc[:split_index] \n",
    "s_corr_test = s_corr.iloc[split_index:]"
   ]
  },
  {
   "cell_type": "code",
   "execution_count": 13,
   "id": "7b277fe2-b6ec-4b88-b3c2-76d4f846f74c",
   "metadata": {},
   "outputs": [
    {
     "data": {
      "text/plain": [
       "(0.24046318367420955, 0.1894072501006392)"
      ]
     },
     "execution_count": 13,
     "metadata": {},
     "output_type": "execute_result"
    }
   ],
   "source": [
    "model = LinearRegression()\n",
    "model.fit(s_corr_train[['sentiment']], s_corr_train['change'])\n",
    "model.coef_[0], model.intercept_"
   ]
  },
  {
   "cell_type": "code",
   "execution_count": 14,
   "id": "11820e48-371d-47ca-b480-7c10763761b6",
   "metadata": {},
   "outputs": [
    {
     "data": {
      "text/plain": [
       "(2.9979050630998, 2.3456261366752464)"
      ]
     },
     "execution_count": 14,
     "metadata": {},
     "output_type": "execute_result"
    }
   ],
   "source": [
    "pred_train = model.predict(s_corr_train[['sentiment']])\n",
    "mse_train = mean_squared_error(pred_train, s_corr_train['change'])\n",
    "pred_test = model.predict(s_corr_test[['sentiment']])\n",
    "mse_test = mean_squared_error(pred_test, s_corr_test['change'])\n",
    "np.sqrt(mse_train), np.sqrt(mse_test)"
   ]
  },
  {
   "cell_type": "code",
   "execution_count": 15,
   "id": "4331d92b-063f-469a-b681-783ca5462e43",
   "metadata": {},
   "outputs": [
    {
     "data": {
      "text/plain": [
       "(3.2120300922365024, 2.691315136253978)"
      ]
     },
     "execution_count": 15,
     "metadata": {},
     "output_type": "execute_result"
    }
   ],
   "source": [
    "np.std(s_corr_train['change']), np.std(s_corr_test['change'])"
   ]
  },
  {
   "cell_type": "code",
   "execution_count": null,
   "id": "ca8ef150-475c-4751-9d98-5fbaecee47ec",
   "metadata": {},
   "outputs": [],
   "source": []
  }
 ],
 "metadata": {
  "kernelspec": {
   "display_name": "Python 3 (ipykernel)",
   "language": "python",
   "name": "python3"
  },
  "language_info": {
   "codemirror_mode": {
    "name": "ipython",
    "version": 3
   },
   "file_extension": ".py",
   "mimetype": "text/x-python",
   "name": "python",
   "nbconvert_exporter": "python",
   "pygments_lexer": "ipython3",
   "version": "3.11.4"
  }
 },
 "nbformat": 4,
 "nbformat_minor": 5
}
