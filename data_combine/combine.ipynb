{
 "cells": [
  {
   "cell_type": "code",
   "execution_count": 1,
   "metadata": {},
   "outputs": [],
   "source": [
    "import pandas as pd\n",
    "import os\n",
    "from glob import glob"
   ]
  },
  {
   "cell_type": "code",
   "execution_count": 2,
   "metadata": {},
   "outputs": [],
   "source": [
    "tickers = ['META', 'AAPL', 'AMZN', 'NFLX', 'GOOGL', 'MSFT', 'IBM', 'ORCL', 'NVDA', 'INTC']"
   ]
  },
  {
   "cell_type": "code",
   "execution_count": 12,
   "metadata": {},
   "outputs": [],
   "source": [
    "def combine_csv_files(input_dir, stock, mode, out_dir, time_col):\n",
    "    # Construct the pattern to find the matching files\n",
    "    pattern = os.path.join(input_dir, f\"{stock}_{mode}*.csv\")\n",
    "    csv_files = glob(pattern)\n",
    "\n",
    "    if not csv_files:\n",
    "        print(\"No matching files found.\")\n",
    "        return\n",
    "\n",
    "    # Read and concatenate all matching files\n",
    "    df_list = []\n",
    "    for file in csv_files:\n",
    "        try:\n",
    "            df_list.append(pd.read_csv(file))\n",
    "        except Exception as e:\n",
    "            pass\n",
    "            # print(f\"Read {file} failed!\") \n",
    "\n",
    "    if df_list:\n",
    "        combined_df = pd.concat(df_list, ignore_index=True)\n",
    "        combined_df[time_col] = pd.to_datetime(combined_df[time_col])\n",
    "        sorted_df = combined_df.sort_values(by=time_col)\n",
    "\n",
    "        # Save the combined DataFrame to a CSV file\n",
    "        output_file = f\"{out_dir}/{stock}_{mode}.csv\"\n",
    "        sorted_df.to_csv(output_file, index=False)\n",
    "        print(f\"Combined data saved to {output_file}\")"
   ]
  },
  {
   "cell_type": "code",
   "execution_count": 14,
   "metadata": {},
   "outputs": [
    {
     "name": "stdout",
     "output_type": "stream",
     "text": [
      "Combined data saved to news_alpha/META_main.csv\n",
      "Combined data saved to news_alpha/META_relation.csv\n",
      "Combined data saved to news_alpha/AAPL_main.csv\n",
      "Combined data saved to news_alpha/AAPL_relation.csv\n",
      "Combined data saved to news_alpha/AMZN_main.csv\n",
      "Combined data saved to news_alpha/AMZN_relation.csv\n",
      "Combined data saved to news_alpha/NFLX_main.csv\n",
      "Combined data saved to news_alpha/NFLX_relation.csv\n",
      "Combined data saved to news_alpha/MSFT_main.csv\n",
      "Combined data saved to news_alpha/MSFT_relation.csv\n",
      "Combined data saved to news_alpha/IBM_main.csv\n",
      "Combined data saved to news_alpha/IBM_relation.csv\n",
      "Combined data saved to news_alpha/ORCL_main.csv\n",
      "Combined data saved to news_alpha/ORCL_relation.csv\n",
      "Combined data saved to news_alpha/NVDA_main.csv\n",
      "Combined data saved to news_alpha/NVDA_relation.csv\n",
      "Combined data saved to news_alpha/INTC_main.csv\n",
      "Combined data saved to news_alpha/INTC_relation.csv\n"
     ]
    }
   ],
   "source": [
    "for stock in tickers:\n",
    "    for mode, tcol in zip([\"main\", \"relation\"], [\"publish_time\", \"time\"]):\n",
    "        combine_csv_files(\"../dataset/news_alpha\", stock, mode, \"news_alpha\", tcol)\n",
    "        # combine_csv_files(\"../dataset/news_maux\", stock, mode, \"news_maux\", tcol)"
   ]
  },
  {
   "cell_type": "code",
   "execution_count": null,
   "metadata": {},
   "outputs": [],
   "source": []
  }
 ],
 "metadata": {
  "kernelspec": {
   "display_name": "base",
   "language": "python",
   "name": "python3"
  },
  "language_info": {
   "codemirror_mode": {
    "name": "ipython",
    "version": 3
   },
   "file_extension": ".py",
   "mimetype": "text/x-python",
   "name": "python",
   "nbconvert_exporter": "python",
   "pygments_lexer": "ipython3",
   "version": "3.12.4"
  }
 },
 "nbformat": 4,
 "nbformat_minor": 2
}
