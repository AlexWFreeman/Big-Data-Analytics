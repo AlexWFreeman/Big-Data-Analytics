{
 "cells": [
  {
   "cell_type": "code",
   "execution_count": 1,
   "metadata": {},
   "outputs": [],
   "source": [
    "import pandas as pd\n",
    "import re\n",
    "import matplotlib.pyplot as plt\n",
    "import numpy as np"
   ]
  },
  {
   "cell_type": "code",
   "execution_count": 2,
   "metadata": {},
   "outputs": [],
   "source": [
    "AAPL_stock = pd.read_csv(\"./dataset/stocks/AAPL.csv\")\n",
    "AAPL_stock = AAPL_stock.loc[:, ['time', 'close']]\n",
    "AAPL_stock['time'] = pd.to_datetime(AAPL_stock['time'])"
   ]
  },
  {
   "cell_type": "code",
   "execution_count": 3,
   "metadata": {},
   "outputs": [
    {
     "data": {
      "text/html": [
       "<div>\n",
       "<style scoped>\n",
       "    .dataframe tbody tr th:only-of-type {\n",
       "        vertical-align: middle;\n",
       "    }\n",
       "\n",
       "    .dataframe tbody tr th {\n",
       "        vertical-align: top;\n",
       "    }\n",
       "\n",
       "    .dataframe thead th {\n",
       "        text-align: right;\n",
       "    }\n",
       "</style>\n",
       "<table border=\"1\" class=\"dataframe\">\n",
       "  <thead>\n",
       "    <tr style=\"text-align: right;\">\n",
       "      <th></th>\n",
       "      <th>time</th>\n",
       "      <th>close</th>\n",
       "    </tr>\n",
       "  </thead>\n",
       "  <tbody>\n",
       "    <tr>\n",
       "      <th>0</th>\n",
       "      <td>2022-10-31 04:00:00</td>\n",
       "      <td>153.34</td>\n",
       "    </tr>\n",
       "    <tr>\n",
       "      <th>1</th>\n",
       "      <td>2022-11-01 04:00:00</td>\n",
       "      <td>150.65</td>\n",
       "    </tr>\n",
       "    <tr>\n",
       "      <th>2</th>\n",
       "      <td>2022-11-02 04:00:00</td>\n",
       "      <td>145.03</td>\n",
       "    </tr>\n",
       "    <tr>\n",
       "      <th>3</th>\n",
       "      <td>2022-11-03 04:00:00</td>\n",
       "      <td>138.88</td>\n",
       "    </tr>\n",
       "    <tr>\n",
       "      <th>4</th>\n",
       "      <td>2022-11-04 04:00:00</td>\n",
       "      <td>138.38</td>\n",
       "    </tr>\n",
       "  </tbody>\n",
       "</table>\n",
       "</div>"
      ],
      "text/plain": [
       "                 time   close\n",
       "0 2022-10-31 04:00:00  153.34\n",
       "1 2022-11-01 04:00:00  150.65\n",
       "2 2022-11-02 04:00:00  145.03\n",
       "3 2022-11-03 04:00:00  138.88\n",
       "4 2022-11-04 04:00:00  138.38"
      ]
     },
     "execution_count": 3,
     "metadata": {},
     "output_type": "execute_result"
    }
   ],
   "source": [
    "AAPL_stock.head()"
   ]
  },
  {
   "cell_type": "code",
   "execution_count": 4,
   "metadata": {},
   "outputs": [
    {
     "data": {
      "text/plain": [
       "time     datetime64[ns]\n",
       "close           float64\n",
       "dtype: object"
      ]
     },
     "execution_count": 4,
     "metadata": {},
     "output_type": "execute_result"
    }
   ],
   "source": [
    "AAPL_stock.dtypes"
   ]
  },
  {
   "cell_type": "code",
   "execution_count": 5,
   "metadata": {},
   "outputs": [],
   "source": [
    "AAPL_sentiment = pd.read_csv(\"./dataset/polygon_title_sentiment_3/AAPL_title_sentiments.csv\")\n"
   ]
  },
  {
   "cell_type": "code",
   "execution_count": 6,
   "metadata": {},
   "outputs": [
    {
     "data": {
      "text/html": [
       "<div>\n",
       "<style scoped>\n",
       "    .dataframe tbody tr th:only-of-type {\n",
       "        vertical-align: middle;\n",
       "    }\n",
       "\n",
       "    .dataframe tbody tr th {\n",
       "        vertical-align: top;\n",
       "    }\n",
       "\n",
       "    .dataframe thead th {\n",
       "        text-align: right;\n",
       "    }\n",
       "</style>\n",
       "<table border=\"1\" class=\"dataframe\">\n",
       "  <thead>\n",
       "    <tr style=\"text-align: right;\">\n",
       "      <th></th>\n",
       "      <th>ticker</th>\n",
       "      <th>sentiment</th>\n",
       "      <th>sentiment_score</th>\n",
       "      <th>news_id</th>\n",
       "      <th>time</th>\n",
       "      <th>title</th>\n",
       "      <th>article_url</th>\n",
       "    </tr>\n",
       "  </thead>\n",
       "  <tbody>\n",
       "    <tr>\n",
       "      <th>0</th>\n",
       "      <td>AAPL</td>\n",
       "      <td>neutral</td>\n",
       "      <td>0.000000</td>\n",
       "      <td>0d2a16f0328775bebe96ecbd57fb1ee7b98fae09d2ee73...</td>\n",
       "      <td>2024-10-30 08:06:00</td>\n",
       "      <td>Only 10 Companies Have Reached a Trillion-Doll...</td>\n",
       "      <td>https://www.fool.com/investing/2024/10/30/10-c...</td>\n",
       "    </tr>\n",
       "    <tr>\n",
       "      <th>1</th>\n",
       "      <td>AAPL</td>\n",
       "      <td>negative</td>\n",
       "      <td>-0.548489</td>\n",
       "      <td>55d38db6df60d647da21ac34f9942bfc7729d3196b10ff...</td>\n",
       "      <td>2024-10-29 13:09:00</td>\n",
       "      <td>Microsoft Earnings Preview: Will Azure Growth ...</td>\n",
       "      <td>https://www.investing.com/analysis/microsoft-e...</td>\n",
       "    </tr>\n",
       "    <tr>\n",
       "      <th>2</th>\n",
       "      <td>AAPL</td>\n",
       "      <td>neutral</td>\n",
       "      <td>0.000000</td>\n",
       "      <td>4ef47f7a1d56daecdf73f02eb2ceb206df1e629e6f04ba...</td>\n",
       "      <td>2024-10-29 09:45:00</td>\n",
       "      <td>1 Supercharged Vanguard Fund That Can Turn $27...</td>\n",
       "      <td>https://www.fool.com/investing/2024/10/29/1-su...</td>\n",
       "    </tr>\n",
       "    <tr>\n",
       "      <th>3</th>\n",
       "      <td>AAPL</td>\n",
       "      <td>neutral</td>\n",
       "      <td>0.000000</td>\n",
       "      <td>1358145bef572d9b1580795b261a011c39169815dae386...</td>\n",
       "      <td>2024-10-29 09:24:00</td>\n",
       "      <td>Warren Buffett Sold $80 Billion of Apple Stock...</td>\n",
       "      <td>https://www.fool.com/investing/2024/10/29/warr...</td>\n",
       "    </tr>\n",
       "    <tr>\n",
       "      <th>4</th>\n",
       "      <td>AAPL</td>\n",
       "      <td>positive</td>\n",
       "      <td>0.578031</td>\n",
       "      <td>ebed3bc762a748dd4eba4d38230efe87101b1c28ad4096...</td>\n",
       "      <td>2024-10-28 12:51:00</td>\n",
       "      <td>Nasdaq 100 Technical: Rising US Treasury Yield...</td>\n",
       "      <td>https://www.investing.com/analysis/nasdaq-100-...</td>\n",
       "    </tr>\n",
       "  </tbody>\n",
       "</table>\n",
       "</div>"
      ],
      "text/plain": [
       "  ticker sentiment  sentiment_score  \\\n",
       "0   AAPL   neutral         0.000000   \n",
       "1   AAPL  negative        -0.548489   \n",
       "2   AAPL   neutral         0.000000   \n",
       "3   AAPL   neutral         0.000000   \n",
       "4   AAPL  positive         0.578031   \n",
       "\n",
       "                                             news_id                 time  \\\n",
       "0  0d2a16f0328775bebe96ecbd57fb1ee7b98fae09d2ee73...  2024-10-30 08:06:00   \n",
       "1  55d38db6df60d647da21ac34f9942bfc7729d3196b10ff...  2024-10-29 13:09:00   \n",
       "2  4ef47f7a1d56daecdf73f02eb2ceb206df1e629e6f04ba...  2024-10-29 09:45:00   \n",
       "3  1358145bef572d9b1580795b261a011c39169815dae386...  2024-10-29 09:24:00   \n",
       "4  ebed3bc762a748dd4eba4d38230efe87101b1c28ad4096...  2024-10-28 12:51:00   \n",
       "\n",
       "                                               title  \\\n",
       "0  Only 10 Companies Have Reached a Trillion-Doll...   \n",
       "1  Microsoft Earnings Preview: Will Azure Growth ...   \n",
       "2  1 Supercharged Vanguard Fund That Can Turn $27...   \n",
       "3  Warren Buffett Sold $80 Billion of Apple Stock...   \n",
       "4  Nasdaq 100 Technical: Rising US Treasury Yield...   \n",
       "\n",
       "                                         article_url  \n",
       "0  https://www.fool.com/investing/2024/10/30/10-c...  \n",
       "1  https://www.investing.com/analysis/microsoft-e...  \n",
       "2  https://www.fool.com/investing/2024/10/29/1-su...  \n",
       "3  https://www.fool.com/investing/2024/10/29/warr...  \n",
       "4  https://www.investing.com/analysis/nasdaq-100-...  "
      ]
     },
     "execution_count": 6,
     "metadata": {},
     "output_type": "execute_result"
    }
   ],
   "source": [
    "AAPL_sentiment.head()"
   ]
  },
  {
   "cell_type": "code",
   "execution_count": 7,
   "metadata": {},
   "outputs": [],
   "source": [
    "AAPL_sentiment = AAPL_sentiment[AAPL_sentiment['ticker'] == 'AAPL']\n",
    "AAPL_sentiment = AAPL_sentiment.loc[:, ['time', 'sentiment_score']]"
   ]
  },
  {
   "cell_type": "code",
   "execution_count": 8,
   "metadata": {},
   "outputs": [
    {
     "data": {
      "text/html": [
       "<div>\n",
       "<style scoped>\n",
       "    .dataframe tbody tr th:only-of-type {\n",
       "        vertical-align: middle;\n",
       "    }\n",
       "\n",
       "    .dataframe tbody tr th {\n",
       "        vertical-align: top;\n",
       "    }\n",
       "\n",
       "    .dataframe thead th {\n",
       "        text-align: right;\n",
       "    }\n",
       "</style>\n",
       "<table border=\"1\" class=\"dataframe\">\n",
       "  <thead>\n",
       "    <tr style=\"text-align: right;\">\n",
       "      <th></th>\n",
       "      <th>time</th>\n",
       "      <th>sentiment_score</th>\n",
       "    </tr>\n",
       "  </thead>\n",
       "  <tbody>\n",
       "    <tr>\n",
       "      <th>9876</th>\n",
       "      <td>2022-09-23 10:20:08</td>\n",
       "      <td>0.000000</td>\n",
       "    </tr>\n",
       "    <tr>\n",
       "      <th>9877</th>\n",
       "      <td>2022-09-23 09:49:47</td>\n",
       "      <td>-0.966222</td>\n",
       "    </tr>\n",
       "    <tr>\n",
       "      <th>9878</th>\n",
       "      <td>2022-09-23 09:30:00</td>\n",
       "      <td>0.579299</td>\n",
       "    </tr>\n",
       "    <tr>\n",
       "      <th>9879</th>\n",
       "      <td>2022-09-23 08:50:32</td>\n",
       "      <td>-0.966438</td>\n",
       "    </tr>\n",
       "    <tr>\n",
       "      <th>9880</th>\n",
       "      <td>2022-09-23 04:23:10</td>\n",
       "      <td>0.000000</td>\n",
       "    </tr>\n",
       "  </tbody>\n",
       "</table>\n",
       "</div>"
      ],
      "text/plain": [
       "                     time  sentiment_score\n",
       "9876  2022-09-23 10:20:08         0.000000\n",
       "9877  2022-09-23 09:49:47        -0.966222\n",
       "9878  2022-09-23 09:30:00         0.579299\n",
       "9879  2022-09-23 08:50:32        -0.966438\n",
       "9880  2022-09-23 04:23:10         0.000000"
      ]
     },
     "execution_count": 8,
     "metadata": {},
     "output_type": "execute_result"
    }
   ],
   "source": [
    "AAPL_sentiment.tail()"
   ]
  },
  {
   "cell_type": "code",
   "execution_count": 9,
   "metadata": {},
   "outputs": [
    {
     "data": {
      "text/plain": [
       "time                object\n",
       "sentiment_score    float64\n",
       "dtype: object"
      ]
     },
     "execution_count": 9,
     "metadata": {},
     "output_type": "execute_result"
    }
   ],
   "source": [
    "AAPL_sentiment.dtypes"
   ]
  },
  {
   "cell_type": "code",
   "execution_count": 10,
   "metadata": {},
   "outputs": [],
   "source": [
    "df = pd.DataFrame(AAPL_sentiment)\n",
    "df['time'] = pd.to_datetime(df['time'])\n",
    "\n",
    "# Group by date and calculate weighted average for ticker_sentiment_score\n",
    "df['date'] = df['time'].dt.date\n",
    "\n",
    "df = df.groupby('date').apply(\n",
    "    lambda x: pd.Series({\n",
    "        'time': pd.Timestamp(f\"{x['date'].iloc[0]} 04:00:00\"),\n",
    "        'sentiment_score': x['sentiment_score'].mean()\n",
    "    })\n",
    ").reset_index(drop=True)\n"
   ]
  },
  {
   "cell_type": "code",
   "execution_count": 11,
   "metadata": {},
   "outputs": [
    {
     "data": {
      "text/html": [
       "<div>\n",
       "<style scoped>\n",
       "    .dataframe tbody tr th:only-of-type {\n",
       "        vertical-align: middle;\n",
       "    }\n",
       "\n",
       "    .dataframe tbody tr th {\n",
       "        vertical-align: top;\n",
       "    }\n",
       "\n",
       "    .dataframe thead th {\n",
       "        text-align: right;\n",
       "    }\n",
       "</style>\n",
       "<table border=\"1\" class=\"dataframe\">\n",
       "  <thead>\n",
       "    <tr style=\"text-align: right;\">\n",
       "      <th></th>\n",
       "      <th>time</th>\n",
       "      <th>sentiment_score</th>\n",
       "    </tr>\n",
       "  </thead>\n",
       "  <tbody>\n",
       "    <tr>\n",
       "      <th>0</th>\n",
       "      <td>2022-09-23 04:00:00</td>\n",
       "      <td>-0.230271</td>\n",
       "    </tr>\n",
       "    <tr>\n",
       "      <th>1</th>\n",
       "      <td>2022-09-24 04:00:00</td>\n",
       "      <td>0.000000</td>\n",
       "    </tr>\n",
       "    <tr>\n",
       "      <th>2</th>\n",
       "      <td>2022-09-25 04:00:00</td>\n",
       "      <td>0.101683</td>\n",
       "    </tr>\n",
       "    <tr>\n",
       "      <th>3</th>\n",
       "      <td>2022-09-26 04:00:00</td>\n",
       "      <td>-0.121616</td>\n",
       "    </tr>\n",
       "    <tr>\n",
       "      <th>4</th>\n",
       "      <td>2022-09-27 04:00:00</td>\n",
       "      <td>0.035076</td>\n",
       "    </tr>\n",
       "  </tbody>\n",
       "</table>\n",
       "</div>"
      ],
      "text/plain": [
       "                 time  sentiment_score\n",
       "0 2022-09-23 04:00:00        -0.230271\n",
       "1 2022-09-24 04:00:00         0.000000\n",
       "2 2022-09-25 04:00:00         0.101683\n",
       "3 2022-09-26 04:00:00        -0.121616\n",
       "4 2022-09-27 04:00:00         0.035076"
      ]
     },
     "execution_count": 11,
     "metadata": {},
     "output_type": "execute_result"
    }
   ],
   "source": [
    "df.head()"
   ]
  },
  {
   "cell_type": "code",
   "execution_count": 12,
   "metadata": {},
   "outputs": [],
   "source": [
    "finalData = pd.merge(AAPL_stock, df, on='time')\n",
    "finalData.columns = [\"DateTime\", 'Price', 'Sentiment_score']\n",
    "finalData = finalData[['DateTime', 'Sentiment_score', 'Price']]"
   ]
  },
  {
   "cell_type": "code",
   "execution_count": 13,
   "metadata": {},
   "outputs": [
    {
     "data": {
      "text/html": [
       "<div>\n",
       "<style scoped>\n",
       "    .dataframe tbody tr th:only-of-type {\n",
       "        vertical-align: middle;\n",
       "    }\n",
       "\n",
       "    .dataframe tbody tr th {\n",
       "        vertical-align: top;\n",
       "    }\n",
       "\n",
       "    .dataframe thead th {\n",
       "        text-align: right;\n",
       "    }\n",
       "</style>\n",
       "<table border=\"1\" class=\"dataframe\">\n",
       "  <thead>\n",
       "    <tr style=\"text-align: right;\">\n",
       "      <th></th>\n",
       "      <th>DateTime</th>\n",
       "      <th>Sentiment_score</th>\n",
       "      <th>Price</th>\n",
       "    </tr>\n",
       "  </thead>\n",
       "  <tbody>\n",
       "    <tr>\n",
       "      <th>325</th>\n",
       "      <td>2024-10-23 04:00:00</td>\n",
       "      <td>0.085070</td>\n",
       "      <td>230.76</td>\n",
       "    </tr>\n",
       "    <tr>\n",
       "      <th>326</th>\n",
       "      <td>2024-10-24 04:00:00</td>\n",
       "      <td>0.525094</td>\n",
       "      <td>230.57</td>\n",
       "    </tr>\n",
       "    <tr>\n",
       "      <th>327</th>\n",
       "      <td>2024-10-25 04:00:00</td>\n",
       "      <td>0.233975</td>\n",
       "      <td>231.41</td>\n",
       "    </tr>\n",
       "    <tr>\n",
       "      <th>328</th>\n",
       "      <td>2024-10-28 04:00:00</td>\n",
       "      <td>0.274372</td>\n",
       "      <td>233.40</td>\n",
       "    </tr>\n",
       "    <tr>\n",
       "      <th>329</th>\n",
       "      <td>2024-10-29 04:00:00</td>\n",
       "      <td>-0.182830</td>\n",
       "      <td>233.67</td>\n",
       "    </tr>\n",
       "  </tbody>\n",
       "</table>\n",
       "</div>"
      ],
      "text/plain": [
       "               DateTime  Sentiment_score   Price\n",
       "325 2024-10-23 04:00:00         0.085070  230.76\n",
       "326 2024-10-24 04:00:00         0.525094  230.57\n",
       "327 2024-10-25 04:00:00         0.233975  231.41\n",
       "328 2024-10-28 04:00:00         0.274372  233.40\n",
       "329 2024-10-29 04:00:00        -0.182830  233.67"
      ]
     },
     "execution_count": 13,
     "metadata": {},
     "output_type": "execute_result"
    }
   ],
   "source": [
    "finalData.tail()"
   ]
  },
  {
   "cell_type": "code",
   "execution_count": 14,
   "metadata": {},
   "outputs": [],
   "source": [
    "finalData.to_csv(\"AAPL_processed.csv\", index=False)"
   ]
  }
 ],
 "metadata": {
  "kernelspec": {
   "display_name": "base",
   "language": "python",
   "name": "python3"
  },
  "language_info": {
   "codemirror_mode": {
    "name": "ipython",
    "version": 3
   },
   "file_extension": ".py",
   "mimetype": "text/x-python",
   "name": "python",
   "nbconvert_exporter": "python",
   "pygments_lexer": "ipython3",
   "version": "3.11.5"
  }
 },
 "nbformat": 4,
 "nbformat_minor": 2
}
