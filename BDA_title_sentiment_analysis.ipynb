{
  "cells": [
    {
      "cell_type": "markdown",
      "source": [
        "Using FinBERT to scan through data article"
      ],
      "metadata": {
        "id": "xX9t4nmD6VF6"
      },
      "id": "xX9t4nmD6VF6"
    },
    {
      "cell_type": "code",
      "id": "kgiS6vSfBPHQuny8la02mc47",
      "metadata": {
        "tags": [],
        "id": "kgiS6vSfBPHQuny8la02mc47",
        "colab": {
          "base_uri": "https://localhost:8080/"
        },
        "outputId": "48780578-e6c1-4a90-fb54-f1dfe935ff55"
      },
      "source": [
        "!pip install -q transformers\n",
        "!pip install -q newspaper3k pandas numpy\n",
        "!pip install -q lxml-html-clean"
      ],
      "execution_count": null,
      "outputs": [
        {
          "output_type": "stream",
          "name": "stdout",
          "text": [
            "  Preparing metadata (setup.py) ... \u001b[?25l\u001b[?25hdone\n",
            "\u001b[2K     \u001b[90m━━━━━━━━━━━━━━━━━━━━━━━━━━━━━━━━━━━━━━━━\u001b[0m \u001b[32m7.4/7.4 MB\u001b[0m \u001b[31m49.3 MB/s\u001b[0m eta \u001b[36m0:00:00\u001b[0m\n",
            "\u001b[?25h  Preparing metadata (setup.py) ... \u001b[?25l\u001b[?25hdone\n",
            "  Preparing metadata (setup.py) ... \u001b[?25l\u001b[?25hdone\n",
            "  Preparing metadata (setup.py) ... \u001b[?25l\u001b[?25hdone\n",
            "\u001b[2K   \u001b[90m━━━━━━━━━━━━━━━━━━━━━━━━━━━━━━━━━━━━━━━━\u001b[0m \u001b[32m211.1/211.1 kB\u001b[0m \u001b[31m28.7 MB/s\u001b[0m eta \u001b[36m0:00:00\u001b[0m\n",
            "\u001b[2K   \u001b[90m━━━━━━━━━━━━━━━━━━━━━━━━━━━━━━━━━━━━━━━━\u001b[0m \u001b[32m81.3/81.3 kB\u001b[0m \u001b[31m11.9 MB/s\u001b[0m eta \u001b[36m0:00:00\u001b[0m\n",
            "\u001b[2K   \u001b[90m━━━━━━━━━━━━━━━━━━━━━━━━━━━━━━━━━━━━━━━━\u001b[0m \u001b[32m104.9/104.9 kB\u001b[0m \u001b[31m15.5 MB/s\u001b[0m eta \u001b[36m0:00:00\u001b[0m\n",
            "\u001b[?25h  Building wheel for tinysegmenter (setup.py) ... \u001b[?25l\u001b[?25hdone\n",
            "  Building wheel for feedfinder2 (setup.py) ... \u001b[?25l\u001b[?25hdone\n",
            "  Building wheel for jieba3k (setup.py) ... \u001b[?25l\u001b[?25hdone\n",
            "  Building wheel for sgmllib3k (setup.py) ... \u001b[?25l\u001b[?25hdone\n"
          ]
        }
      ]
    },
    {
      "cell_type": "code",
      "source": [
        "!pip install -q spacy"
      ],
      "metadata": {
        "id": "CYX8k9838aHY"
      },
      "id": "CYX8k9838aHY",
      "execution_count": null,
      "outputs": []
    },
    {
      "cell_type": "code",
      "source": [
        "import pandas as pd\n",
        "import numpy as np\n",
        "import torch\n",
        "from newspaper import Article\n",
        "import os"
      ],
      "metadata": {
        "id": "oQWuE6iD6lLx"
      },
      "id": "oQWuE6iD6lLx",
      "execution_count": null,
      "outputs": []
    },
    {
      "cell_type": "code",
      "source": [
        "import spacy\n",
        "\n",
        "nlp = spacy.load(\"en_core_web_sm\")"
      ],
      "metadata": {
        "id": "aCoImUmW8cL4"
      },
      "id": "aCoImUmW8cL4",
      "execution_count": null,
      "outputs": []
    },
    {
      "cell_type": "code",
      "source": [
        "!ls"
      ],
      "metadata": {
        "colab": {
          "base_uri": "https://localhost:8080/"
        },
        "id": "d2KU1QSS_rMm",
        "outputId": "d5fbf6dc-48a5-45c3-9300-77ab80a50588"
      },
      "id": "d2KU1QSS_rMm",
      "execution_count": null,
      "outputs": [
        {
          "output_type": "stream",
          "name": "stdout",
          "text": [
            "AAPL_main.csv  AAPL_relation.csv\n"
          ]
        }
      ]
    },
    {
      "cell_type": "code",
      "source": [
        "print(torch.cuda.is_available())\n",
        "print(torch.cuda.device_count())"
      ],
      "metadata": {
        "colab": {
          "base_uri": "https://localhost:8080/"
        },
        "id": "m_3qF0fC6_s5",
        "outputId": "178dca11-5875-439a-807f-8e979818e342"
      },
      "id": "m_3qF0fC6_s5",
      "execution_count": null,
      "outputs": [
        {
          "output_type": "stream",
          "name": "stdout",
          "text": [
            "True\n",
            "1\n"
          ]
        }
      ]
    },
    {
      "cell_type": "code",
      "source": [
        "from transformers import pipeline\n",
        "\n",
        "pipe = pipeline(\"sentiment-analysis\", model=\"ProsusAI/finbert\", device=0 if torch.cuda.is_available() else -1)"
      ],
      "metadata": {
        "id": "uRgXsi1J7IUx"
      },
      "id": "uRgXsi1J7IUx",
      "execution_count": null,
      "outputs": []
    },
    {
      "cell_type": "code",
      "source": [
        "test_data = [\"Adherents of the Dogs strategy assume that the highest yielding Dow stocks are unfairly and temporarily depressed. That presumably means they'll hold up better than the S&P 500. And that seems to be the case in 2022. Adding the Dogs stocks' 4% average dividend yield coming into 2022 plus their average 1.8% drop still left investors with a positive return of more than 2% on the stocks. Additionally, half of last year's Dogs, including International Business Machines (IBM), Chevron (CVX), Merck (MRK), Amgen (AMGN), and Coca-Cola (KO) posted gains in 2022. Chevron alone gained 53% on top of yielding 4.6%.\",\n",
        "             \"The biggest dog of them all for 2023 is fallen communication services firm Verizon (VZ). The company, which has seen its stock drop 24% in 2022, is now yielding more than any other Dow stock: 6.5%. It's important to note, though, there's a reason Verizon's stock is shrinking. Verizon's profit is seen falling nearly 4% in 2022 and nearly 3% in 2023.\",\n",
        "             \"the most average stock is stock ABC, which did not change at all\"]"
      ],
      "metadata": {
        "id": "lC1r14ie7gz0"
      },
      "id": "lC1r14ie7gz0",
      "execution_count": null,
      "outputs": []
    },
    {
      "cell_type": "code",
      "source": [
        "result = pipe(test_data)\n",
        "print(result)"
      ],
      "metadata": {
        "colab": {
          "base_uri": "https://localhost:8080/"
        },
        "id": "S5oYHl7I7lHN",
        "outputId": "54b77dba-92ee-4395-ab6f-3c036ca53e2f"
      },
      "id": "S5oYHl7I7lHN",
      "execution_count": null,
      "outputs": [
        {
          "output_type": "stream",
          "name": "stdout",
          "text": [
            "[{'label': 'positive', 'score': 0.8819699287414551}, {'label': 'negative', 'score': 0.9748380184173584}, {'label': 'neutral', 'score': 0.9416248202323914}]\n"
          ]
        }
      ]
    },
    {
      "cell_type": "code",
      "source": [
        "!ls /content"
      ],
      "metadata": {
        "id": "A43zk4Hf8kAg"
      },
      "id": "A43zk4Hf8kAg",
      "execution_count": null,
      "outputs": []
    },
    {
      "cell_type": "code",
      "source": [
        "!rm AAPL_main.csv  AAPL_relation.csv"
      ],
      "metadata": {
        "id": "I-B1OLwxAZPz"
      },
      "id": "I-B1OLwxAZPz",
      "execution_count": null,
      "outputs": []
    },
    {
      "cell_type": "code",
      "source": [
        "import os\n",
        "from google.colab import files\n",
        "\n",
        "def upload_files_to_directory(target_dir):\n",
        "    # Create the directory if it doesn't exist\n",
        "    if not os.path.exists(target_dir):\n",
        "        os.makedirs(target_dir)\n",
        "\n",
        "    # Upload files\n",
        "    uploaded_files = files.upload()  # Opens file upload dialog\n",
        "    for file_name, file_data in uploaded_files.items():\n",
        "        file_path = os.path.join(target_dir, file_name)\n",
        "        with open(file_path, 'wb') as f:\n",
        "            f.write(file_data)\n",
        "        print(f\"Uploaded: {file_name} to {file_path}\")\n",
        "\n",
        "target_dir = \"/content/old_data\""
      ],
      "metadata": {
        "id": "BwFW-rxrfe8V"
      },
      "id": "BwFW-rxrfe8V",
      "execution_count": null,
      "outputs": []
    },
    {
      "cell_type": "code",
      "source": [
        "upload_files_to_directory(target_dir)"
      ],
      "metadata": {
        "colab": {
          "base_uri": "https://localhost:8080/",
          "height": 1000
        },
        "id": "Ho-x059pfj_n",
        "outputId": "af84df64-2a0b-4bf2-885b-66365fbed8a3"
      },
      "id": "Ho-x059pfj_n",
      "execution_count": null,
      "outputs": [
        {
          "output_type": "display_data",
          "data": {
            "text/plain": [
              "<IPython.core.display.HTML object>"
            ],
            "text/html": [
              "\n",
              "     <input type=\"file\" id=\"files-047a377d-498a-44f0-8297-09a0b492cc5c\" name=\"files[]\" multiple disabled\n",
              "        style=\"border:none\" />\n",
              "     <output id=\"result-047a377d-498a-44f0-8297-09a0b492cc5c\">\n",
              "      Upload widget is only available when the cell has been executed in the\n",
              "      current browser session. Please rerun this cell to enable.\n",
              "      </output>\n",
              "      <script>// Copyright 2017 Google LLC\n",
              "//\n",
              "// Licensed under the Apache License, Version 2.0 (the \"License\");\n",
              "// you may not use this file except in compliance with the License.\n",
              "// You may obtain a copy of the License at\n",
              "//\n",
              "//      http://www.apache.org/licenses/LICENSE-2.0\n",
              "//\n",
              "// Unless required by applicable law or agreed to in writing, software\n",
              "// distributed under the License is distributed on an \"AS IS\" BASIS,\n",
              "// WITHOUT WARRANTIES OR CONDITIONS OF ANY KIND, either express or implied.\n",
              "// See the License for the specific language governing permissions and\n",
              "// limitations under the License.\n",
              "\n",
              "/**\n",
              " * @fileoverview Helpers for google.colab Python module.\n",
              " */\n",
              "(function(scope) {\n",
              "function span(text, styleAttributes = {}) {\n",
              "  const element = document.createElement('span');\n",
              "  element.textContent = text;\n",
              "  for (const key of Object.keys(styleAttributes)) {\n",
              "    element.style[key] = styleAttributes[key];\n",
              "  }\n",
              "  return element;\n",
              "}\n",
              "\n",
              "// Max number of bytes which will be uploaded at a time.\n",
              "const MAX_PAYLOAD_SIZE = 100 * 1024;\n",
              "\n",
              "function _uploadFiles(inputId, outputId) {\n",
              "  const steps = uploadFilesStep(inputId, outputId);\n",
              "  const outputElement = document.getElementById(outputId);\n",
              "  // Cache steps on the outputElement to make it available for the next call\n",
              "  // to uploadFilesContinue from Python.\n",
              "  outputElement.steps = steps;\n",
              "\n",
              "  return _uploadFilesContinue(outputId);\n",
              "}\n",
              "\n",
              "// This is roughly an async generator (not supported in the browser yet),\n",
              "// where there are multiple asynchronous steps and the Python side is going\n",
              "// to poll for completion of each step.\n",
              "// This uses a Promise to block the python side on completion of each step,\n",
              "// then passes the result of the previous step as the input to the next step.\n",
              "function _uploadFilesContinue(outputId) {\n",
              "  const outputElement = document.getElementById(outputId);\n",
              "  const steps = outputElement.steps;\n",
              "\n",
              "  const next = steps.next(outputElement.lastPromiseValue);\n",
              "  return Promise.resolve(next.value.promise).then((value) => {\n",
              "    // Cache the last promise value to make it available to the next\n",
              "    // step of the generator.\n",
              "    outputElement.lastPromiseValue = value;\n",
              "    return next.value.response;\n",
              "  });\n",
              "}\n",
              "\n",
              "/**\n",
              " * Generator function which is called between each async step of the upload\n",
              " * process.\n",
              " * @param {string} inputId Element ID of the input file picker element.\n",
              " * @param {string} outputId Element ID of the output display.\n",
              " * @return {!Iterable<!Object>} Iterable of next steps.\n",
              " */\n",
              "function* uploadFilesStep(inputId, outputId) {\n",
              "  const inputElement = document.getElementById(inputId);\n",
              "  inputElement.disabled = false;\n",
              "\n",
              "  const outputElement = document.getElementById(outputId);\n",
              "  outputElement.innerHTML = '';\n",
              "\n",
              "  const pickedPromise = new Promise((resolve) => {\n",
              "    inputElement.addEventListener('change', (e) => {\n",
              "      resolve(e.target.files);\n",
              "    });\n",
              "  });\n",
              "\n",
              "  const cancel = document.createElement('button');\n",
              "  inputElement.parentElement.appendChild(cancel);\n",
              "  cancel.textContent = 'Cancel upload';\n",
              "  const cancelPromise = new Promise((resolve) => {\n",
              "    cancel.onclick = () => {\n",
              "      resolve(null);\n",
              "    };\n",
              "  });\n",
              "\n",
              "  // Wait for the user to pick the files.\n",
              "  const files = yield {\n",
              "    promise: Promise.race([pickedPromise, cancelPromise]),\n",
              "    response: {\n",
              "      action: 'starting',\n",
              "    }\n",
              "  };\n",
              "\n",
              "  cancel.remove();\n",
              "\n",
              "  // Disable the input element since further picks are not allowed.\n",
              "  inputElement.disabled = true;\n",
              "\n",
              "  if (!files) {\n",
              "    return {\n",
              "      response: {\n",
              "        action: 'complete',\n",
              "      }\n",
              "    };\n",
              "  }\n",
              "\n",
              "  for (const file of files) {\n",
              "    const li = document.createElement('li');\n",
              "    li.append(span(file.name, {fontWeight: 'bold'}));\n",
              "    li.append(span(\n",
              "        `(${file.type || 'n/a'}) - ${file.size} bytes, ` +\n",
              "        `last modified: ${\n",
              "            file.lastModifiedDate ? file.lastModifiedDate.toLocaleDateString() :\n",
              "                                    'n/a'} - `));\n",
              "    const percent = span('0% done');\n",
              "    li.appendChild(percent);\n",
              "\n",
              "    outputElement.appendChild(li);\n",
              "\n",
              "    const fileDataPromise = new Promise((resolve) => {\n",
              "      const reader = new FileReader();\n",
              "      reader.onload = (e) => {\n",
              "        resolve(e.target.result);\n",
              "      };\n",
              "      reader.readAsArrayBuffer(file);\n",
              "    });\n",
              "    // Wait for the data to be ready.\n",
              "    let fileData = yield {\n",
              "      promise: fileDataPromise,\n",
              "      response: {\n",
              "        action: 'continue',\n",
              "      }\n",
              "    };\n",
              "\n",
              "    // Use a chunked sending to avoid message size limits. See b/62115660.\n",
              "    let position = 0;\n",
              "    do {\n",
              "      const length = Math.min(fileData.byteLength - position, MAX_PAYLOAD_SIZE);\n",
              "      const chunk = new Uint8Array(fileData, position, length);\n",
              "      position += length;\n",
              "\n",
              "      const base64 = btoa(String.fromCharCode.apply(null, chunk));\n",
              "      yield {\n",
              "        response: {\n",
              "          action: 'append',\n",
              "          file: file.name,\n",
              "          data: base64,\n",
              "        },\n",
              "      };\n",
              "\n",
              "      let percentDone = fileData.byteLength === 0 ?\n",
              "          100 :\n",
              "          Math.round((position / fileData.byteLength) * 100);\n",
              "      percent.textContent = `${percentDone}% done`;\n",
              "\n",
              "    } while (position < fileData.byteLength);\n",
              "  }\n",
              "\n",
              "  // All done.\n",
              "  yield {\n",
              "    response: {\n",
              "      action: 'complete',\n",
              "    }\n",
              "  };\n",
              "}\n",
              "\n",
              "scope.google = scope.google || {};\n",
              "scope.google.colab = scope.google.colab || {};\n",
              "scope.google.colab._files = {\n",
              "  _uploadFiles,\n",
              "  _uploadFilesContinue,\n",
              "};\n",
              "})(self);\n",
              "</script> "
            ]
          },
          "metadata": {}
        },
        {
          "output_type": "stream",
          "name": "stdout",
          "text": [
            "Saving AAPL_main.csv to AAPL_main.csv\n",
            "Saving AAPL_relation.csv to AAPL_relation.csv\n",
            "Saving AMZN_main.csv to AMZN_main.csv\n",
            "Saving AMZN_relation.csv to AMZN_relation.csv\n",
            "Saving GOOGL_main.csv to GOOGL_main.csv\n",
            "Saving GOOGL_relation.csv to GOOGL_relation.csv\n",
            "Saving IBM_main.csv to IBM_main.csv\n",
            "Saving IBM_relation.csv to IBM_relation.csv\n",
            "Saving INTC_main.csv to INTC_main.csv\n",
            "Saving INTC_relation.csv to INTC_relation.csv\n",
            "Saving META_main.csv to META_main.csv\n",
            "Saving META_relation.csv to META_relation.csv\n",
            "Saving MSFT_main.csv to MSFT_main.csv\n",
            "Saving MSFT_relation.csv to MSFT_relation.csv\n",
            "Saving NFLX_main.csv to NFLX_main.csv\n",
            "Saving NFLX_relation.csv to NFLX_relation.csv\n",
            "Saving NVDA_main.csv to NVDA_main.csv\n",
            "Saving NVDA_relation.csv to NVDA_relation.csv\n",
            "Saving ORCL_main.csv to ORCL_main.csv\n",
            "Saving ORCL_relation.csv to ORCL_relation.csv\n",
            "Uploaded: AAPL_main.csv to /content/old_data/AAPL_main.csv\n",
            "Uploaded: AAPL_relation.csv to /content/old_data/AAPL_relation.csv\n",
            "Uploaded: AMZN_main.csv to /content/old_data/AMZN_main.csv\n",
            "Uploaded: AMZN_relation.csv to /content/old_data/AMZN_relation.csv\n",
            "Uploaded: GOOGL_main.csv to /content/old_data/GOOGL_main.csv\n",
            "Uploaded: GOOGL_relation.csv to /content/old_data/GOOGL_relation.csv\n",
            "Uploaded: IBM_main.csv to /content/old_data/IBM_main.csv\n",
            "Uploaded: IBM_relation.csv to /content/old_data/IBM_relation.csv\n",
            "Uploaded: INTC_main.csv to /content/old_data/INTC_main.csv\n",
            "Uploaded: INTC_relation.csv to /content/old_data/INTC_relation.csv\n",
            "Uploaded: META_main.csv to /content/old_data/META_main.csv\n",
            "Uploaded: META_relation.csv to /content/old_data/META_relation.csv\n",
            "Uploaded: MSFT_main.csv to /content/old_data/MSFT_main.csv\n",
            "Uploaded: MSFT_relation.csv to /content/old_data/MSFT_relation.csv\n",
            "Uploaded: NFLX_main.csv to /content/old_data/NFLX_main.csv\n",
            "Uploaded: NFLX_relation.csv to /content/old_data/NFLX_relation.csv\n",
            "Uploaded: NVDA_main.csv to /content/old_data/NVDA_main.csv\n",
            "Uploaded: NVDA_relation.csv to /content/old_data/NVDA_relation.csv\n",
            "Uploaded: ORCL_main.csv to /content/old_data/ORCL_main.csv\n",
            "Uploaded: ORCL_relation.csv to /content/old_data/ORCL_relation.csv\n"
          ]
        }
      ]
    },
    {
      "cell_type": "code",
      "source": [
        "# from google.colab import files\n",
        "# uploaded = files.upload()"
      ],
      "metadata": {
        "colab": {
          "base_uri": "https://localhost:8080/",
          "height": 109
        },
        "id": "W-CV_njp7oRG",
        "outputId": "0692f03e-aa7f-4044-864f-2466d42f11de"
      },
      "id": "W-CV_njp7oRG",
      "execution_count": null,
      "outputs": [
        {
          "output_type": "display_data",
          "data": {
            "text/plain": [
              "<IPython.core.display.HTML object>"
            ],
            "text/html": [
              "\n",
              "     <input type=\"file\" id=\"files-5d183d85-810e-4cc7-aadc-08df84511cb0\" name=\"files[]\" multiple disabled\n",
              "        style=\"border:none\" />\n",
              "     <output id=\"result-5d183d85-810e-4cc7-aadc-08df84511cb0\">\n",
              "      Upload widget is only available when the cell has been executed in the\n",
              "      current browser session. Please rerun this cell to enable.\n",
              "      </output>\n",
              "      <script>// Copyright 2017 Google LLC\n",
              "//\n",
              "// Licensed under the Apache License, Version 2.0 (the \"License\");\n",
              "// you may not use this file except in compliance with the License.\n",
              "// You may obtain a copy of the License at\n",
              "//\n",
              "//      http://www.apache.org/licenses/LICENSE-2.0\n",
              "//\n",
              "// Unless required by applicable law or agreed to in writing, software\n",
              "// distributed under the License is distributed on an \"AS IS\" BASIS,\n",
              "// WITHOUT WARRANTIES OR CONDITIONS OF ANY KIND, either express or implied.\n",
              "// See the License for the specific language governing permissions and\n",
              "// limitations under the License.\n",
              "\n",
              "/**\n",
              " * @fileoverview Helpers for google.colab Python module.\n",
              " */\n",
              "(function(scope) {\n",
              "function span(text, styleAttributes = {}) {\n",
              "  const element = document.createElement('span');\n",
              "  element.textContent = text;\n",
              "  for (const key of Object.keys(styleAttributes)) {\n",
              "    element.style[key] = styleAttributes[key];\n",
              "  }\n",
              "  return element;\n",
              "}\n",
              "\n",
              "// Max number of bytes which will be uploaded at a time.\n",
              "const MAX_PAYLOAD_SIZE = 100 * 1024;\n",
              "\n",
              "function _uploadFiles(inputId, outputId) {\n",
              "  const steps = uploadFilesStep(inputId, outputId);\n",
              "  const outputElement = document.getElementById(outputId);\n",
              "  // Cache steps on the outputElement to make it available for the next call\n",
              "  // to uploadFilesContinue from Python.\n",
              "  outputElement.steps = steps;\n",
              "\n",
              "  return _uploadFilesContinue(outputId);\n",
              "}\n",
              "\n",
              "// This is roughly an async generator (not supported in the browser yet),\n",
              "// where there are multiple asynchronous steps and the Python side is going\n",
              "// to poll for completion of each step.\n",
              "// This uses a Promise to block the python side on completion of each step,\n",
              "// then passes the result of the previous step as the input to the next step.\n",
              "function _uploadFilesContinue(outputId) {\n",
              "  const outputElement = document.getElementById(outputId);\n",
              "  const steps = outputElement.steps;\n",
              "\n",
              "  const next = steps.next(outputElement.lastPromiseValue);\n",
              "  return Promise.resolve(next.value.promise).then((value) => {\n",
              "    // Cache the last promise value to make it available to the next\n",
              "    // step of the generator.\n",
              "    outputElement.lastPromiseValue = value;\n",
              "    return next.value.response;\n",
              "  });\n",
              "}\n",
              "\n",
              "/**\n",
              " * Generator function which is called between each async step of the upload\n",
              " * process.\n",
              " * @param {string} inputId Element ID of the input file picker element.\n",
              " * @param {string} outputId Element ID of the output display.\n",
              " * @return {!Iterable<!Object>} Iterable of next steps.\n",
              " */\n",
              "function* uploadFilesStep(inputId, outputId) {\n",
              "  const inputElement = document.getElementById(inputId);\n",
              "  inputElement.disabled = false;\n",
              "\n",
              "  const outputElement = document.getElementById(outputId);\n",
              "  outputElement.innerHTML = '';\n",
              "\n",
              "  const pickedPromise = new Promise((resolve) => {\n",
              "    inputElement.addEventListener('change', (e) => {\n",
              "      resolve(e.target.files);\n",
              "    });\n",
              "  });\n",
              "\n",
              "  const cancel = document.createElement('button');\n",
              "  inputElement.parentElement.appendChild(cancel);\n",
              "  cancel.textContent = 'Cancel upload';\n",
              "  const cancelPromise = new Promise((resolve) => {\n",
              "    cancel.onclick = () => {\n",
              "      resolve(null);\n",
              "    };\n",
              "  });\n",
              "\n",
              "  // Wait for the user to pick the files.\n",
              "  const files = yield {\n",
              "    promise: Promise.race([pickedPromise, cancelPromise]),\n",
              "    response: {\n",
              "      action: 'starting',\n",
              "    }\n",
              "  };\n",
              "\n",
              "  cancel.remove();\n",
              "\n",
              "  // Disable the input element since further picks are not allowed.\n",
              "  inputElement.disabled = true;\n",
              "\n",
              "  if (!files) {\n",
              "    return {\n",
              "      response: {\n",
              "        action: 'complete',\n",
              "      }\n",
              "    };\n",
              "  }\n",
              "\n",
              "  for (const file of files) {\n",
              "    const li = document.createElement('li');\n",
              "    li.append(span(file.name, {fontWeight: 'bold'}));\n",
              "    li.append(span(\n",
              "        `(${file.type || 'n/a'}) - ${file.size} bytes, ` +\n",
              "        `last modified: ${\n",
              "            file.lastModifiedDate ? file.lastModifiedDate.toLocaleDateString() :\n",
              "                                    'n/a'} - `));\n",
              "    const percent = span('0% done');\n",
              "    li.appendChild(percent);\n",
              "\n",
              "    outputElement.appendChild(li);\n",
              "\n",
              "    const fileDataPromise = new Promise((resolve) => {\n",
              "      const reader = new FileReader();\n",
              "      reader.onload = (e) => {\n",
              "        resolve(e.target.result);\n",
              "      };\n",
              "      reader.readAsArrayBuffer(file);\n",
              "    });\n",
              "    // Wait for the data to be ready.\n",
              "    let fileData = yield {\n",
              "      promise: fileDataPromise,\n",
              "      response: {\n",
              "        action: 'continue',\n",
              "      }\n",
              "    };\n",
              "\n",
              "    // Use a chunked sending to avoid message size limits. See b/62115660.\n",
              "    let position = 0;\n",
              "    do {\n",
              "      const length = Math.min(fileData.byteLength - position, MAX_PAYLOAD_SIZE);\n",
              "      const chunk = new Uint8Array(fileData, position, length);\n",
              "      position += length;\n",
              "\n",
              "      const base64 = btoa(String.fromCharCode.apply(null, chunk));\n",
              "      yield {\n",
              "        response: {\n",
              "          action: 'append',\n",
              "          file: file.name,\n",
              "          data: base64,\n",
              "        },\n",
              "      };\n",
              "\n",
              "      let percentDone = fileData.byteLength === 0 ?\n",
              "          100 :\n",
              "          Math.round((position / fileData.byteLength) * 100);\n",
              "      percent.textContent = `${percentDone}% done`;\n",
              "\n",
              "    } while (position < fileData.byteLength);\n",
              "  }\n",
              "\n",
              "  // All done.\n",
              "  yield {\n",
              "    response: {\n",
              "      action: 'complete',\n",
              "    }\n",
              "  };\n",
              "}\n",
              "\n",
              "scope.google = scope.google || {};\n",
              "scope.google.colab = scope.google.colab || {};\n",
              "scope.google.colab._files = {\n",
              "  _uploadFiles,\n",
              "  _uploadFilesContinue,\n",
              "};\n",
              "})(self);\n",
              "</script> "
            ]
          },
          "metadata": {}
        },
        {
          "output_type": "stream",
          "name": "stdout",
          "text": [
            "Saving AAPL_main.csv to AAPL_main.csv\n",
            "Saving AAPL_relation.csv to AAPL_relation.csv\n"
          ]
        }
      ]
    },
    {
      "cell_type": "code",
      "source": [
        "!ls /content/old_data"
      ],
      "metadata": {
        "colab": {
          "base_uri": "https://localhost:8080/"
        },
        "id": "SXBWXwhch2Vz",
        "outputId": "df7dc5ff-0066-49f7-e1be-6e472d329ae7"
      },
      "id": "SXBWXwhch2Vz",
      "execution_count": null,
      "outputs": [
        {
          "output_type": "stream",
          "name": "stdout",
          "text": [
            "AAPL_main.csv\t   GOOGL_main.csv      INTC_main.csv\t  MSFT_main.csv      NVDA_main.csv\n",
            "AAPL_relation.csv  GOOGL_relation.csv  INTC_relation.csv  MSFT_relation.csv  NVDA_relation.csv\n",
            "AMZN_main.csv\t   IBM_main.csv        META_main.csv\t  NFLX_main.csv      ORCL_main.csv\n",
            "AMZN_relation.csv  IBM_relation.csv    META_relation.csv  NFLX_relation.csv  ORCL_relation.csv\n"
          ]
        }
      ]
    },
    {
      "cell_type": "code",
      "source": [
        "def combine_dataframes_with_time_range(main_df, relation_df, start_time, end_time):\n",
        "    start_time = pd.to_datetime(start_time)\n",
        "    end_time = pd.to_datetime(end_time)\n",
        "\n",
        "    main_df['publish_time'] = pd.to_datetime(main_df['publish_time'])\n",
        "    relation_df['time'] = pd.to_datetime(relation_df['time'])\n",
        "    filtered_rel = relation_df[relation_df['ticker'] == relation_df['source_ticker']]\n",
        "\n",
        "    # Merge the two dataframes on `id` and `news_id`\n",
        "    merged_df = main_df.merge(filtered_rel, left_on='id', right_on='news_id', how='inner')\n",
        "\n",
        "    filtered_df = merged_df\n",
        "\n",
        "    time_filtered_df = filtered_df[(filtered_df['publish_time'] >= start_time) & (filtered_df['publish_time'] <= end_time)]\n",
        "\n",
        "    time_filtered_df = time_filtered_df.rename(columns={'ticker_x': 'ticker'})\n",
        "\n",
        "    result_df = time_filtered_df[['id', 'publish_time', 'article_url', 'sentiment', 'ticker']]\n",
        "\n",
        "    return result_df"
      ],
      "metadata": {
        "id": "SUic_EDF8055"
      },
      "id": "SUic_EDF8055",
      "execution_count": null,
      "outputs": []
    },
    {
      "cell_type": "code",
      "source": [
        "def analyze_sentiments_finbert_pipeline(merged_df, pipe, truncate_or_split=\"truncate\"):\n",
        "    # this one analyze with only the title, keywords and description\n",
        "    result_data = []\n",
        "\n",
        "    for i, row in enumerate(merged_df.itertuples(), start=1):\n",
        "        if i % 1000 == 0:\n",
        "            print(f\"Processing article {i}/{len(merged_df)}\")\n",
        "\n",
        "        text = f\"{row.title} {row.description} {row.keywords}\"\n",
        "\n",
        "        # print(text)\n",
        "\n",
        "        if text != \"Error\" and isinstance(text, str):\n",
        "            if truncate_or_split == \"split\":\n",
        "                tokens = pipe.tokenizer(text, truncation=False, add_special_tokens=True)[\"input_ids\"]\n",
        "\n",
        "                if len(tokens) > 512:\n",
        "                    chunk_size = 512\n",
        "                    chunks = [text[start:start + chunk_size] for start in range(0, len(text), chunk_size)]\n",
        "\n",
        "                    # use average score for labels instead\n",
        "                    # Get predictions for each chunk\n",
        "                    chunk_predictions = []\n",
        "                    for chunk in chunks:\n",
        "                        result = pipe(chunk)  # Send each chunk through the pipeline\n",
        "                        if result[0]['label'] == \"positive\":\n",
        "                            chunk_predictions.append(result[0]['score'])\n",
        "                        elif result[0]['label'] == \"negative\":\n",
        "                            chunk_predictions.append(- result[0]['score'])\n",
        "                        else:\n",
        "                            chunk_predictions.append(0)\n",
        "                    # Use the most frequent label\n",
        "                    predicted_score = sum(chunk_predictions) / len(chunk_predictions)\n",
        "                    if predicted_score > 0.1:\n",
        "                        predicted_sentiment = \"positive\"\n",
        "                    elif predicted_score < 0.1:\n",
        "                        predicted_sentiment = \"negative\"\n",
        "                    else:\n",
        "                        predicted_sentiment = \"neutral\"\n",
        "\n",
        "                    # chunk_predictions = []\n",
        "                    # for chunk in chunks:\n",
        "                    #     result = pipe(chunk)  # Send each chunk through the pipeline\n",
        "                    #     chunk_predictions.append(result[0]['label'])\n",
        "\n",
        "                    # # Use the most frequent label\n",
        "                    # predicted_sentiment = max(set(chunk_predictions), key=chunk_predictions.count)\n",
        "                else:\n",
        "\n",
        "                    result = pipe(text)\n",
        "                    predicted_sentiment = result[0]['label']\n",
        "                    # predicted_score = result[0]['score']\n",
        "                    if predicted_sentiment == \"positive\":\n",
        "                        predicted_score = result[0]['score']\n",
        "                    elif predicted_sentiment == \"negative\":\n",
        "                        predicted_score = -result[0]['score']\n",
        "                    else:\n",
        "                        predicted_score = 0\n",
        "            else:\n",
        "                result = pipe(text, truncation=True)\n",
        "                predicted_sentiment = result[0]['label']\n",
        "                # predicted_score = result[0]['score']\n",
        "                if predicted_sentiment == \"positive\":\n",
        "                    predicted_score = result[0]['score']\n",
        "                elif predicted_sentiment == \"negative\":\n",
        "                    predicted_score = -result[0]['score']\n",
        "                else:\n",
        "                    predicted_score = 0\n",
        "\n",
        "            result_data.append({\n",
        "                \"ticker\": row.ticker,\n",
        "                \"sentiment\": predicted_sentiment,\n",
        "                \"sentiment_score\": predicted_score,\n",
        "                \"news_id\": row.id,\n",
        "                \"time\": row.publish_time,\n",
        "                \"title\": row.title,\n",
        "                'article_url': row.article_url\n",
        "            })\n",
        "\n",
        "    result_df = pd.DataFrame(result_data, columns=['ticker', 'sentiment', 'sentiment_score', 'news_id', 'time', \"title\", 'article_url'])\n",
        "\n",
        "    return result_df\n"
      ],
      "metadata": {
        "id": "tyUyFem_8_qJ"
      },
      "id": "tyUyFem_8_qJ",
      "execution_count": null,
      "outputs": []
    },
    {
      "cell_type": "code",
      "source": [
        "os.rename('/content/old_data/AAPL_main (1).csv', '/content/old_data/AAPL_main.csv')\n",
        "os.rename('/content/old_data/AAPL_relation (1).csv', '/content/old_data/AAPL_relation.csv')"
      ],
      "metadata": {
        "id": "2AirZmUSi8Xt"
      },
      "id": "2AirZmUSi8Xt",
      "execution_count": null,
      "outputs": []
    },
    {
      "cell_type": "code",
      "source": [
        "new_directory = \"/content/title_sentiments\""
      ],
      "metadata": {
        "id": "ffC3eNRSiCp-"
      },
      "id": "ffC3eNRSiCp-",
      "execution_count": null,
      "outputs": []
    },
    {
      "cell_type": "code",
      "source": [
        "if not os.path.exists(new_directory):\n",
        "        os.makedirs(new_directory)"
      ],
      "metadata": {
        "id": "LOVVTKaFj4iA"
      },
      "id": "LOVVTKaFj4iA",
      "execution_count": null,
      "outputs": []
    },
    {
      "cell_type": "code",
      "source": [
        "!ls"
      ],
      "metadata": {
        "colab": {
          "base_uri": "https://localhost:8080/"
        },
        "id": "GyZK9tY-CQfv",
        "outputId": "6ffc3d1b-4816-4ad1-9efb-4bf5830dd4f8"
      },
      "id": "GyZK9tY-CQfv",
      "execution_count": null,
      "outputs": [
        {
          "output_type": "stream",
          "name": "stdout",
          "text": [
            "AAPL_main.csv\t   GOOGL_relation.csv  META_main.csv\t  NFLX_relation.csv  ORCL_relation.csv\n",
            "AAPL_relation.csv  IBM_main.csv        META_relation.csv  NVDA_main.csv      title_sentiments\n",
            "AMZN_main.csv\t   IBM_relation.csv    MSFT_main.csv\t  NVDA_relation.csv\n",
            "AMZN_relation.csv  INTC_main.csv       MSFT_relation.csv  old_data\n",
            "GOOGL_main.csv\t   INTC_relation.csv   NFLX_main.csv\t  ORCL_main.csv\n"
          ]
        }
      ]
    },
    {
      "cell_type": "code",
      "source": [
        "\n",
        "for file_name in os.listdir(target_dir):\n",
        "    file_path = os.path.join(target_dir, file_name)\n",
        "    if os.path.isfile(file_path):  # Check if it is a file\n",
        "        if \"main\" in file_name:\n",
        "            # print(file_name)\n",
        "            ticker = file_name.split(\"_\")[0]\n",
        "            print(ticker)\n",
        "            df_news = pd.read_csv(file_path)\n",
        "\n",
        "            result_df = analyze_sentiments_finbert_pipeline(df_news, pipe, truncate_or_split=\"split\")\n",
        "            result_df.to_csv(f\"{new_directory}/{ticker}_title_sentiments.csv\", index=False)\n",
        "\n"
      ],
      "metadata": {
        "colab": {
          "base_uri": "https://localhost:8080/"
        },
        "id": "ilggTyTqf0oU",
        "outputId": "ba6afb29-8807-4d06-db4e-87aee8ff498e"
      },
      "id": "ilggTyTqf0oU",
      "execution_count": null,
      "outputs": [
        {
          "output_type": "stream",
          "name": "stdout",
          "text": [
            "AMZN\n",
            "Processing article 1000/10885\n",
            "Processing article 2000/10885\n",
            "Processing article 3000/10885\n",
            "Processing article 4000/10885\n",
            "Processing article 5000/10885\n",
            "Processing article 6000/10885\n",
            "Processing article 7000/10885\n",
            "Processing article 8000/10885\n",
            "Processing article 9000/10885\n",
            "Processing article 10000/10885\n",
            "MSFT\n",
            "Processing article 1000/8914\n",
            "Processing article 2000/8914\n",
            "Processing article 3000/8914\n",
            "Processing article 4000/8914\n",
            "Processing article 5000/8914\n",
            "Processing article 6000/8914\n",
            "Processing article 7000/8914\n",
            "Processing article 8000/8914\n",
            "IBM\n",
            "Processing article 1000/1991\n",
            "META\n",
            "Processing article 1000/6957\n",
            "Processing article 2000/6957\n",
            "Processing article 3000/6957\n",
            "Processing article 4000/6957\n",
            "Processing article 5000/6957\n",
            "Processing article 6000/6957\n",
            "AAPL\n",
            "Processing article 1000/9881\n",
            "Processing article 2000/9881\n",
            "Processing article 3000/9881\n",
            "Processing article 4000/9881\n",
            "Processing article 5000/9881\n",
            "Processing article 6000/9881\n",
            "Processing article 7000/9881\n",
            "Processing article 8000/9881\n",
            "Processing article 9000/9881\n",
            "INTC\n",
            "Processing article 1000/2989\n",
            "Processing article 2000/2989\n",
            "GOOGL\n",
            "Processing article 1000/7926\n",
            "Processing article 2000/7926\n",
            "Processing article 3000/7926\n",
            "Processing article 4000/7926\n",
            "Processing article 5000/7926\n",
            "Processing article 6000/7926\n",
            "Processing article 7000/7926\n",
            "ORCL\n",
            "Processing article 1000/1996\n",
            "NVDA\n",
            "Processing article 1000/11864\n",
            "Processing article 2000/11864\n",
            "Processing article 3000/11864\n",
            "Processing article 4000/11864\n",
            "Processing article 5000/11864\n",
            "Processing article 6000/11864\n",
            "Processing article 7000/11864\n",
            "Processing article 8000/11864\n",
            "Processing article 9000/11864\n",
            "Processing article 10000/11864\n",
            "Processing article 11000/11864\n",
            "NFLX\n",
            "Processing article 1000/2994\n",
            "Processing article 2000/2994\n"
          ]
        }
      ]
    },
    {
      "cell_type": "code",
      "source": [
        "for file_name in os.listdir(new_directory):\n",
        "    file_path = os.path.join(new_directory, file_name)\n",
        "    if os.path.isfile(file_path):\n",
        "        files.download(file_path)"
      ],
      "metadata": {
        "colab": {
          "base_uri": "https://localhost:8080/",
          "height": 17
        },
        "id": "S0nzq0kxtv9C",
        "outputId": "956c616d-e8b8-4ad3-b2d0-0a294d66818c"
      },
      "id": "S0nzq0kxtv9C",
      "execution_count": null,
      "outputs": [
        {
          "output_type": "display_data",
          "data": {
            "text/plain": [
              "<IPython.core.display.Javascript object>"
            ],
            "application/javascript": [
              "\n",
              "    async function download(id, filename, size) {\n",
              "      if (!google.colab.kernel.accessAllowed) {\n",
              "        return;\n",
              "      }\n",
              "      const div = document.createElement('div');\n",
              "      const label = document.createElement('label');\n",
              "      label.textContent = `Downloading \"${filename}\": `;\n",
              "      div.appendChild(label);\n",
              "      const progress = document.createElement('progress');\n",
              "      progress.max = size;\n",
              "      div.appendChild(progress);\n",
              "      document.body.appendChild(div);\n",
              "\n",
              "      const buffers = [];\n",
              "      let downloaded = 0;\n",
              "\n",
              "      const channel = await google.colab.kernel.comms.open(id);\n",
              "      // Send a message to notify the kernel that we're ready.\n",
              "      channel.send({})\n",
              "\n",
              "      for await (const message of channel.messages) {\n",
              "        // Send a message to notify the kernel that we're ready.\n",
              "        channel.send({})\n",
              "        if (message.buffers) {\n",
              "          for (const buffer of message.buffers) {\n",
              "            buffers.push(buffer);\n",
              "            downloaded += buffer.byteLength;\n",
              "            progress.value = downloaded;\n",
              "          }\n",
              "        }\n",
              "      }\n",
              "      const blob = new Blob(buffers, {type: 'application/binary'});\n",
              "      const a = document.createElement('a');\n",
              "      a.href = window.URL.createObjectURL(blob);\n",
              "      a.download = filename;\n",
              "      div.appendChild(a);\n",
              "      a.click();\n",
              "      div.remove();\n",
              "    }\n",
              "  "
            ]
          },
          "metadata": {}
        },
        {
          "output_type": "display_data",
          "data": {
            "text/plain": [
              "<IPython.core.display.Javascript object>"
            ],
            "application/javascript": [
              "download(\"download_feafea7f-0e72-4adb-b05b-9a7f392c4644\", \"ORCL_title_sentiments.csv\", 538458)"
            ]
          },
          "metadata": {}
        },
        {
          "output_type": "display_data",
          "data": {
            "text/plain": [
              "<IPython.core.display.Javascript object>"
            ],
            "application/javascript": [
              "\n",
              "    async function download(id, filename, size) {\n",
              "      if (!google.colab.kernel.accessAllowed) {\n",
              "        return;\n",
              "      }\n",
              "      const div = document.createElement('div');\n",
              "      const label = document.createElement('label');\n",
              "      label.textContent = `Downloading \"${filename}\": `;\n",
              "      div.appendChild(label);\n",
              "      const progress = document.createElement('progress');\n",
              "      progress.max = size;\n",
              "      div.appendChild(progress);\n",
              "      document.body.appendChild(div);\n",
              "\n",
              "      const buffers = [];\n",
              "      let downloaded = 0;\n",
              "\n",
              "      const channel = await google.colab.kernel.comms.open(id);\n",
              "      // Send a message to notify the kernel that we're ready.\n",
              "      channel.send({})\n",
              "\n",
              "      for await (const message of channel.messages) {\n",
              "        // Send a message to notify the kernel that we're ready.\n",
              "        channel.send({})\n",
              "        if (message.buffers) {\n",
              "          for (const buffer of message.buffers) {\n",
              "            buffers.push(buffer);\n",
              "            downloaded += buffer.byteLength;\n",
              "            progress.value = downloaded;\n",
              "          }\n",
              "        }\n",
              "      }\n",
              "      const blob = new Blob(buffers, {type: 'application/binary'});\n",
              "      const a = document.createElement('a');\n",
              "      a.href = window.URL.createObjectURL(blob);\n",
              "      a.download = filename;\n",
              "      div.appendChild(a);\n",
              "      a.click();\n",
              "      div.remove();\n",
              "    }\n",
              "  "
            ]
          },
          "metadata": {}
        },
        {
          "output_type": "display_data",
          "data": {
            "text/plain": [
              "<IPython.core.display.Javascript object>"
            ],
            "application/javascript": [
              "download(\"download_b538710f-6501-4fb7-91c5-2c848fba20e6\", \"MSFT_title_sentiments.csv\", 2407880)"
            ]
          },
          "metadata": {}
        },
        {
          "output_type": "display_data",
          "data": {
            "text/plain": [
              "<IPython.core.display.Javascript object>"
            ],
            "application/javascript": [
              "\n",
              "    async function download(id, filename, size) {\n",
              "      if (!google.colab.kernel.accessAllowed) {\n",
              "        return;\n",
              "      }\n",
              "      const div = document.createElement('div');\n",
              "      const label = document.createElement('label');\n",
              "      label.textContent = `Downloading \"${filename}\": `;\n",
              "      div.appendChild(label);\n",
              "      const progress = document.createElement('progress');\n",
              "      progress.max = size;\n",
              "      div.appendChild(progress);\n",
              "      document.body.appendChild(div);\n",
              "\n",
              "      const buffers = [];\n",
              "      let downloaded = 0;\n",
              "\n",
              "      const channel = await google.colab.kernel.comms.open(id);\n",
              "      // Send a message to notify the kernel that we're ready.\n",
              "      channel.send({})\n",
              "\n",
              "      for await (const message of channel.messages) {\n",
              "        // Send a message to notify the kernel that we're ready.\n",
              "        channel.send({})\n",
              "        if (message.buffers) {\n",
              "          for (const buffer of message.buffers) {\n",
              "            buffers.push(buffer);\n",
              "            downloaded += buffer.byteLength;\n",
              "            progress.value = downloaded;\n",
              "          }\n",
              "        }\n",
              "      }\n",
              "      const blob = new Blob(buffers, {type: 'application/binary'});\n",
              "      const a = document.createElement('a');\n",
              "      a.href = window.URL.createObjectURL(blob);\n",
              "      a.download = filename;\n",
              "      div.appendChild(a);\n",
              "      a.click();\n",
              "      div.remove();\n",
              "    }\n",
              "  "
            ]
          },
          "metadata": {}
        },
        {
          "output_type": "display_data",
          "data": {
            "text/plain": [
              "<IPython.core.display.Javascript object>"
            ],
            "application/javascript": [
              "download(\"download_907b134c-c3ce-48c9-b8ae-cf4b856ce503\", \"META_title_sentiments.csv\", 1895134)"
            ]
          },
          "metadata": {}
        },
        {
          "output_type": "display_data",
          "data": {
            "text/plain": [
              "<IPython.core.display.Javascript object>"
            ],
            "application/javascript": [
              "\n",
              "    async function download(id, filename, size) {\n",
              "      if (!google.colab.kernel.accessAllowed) {\n",
              "        return;\n",
              "      }\n",
              "      const div = document.createElement('div');\n",
              "      const label = document.createElement('label');\n",
              "      label.textContent = `Downloading \"${filename}\": `;\n",
              "      div.appendChild(label);\n",
              "      const progress = document.createElement('progress');\n",
              "      progress.max = size;\n",
              "      div.appendChild(progress);\n",
              "      document.body.appendChild(div);\n",
              "\n",
              "      const buffers = [];\n",
              "      let downloaded = 0;\n",
              "\n",
              "      const channel = await google.colab.kernel.comms.open(id);\n",
              "      // Send a message to notify the kernel that we're ready.\n",
              "      channel.send({})\n",
              "\n",
              "      for await (const message of channel.messages) {\n",
              "        // Send a message to notify the kernel that we're ready.\n",
              "        channel.send({})\n",
              "        if (message.buffers) {\n",
              "          for (const buffer of message.buffers) {\n",
              "            buffers.push(buffer);\n",
              "            downloaded += buffer.byteLength;\n",
              "            progress.value = downloaded;\n",
              "          }\n",
              "        }\n",
              "      }\n",
              "      const blob = new Blob(buffers, {type: 'application/binary'});\n",
              "      const a = document.createElement('a');\n",
              "      a.href = window.URL.createObjectURL(blob);\n",
              "      a.download = filename;\n",
              "      div.appendChild(a);\n",
              "      a.click();\n",
              "      div.remove();\n",
              "    }\n",
              "  "
            ]
          },
          "metadata": {}
        },
        {
          "output_type": "display_data",
          "data": {
            "text/plain": [
              "<IPython.core.display.Javascript object>"
            ],
            "application/javascript": [
              "download(\"download_9f0e25e9-8e9d-487e-87df-04c433efc364\", \"GOOGL_title_sentiments.csv\", 2130026)"
            ]
          },
          "metadata": {}
        },
        {
          "output_type": "display_data",
          "data": {
            "text/plain": [
              "<IPython.core.display.Javascript object>"
            ],
            "application/javascript": [
              "\n",
              "    async function download(id, filename, size) {\n",
              "      if (!google.colab.kernel.accessAllowed) {\n",
              "        return;\n",
              "      }\n",
              "      const div = document.createElement('div');\n",
              "      const label = document.createElement('label');\n",
              "      label.textContent = `Downloading \"${filename}\": `;\n",
              "      div.appendChild(label);\n",
              "      const progress = document.createElement('progress');\n",
              "      progress.max = size;\n",
              "      div.appendChild(progress);\n",
              "      document.body.appendChild(div);\n",
              "\n",
              "      const buffers = [];\n",
              "      let downloaded = 0;\n",
              "\n",
              "      const channel = await google.colab.kernel.comms.open(id);\n",
              "      // Send a message to notify the kernel that we're ready.\n",
              "      channel.send({})\n",
              "\n",
              "      for await (const message of channel.messages) {\n",
              "        // Send a message to notify the kernel that we're ready.\n",
              "        channel.send({})\n",
              "        if (message.buffers) {\n",
              "          for (const buffer of message.buffers) {\n",
              "            buffers.push(buffer);\n",
              "            downloaded += buffer.byteLength;\n",
              "            progress.value = downloaded;\n",
              "          }\n",
              "        }\n",
              "      }\n",
              "      const blob = new Blob(buffers, {type: 'application/binary'});\n",
              "      const a = document.createElement('a');\n",
              "      a.href = window.URL.createObjectURL(blob);\n",
              "      a.download = filename;\n",
              "      div.appendChild(a);\n",
              "      a.click();\n",
              "      div.remove();\n",
              "    }\n",
              "  "
            ]
          },
          "metadata": {}
        },
        {
          "output_type": "display_data",
          "data": {
            "text/plain": [
              "<IPython.core.display.Javascript object>"
            ],
            "application/javascript": [
              "download(\"download_1a7e9c82-e802-48d1-8a3f-ccd814ae46c3\", \"AMZN_title_sentiments.csv\", 2899917)"
            ]
          },
          "metadata": {}
        },
        {
          "output_type": "display_data",
          "data": {
            "text/plain": [
              "<IPython.core.display.Javascript object>"
            ],
            "application/javascript": [
              "\n",
              "    async function download(id, filename, size) {\n",
              "      if (!google.colab.kernel.accessAllowed) {\n",
              "        return;\n",
              "      }\n",
              "      const div = document.createElement('div');\n",
              "      const label = document.createElement('label');\n",
              "      label.textContent = `Downloading \"${filename}\": `;\n",
              "      div.appendChild(label);\n",
              "      const progress = document.createElement('progress');\n",
              "      progress.max = size;\n",
              "      div.appendChild(progress);\n",
              "      document.body.appendChild(div);\n",
              "\n",
              "      const buffers = [];\n",
              "      let downloaded = 0;\n",
              "\n",
              "      const channel = await google.colab.kernel.comms.open(id);\n",
              "      // Send a message to notify the kernel that we're ready.\n",
              "      channel.send({})\n",
              "\n",
              "      for await (const message of channel.messages) {\n",
              "        // Send a message to notify the kernel that we're ready.\n",
              "        channel.send({})\n",
              "        if (message.buffers) {\n",
              "          for (const buffer of message.buffers) {\n",
              "            buffers.push(buffer);\n",
              "            downloaded += buffer.byteLength;\n",
              "            progress.value = downloaded;\n",
              "          }\n",
              "        }\n",
              "      }\n",
              "      const blob = new Blob(buffers, {type: 'application/binary'});\n",
              "      const a = document.createElement('a');\n",
              "      a.href = window.URL.createObjectURL(blob);\n",
              "      a.download = filename;\n",
              "      div.appendChild(a);\n",
              "      a.click();\n",
              "      div.remove();\n",
              "    }\n",
              "  "
            ]
          },
          "metadata": {}
        },
        {
          "output_type": "display_data",
          "data": {
            "text/plain": [
              "<IPython.core.display.Javascript object>"
            ],
            "application/javascript": [
              "download(\"download_229f03dc-2582-4a32-ae0d-ad80e729d244\", \"NFLX_title_sentiments.csv\", 789935)"
            ]
          },
          "metadata": {}
        },
        {
          "output_type": "display_data",
          "data": {
            "text/plain": [
              "<IPython.core.display.Javascript object>"
            ],
            "application/javascript": [
              "\n",
              "    async function download(id, filename, size) {\n",
              "      if (!google.colab.kernel.accessAllowed) {\n",
              "        return;\n",
              "      }\n",
              "      const div = document.createElement('div');\n",
              "      const label = document.createElement('label');\n",
              "      label.textContent = `Downloading \"${filename}\": `;\n",
              "      div.appendChild(label);\n",
              "      const progress = document.createElement('progress');\n",
              "      progress.max = size;\n",
              "      div.appendChild(progress);\n",
              "      document.body.appendChild(div);\n",
              "\n",
              "      const buffers = [];\n",
              "      let downloaded = 0;\n",
              "\n",
              "      const channel = await google.colab.kernel.comms.open(id);\n",
              "      // Send a message to notify the kernel that we're ready.\n",
              "      channel.send({})\n",
              "\n",
              "      for await (const message of channel.messages) {\n",
              "        // Send a message to notify the kernel that we're ready.\n",
              "        channel.send({})\n",
              "        if (message.buffers) {\n",
              "          for (const buffer of message.buffers) {\n",
              "            buffers.push(buffer);\n",
              "            downloaded += buffer.byteLength;\n",
              "            progress.value = downloaded;\n",
              "          }\n",
              "        }\n",
              "      }\n",
              "      const blob = new Blob(buffers, {type: 'application/binary'});\n",
              "      const a = document.createElement('a');\n",
              "      a.href = window.URL.createObjectURL(blob);\n",
              "      a.download = filename;\n",
              "      div.appendChild(a);\n",
              "      a.click();\n",
              "      div.remove();\n",
              "    }\n",
              "  "
            ]
          },
          "metadata": {}
        },
        {
          "output_type": "display_data",
          "data": {
            "text/plain": [
              "<IPython.core.display.Javascript object>"
            ],
            "application/javascript": [
              "download(\"download_5d83ef53-60d3-409e-b0e6-2ec60de44fee\", \"INTC_title_sentiments.csv\", 793541)"
            ]
          },
          "metadata": {}
        },
        {
          "output_type": "display_data",
          "data": {
            "text/plain": [
              "<IPython.core.display.Javascript object>"
            ],
            "application/javascript": [
              "\n",
              "    async function download(id, filename, size) {\n",
              "      if (!google.colab.kernel.accessAllowed) {\n",
              "        return;\n",
              "      }\n",
              "      const div = document.createElement('div');\n",
              "      const label = document.createElement('label');\n",
              "      label.textContent = `Downloading \"${filename}\": `;\n",
              "      div.appendChild(label);\n",
              "      const progress = document.createElement('progress');\n",
              "      progress.max = size;\n",
              "      div.appendChild(progress);\n",
              "      document.body.appendChild(div);\n",
              "\n",
              "      const buffers = [];\n",
              "      let downloaded = 0;\n",
              "\n",
              "      const channel = await google.colab.kernel.comms.open(id);\n",
              "      // Send a message to notify the kernel that we're ready.\n",
              "      channel.send({})\n",
              "\n",
              "      for await (const message of channel.messages) {\n",
              "        // Send a message to notify the kernel that we're ready.\n",
              "        channel.send({})\n",
              "        if (message.buffers) {\n",
              "          for (const buffer of message.buffers) {\n",
              "            buffers.push(buffer);\n",
              "            downloaded += buffer.byteLength;\n",
              "            progress.value = downloaded;\n",
              "          }\n",
              "        }\n",
              "      }\n",
              "      const blob = new Blob(buffers, {type: 'application/binary'});\n",
              "      const a = document.createElement('a');\n",
              "      a.href = window.URL.createObjectURL(blob);\n",
              "      a.download = filename;\n",
              "      div.appendChild(a);\n",
              "      a.click();\n",
              "      div.remove();\n",
              "    }\n",
              "  "
            ]
          },
          "metadata": {}
        },
        {
          "output_type": "display_data",
          "data": {
            "text/plain": [
              "<IPython.core.display.Javascript object>"
            ],
            "application/javascript": [
              "download(\"download_d1d5d7ab-08d3-4b50-aeb6-8c60c351c2b9\", \"IBM_title_sentiments.csv\", 534057)"
            ]
          },
          "metadata": {}
        },
        {
          "output_type": "display_data",
          "data": {
            "text/plain": [
              "<IPython.core.display.Javascript object>"
            ],
            "application/javascript": [
              "\n",
              "    async function download(id, filename, size) {\n",
              "      if (!google.colab.kernel.accessAllowed) {\n",
              "        return;\n",
              "      }\n",
              "      const div = document.createElement('div');\n",
              "      const label = document.createElement('label');\n",
              "      label.textContent = `Downloading \"${filename}\": `;\n",
              "      div.appendChild(label);\n",
              "      const progress = document.createElement('progress');\n",
              "      progress.max = size;\n",
              "      div.appendChild(progress);\n",
              "      document.body.appendChild(div);\n",
              "\n",
              "      const buffers = [];\n",
              "      let downloaded = 0;\n",
              "\n",
              "      const channel = await google.colab.kernel.comms.open(id);\n",
              "      // Send a message to notify the kernel that we're ready.\n",
              "      channel.send({})\n",
              "\n",
              "      for await (const message of channel.messages) {\n",
              "        // Send a message to notify the kernel that we're ready.\n",
              "        channel.send({})\n",
              "        if (message.buffers) {\n",
              "          for (const buffer of message.buffers) {\n",
              "            buffers.push(buffer);\n",
              "            downloaded += buffer.byteLength;\n",
              "            progress.value = downloaded;\n",
              "          }\n",
              "        }\n",
              "      }\n",
              "      const blob = new Blob(buffers, {type: 'application/binary'});\n",
              "      const a = document.createElement('a');\n",
              "      a.href = window.URL.createObjectURL(blob);\n",
              "      a.download = filename;\n",
              "      div.appendChild(a);\n",
              "      a.click();\n",
              "      div.remove();\n",
              "    }\n",
              "  "
            ]
          },
          "metadata": {}
        },
        {
          "output_type": "display_data",
          "data": {
            "text/plain": [
              "<IPython.core.display.Javascript object>"
            ],
            "application/javascript": [
              "download(\"download_b18e4023-63b1-43e6-9cbf-a76daaf7cd6e\", \"AAPL_title_sentiments.csv\", 2683814)"
            ]
          },
          "metadata": {}
        },
        {
          "output_type": "display_data",
          "data": {
            "text/plain": [
              "<IPython.core.display.Javascript object>"
            ],
            "application/javascript": [
              "\n",
              "    async function download(id, filename, size) {\n",
              "      if (!google.colab.kernel.accessAllowed) {\n",
              "        return;\n",
              "      }\n",
              "      const div = document.createElement('div');\n",
              "      const label = document.createElement('label');\n",
              "      label.textContent = `Downloading \"${filename}\": `;\n",
              "      div.appendChild(label);\n",
              "      const progress = document.createElement('progress');\n",
              "      progress.max = size;\n",
              "      div.appendChild(progress);\n",
              "      document.body.appendChild(div);\n",
              "\n",
              "      const buffers = [];\n",
              "      let downloaded = 0;\n",
              "\n",
              "      const channel = await google.colab.kernel.comms.open(id);\n",
              "      // Send a message to notify the kernel that we're ready.\n",
              "      channel.send({})\n",
              "\n",
              "      for await (const message of channel.messages) {\n",
              "        // Send a message to notify the kernel that we're ready.\n",
              "        channel.send({})\n",
              "        if (message.buffers) {\n",
              "          for (const buffer of message.buffers) {\n",
              "            buffers.push(buffer);\n",
              "            downloaded += buffer.byteLength;\n",
              "            progress.value = downloaded;\n",
              "          }\n",
              "        }\n",
              "      }\n",
              "      const blob = new Blob(buffers, {type: 'application/binary'});\n",
              "      const a = document.createElement('a');\n",
              "      a.href = window.URL.createObjectURL(blob);\n",
              "      a.download = filename;\n",
              "      div.appendChild(a);\n",
              "      a.click();\n",
              "      div.remove();\n",
              "    }\n",
              "  "
            ]
          },
          "metadata": {}
        },
        {
          "output_type": "display_data",
          "data": {
            "text/plain": [
              "<IPython.core.display.Javascript object>"
            ],
            "application/javascript": [
              "download(\"download_a460c5ef-09d2-43c7-9cf5-3c04b7c80662\", \"NVDA_title_sentiments.csv\", 3208357)"
            ]
          },
          "metadata": {}
        }
      ]
    },
    {
      "cell_type": "code",
      "source": [
        "!ls /content/title_sentiments"
      ],
      "metadata": {
        "colab": {
          "base_uri": "https://localhost:8080/"
        },
        "id": "MgvU-eyeqiBN",
        "outputId": "7a81acf3-3d90-440c-ee3c-4097f279522d"
      },
      "id": "MgvU-eyeqiBN",
      "execution_count": null,
      "outputs": [
        {
          "output_type": "stream",
          "name": "stdout",
          "text": [
            "AAPL_title_sentiments.csv   INTC_title_sentiments.csv  NVDA_title_sentiments.csv\n",
            "AMZN_title_sentiments.csv   META_title_sentiments.csv  ORCL_title_sentiments.csv\n",
            "GOOGL_title_sentiments.csv  MSFT_title_sentiments.csv\n",
            "IBM_title_sentiments.csv    NFLX_title_sentiments.csv\n"
          ]
        }
      ]
    },
    {
      "cell_type": "code",
      "source": [
        "start_time = \"2023-07-01\"\n",
        "end_time = \"2023-08-01\""
      ],
      "metadata": {
        "id": "58Cep9d8D0ZU"
      },
      "id": "58Cep9d8D0ZU",
      "execution_count": null,
      "outputs": []
    },
    {
      "cell_type": "code",
      "source": [
        "df_news = pd.read_csv('/content/old_data/AAPL_main.csv')\n",
        "time_filtered_df = df_news[(df_news['publish_time'] >= start_time) & (df_news['publish_time'] <= end_time)]"
      ],
      "metadata": {
        "id": "be_xGpktDhVj"
      },
      "id": "be_xGpktDhVj",
      "execution_count": null,
      "outputs": []
    },
    {
      "cell_type": "code",
      "source": [
        "print(time_filtered_df)"
      ],
      "metadata": {
        "colab": {
          "base_uri": "https://localhost:8080/"
        },
        "id": "SLen8BOtDzq7",
        "outputId": "d2e85486-fda8-4887-cf5a-cb28e0fcf143"
      },
      "id": "SLen8BOtDzq7",
      "execution_count": null,
      "outputs": [
        {
          "output_type": "stream",
          "name": "stdout",
          "text": [
            "                                               id         publish_time  \\\n",
            "5266  fDsmdg7YPIjgOHIrX87Ywwjcn1MVHbmUxkkCNKfC2uU  2023-07-31 22:10:00   \n",
            "5267  -1wCRYWVX8nwx7jdWzqGpsYm1HJ_sW8BVXe8ToFWuDM  2023-07-31 21:12:00   \n",
            "5268  70MKVLhoxKbcYZT3gJImUVdlPzssXRfujYBGxI18yQQ  2023-07-31 20:57:00   \n",
            "5269  evlHmM8758OCYWqaDEGUJBScOoBiS46KqYcLtgnzgvs  2023-07-31 20:31:00   \n",
            "5270  88S57GotBWs7gAtLSxarV4laYWbgkrbb00-axBBUJwQ  2023-07-31 19:22:40   \n",
            "...                                           ...                  ...   \n",
            "5674  ptM15lww-Lp7SBt3e2MB28_Zc3fIB7LqoCoS5JODxbs  2023-07-01 10:45:00   \n",
            "5675  _OHmUn9VPu1STFeWtEVzxLnaAuHIcPrtf3cbEK4EM5c  2023-07-01 10:45:00   \n",
            "5676  3RwOP0zjyWvY9fOVYfa5aOUAwWtzKyyamipSDl9DeRE  2023-07-01 05:07:46   \n",
            "5677  KABug156Fwg9Ln7yL-mbvI7vDeFrv0IF2HwFBxBzrOk  2023-07-01 04:29:12   \n",
            "5678  bpPo13eIbhVWJtemgoV76U8yMjjULURLhI9V9q5-b70  2023-07-01 04:25:00   \n",
            "\n",
            "                                                  title  \\\n",
            "5266  San Francisco's push to turn office buildings ...   \n",
            "5267  The 'narrow breadth' chorus has fallen silent....   \n",
            "5268  Piper Sandler raises S&P 500 target for 2023 a...   \n",
            "5269  Stocks end slightly higher as S&P 500, Nasdaq ...   \n",
            "5270  Apple's iPhone Share in China Shows Positive M...   \n",
            "...                                                 ...   \n",
            "5674   Unveiling the Dark Side of Apple's Walled Garden   \n",
            "5675  Is Apple the Best Warren Buffett Stock to Buy ...   \n",
            "5676  Make No Mistake, Apple's AI Opportunities Are ...   \n",
            "5677  Apple Continues To Defy Logic With Slowing Gro...   \n",
            "5678  Inflation Steady, Recession Risk Continues To ...   \n",
            "\n",
            "                                            article_url ticker  \\\n",
            "5266  https://www.marketwatch.com/story/san-francisc...   AAPL   \n",
            "5267  https://www.marketwatch.com/story/the-narrow-b...   AAPL   \n",
            "5268  https://www.marketwatch.com/story/piper-sandle...   AAPL   \n",
            "5269  https://www.marketwatch.com/story/stock-future...   AAPL   \n",
            "5270  https://www.benzinga.com/news/23/07/33473729/a...   AAPL   \n",
            "...                                                 ...    ...   \n",
            "5674  https://www.fool.com/investing/2023/07/01/unve...   AAPL   \n",
            "5675  https://www.fool.com/investing/2023/07/01/is-a...   AAPL   \n",
            "5676  https://seekingalpha.com/article/4614729-make-...   AAPL   \n",
            "5677  https://seekingalpha.com/article/4614725-apple...   AAPL   \n",
            "5678  https://seekingalpha.com/article/4614731-infla...   AAPL   \n",
            "\n",
            "            publisher                                        description  \\\n",
            "5266      MarketWatch  Converting San Francisco's unloved office buil...   \n",
            "5267      MarketWatch  The stock-market rally is no longer just about...   \n",
            "5268      MarketWatch  Piper Sandler analysts boost their year-end pr...   \n",
            "5269      MarketWatch  U.S. stocks eke out small gains Monday, bookin...   \n",
            "5270         Benzinga  Piper Sandler analyst Harsh Kumar maintained A...   \n",
            "...               ...                                                ...   \n",
            "5674  The Motley Fool  Disruption of Apple will come from developers ...   \n",
            "5675  The Motley Fool  Apple stock is very expensive, yet the Oracle ...   \n",
            "5676    Seeking Alpha  Apple’s advancing AI capabilities promise to r...   \n",
            "5677    Seeking Alpha  Apple's stock has been one of the most popular...   \n",
            "5678    Seeking Alpha  The consensus opinion is inflation will fall t...   \n",
            "\n",
            "                                               keywords  \n",
            "5266                                                NaN  \n",
            "5267                                                NaN  \n",
            "5268                                                NaN  \n",
            "5269                                                NaN  \n",
            "5270  News,Price Target,Reiteration,Analyst Ratings,...  \n",
            "...                                                 ...  \n",
            "5674                                          investing  \n",
            "5675                                          investing  \n",
            "5676                                                NaN  \n",
            "5677                                                NaN  \n",
            "5678                                                NaN  \n",
            "\n",
            "[413 rows x 8 columns]\n"
          ]
        }
      ]
    },
    {
      "cell_type": "code",
      "source": [
        "result_df = analyze_sentiments_finbert_pipeline(time_filtered_df, pipe, truncate_or_split=\"split\")"
      ],
      "metadata": {
        "colab": {
          "base_uri": "https://localhost:8080/"
        },
        "id": "T-zSgpFBDzve",
        "outputId": "b38d3d99-a0e3-425f-da86-2e18b1449e56"
      },
      "id": "T-zSgpFBDzve",
      "execution_count": null,
      "outputs": [
        {
          "output_type": "stream",
          "name": "stdout",
          "text": [
            "Processing article 100/413\n",
            "Processing article 200/413\n",
            "Processing article 300/413\n",
            "Processing article 400/413\n"
          ]
        }
      ]
    },
    {
      "cell_type": "code",
      "source": [
        "print(result_df)"
      ],
      "metadata": {
        "colab": {
          "base_uri": "https://localhost:8080/"
        },
        "id": "P4NNHMVGex8p",
        "outputId": "253913fa-7a22-46e1-ff46-c70a83161e7f"
      },
      "id": "P4NNHMVGex8p",
      "execution_count": null,
      "outputs": [
        {
          "output_type": "stream",
          "name": "stdout",
          "text": [
            "    ticker sentiment  sentiment_score  \\\n",
            "0     AAPL   neutral         0.776678   \n",
            "1     AAPL   neutral         0.899154   \n",
            "2     AAPL  positive         0.944890   \n",
            "3     AAPL  positive         0.844155   \n",
            "4     AAPL  positive         0.508103   \n",
            "..     ...       ...              ...   \n",
            "408   AAPL   neutral         0.900608   \n",
            "409   AAPL   neutral         0.875981   \n",
            "410   AAPL   neutral         0.552383   \n",
            "411   AAPL   neutral         0.869364   \n",
            "412   AAPL  negative         0.910636   \n",
            "\n",
            "                                         news_id                 time  \\\n",
            "0    fDsmdg7YPIjgOHIrX87Ywwjcn1MVHbmUxkkCNKfC2uU  2023-07-31 22:10:00   \n",
            "1    -1wCRYWVX8nwx7jdWzqGpsYm1HJ_sW8BVXe8ToFWuDM  2023-07-31 21:12:00   \n",
            "2    70MKVLhoxKbcYZT3gJImUVdlPzssXRfujYBGxI18yQQ  2023-07-31 20:57:00   \n",
            "3    evlHmM8758OCYWqaDEGUJBScOoBiS46KqYcLtgnzgvs  2023-07-31 20:31:00   \n",
            "4    88S57GotBWs7gAtLSxarV4laYWbgkrbb00-axBBUJwQ  2023-07-31 19:22:40   \n",
            "..                                           ...                  ...   \n",
            "408  ptM15lww-Lp7SBt3e2MB28_Zc3fIB7LqoCoS5JODxbs  2023-07-01 10:45:00   \n",
            "409  _OHmUn9VPu1STFeWtEVzxLnaAuHIcPrtf3cbEK4EM5c  2023-07-01 10:45:00   \n",
            "410  3RwOP0zjyWvY9fOVYfa5aOUAwWtzKyyamipSDl9DeRE  2023-07-01 05:07:46   \n",
            "411  KABug156Fwg9Ln7yL-mbvI7vDeFrv0IF2HwFBxBzrOk  2023-07-01 04:29:12   \n",
            "412  bpPo13eIbhVWJtemgoV76U8yMjjULURLhI9V9q5-b70  2023-07-01 04:25:00   \n",
            "\n",
            "                                                 title  \\\n",
            "0    San Francisco's push to turn office buildings ...   \n",
            "1    The 'narrow breadth' chorus has fallen silent....   \n",
            "2    Piper Sandler raises S&P 500 target for 2023 a...   \n",
            "3    Stocks end slightly higher as S&P 500, Nasdaq ...   \n",
            "4    Apple's iPhone Share in China Shows Positive M...   \n",
            "..                                                 ...   \n",
            "408   Unveiling the Dark Side of Apple's Walled Garden   \n",
            "409  Is Apple the Best Warren Buffett Stock to Buy ...   \n",
            "410  Make No Mistake, Apple's AI Opportunities Are ...   \n",
            "411  Apple Continues To Defy Logic With Slowing Gro...   \n",
            "412  Inflation Steady, Recession Risk Continues To ...   \n",
            "\n",
            "                                           article_url  \n",
            "0    https://www.marketwatch.com/story/san-francisc...  \n",
            "1    https://www.marketwatch.com/story/the-narrow-b...  \n",
            "2    https://www.marketwatch.com/story/piper-sandle...  \n",
            "3    https://www.marketwatch.com/story/stock-future...  \n",
            "4    https://www.benzinga.com/news/23/07/33473729/a...  \n",
            "..                                                 ...  \n",
            "408  https://www.fool.com/investing/2023/07/01/unve...  \n",
            "409  https://www.fool.com/investing/2023/07/01/is-a...  \n",
            "410  https://seekingalpha.com/article/4614729-make-...  \n",
            "411  https://seekingalpha.com/article/4614725-apple...  \n",
            "412  https://seekingalpha.com/article/4614731-infla...  \n",
            "\n",
            "[413 rows x 7 columns]\n"
          ]
        }
      ]
    },
    {
      "cell_type": "code",
      "source": [
        "print(result_df)"
      ],
      "metadata": {
        "colab": {
          "base_uri": "https://localhost:8080/"
        },
        "id": "7txNJ9poE1AS",
        "outputId": "bed602b9-1450-4160-dca0-9ff19ef88efb"
      },
      "id": "7txNJ9poE1AS",
      "execution_count": null,
      "outputs": [
        {
          "output_type": "stream",
          "name": "stdout",
          "text": [
            "    ticker sentiment                                      news_id  \\\n",
            "0     AAPL   neutral  fDsmdg7YPIjgOHIrX87Ywwjcn1MVHbmUxkkCNKfC2uU   \n",
            "1     AAPL   neutral  -1wCRYWVX8nwx7jdWzqGpsYm1HJ_sW8BVXe8ToFWuDM   \n",
            "2     AAPL  positive  70MKVLhoxKbcYZT3gJImUVdlPzssXRfujYBGxI18yQQ   \n",
            "3     AAPL  positive  evlHmM8758OCYWqaDEGUJBScOoBiS46KqYcLtgnzgvs   \n",
            "4     AAPL  positive  88S57GotBWs7gAtLSxarV4laYWbgkrbb00-axBBUJwQ   \n",
            "..     ...       ...                                          ...   \n",
            "408   AAPL   neutral  ptM15lww-Lp7SBt3e2MB28_Zc3fIB7LqoCoS5JODxbs   \n",
            "409   AAPL   neutral  _OHmUn9VPu1STFeWtEVzxLnaAuHIcPrtf3cbEK4EM5c   \n",
            "410   AAPL   neutral  3RwOP0zjyWvY9fOVYfa5aOUAwWtzKyyamipSDl9DeRE   \n",
            "411   AAPL   neutral  KABug156Fwg9Ln7yL-mbvI7vDeFrv0IF2HwFBxBzrOk   \n",
            "412   AAPL  negative  bpPo13eIbhVWJtemgoV76U8yMjjULURLhI9V9q5-b70   \n",
            "\n",
            "                    time                                              title  \\\n",
            "0    2023-07-31 22:10:00  San Francisco's push to turn office buildings ...   \n",
            "1    2023-07-31 21:12:00  The 'narrow breadth' chorus has fallen silent....   \n",
            "2    2023-07-31 20:57:00  Piper Sandler raises S&P 500 target for 2023 a...   \n",
            "3    2023-07-31 20:31:00  Stocks end slightly higher as S&P 500, Nasdaq ...   \n",
            "4    2023-07-31 19:22:40  Apple's iPhone Share in China Shows Positive M...   \n",
            "..                   ...                                                ...   \n",
            "408  2023-07-01 10:45:00   Unveiling the Dark Side of Apple's Walled Garden   \n",
            "409  2023-07-01 10:45:00  Is Apple the Best Warren Buffett Stock to Buy ...   \n",
            "410  2023-07-01 05:07:46  Make No Mistake, Apple's AI Opportunities Are ...   \n",
            "411  2023-07-01 04:29:12  Apple Continues To Defy Logic With Slowing Gro...   \n",
            "412  2023-07-01 04:25:00  Inflation Steady, Recession Risk Continues To ...   \n",
            "\n",
            "                                           article_url  \n",
            "0    https://www.marketwatch.com/story/san-francisc...  \n",
            "1    https://www.marketwatch.com/story/the-narrow-b...  \n",
            "2    https://www.marketwatch.com/story/piper-sandle...  \n",
            "3    https://www.marketwatch.com/story/stock-future...  \n",
            "4    https://www.benzinga.com/news/23/07/33473729/a...  \n",
            "..                                                 ...  \n",
            "408  https://www.fool.com/investing/2023/07/01/unve...  \n",
            "409  https://www.fool.com/investing/2023/07/01/is-a...  \n",
            "410  https://seekingalpha.com/article/4614729-make-...  \n",
            "411  https://seekingalpha.com/article/4614725-apple...  \n",
            "412  https://seekingalpha.com/article/4614731-infla...  \n",
            "\n",
            "[413 rows x 6 columns]\n"
          ]
        }
      ]
    },
    {
      "cell_type": "code",
      "source": [
        "result_df = analyze_sentiments_finbert_pipeline(df_news, pipe, truncate_or_split=\"split\")"
      ],
      "metadata": {
        "colab": {
          "base_uri": "https://localhost:8080/"
        },
        "id": "77Izd1SyFuSR",
        "outputId": "8d3de66e-db94-48a7-e339-bc427f746c06"
      },
      "id": "77Izd1SyFuSR",
      "execution_count": null,
      "outputs": [
        {
          "output_type": "stream",
          "name": "stdout",
          "text": [
            "Processing article 100/9881\n",
            "Processing article 200/9881\n",
            "Processing article 300/9881\n",
            "Processing article 400/9881\n",
            "Processing article 500/9881\n",
            "Processing article 600/9881\n",
            "Processing article 700/9881\n",
            "Processing article 800/9881\n",
            "Processing article 900/9881\n",
            "Processing article 1000/9881\n",
            "Processing article 1100/9881\n",
            "Processing article 1200/9881\n",
            "Processing article 1300/9881\n",
            "Processing article 1400/9881\n",
            "Processing article 1500/9881\n",
            "Processing article 1600/9881\n",
            "Processing article 1700/9881\n",
            "Processing article 1800/9881\n",
            "Processing article 1900/9881\n",
            "Processing article 2000/9881\n",
            "Processing article 2100/9881\n",
            "Processing article 2200/9881\n",
            "Processing article 2300/9881\n",
            "Processing article 2400/9881\n",
            "Processing article 2500/9881\n",
            "Processing article 2600/9881\n",
            "Processing article 2700/9881\n",
            "Processing article 2800/9881\n",
            "Processing article 2900/9881\n",
            "Processing article 3000/9881\n",
            "Processing article 3100/9881\n",
            "Processing article 3200/9881\n",
            "Processing article 3300/9881\n",
            "Processing article 3400/9881\n",
            "Processing article 3500/9881\n",
            "Processing article 3600/9881\n",
            "Processing article 3700/9881\n",
            "Processing article 3800/9881\n",
            "Processing article 3900/9881\n",
            "Processing article 4000/9881\n",
            "Processing article 4100/9881\n",
            "Processing article 4200/9881\n",
            "Processing article 4300/9881\n",
            "Processing article 4400/9881\n",
            "Processing article 4500/9881\n",
            "Processing article 4600/9881\n",
            "Processing article 4700/9881\n",
            "Processing article 4800/9881\n",
            "Processing article 4900/9881\n",
            "Processing article 5000/9881\n",
            "Processing article 5100/9881\n",
            "Processing article 5200/9881\n",
            "Processing article 5300/9881\n",
            "Processing article 5400/9881\n",
            "Processing article 5500/9881\n",
            "Processing article 5600/9881\n",
            "Processing article 5700/9881\n",
            "Processing article 5800/9881\n",
            "Processing article 5900/9881\n",
            "Processing article 6000/9881\n",
            "Processing article 6100/9881\n",
            "Processing article 6200/9881\n",
            "Processing article 6300/9881\n",
            "Processing article 6400/9881\n",
            "Processing article 6500/9881\n",
            "Processing article 6600/9881\n",
            "Processing article 6700/9881\n",
            "Processing article 6800/9881\n",
            "Processing article 6900/9881\n",
            "Processing article 7000/9881\n",
            "Processing article 7100/9881\n",
            "Processing article 7200/9881\n",
            "Processing article 7300/9881\n",
            "Processing article 7400/9881\n",
            "Processing article 7500/9881\n",
            "Processing article 7600/9881\n",
            "Processing article 7700/9881\n",
            "Processing article 7800/9881\n",
            "Processing article 7900/9881\n",
            "Processing article 8000/9881\n",
            "Processing article 8100/9881\n",
            "Processing article 8200/9881\n",
            "Processing article 8300/9881\n",
            "Processing article 8400/9881\n",
            "Processing article 8500/9881\n",
            "Processing article 8600/9881\n",
            "Processing article 8700/9881\n",
            "Processing article 8800/9881\n",
            "Processing article 8900/9881\n",
            "Processing article 9000/9881\n",
            "Processing article 9100/9881\n",
            "Processing article 9200/9881\n",
            "Processing article 9300/9881\n",
            "Processing article 9400/9881\n",
            "Processing article 9500/9881\n",
            "Processing article 9600/9881\n",
            "Processing article 9700/9881\n",
            "Processing article 9800/9881\n"
          ]
        }
      ]
    },
    {
      "cell_type": "code",
      "source": [
        "print(result_df)"
      ],
      "metadata": {
        "colab": {
          "base_uri": "https://localhost:8080/"
        },
        "id": "fQgoAwMSGhl-",
        "outputId": "399fc837-ab93-443b-e390-27b50400745b"
      },
      "id": "fQgoAwMSGhl-",
      "execution_count": null,
      "outputs": [
        {
          "output_type": "stream",
          "name": "stdout",
          "text": [
            "     ticker sentiment                                            news_id  \\\n",
            "0      AAPL   neutral  0d2a16f0328775bebe96ecbd57fb1ee7b98fae09d2ee73...   \n",
            "1      AAPL  negative  55d38db6df60d647da21ac34f9942bfc7729d3196b10ff...   \n",
            "2      AAPL   neutral  4ef47f7a1d56daecdf73f02eb2ceb206df1e629e6f04ba...   \n",
            "3      AAPL   neutral  1358145bef572d9b1580795b261a011c39169815dae386...   \n",
            "4      AAPL  positive  ebed3bc762a748dd4eba4d38230efe87101b1c28ad4096...   \n",
            "...     ...       ...                                                ...   \n",
            "9876   AAPL   neutral        ciYU0qzpWQXA34UNHWKbBqQZyH5RZ-bf4mMIchoFOkI   \n",
            "9877   AAPL  negative        SNe7uhcmDkVap9wLTLCO6DSGNj9JzaUu13tNIyocUv4   \n",
            "9878   AAPL  positive        CD9U-8i7O7pgOuCfOJ5CmyHfuyaxJTvuE8sgKliJmH8   \n",
            "9879   AAPL  negative        I3UTSe9ArLGw1g0gXXp_tLt_8463iT11N9HHQK3u95c   \n",
            "9880   AAPL   neutral        HOUyxErrGAILFLEPNmGTNsTBrUr-rAWd8Q4rbRHF9Pw   \n",
            "\n",
            "                     time                                              title  \\\n",
            "0     2024-10-30 08:06:00  Only 10 Companies Have Reached a Trillion-Doll...   \n",
            "1     2024-10-29 13:09:00  Microsoft Earnings Preview: Will Azure Growth ...   \n",
            "2     2024-10-29 09:45:00  1 Supercharged Vanguard Fund That Can Turn $27...   \n",
            "3     2024-10-29 09:24:00  Warren Buffett Sold $80 Billion of Apple Stock...   \n",
            "4     2024-10-28 12:51:00  Nasdaq 100 Technical: Rising US Treasury Yield...   \n",
            "...                   ...                                                ...   \n",
            "9876  2022-09-23 10:20:08  Should SPDR Portfolio S&P 500 Growth ETF (SPYG...   \n",
            "9877  2022-09-23 09:49:47    Why Fear Level Among US Investors Is Increasing   \n",
            "9878  2022-09-23 09:30:00   Will Microsoft Be Worth More Than Apple by 2025?   \n",
            "9879  2022-09-23 08:50:32  US Fed Chair Jerome Powell And PMI Data Among ...   \n",
            "9880  2022-09-23 04:23:10  Apple Just Snagged 'Breaking Bad' Creator's Up...   \n",
            "\n",
            "                                            article_url  \n",
            "0     https://www.fool.com/investing/2024/10/30/10-c...  \n",
            "1     https://www.investing.com/analysis/microsoft-e...  \n",
            "2     https://www.fool.com/investing/2024/10/29/1-su...  \n",
            "3     https://www.fool.com/investing/2024/10/29/warr...  \n",
            "4     https://www.investing.com/analysis/nasdaq-100-...  \n",
            "...                                                 ...  \n",
            "9876  https://www.zacks.com/stock/news/1984146/shoul...  \n",
            "9877  https://www.benzinga.com/news/earnings/22/09/2...  \n",
            "9878  https://www.fool.com/investing/2022/09/23/will...  \n",
            "9879  https://www.benzinga.com/news/22/09/28979769/u...  \n",
            "9880  https://www.benzinga.com/news/22/09/28978842/a...  \n",
            "\n",
            "[9881 rows x 6 columns]\n"
          ]
        }
      ]
    },
    {
      "cell_type": "code",
      "source": [
        "test_df = df_news[(df_news['publish_time'] >= \"2023-11-01\") & (df_news['publish_time'] <= \"2023-11-02\")]"
      ],
      "metadata": {
        "id": "1Qn2n-TbN5jh"
      },
      "id": "1Qn2n-TbN5jh",
      "execution_count": null,
      "outputs": []
    },
    {
      "cell_type": "code",
      "source": [
        "print(test_df)"
      ],
      "metadata": {
        "colab": {
          "base_uri": "https://localhost:8080/"
        },
        "id": "hUIdkl2CS0yc",
        "outputId": "ae5440ea-3a46-4acd-aa1e-2c77b946c884"
      },
      "id": "hUIdkl2CS0yc",
      "execution_count": null,
      "outputs": [
        {
          "output_type": "stream",
          "name": "stdout",
          "text": [
            "                                               id         publish_time  \\\n",
            "3909  0-aHwVSJBNGZk5_P03r59htX5WNMfRbEgjpIpSle7B4  2023-11-01 17:59:19   \n",
            "3910  oMXj0WrB2_7D4QpIjyWoqPUTpNJh9Tnl6vnIB0_4c08  2023-11-01 17:01:26   \n",
            "3911  FX8kvnBIoo9honbMqdmhM364PCoekfnXsjBnvDwGWyA  2023-11-01 16:35:00   \n",
            "3912  Rv_EAQvX6uJi5K3wt_iNxF2B_OH0u-Bo6jZMta4pWm0  2023-11-01 15:40:00   \n",
            "3913  R33sodoWNHCz7nTJGcrlV9UZdS0x6En7t7dieKp2yTs  2023-11-01 13:54:00   \n",
            "3914  v7Y4pXj4BZ6UvCDkGAz_Q6Ude63fcSzPnoNtORlw2xw  2023-11-01 13:20:00   \n",
            "3915  qrZ1aBMve1-TTHxCbnqVYFE5Ow4p0Q1mnFF_6X_MphI  2023-11-01 12:49:00   \n",
            "3916  yzUfPc-DfSg5ZerRhsVFQMU2zMKKEr72y--K4P1ktpk  2023-11-01 12:18:00   \n",
            "3917  JX4-Y5xGsw5fsEUHfoveCTCGtVpdIWOma6EXpzWEDyM  2023-11-01 12:12:59   \n",
            "3918  0g8QtgYbIJXTlJXQ3ZOxXwMTFl7TIwX7Nhg_qLpC6U0  2023-11-01 11:15:00   \n",
            "3919  QAlTP1R8Gu0AyrspSx8tlLe3pRC-YmWeSjOnypDv_Js  2023-11-01 10:40:00   \n",
            "3920  2Ig5WSaYHdiNKlVgZuYqA1CVlk7hTLBTX_qDEki5kiU  2023-11-01 10:33:00   \n",
            "3921  IaFSqd3YwMW6xX_mTUSKn3WNBs_QqKnkBjwlnggpPAM  2023-11-01 10:20:06   \n",
            "3922  uSPsRAm6Xd5AvvzRo5D5nVStAyA6LhdtxINVAG1oIzo  2023-11-01 10:20:05   \n",
            "3923  WHObdgWr9jsY6dJiPoFlzLi39YY7GGy6ZnNryKxscGo  2023-11-01 09:55:00   \n",
            "3924  Xr6V2k5RpIIqu3rTTzVmGxI790-yOd3EPfnv0ska3qA  2023-11-01 09:10:00   \n",
            "3925  8Gmgzsc5DDg97emrkEPvsbH8oMNEvJ_kMXs5Y65WCxE  2023-11-01 07:43:00   \n",
            "\n",
            "                                                  title  \\\n",
            "3909           Apple Earnings: Why Guidance Will Be Key   \n",
            "3910   Apple Q4 Earnings Preview: All Eyes On iPhone 15   \n",
            "3911  Apple's (AAPL) Q4 Earnings to Suffer from Weak...   \n",
            "3912  There's a historic sale in mutual funds, thank...   \n",
            "3913  Unveiling Apple (AAPL) Q4 Outlook: Wall Street...   \n",
            "3914  This one stock could potentially undo the 2023...   \n",
            "3915   Spotify Electrifies on Its Metrics. Time to Buy?   \n",
            "3916           Why Warren Buffett Loves Dividend Stocks   \n",
            "3917  Jim Cramer Prefers Caution Despite Impressive ...   \n",
            "3918  After a 540% Rise, Why Does Warren Buffett Sti...   \n",
            "3919                    Better Buy: Apple vs. Coca-Cola   \n",
            "3920  This fund manager was right that recession fea...   \n",
            "3921  Should Goldman Sachs MarketBeta U.S. 1000 Equi...   \n",
            "3922  Is FlexShares Morningstar U.S. Market Factor T...   \n",
            "3923  Warren Buffett Watch: Why the Oracle of Omaha ...   \n",
            "3924                              Is Apple Stock a Buy?   \n",
            "3925                                  Ad Revenue Trends   \n",
            "\n",
            "                                            article_url ticker  \\\n",
            "3909  https://www.fool.com/investing/2023/11/01/appl...   AAPL   \n",
            "3910  https://www.benzinga.com/analyst-ratings/analy...   AAPL   \n",
            "3911  https://www.zacks.com/stock/news/2176647/apple...   AAPL   \n",
            "3912  https://www.marketwatch.com/story/market-turmo...   AAPL   \n",
            "3913  https://www.zacks.com/stock/news/2176358/unvei...   AAPL   \n",
            "3914  https://www.marketwatch.com/story/this-one-sto...   AAPL   \n",
            "3915  https://www.investing.com/analysis/spotify-ele...   AAPL   \n",
            "3916  https://www.fool.com/investing/2023/11/01/why-...   AAPL   \n",
            "3917  https://www.benzinga.com/analyst-ratings/analy...   AAPL   \n",
            "3918  https://www.fool.com/investing/2023/11/01/afte...   AAPL   \n",
            "3919  https://www.fool.com/investing/2023/11/01/bett...   AAPL   \n",
            "3920  https://www.marketwatch.com/story/this-fund-ma...   AAPL   \n",
            "3921  https://www.zacks.com/stock/news/2176037/shoul...   AAPL   \n",
            "3922  https://www.zacks.com/stock/news/2176047/is-fl...   AAPL   \n",
            "3923  https://www.fool.com/investing/2023/11/01/warr...   AAPL   \n",
            "3924  https://www.fool.com/investing/2023/11/01/is-a...   AAPL   \n",
            "3925  https://www.fool.com/investing/2023/11/01/ad-r...   AAPL   \n",
            "\n",
            "                      publisher  \\\n",
            "3909            The Motley Fool   \n",
            "3910                   Benzinga   \n",
            "3911  Zacks Investment Research   \n",
            "3912                MarketWatch   \n",
            "3913  Zacks Investment Research   \n",
            "3914                MarketWatch   \n",
            "3915              Investing.com   \n",
            "3916            The Motley Fool   \n",
            "3917                   Benzinga   \n",
            "3918            The Motley Fool   \n",
            "3919            The Motley Fool   \n",
            "3920                MarketWatch   \n",
            "3921  Zacks Investment Research   \n",
            "3922  Zacks Investment Research   \n",
            "3923            The Motley Fool   \n",
            "3924            The Motley Fool   \n",
            "3925            The Motley Fool   \n",
            "\n",
            "                                            description  \\\n",
            "3909  Investors are hoping the iPhone maker can retu...   \n",
            "3910  Technology giant Apple Inc (NASDAQ:AAPL) is se...   \n",
            "3911  Apple's (AAPL) fourth-quarter fiscal 2023 resu...   \n",
            "3912  Closed-end funds have just plunged to their bi...   \n",
            "3913  Besides Wall Street's top -and-bottom-line est...   \n",
            "3914  Can the S&P 500 and Nasdaq Composite hold on t...   \n",
            "3915                                                NaN   \n",
            "3916              Yet his own company does not pay one.   \n",
            "3917  Mega-cap stocks have been going through volati...   \n",
            "3918  Some observers might say it's time to move on ...   \n",
            "3919  Which of these blue chip stalwarts is the bett...   \n",
            "3920  Our call of the day discusses investing in pot...   \n",
            "3921                      Style Box ETF report for GUSA   \n",
            "3922                     Smart Beta ETF report for TILT   \n",
            "3923  This business possesses a very favorable chara...   \n",
            "3924  The company has had a challenging year, but it...   \n",
            "3925  We also dig into traits shared by the world's ...   \n",
            "\n",
            "                                               keywords  \n",
            "3909                                          investing  \n",
            "3910  Analyst Color,Equities,Price Target,Previews,R...  \n",
            "3911                                                NaN  \n",
            "3912                                                NaN  \n",
            "3913                                                NaN  \n",
            "3914                                                NaN  \n",
            "3915                                                NaN  \n",
            "3916                                          investing  \n",
            "3917  News,Analyst Color,Equities,Top Stories,Tech,T...  \n",
            "3918                                          investing  \n",
            "3919                                          investing  \n",
            "3920                                                NaN  \n",
            "3921                                                NaN  \n",
            "3922                                                NaN  \n",
            "3923                                          investing  \n",
            "3924                                          investing  \n",
            "3925                                          investing  \n"
          ]
        }
      ]
    },
    {
      "cell_type": "code",
      "source": [
        "tdf_r = analyze_sentiments_finbert_pipeline(test_df, pipe, truncate_or_split=\"split\")"
      ],
      "metadata": {
        "colab": {
          "base_uri": "https://localhost:8080/"
        },
        "id": "ALXEruUrTdH2",
        "outputId": "22e5daad-d3de-4f08-f48d-5e1da59d5f38"
      },
      "id": "ALXEruUrTdH2",
      "execution_count": null,
      "outputs": [
        {
          "output_type": "stream",
          "name": "stdout",
          "text": [
            "Apple Earnings: Why Guidance Will Be Key Investors are hoping the iPhone maker can return to growth during the important holiday quarter. investing\n",
            "Apple Q4 Earnings Preview: All Eyes On iPhone 15 Technology giant Apple Inc (NASDAQ:AAPL) is set to report fourth-quarter financial results after the market close Thursday.\n",
            "Here's a look at the earning estimates from analysts, what analysts are saying ahead of the report and key items for investors to watch.\n",
            "Apple Earnings Estimates: Analysts expect Apple to report fourth-quarter revenue of $89.27 billion, according to data from Benzinga Pro.\n",
            "Apple reported fourth-quarter revenue of $90.15 billion in the previous fiscal year. The company has beaten revenue estimates from analysts in six of the last seven quarters.\n",
            "Analysts expect Apple to report fourth-quarter earnings per share of $1.39, compared to $1.29 reported in the comparable quarter last year. The company has beaten earnings per share estimates in six of the last seven quarters.\n",
            "Related Link: Apple Has ‘Flex The Muscles' Moment With iPhone 15\n",
            "What Apple Analysts are Saying: One of the biggest items to watch in Apple's quarterly report will be iPhone 15 demand, according to Wedbush analyst Dan Ives.\n",
            "Ives, who has an Outperform rating and $240 price target, expects Apple to report a good outlook on iPhone sales and demand.\n",
            "\"Right now the overall sentiment of Apple on the Street is a negative ‘groupthink mentality' heading into the print that we view as very disconnected from the current iPhone 15 growth we see in the field based on our recent checks and trip to Asia that gives us a high level of confidence in owning Apple at these levels,\" Ives said.\n",
            "The company's Services sector could ...Full story available on Benzinga.com Analyst Color,Equities,Price Target,Previews,Reiteration,Top Stories,Markets,Analyst Ratings,Tech\n",
            "Apple's (AAPL) Q4 Earnings to Suffer from Weak Mac & iPad Sales Apple's (AAPL) fourth-quarter fiscal 2023 results are expected to reflect sluggish Mac and iPad sales, as well as slowing Services revenues. nan\n",
            "There's a historic sale in mutual funds, thanks to stock-market turmoil  Closed-end funds have just plunged to their biggest discounts to intrinsic value in years. nan\n",
            "Unveiling Apple (AAPL) Q4 Outlook: Wall Street Estimates for Key Metrics Besides Wall Street's top -and-bottom-line estimates for Apple (AAPL), review projections for some of its key metrics to gain a deeper understanding of how the company might have fared during the quarter ended September 2023. nan\n",
            "This one stock could potentially undo the 2023 rebound if it falls another 10% as one analyst expects Can the S&P 500 and Nasdaq Composite hold on to their 2023 gains if Nvidia Corp. falls? It's a question that's cropping up more and more these days. nan\n",
            "Spotify Electrifies on Its Metrics. Time to Buy? nan nan\n",
            "Why Warren Buffett Loves Dividend Stocks Yet his own company does not pay one. investing\n",
            "Jim Cramer Prefers Caution Despite Impressive Returns From 'The Enormous Eight' Led By Nvidia, Meta: 'Each One Set Up Like Bowling Pins' Mega-cap stocks have been going through volatility amid the market weakness seen in the past three months. \n",
            "What Happened: Charlie Bilello, chief market strategist of Creative Planning Investor, shared a post on X, regarding the total 2023 returns from eight mega-caps, which he labeled “The Enormous Eight.”\n",
            "The pack included Apple, Inc. (NASDAQ:AAPL), Microsoft Corp (NASDAQ:MSFT), Amazon, Inc. (NASDAQ:AMZN), Alphabet, Inc. (NASDAQ:GOOGL) (NASDAQ:GOOG), Netflix, Inc. (NASDAQ:NFLX), Nvidia Corp. (NASDAQ:NVDA), Tesla, Inc. (NASDAQ:TSLA) and Meta Platforms, Inc. (NASDAQ:META).\n",
            "These stocks individually generated either triple- or double-digit returns compared to the Invesco S&P 500 Equal Weight ...Full story available on Benzinga.com News,Analyst Color,Equities,Top Stories,Tech,Trading Ideas\n",
            "After a 540% Rise, Why Does Warren Buffett Still Own Apple Stock? Some observers might say it's time to move on from the iPhone maker, but the Oracle of Omaha has his reasons to stay put. investing\n",
            "Better Buy: Apple vs. Coca-Cola Which of these blue chip stalwarts is the better investment right now? investing\n",
            "This fund manager was right that recession fears were overhyped. Now he's betting on strip malls and these other megatrends. Our call of the day discusses investing in potentially lucrative megatrends in an interview with Aspen Funds' co-founder and chief financial officer Bob Fraser nan\n",
            "Should Goldman Sachs MarketBeta U.S. 1000 Equity ETF (GUSA) Be on Your Investing Radar? Style Box ETF report for GUSA nan\n",
            "Is FlexShares Morningstar U.S. Market Factor Tilt ETF (TILT) a Strong ETF Right Now? Smart Beta ETF report for TILT nan\n",
            "Warren Buffett Watch: Why the Oracle of Omaha Would Love This Top Restaurant Stock This business possesses a very favorable characteristic. investing\n",
            "Is Apple Stock a Buy? The company has had a challenging year, but it still boasts an impressive balance sheet worth investing in. investing\n",
            "Ad Revenue Trends We also dig into traits shared by the world's greatest innovators. investing\n"
          ]
        }
      ]
    },
    {
      "cell_type": "code",
      "source": [
        "print(tdf_r)"
      ],
      "metadata": {
        "colab": {
          "base_uri": "https://localhost:8080/"
        },
        "id": "QqNtOAMnT2cB",
        "outputId": "5fddd70e-93bd-4d7b-9cc4-6be8ee679ee6"
      },
      "id": "QqNtOAMnT2cB",
      "execution_count": null,
      "outputs": [
        {
          "output_type": "stream",
          "name": "stdout",
          "text": [
            "   ticker sentiment                                      news_id  \\\n",
            "0    AAPL  positive  0-aHwVSJBNGZk5_P03r59htX5WNMfRbEgjpIpSle7B4   \n",
            "1    AAPL  positive  oMXj0WrB2_7D4QpIjyWoqPUTpNJh9Tnl6vnIB0_4c08   \n",
            "2    AAPL  negative  FX8kvnBIoo9honbMqdmhM364PCoekfnXsjBnvDwGWyA   \n",
            "3    AAPL  negative  Rv_EAQvX6uJi5K3wt_iNxF2B_OH0u-Bo6jZMta4pWm0   \n",
            "4    AAPL   neutral  R33sodoWNHCz7nTJGcrlV9UZdS0x6En7t7dieKp2yTs   \n",
            "5    AAPL  negative  v7Y4pXj4BZ6UvCDkGAz_Q6Ude63fcSzPnoNtORlw2xw   \n",
            "6    AAPL   neutral  qrZ1aBMve1-TTHxCbnqVYFE5Ow4p0Q1mnFF_6X_MphI   \n",
            "7    AAPL   neutral  yzUfPc-DfSg5ZerRhsVFQMU2zMKKEr72y--K4P1ktpk   \n",
            "8    AAPL   neutral  JX4-Y5xGsw5fsEUHfoveCTCGtVpdIWOma6EXpzWEDyM   \n",
            "9    AAPL   neutral  0g8QtgYbIJXTlJXQ3ZOxXwMTFl7TIwX7Nhg_qLpC6U0   \n",
            "10   AAPL   neutral  QAlTP1R8Gu0AyrspSx8tlLe3pRC-YmWeSjOnypDv_Js   \n",
            "11   AAPL   neutral  2Ig5WSaYHdiNKlVgZuYqA1CVlk7hTLBTX_qDEki5kiU   \n",
            "12   AAPL   neutral  IaFSqd3YwMW6xX_mTUSKn3WNBs_QqKnkBjwlnggpPAM   \n",
            "13   AAPL   neutral  uSPsRAm6Xd5AvvzRo5D5nVStAyA6LhdtxINVAG1oIzo   \n",
            "14   AAPL  positive  WHObdgWr9jsY6dJiPoFlzLi39YY7GGy6ZnNryKxscGo   \n",
            "15   AAPL  positive  Xr6V2k5RpIIqu3rTTzVmGxI790-yOd3EPfnv0ska3qA   \n",
            "16   AAPL  positive  8Gmgzsc5DDg97emrkEPvsbH8oMNEvJ_kMXs5Y65WCxE   \n",
            "\n",
            "                   time                                              title  \\\n",
            "0   2023-11-01 17:59:19           Apple Earnings: Why Guidance Will Be Key   \n",
            "1   2023-11-01 17:01:26   Apple Q4 Earnings Preview: All Eyes On iPhone 15   \n",
            "2   2023-11-01 16:35:00  Apple's (AAPL) Q4 Earnings to Suffer from Weak...   \n",
            "3   2023-11-01 15:40:00  There's a historic sale in mutual funds, thank...   \n",
            "4   2023-11-01 13:54:00  Unveiling Apple (AAPL) Q4 Outlook: Wall Street...   \n",
            "5   2023-11-01 13:20:00  This one stock could potentially undo the 2023...   \n",
            "6   2023-11-01 12:49:00   Spotify Electrifies on Its Metrics. Time to Buy?   \n",
            "7   2023-11-01 12:18:00           Why Warren Buffett Loves Dividend Stocks   \n",
            "8   2023-11-01 12:12:59  Jim Cramer Prefers Caution Despite Impressive ...   \n",
            "9   2023-11-01 11:15:00  After a 540% Rise, Why Does Warren Buffett Sti...   \n",
            "10  2023-11-01 10:40:00                    Better Buy: Apple vs. Coca-Cola   \n",
            "11  2023-11-01 10:33:00  This fund manager was right that recession fea...   \n",
            "12  2023-11-01 10:20:06  Should Goldman Sachs MarketBeta U.S. 1000 Equi...   \n",
            "13  2023-11-01 10:20:05  Is FlexShares Morningstar U.S. Market Factor T...   \n",
            "14  2023-11-01 09:55:00  Warren Buffett Watch: Why the Oracle of Omaha ...   \n",
            "15  2023-11-01 09:10:00                              Is Apple Stock a Buy?   \n",
            "16  2023-11-01 07:43:00                                  Ad Revenue Trends   \n",
            "\n",
            "                                          article_url  \n",
            "0   https://www.fool.com/investing/2023/11/01/appl...  \n",
            "1   https://www.benzinga.com/analyst-ratings/analy...  \n",
            "2   https://www.zacks.com/stock/news/2176647/apple...  \n",
            "3   https://www.marketwatch.com/story/market-turmo...  \n",
            "4   https://www.zacks.com/stock/news/2176358/unvei...  \n",
            "5   https://www.marketwatch.com/story/this-one-sto...  \n",
            "6   https://www.investing.com/analysis/spotify-ele...  \n",
            "7   https://www.fool.com/investing/2023/11/01/why-...  \n",
            "8   https://www.benzinga.com/analyst-ratings/analy...  \n",
            "9   https://www.fool.com/investing/2023/11/01/afte...  \n",
            "10  https://www.fool.com/investing/2023/11/01/bett...  \n",
            "11  https://www.marketwatch.com/story/this-fund-ma...  \n",
            "12  https://www.zacks.com/stock/news/2176037/shoul...  \n",
            "13  https://www.zacks.com/stock/news/2176047/is-fl...  \n",
            "14  https://www.fool.com/investing/2023/11/01/warr...  \n",
            "15  https://www.fool.com/investing/2023/11/01/is-a...  \n",
            "16  https://www.fool.com/investing/2023/11/01/ad-r...  \n"
          ]
        }
      ]
    },
    {
      "cell_type": "code",
      "source": [
        "!ls /content/total_sentiments"
      ],
      "metadata": {
        "colab": {
          "base_uri": "https://localhost:8080/"
        },
        "id": "4Hf7ExHtbGkg",
        "outputId": "1b69b918-620e-4346-ff36-e8725ad5d5c5"
      },
      "id": "4Hf7ExHtbGkg",
      "execution_count": 32,
      "outputs": [
        {
          "output_type": "stream",
          "name": "stdout",
          "text": [
            "GOOGL_total_sentiments.csv  INTC_total_sentiments.csv  NFLX_total_sentiments.csv\n",
            "IBM_total_sentiments.csv    META_total_sentiments.csv  ORCL_total_sentiments.csv\n"
          ]
        }
      ]
    },
    {
      "cell_type": "code",
      "source": [],
      "metadata": {
        "id": "4-RDi0htusZj"
      },
      "id": "4-RDi0htusZj",
      "execution_count": null,
      "outputs": []
    }
  ],
  "metadata": {
    "kernelspec": {
      "display_name": "Python 3",
      "language": "python",
      "name": "python3"
    },
    "language_info": {
      "codemirror_mode": {
        "name": "ipython",
        "version": 3
      },
      "file_extension": ".py",
      "mimetype": "text/x-python",
      "name": "python",
      "nbconvert_exporter": "python",
      "pygments_lexer": "ipython3",
      "version": "3.10.10"
    },
    "colab": {
      "provenance": [],
      "name": "BDA_title_sentiment_analysis.ipynb"
    }
  },
  "nbformat": 4,
  "nbformat_minor": 5
}