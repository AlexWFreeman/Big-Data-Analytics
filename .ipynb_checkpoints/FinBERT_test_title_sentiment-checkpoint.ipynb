{
 "cells": [
  {
   "cell_type": "code",
   "execution_count": null,
   "id": "903365a6",
   "metadata": {},
   "outputs": [],
   "source": [
    "# test finBERT outputs"
   ]
  },
  {
   "cell_type": "markdown",
   "id": "f30bc945",
   "metadata": {},
   "source": []
  },
  {
   "cell_type": "code",
   "execution_count": 3,
   "id": "d05513da",
   "metadata": {},
   "outputs": [],
   "source": [
    "import pandas as pd\n",
    "import numpy as np\n",
    "from scipy import stats\n",
    "from sklearn.linear_model import LinearRegression\n",
    "from sklearn.metrics import mean_squared_error"
   ]
  },
  {
   "cell_type": "code",
   "execution_count": 4,
   "id": "fa609c85",
   "metadata": {},
   "outputs": [],
   "source": [
    "tickers = ['META', 'AAPL', 'AMZN', 'NFLX', 'GOOGL', 'MSFT', 'IBM', 'ORCL', 'NVDA', 'INTC']\n",
    "original_data = \"dataset/news\"\n",
    "new_data = \"dataset/polygon_title_sentiment\"\n",
    "start_time = \"2024-07-01\"\n",
    "end_time = \"2024-09-01\""
   ]
  },
  {
   "cell_type": "code",
   "execution_count": 18,
   "id": "6401aca5",
   "metadata": {},
   "outputs": [
    {
     "name": "stdout",
     "output_type": "stream",
     "text": [
      "META: 178 / 379\n",
      "AAPL: 321 / 663\n",
      "AMZN: 344 / 767\n",
      "NFLX: 81 / 147\n",
      "GOOGL: 288 / 671\n",
      "MSFT: 343 / 722\n",
      "IBM: 104 / 150\n",
      "ORCL: 98 / 145\n",
      "NVDA: 631 / 1272\n",
      "INTC: 136 / 268\n"
     ]
    }
   ],
   "source": [
    "merged_dfs = []\n",
    "for ticker in tickers:\n",
    "#     old_df_news = pd.read_csv(f\"{original_data}/{ticker}_main.csv\")\n",
    "    old_df_rela = pd.read_csv(f\"{original_data}/{ticker}_relation.csv\")\n",
    "    new_df = pd.read_csv(f\"{new_data}/{ticker}_title_sentiments.csv\")\n",
    "    filtered_rela = old_df_rela[old_df_rela['ticker'] == old_df_rela['source_ticker']]\n",
    "#     print(new_df)\n",
    "#     print(filtered_rela)\n",
    "    merged_df = pd.merge(new_df, filtered_rela, on=\"news_id\", how=\"left\")\n",
    "    # print(merged_df)\n",
    "#     merged_df = merged_df[(merged_df[\"time_x\"] >= start_time) & (merged_df[\"time_x\"] <= end_time)]\n",
    "    merged_df = merged_df.dropna()\n",
    "    # print(merged_df)\n",
    "    correct_val = len(merged_df[merged_df[\"sentiment_x\"] == merged_df[\"sentiment_y\"]])\n",
    "    total_val = len(merged_df)\n",
    "    print(f\"{ticker}: {correct_val} / {total_val}\")\n",
    "    merged_dfs.append(merged_df)"
   ]
  },
  {
   "cell_type": "code",
   "execution_count": null,
   "id": "daf78943",
   "metadata": {},
   "outputs": [],
   "source": [
    "print(merged_dfs[0])"
   ]
  },
  {
   "cell_type": "markdown",
   "id": "2890c970",
   "metadata": {},
   "source": [
    "Below are for a separate test not for title data"
   ]
  },
  {
   "cell_type": "code",
   "execution_count": null,
   "id": "0eea8b52",
   "metadata": {},
   "outputs": [],
   "source": []
  },
  {
   "cell_type": "code",
   "execution_count": 3,
   "id": "fbe9e65e",
   "metadata": {},
   "outputs": [],
   "source": [
    "df_news = pd.read_csv('dataset/news/AAPL_main.csv')\n",
    "df_rela = pd.read_csv('dataset/AAPL_rel_2.csv')"
   ]
  },
  {
   "cell_type": "code",
   "execution_count": 4,
   "id": "d7d4f5c7",
   "metadata": {},
   "outputs": [],
   "source": [
    "df_aapl = pd.read_csv('dataset/stocks/AAPL.csv')"
   ]
  },
  {
   "cell_type": "code",
   "execution_count": 5,
   "id": "ae268d3e",
   "metadata": {},
   "outputs": [],
   "source": [
    "df_news_t = df_rela[df_rela['ticker'] == df_rela['source_ticker']]\n",
    "df_news_t['time'] = pd.to_datetime(df_news_t['time']).dt.tz_localize(\"UTC\") \\\n",
    "                    .dt.tz_convert(\"America/New_York\")\n",
    "df_news_t['sentiment'] = df_news_t['sentiment'].map(\n",
    "    {'neutral':0, 'positive':1, 'negative':-4.22} # maybe\n",
    ")\n",
    "df_news_t['date'] = df_news_t['time'].dt.date"
   ]
  },
  {
   "cell_type": "code",
   "execution_count": 6,
   "id": "339f015e",
   "metadata": {},
   "outputs": [],
   "source": [
    "s_senti = df_news_t.groupby('date')['sentiment'].sum().reset_index()"
   ]
  },
  {
   "cell_type": "code",
   "execution_count": 7,
   "id": "ad93d6e4",
   "metadata": {},
   "outputs": [
    {
     "name": "stderr",
     "output_type": "stream",
     "text": [
      "/var/folders/0q/kv5wlvmd4wdc2_bz7dkwlj180000gn/T/ipykernel_51877/3429688966.py:2: SettingWithCopyWarning: \n",
      "A value is trying to be set on a copy of a slice from a DataFrame.\n",
      "Try using .loc[row_indexer,col_indexer] = value instead\n",
      "\n",
      "See the caveats in the documentation: https://pandas.pydata.org/pandas-docs/stable/user_guide/indexing.html#returning-a-view-versus-a-copy\n",
      "  df_aapl_t['time'] = pd.to_datetime(df_aapl_t['time']).dt.tz_localize(\"UTC\") \\\n",
      "/var/folders/0q/kv5wlvmd4wdc2_bz7dkwlj180000gn/T/ipykernel_51877/3429688966.py:4: SettingWithCopyWarning: \n",
      "A value is trying to be set on a copy of a slice from a DataFrame.\n",
      "Try using .loc[row_indexer,col_indexer] = value instead\n",
      "\n",
      "See the caveats in the documentation: https://pandas.pydata.org/pandas-docs/stable/user_guide/indexing.html#returning-a-view-versus-a-copy\n",
      "  df_aapl_t['change'] = df_aapl['close'].diff()\n",
      "/var/folders/0q/kv5wlvmd4wdc2_bz7dkwlj180000gn/T/ipykernel_51877/3429688966.py:5: SettingWithCopyWarning: \n",
      "A value is trying to be set on a copy of a slice from a DataFrame.\n",
      "Try using .loc[row_indexer,col_indexer] = value instead\n",
      "\n",
      "See the caveats in the documentation: https://pandas.pydata.org/pandas-docs/stable/user_guide/indexing.html#returning-a-view-versus-a-copy\n",
      "  df_aapl_t['date'] = df_aapl_t['time'].dt.date\n"
     ]
    }
   ],
   "source": [
    "df_aapl_t = df_aapl[df_aapl['time'] >= \"2024-07-02\"]\n",
    "df_aapl_t['time'] = pd.to_datetime(df_aapl_t['time']).dt.tz_localize(\"UTC\") \\\n",
    "                    .dt.tz_convert(\"America/New_York\")\n",
    "df_aapl_t['change'] = df_aapl['close'].diff()\n",
    "df_aapl_t['date'] = df_aapl_t['time'].dt.date"
   ]
  },
  {
   "cell_type": "code",
   "execution_count": 8,
   "id": "96b2fa16",
   "metadata": {},
   "outputs": [],
   "source": [
    "s_stock = df_aapl_t[['date', 'change']].reset_index(drop=True)"
   ]
  },
  {
   "cell_type": "code",
   "execution_count": 9,
   "id": "b848d5f5",
   "metadata": {},
   "outputs": [],
   "source": [
    "s_corr = pd.merge(s_stock, s_senti, on=\"date\", how=\"left\")\n",
    "s_corr['sentiment'] = s_corr['sentiment'].fillna(0)"
   ]
  },
  {
   "cell_type": "code",
   "execution_count": 10,
   "id": "3167ed8c",
   "metadata": {},
   "outputs": [
    {
     "data": {
      "text/plain": [
       "PearsonRResult(statistic=0.06728981144642374, pvalue=0.5430744928395074)"
      ]
     },
     "execution_count": 10,
     "metadata": {},
     "output_type": "execute_result"
    }
   ],
   "source": [
    "stats.pearsonr(s_corr['change'], s_corr['sentiment'])"
   ]
  },
  {
   "cell_type": "code",
   "execution_count": 11,
   "id": "6af656be",
   "metadata": {},
   "outputs": [],
   "source": [
    "split_index = int(len(s_corr) * 0.8)\n",
    "s_corr_train = s_corr.iloc[:split_index] \n",
    "s_corr_test = s_corr.iloc[split_index:]"
   ]
  },
  {
   "cell_type": "code",
   "execution_count": 12,
   "id": "926fb1c6",
   "metadata": {},
   "outputs": [
    {
     "data": {
      "text/plain": [
       "(0.0572883252716194, 0.20694630541925169)"
      ]
     },
     "execution_count": 12,
     "metadata": {},
     "output_type": "execute_result"
    }
   ],
   "source": [
    "model = LinearRegression()\n",
    "model.fit(s_corr_train[['sentiment']], s_corr_train['change'])\n",
    "model.coef_[0], model.intercept_"
   ]
  },
  {
   "cell_type": "code",
   "execution_count": null,
   "id": "4bdcaddb",
   "metadata": {},
   "outputs": [],
   "source": []
  }
 ],
 "metadata": {
  "kernelspec": {
   "display_name": "Python 3 (ipykernel)",
   "language": "python",
   "name": "python3"
  },
  "language_info": {
   "codemirror_mode": {
    "name": "ipython",
    "version": 3
   },
   "file_extension": ".py",
   "mimetype": "text/x-python",
   "name": "python",
   "nbconvert_exporter": "python",
   "pygments_lexer": "ipython3",
   "version": "3.11.4"
  }
 },
 "nbformat": 4,
 "nbformat_minor": 5
}
