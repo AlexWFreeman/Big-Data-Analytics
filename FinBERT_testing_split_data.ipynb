{
  "nbformat": 4,
  "nbformat_minor": 0,
  "metadata": {
    "colab": {
      "provenance": []
    },
    "kernelspec": {
      "name": "python3",
      "display_name": "Python 3"
    },
    "language_info": {
      "name": "python"
    },
    "widgets": {
      "application/vnd.jupyter.widget-state+json": {
        "2ae3ddd1ab2d44588b8653e63193f84f": {
          "model_module": "@jupyter-widgets/controls",
          "model_name": "HBoxModel",
          "model_module_version": "1.5.0",
          "state": {
            "_dom_classes": [],
            "_model_module": "@jupyter-widgets/controls",
            "_model_module_version": "1.5.0",
            "_model_name": "HBoxModel",
            "_view_count": null,
            "_view_module": "@jupyter-widgets/controls",
            "_view_module_version": "1.5.0",
            "_view_name": "HBoxView",
            "box_style": "",
            "children": [
              "IPY_MODEL_9632446b0d964013b8300daa6a1b6a30",
              "IPY_MODEL_504f5ab5416c463789daf35e3289bbfb",
              "IPY_MODEL_03bbe5fcc91f42669cc870afadedd17d"
            ],
            "layout": "IPY_MODEL_ce1da37afa88440b8a0b3e784828a20f"
          }
        },
        "9632446b0d964013b8300daa6a1b6a30": {
          "model_module": "@jupyter-widgets/controls",
          "model_name": "HTMLModel",
          "model_module_version": "1.5.0",
          "state": {
            "_dom_classes": [],
            "_model_module": "@jupyter-widgets/controls",
            "_model_module_version": "1.5.0",
            "_model_name": "HTMLModel",
            "_view_count": null,
            "_view_module": "@jupyter-widgets/controls",
            "_view_module_version": "1.5.0",
            "_view_name": "HTMLView",
            "description": "",
            "description_tooltip": null,
            "layout": "IPY_MODEL_628560a5c4254ee68df8491c69e2f6b3",
            "placeholder": "​",
            "style": "IPY_MODEL_18843e6ac9354f52a906418ccceb033f",
            "value": "config.json: 100%"
          }
        },
        "504f5ab5416c463789daf35e3289bbfb": {
          "model_module": "@jupyter-widgets/controls",
          "model_name": "FloatProgressModel",
          "model_module_version": "1.5.0",
          "state": {
            "_dom_classes": [],
            "_model_module": "@jupyter-widgets/controls",
            "_model_module_version": "1.5.0",
            "_model_name": "FloatProgressModel",
            "_view_count": null,
            "_view_module": "@jupyter-widgets/controls",
            "_view_module_version": "1.5.0",
            "_view_name": "ProgressView",
            "bar_style": "success",
            "description": "",
            "description_tooltip": null,
            "layout": "IPY_MODEL_b31a9c1e711b44fc9bc1ebb458bfdfd5",
            "max": 758,
            "min": 0,
            "orientation": "horizontal",
            "style": "IPY_MODEL_0521233742c240cb894ad7970de85fc6",
            "value": 758
          }
        },
        "03bbe5fcc91f42669cc870afadedd17d": {
          "model_module": "@jupyter-widgets/controls",
          "model_name": "HTMLModel",
          "model_module_version": "1.5.0",
          "state": {
            "_dom_classes": [],
            "_model_module": "@jupyter-widgets/controls",
            "_model_module_version": "1.5.0",
            "_model_name": "HTMLModel",
            "_view_count": null,
            "_view_module": "@jupyter-widgets/controls",
            "_view_module_version": "1.5.0",
            "_view_name": "HTMLView",
            "description": "",
            "description_tooltip": null,
            "layout": "IPY_MODEL_cbce3ae8ee64485385a0f4b50354f2c5",
            "placeholder": "​",
            "style": "IPY_MODEL_07be498b47dd4494bd9a23e95cfd2fa6",
            "value": " 758/758 [00:00&lt;00:00, 15.1kB/s]"
          }
        },
        "ce1da37afa88440b8a0b3e784828a20f": {
          "model_module": "@jupyter-widgets/base",
          "model_name": "LayoutModel",
          "model_module_version": "1.2.0",
          "state": {
            "_model_module": "@jupyter-widgets/base",
            "_model_module_version": "1.2.0",
            "_model_name": "LayoutModel",
            "_view_count": null,
            "_view_module": "@jupyter-widgets/base",
            "_view_module_version": "1.2.0",
            "_view_name": "LayoutView",
            "align_content": null,
            "align_items": null,
            "align_self": null,
            "border": null,
            "bottom": null,
            "display": null,
            "flex": null,
            "flex_flow": null,
            "grid_area": null,
            "grid_auto_columns": null,
            "grid_auto_flow": null,
            "grid_auto_rows": null,
            "grid_column": null,
            "grid_gap": null,
            "grid_row": null,
            "grid_template_areas": null,
            "grid_template_columns": null,
            "grid_template_rows": null,
            "height": null,
            "justify_content": null,
            "justify_items": null,
            "left": null,
            "margin": null,
            "max_height": null,
            "max_width": null,
            "min_height": null,
            "min_width": null,
            "object_fit": null,
            "object_position": null,
            "order": null,
            "overflow": null,
            "overflow_x": null,
            "overflow_y": null,
            "padding": null,
            "right": null,
            "top": null,
            "visibility": null,
            "width": null
          }
        },
        "628560a5c4254ee68df8491c69e2f6b3": {
          "model_module": "@jupyter-widgets/base",
          "model_name": "LayoutModel",
          "model_module_version": "1.2.0",
          "state": {
            "_model_module": "@jupyter-widgets/base",
            "_model_module_version": "1.2.0",
            "_model_name": "LayoutModel",
            "_view_count": null,
            "_view_module": "@jupyter-widgets/base",
            "_view_module_version": "1.2.0",
            "_view_name": "LayoutView",
            "align_content": null,
            "align_items": null,
            "align_self": null,
            "border": null,
            "bottom": null,
            "display": null,
            "flex": null,
            "flex_flow": null,
            "grid_area": null,
            "grid_auto_columns": null,
            "grid_auto_flow": null,
            "grid_auto_rows": null,
            "grid_column": null,
            "grid_gap": null,
            "grid_row": null,
            "grid_template_areas": null,
            "grid_template_columns": null,
            "grid_template_rows": null,
            "height": null,
            "justify_content": null,
            "justify_items": null,
            "left": null,
            "margin": null,
            "max_height": null,
            "max_width": null,
            "min_height": null,
            "min_width": null,
            "object_fit": null,
            "object_position": null,
            "order": null,
            "overflow": null,
            "overflow_x": null,
            "overflow_y": null,
            "padding": null,
            "right": null,
            "top": null,
            "visibility": null,
            "width": null
          }
        },
        "18843e6ac9354f52a906418ccceb033f": {
          "model_module": "@jupyter-widgets/controls",
          "model_name": "DescriptionStyleModel",
          "model_module_version": "1.5.0",
          "state": {
            "_model_module": "@jupyter-widgets/controls",
            "_model_module_version": "1.5.0",
            "_model_name": "DescriptionStyleModel",
            "_view_count": null,
            "_view_module": "@jupyter-widgets/base",
            "_view_module_version": "1.2.0",
            "_view_name": "StyleView",
            "description_width": ""
          }
        },
        "b31a9c1e711b44fc9bc1ebb458bfdfd5": {
          "model_module": "@jupyter-widgets/base",
          "model_name": "LayoutModel",
          "model_module_version": "1.2.0",
          "state": {
            "_model_module": "@jupyter-widgets/base",
            "_model_module_version": "1.2.0",
            "_model_name": "LayoutModel",
            "_view_count": null,
            "_view_module": "@jupyter-widgets/base",
            "_view_module_version": "1.2.0",
            "_view_name": "LayoutView",
            "align_content": null,
            "align_items": null,
            "align_self": null,
            "border": null,
            "bottom": null,
            "display": null,
            "flex": null,
            "flex_flow": null,
            "grid_area": null,
            "grid_auto_columns": null,
            "grid_auto_flow": null,
            "grid_auto_rows": null,
            "grid_column": null,
            "grid_gap": null,
            "grid_row": null,
            "grid_template_areas": null,
            "grid_template_columns": null,
            "grid_template_rows": null,
            "height": null,
            "justify_content": null,
            "justify_items": null,
            "left": null,
            "margin": null,
            "max_height": null,
            "max_width": null,
            "min_height": null,
            "min_width": null,
            "object_fit": null,
            "object_position": null,
            "order": null,
            "overflow": null,
            "overflow_x": null,
            "overflow_y": null,
            "padding": null,
            "right": null,
            "top": null,
            "visibility": null,
            "width": null
          }
        },
        "0521233742c240cb894ad7970de85fc6": {
          "model_module": "@jupyter-widgets/controls",
          "model_name": "ProgressStyleModel",
          "model_module_version": "1.5.0",
          "state": {
            "_model_module": "@jupyter-widgets/controls",
            "_model_module_version": "1.5.0",
            "_model_name": "ProgressStyleModel",
            "_view_count": null,
            "_view_module": "@jupyter-widgets/base",
            "_view_module_version": "1.2.0",
            "_view_name": "StyleView",
            "bar_color": null,
            "description_width": ""
          }
        },
        "cbce3ae8ee64485385a0f4b50354f2c5": {
          "model_module": "@jupyter-widgets/base",
          "model_name": "LayoutModel",
          "model_module_version": "1.2.0",
          "state": {
            "_model_module": "@jupyter-widgets/base",
            "_model_module_version": "1.2.0",
            "_model_name": "LayoutModel",
            "_view_count": null,
            "_view_module": "@jupyter-widgets/base",
            "_view_module_version": "1.2.0",
            "_view_name": "LayoutView",
            "align_content": null,
            "align_items": null,
            "align_self": null,
            "border": null,
            "bottom": null,
            "display": null,
            "flex": null,
            "flex_flow": null,
            "grid_area": null,
            "grid_auto_columns": null,
            "grid_auto_flow": null,
            "grid_auto_rows": null,
            "grid_column": null,
            "grid_gap": null,
            "grid_row": null,
            "grid_template_areas": null,
            "grid_template_columns": null,
            "grid_template_rows": null,
            "height": null,
            "justify_content": null,
            "justify_items": null,
            "left": null,
            "margin": null,
            "max_height": null,
            "max_width": null,
            "min_height": null,
            "min_width": null,
            "object_fit": null,
            "object_position": null,
            "order": null,
            "overflow": null,
            "overflow_x": null,
            "overflow_y": null,
            "padding": null,
            "right": null,
            "top": null,
            "visibility": null,
            "width": null
          }
        },
        "07be498b47dd4494bd9a23e95cfd2fa6": {
          "model_module": "@jupyter-widgets/controls",
          "model_name": "DescriptionStyleModel",
          "model_module_version": "1.5.0",
          "state": {
            "_model_module": "@jupyter-widgets/controls",
            "_model_module_version": "1.5.0",
            "_model_name": "DescriptionStyleModel",
            "_view_count": null,
            "_view_module": "@jupyter-widgets/base",
            "_view_module_version": "1.2.0",
            "_view_name": "StyleView",
            "description_width": ""
          }
        },
        "2c1ec7e9b74041908e808533f92f26ca": {
          "model_module": "@jupyter-widgets/controls",
          "model_name": "HBoxModel",
          "model_module_version": "1.5.0",
          "state": {
            "_dom_classes": [],
            "_model_module": "@jupyter-widgets/controls",
            "_model_module_version": "1.5.0",
            "_model_name": "HBoxModel",
            "_view_count": null,
            "_view_module": "@jupyter-widgets/controls",
            "_view_module_version": "1.5.0",
            "_view_name": "HBoxView",
            "box_style": "",
            "children": [
              "IPY_MODEL_8a9014a0964d43c7b829c2b9b253016c",
              "IPY_MODEL_81fdabaffb0742c1b13400a1db5e6e75",
              "IPY_MODEL_8a71439d9ce744488055bf203fe1663e"
            ],
            "layout": "IPY_MODEL_cf2edd0a97234f01bd5eec02c3391dde"
          }
        },
        "8a9014a0964d43c7b829c2b9b253016c": {
          "model_module": "@jupyter-widgets/controls",
          "model_name": "HTMLModel",
          "model_module_version": "1.5.0",
          "state": {
            "_dom_classes": [],
            "_model_module": "@jupyter-widgets/controls",
            "_model_module_version": "1.5.0",
            "_model_name": "HTMLModel",
            "_view_count": null,
            "_view_module": "@jupyter-widgets/controls",
            "_view_module_version": "1.5.0",
            "_view_name": "HTMLView",
            "description": "",
            "description_tooltip": null,
            "layout": "IPY_MODEL_db7d619d9cae4b98b8b006690cb83bf6",
            "placeholder": "​",
            "style": "IPY_MODEL_97e26afabe19440d8548cb151b431152",
            "value": "pytorch_model.bin: 100%"
          }
        },
        "81fdabaffb0742c1b13400a1db5e6e75": {
          "model_module": "@jupyter-widgets/controls",
          "model_name": "FloatProgressModel",
          "model_module_version": "1.5.0",
          "state": {
            "_dom_classes": [],
            "_model_module": "@jupyter-widgets/controls",
            "_model_module_version": "1.5.0",
            "_model_name": "FloatProgressModel",
            "_view_count": null,
            "_view_module": "@jupyter-widgets/controls",
            "_view_module_version": "1.5.0",
            "_view_name": "ProgressView",
            "bar_style": "success",
            "description": "",
            "description_tooltip": null,
            "layout": "IPY_MODEL_044fda25935d424eb81f1fe239e528fb",
            "max": 437992753,
            "min": 0,
            "orientation": "horizontal",
            "style": "IPY_MODEL_3218d54290cf4a94b0f9d056465e7427",
            "value": 437992753
          }
        },
        "8a71439d9ce744488055bf203fe1663e": {
          "model_module": "@jupyter-widgets/controls",
          "model_name": "HTMLModel",
          "model_module_version": "1.5.0",
          "state": {
            "_dom_classes": [],
            "_model_module": "@jupyter-widgets/controls",
            "_model_module_version": "1.5.0",
            "_model_name": "HTMLModel",
            "_view_count": null,
            "_view_module": "@jupyter-widgets/controls",
            "_view_module_version": "1.5.0",
            "_view_name": "HTMLView",
            "description": "",
            "description_tooltip": null,
            "layout": "IPY_MODEL_46c33a46e79e43c192bd0a971164a775",
            "placeholder": "​",
            "style": "IPY_MODEL_940b8cfd6d3a40589146e1ac11ba5c17",
            "value": " 438M/438M [00:03&lt;00:00, 168MB/s]"
          }
        },
        "cf2edd0a97234f01bd5eec02c3391dde": {
          "model_module": "@jupyter-widgets/base",
          "model_name": "LayoutModel",
          "model_module_version": "1.2.0",
          "state": {
            "_model_module": "@jupyter-widgets/base",
            "_model_module_version": "1.2.0",
            "_model_name": "LayoutModel",
            "_view_count": null,
            "_view_module": "@jupyter-widgets/base",
            "_view_module_version": "1.2.0",
            "_view_name": "LayoutView",
            "align_content": null,
            "align_items": null,
            "align_self": null,
            "border": null,
            "bottom": null,
            "display": null,
            "flex": null,
            "flex_flow": null,
            "grid_area": null,
            "grid_auto_columns": null,
            "grid_auto_flow": null,
            "grid_auto_rows": null,
            "grid_column": null,
            "grid_gap": null,
            "grid_row": null,
            "grid_template_areas": null,
            "grid_template_columns": null,
            "grid_template_rows": null,
            "height": null,
            "justify_content": null,
            "justify_items": null,
            "left": null,
            "margin": null,
            "max_height": null,
            "max_width": null,
            "min_height": null,
            "min_width": null,
            "object_fit": null,
            "object_position": null,
            "order": null,
            "overflow": null,
            "overflow_x": null,
            "overflow_y": null,
            "padding": null,
            "right": null,
            "top": null,
            "visibility": null,
            "width": null
          }
        },
        "db7d619d9cae4b98b8b006690cb83bf6": {
          "model_module": "@jupyter-widgets/base",
          "model_name": "LayoutModel",
          "model_module_version": "1.2.0",
          "state": {
            "_model_module": "@jupyter-widgets/base",
            "_model_module_version": "1.2.0",
            "_model_name": "LayoutModel",
            "_view_count": null,
            "_view_module": "@jupyter-widgets/base",
            "_view_module_version": "1.2.0",
            "_view_name": "LayoutView",
            "align_content": null,
            "align_items": null,
            "align_self": null,
            "border": null,
            "bottom": null,
            "display": null,
            "flex": null,
            "flex_flow": null,
            "grid_area": null,
            "grid_auto_columns": null,
            "grid_auto_flow": null,
            "grid_auto_rows": null,
            "grid_column": null,
            "grid_gap": null,
            "grid_row": null,
            "grid_template_areas": null,
            "grid_template_columns": null,
            "grid_template_rows": null,
            "height": null,
            "justify_content": null,
            "justify_items": null,
            "left": null,
            "margin": null,
            "max_height": null,
            "max_width": null,
            "min_height": null,
            "min_width": null,
            "object_fit": null,
            "object_position": null,
            "order": null,
            "overflow": null,
            "overflow_x": null,
            "overflow_y": null,
            "padding": null,
            "right": null,
            "top": null,
            "visibility": null,
            "width": null
          }
        },
        "97e26afabe19440d8548cb151b431152": {
          "model_module": "@jupyter-widgets/controls",
          "model_name": "DescriptionStyleModel",
          "model_module_version": "1.5.0",
          "state": {
            "_model_module": "@jupyter-widgets/controls",
            "_model_module_version": "1.5.0",
            "_model_name": "DescriptionStyleModel",
            "_view_count": null,
            "_view_module": "@jupyter-widgets/base",
            "_view_module_version": "1.2.0",
            "_view_name": "StyleView",
            "description_width": ""
          }
        },
        "044fda25935d424eb81f1fe239e528fb": {
          "model_module": "@jupyter-widgets/base",
          "model_name": "LayoutModel",
          "model_module_version": "1.2.0",
          "state": {
            "_model_module": "@jupyter-widgets/base",
            "_model_module_version": "1.2.0",
            "_model_name": "LayoutModel",
            "_view_count": null,
            "_view_module": "@jupyter-widgets/base",
            "_view_module_version": "1.2.0",
            "_view_name": "LayoutView",
            "align_content": null,
            "align_items": null,
            "align_self": null,
            "border": null,
            "bottom": null,
            "display": null,
            "flex": null,
            "flex_flow": null,
            "grid_area": null,
            "grid_auto_columns": null,
            "grid_auto_flow": null,
            "grid_auto_rows": null,
            "grid_column": null,
            "grid_gap": null,
            "grid_row": null,
            "grid_template_areas": null,
            "grid_template_columns": null,
            "grid_template_rows": null,
            "height": null,
            "justify_content": null,
            "justify_items": null,
            "left": null,
            "margin": null,
            "max_height": null,
            "max_width": null,
            "min_height": null,
            "min_width": null,
            "object_fit": null,
            "object_position": null,
            "order": null,
            "overflow": null,
            "overflow_x": null,
            "overflow_y": null,
            "padding": null,
            "right": null,
            "top": null,
            "visibility": null,
            "width": null
          }
        },
        "3218d54290cf4a94b0f9d056465e7427": {
          "model_module": "@jupyter-widgets/controls",
          "model_name": "ProgressStyleModel",
          "model_module_version": "1.5.0",
          "state": {
            "_model_module": "@jupyter-widgets/controls",
            "_model_module_version": "1.5.0",
            "_model_name": "ProgressStyleModel",
            "_view_count": null,
            "_view_module": "@jupyter-widgets/base",
            "_view_module_version": "1.2.0",
            "_view_name": "StyleView",
            "bar_color": null,
            "description_width": ""
          }
        },
        "46c33a46e79e43c192bd0a971164a775": {
          "model_module": "@jupyter-widgets/base",
          "model_name": "LayoutModel",
          "model_module_version": "1.2.0",
          "state": {
            "_model_module": "@jupyter-widgets/base",
            "_model_module_version": "1.2.0",
            "_model_name": "LayoutModel",
            "_view_count": null,
            "_view_module": "@jupyter-widgets/base",
            "_view_module_version": "1.2.0",
            "_view_name": "LayoutView",
            "align_content": null,
            "align_items": null,
            "align_self": null,
            "border": null,
            "bottom": null,
            "display": null,
            "flex": null,
            "flex_flow": null,
            "grid_area": null,
            "grid_auto_columns": null,
            "grid_auto_flow": null,
            "grid_auto_rows": null,
            "grid_column": null,
            "grid_gap": null,
            "grid_row": null,
            "grid_template_areas": null,
            "grid_template_columns": null,
            "grid_template_rows": null,
            "height": null,
            "justify_content": null,
            "justify_items": null,
            "left": null,
            "margin": null,
            "max_height": null,
            "max_width": null,
            "min_height": null,
            "min_width": null,
            "object_fit": null,
            "object_position": null,
            "order": null,
            "overflow": null,
            "overflow_x": null,
            "overflow_y": null,
            "padding": null,
            "right": null,
            "top": null,
            "visibility": null,
            "width": null
          }
        },
        "940b8cfd6d3a40589146e1ac11ba5c17": {
          "model_module": "@jupyter-widgets/controls",
          "model_name": "DescriptionStyleModel",
          "model_module_version": "1.5.0",
          "state": {
            "_model_module": "@jupyter-widgets/controls",
            "_model_module_version": "1.5.0",
            "_model_name": "DescriptionStyleModel",
            "_view_count": null,
            "_view_module": "@jupyter-widgets/base",
            "_view_module_version": "1.2.0",
            "_view_name": "StyleView",
            "description_width": ""
          }
        },
        "96003938bc42408e9a1724ca69211a45": {
          "model_module": "@jupyter-widgets/controls",
          "model_name": "HBoxModel",
          "model_module_version": "1.5.0",
          "state": {
            "_dom_classes": [],
            "_model_module": "@jupyter-widgets/controls",
            "_model_module_version": "1.5.0",
            "_model_name": "HBoxModel",
            "_view_count": null,
            "_view_module": "@jupyter-widgets/controls",
            "_view_module_version": "1.5.0",
            "_view_name": "HBoxView",
            "box_style": "",
            "children": [
              "IPY_MODEL_6d40b5dfb4ca4aed9bc802bf4d5eebe3",
              "IPY_MODEL_d40757fbf0284e909acbf9e0d0bfcf55",
              "IPY_MODEL_f9ae55c99b314812abd05557ea6b656e"
            ],
            "layout": "IPY_MODEL_47b9dfe0c92546e29ca1660e566b28b0"
          }
        },
        "6d40b5dfb4ca4aed9bc802bf4d5eebe3": {
          "model_module": "@jupyter-widgets/controls",
          "model_name": "HTMLModel",
          "model_module_version": "1.5.0",
          "state": {
            "_dom_classes": [],
            "_model_module": "@jupyter-widgets/controls",
            "_model_module_version": "1.5.0",
            "_model_name": "HTMLModel",
            "_view_count": null,
            "_view_module": "@jupyter-widgets/controls",
            "_view_module_version": "1.5.0",
            "_view_name": "HTMLView",
            "description": "",
            "description_tooltip": null,
            "layout": "IPY_MODEL_e9af5791304843d4a109433204f07609",
            "placeholder": "​",
            "style": "IPY_MODEL_8b0b16b9051f4b0a882f6ba783092817",
            "value": "tokenizer_config.json: 100%"
          }
        },
        "d40757fbf0284e909acbf9e0d0bfcf55": {
          "model_module": "@jupyter-widgets/controls",
          "model_name": "FloatProgressModel",
          "model_module_version": "1.5.0",
          "state": {
            "_dom_classes": [],
            "_model_module": "@jupyter-widgets/controls",
            "_model_module_version": "1.5.0",
            "_model_name": "FloatProgressModel",
            "_view_count": null,
            "_view_module": "@jupyter-widgets/controls",
            "_view_module_version": "1.5.0",
            "_view_name": "ProgressView",
            "bar_style": "success",
            "description": "",
            "description_tooltip": null,
            "layout": "IPY_MODEL_6a54befe2d944ad7925281e8e3583728",
            "max": 252,
            "min": 0,
            "orientation": "horizontal",
            "style": "IPY_MODEL_795601ef90ab44578311180664f939ae",
            "value": 252
          }
        },
        "f9ae55c99b314812abd05557ea6b656e": {
          "model_module": "@jupyter-widgets/controls",
          "model_name": "HTMLModel",
          "model_module_version": "1.5.0",
          "state": {
            "_dom_classes": [],
            "_model_module": "@jupyter-widgets/controls",
            "_model_module_version": "1.5.0",
            "_model_name": "HTMLModel",
            "_view_count": null,
            "_view_module": "@jupyter-widgets/controls",
            "_view_module_version": "1.5.0",
            "_view_name": "HTMLView",
            "description": "",
            "description_tooltip": null,
            "layout": "IPY_MODEL_0783bd397c0642b98b165410ca62a8eb",
            "placeholder": "​",
            "style": "IPY_MODEL_21717857c975409e900f846fc3046f34",
            "value": " 252/252 [00:00&lt;00:00, 4.08kB/s]"
          }
        },
        "47b9dfe0c92546e29ca1660e566b28b0": {
          "model_module": "@jupyter-widgets/base",
          "model_name": "LayoutModel",
          "model_module_version": "1.2.0",
          "state": {
            "_model_module": "@jupyter-widgets/base",
            "_model_module_version": "1.2.0",
            "_model_name": "LayoutModel",
            "_view_count": null,
            "_view_module": "@jupyter-widgets/base",
            "_view_module_version": "1.2.0",
            "_view_name": "LayoutView",
            "align_content": null,
            "align_items": null,
            "align_self": null,
            "border": null,
            "bottom": null,
            "display": null,
            "flex": null,
            "flex_flow": null,
            "grid_area": null,
            "grid_auto_columns": null,
            "grid_auto_flow": null,
            "grid_auto_rows": null,
            "grid_column": null,
            "grid_gap": null,
            "grid_row": null,
            "grid_template_areas": null,
            "grid_template_columns": null,
            "grid_template_rows": null,
            "height": null,
            "justify_content": null,
            "justify_items": null,
            "left": null,
            "margin": null,
            "max_height": null,
            "max_width": null,
            "min_height": null,
            "min_width": null,
            "object_fit": null,
            "object_position": null,
            "order": null,
            "overflow": null,
            "overflow_x": null,
            "overflow_y": null,
            "padding": null,
            "right": null,
            "top": null,
            "visibility": null,
            "width": null
          }
        },
        "e9af5791304843d4a109433204f07609": {
          "model_module": "@jupyter-widgets/base",
          "model_name": "LayoutModel",
          "model_module_version": "1.2.0",
          "state": {
            "_model_module": "@jupyter-widgets/base",
            "_model_module_version": "1.2.0",
            "_model_name": "LayoutModel",
            "_view_count": null,
            "_view_module": "@jupyter-widgets/base",
            "_view_module_version": "1.2.0",
            "_view_name": "LayoutView",
            "align_content": null,
            "align_items": null,
            "align_self": null,
            "border": null,
            "bottom": null,
            "display": null,
            "flex": null,
            "flex_flow": null,
            "grid_area": null,
            "grid_auto_columns": null,
            "grid_auto_flow": null,
            "grid_auto_rows": null,
            "grid_column": null,
            "grid_gap": null,
            "grid_row": null,
            "grid_template_areas": null,
            "grid_template_columns": null,
            "grid_template_rows": null,
            "height": null,
            "justify_content": null,
            "justify_items": null,
            "left": null,
            "margin": null,
            "max_height": null,
            "max_width": null,
            "min_height": null,
            "min_width": null,
            "object_fit": null,
            "object_position": null,
            "order": null,
            "overflow": null,
            "overflow_x": null,
            "overflow_y": null,
            "padding": null,
            "right": null,
            "top": null,
            "visibility": null,
            "width": null
          }
        },
        "8b0b16b9051f4b0a882f6ba783092817": {
          "model_module": "@jupyter-widgets/controls",
          "model_name": "DescriptionStyleModel",
          "model_module_version": "1.5.0",
          "state": {
            "_model_module": "@jupyter-widgets/controls",
            "_model_module_version": "1.5.0",
            "_model_name": "DescriptionStyleModel",
            "_view_count": null,
            "_view_module": "@jupyter-widgets/base",
            "_view_module_version": "1.2.0",
            "_view_name": "StyleView",
            "description_width": ""
          }
        },
        "6a54befe2d944ad7925281e8e3583728": {
          "model_module": "@jupyter-widgets/base",
          "model_name": "LayoutModel",
          "model_module_version": "1.2.0",
          "state": {
            "_model_module": "@jupyter-widgets/base",
            "_model_module_version": "1.2.0",
            "_model_name": "LayoutModel",
            "_view_count": null,
            "_view_module": "@jupyter-widgets/base",
            "_view_module_version": "1.2.0",
            "_view_name": "LayoutView",
            "align_content": null,
            "align_items": null,
            "align_self": null,
            "border": null,
            "bottom": null,
            "display": null,
            "flex": null,
            "flex_flow": null,
            "grid_area": null,
            "grid_auto_columns": null,
            "grid_auto_flow": null,
            "grid_auto_rows": null,
            "grid_column": null,
            "grid_gap": null,
            "grid_row": null,
            "grid_template_areas": null,
            "grid_template_columns": null,
            "grid_template_rows": null,
            "height": null,
            "justify_content": null,
            "justify_items": null,
            "left": null,
            "margin": null,
            "max_height": null,
            "max_width": null,
            "min_height": null,
            "min_width": null,
            "object_fit": null,
            "object_position": null,
            "order": null,
            "overflow": null,
            "overflow_x": null,
            "overflow_y": null,
            "padding": null,
            "right": null,
            "top": null,
            "visibility": null,
            "width": null
          }
        },
        "795601ef90ab44578311180664f939ae": {
          "model_module": "@jupyter-widgets/controls",
          "model_name": "ProgressStyleModel",
          "model_module_version": "1.5.0",
          "state": {
            "_model_module": "@jupyter-widgets/controls",
            "_model_module_version": "1.5.0",
            "_model_name": "ProgressStyleModel",
            "_view_count": null,
            "_view_module": "@jupyter-widgets/base",
            "_view_module_version": "1.2.0",
            "_view_name": "StyleView",
            "bar_color": null,
            "description_width": ""
          }
        },
        "0783bd397c0642b98b165410ca62a8eb": {
          "model_module": "@jupyter-widgets/base",
          "model_name": "LayoutModel",
          "model_module_version": "1.2.0",
          "state": {
            "_model_module": "@jupyter-widgets/base",
            "_model_module_version": "1.2.0",
            "_model_name": "LayoutModel",
            "_view_count": null,
            "_view_module": "@jupyter-widgets/base",
            "_view_module_version": "1.2.0",
            "_view_name": "LayoutView",
            "align_content": null,
            "align_items": null,
            "align_self": null,
            "border": null,
            "bottom": null,
            "display": null,
            "flex": null,
            "flex_flow": null,
            "grid_area": null,
            "grid_auto_columns": null,
            "grid_auto_flow": null,
            "grid_auto_rows": null,
            "grid_column": null,
            "grid_gap": null,
            "grid_row": null,
            "grid_template_areas": null,
            "grid_template_columns": null,
            "grid_template_rows": null,
            "height": null,
            "justify_content": null,
            "justify_items": null,
            "left": null,
            "margin": null,
            "max_height": null,
            "max_width": null,
            "min_height": null,
            "min_width": null,
            "object_fit": null,
            "object_position": null,
            "order": null,
            "overflow": null,
            "overflow_x": null,
            "overflow_y": null,
            "padding": null,
            "right": null,
            "top": null,
            "visibility": null,
            "width": null
          }
        },
        "21717857c975409e900f846fc3046f34": {
          "model_module": "@jupyter-widgets/controls",
          "model_name": "DescriptionStyleModel",
          "model_module_version": "1.5.0",
          "state": {
            "_model_module": "@jupyter-widgets/controls",
            "_model_module_version": "1.5.0",
            "_model_name": "DescriptionStyleModel",
            "_view_count": null,
            "_view_module": "@jupyter-widgets/base",
            "_view_module_version": "1.2.0",
            "_view_name": "StyleView",
            "description_width": ""
          }
        },
        "e3bb7137fc1e4987904a484eeefa7ca1": {
          "model_module": "@jupyter-widgets/controls",
          "model_name": "HBoxModel",
          "model_module_version": "1.5.0",
          "state": {
            "_dom_classes": [],
            "_model_module": "@jupyter-widgets/controls",
            "_model_module_version": "1.5.0",
            "_model_name": "HBoxModel",
            "_view_count": null,
            "_view_module": "@jupyter-widgets/controls",
            "_view_module_version": "1.5.0",
            "_view_name": "HBoxView",
            "box_style": "",
            "children": [
              "IPY_MODEL_a81938d6576746528c81cfd85ab5f444",
              "IPY_MODEL_9c9c75c3982f43b2ac9ea8d884d1e2cf",
              "IPY_MODEL_f25ff418a0d742b6b2eeb53a3cb0e5c6"
            ],
            "layout": "IPY_MODEL_5fbef2f779f14c12b630cf6fb77dfbcb"
          }
        },
        "a81938d6576746528c81cfd85ab5f444": {
          "model_module": "@jupyter-widgets/controls",
          "model_name": "HTMLModel",
          "model_module_version": "1.5.0",
          "state": {
            "_dom_classes": [],
            "_model_module": "@jupyter-widgets/controls",
            "_model_module_version": "1.5.0",
            "_model_name": "HTMLModel",
            "_view_count": null,
            "_view_module": "@jupyter-widgets/controls",
            "_view_module_version": "1.5.0",
            "_view_name": "HTMLView",
            "description": "",
            "description_tooltip": null,
            "layout": "IPY_MODEL_9d469761a0f7406ba89f01c9ee56580a",
            "placeholder": "​",
            "style": "IPY_MODEL_3fd0464321a6432b9a761804e954cbeb",
            "value": "vocab.txt: 100%"
          }
        },
        "9c9c75c3982f43b2ac9ea8d884d1e2cf": {
          "model_module": "@jupyter-widgets/controls",
          "model_name": "FloatProgressModel",
          "model_module_version": "1.5.0",
          "state": {
            "_dom_classes": [],
            "_model_module": "@jupyter-widgets/controls",
            "_model_module_version": "1.5.0",
            "_model_name": "FloatProgressModel",
            "_view_count": null,
            "_view_module": "@jupyter-widgets/controls",
            "_view_module_version": "1.5.0",
            "_view_name": "ProgressView",
            "bar_style": "success",
            "description": "",
            "description_tooltip": null,
            "layout": "IPY_MODEL_50bff4e36f0140189be9fb3ba6276ebb",
            "max": 231508,
            "min": 0,
            "orientation": "horizontal",
            "style": "IPY_MODEL_218b38e1c68d4eed8a1dd43f07c3dff8",
            "value": 231508
          }
        },
        "f25ff418a0d742b6b2eeb53a3cb0e5c6": {
          "model_module": "@jupyter-widgets/controls",
          "model_name": "HTMLModel",
          "model_module_version": "1.5.0",
          "state": {
            "_dom_classes": [],
            "_model_module": "@jupyter-widgets/controls",
            "_model_module_version": "1.5.0",
            "_model_name": "HTMLModel",
            "_view_count": null,
            "_view_module": "@jupyter-widgets/controls",
            "_view_module_version": "1.5.0",
            "_view_name": "HTMLView",
            "description": "",
            "description_tooltip": null,
            "layout": "IPY_MODEL_734875086ed845c5ba06c134bcae124b",
            "placeholder": "​",
            "style": "IPY_MODEL_379d30aff1bf4713bb83e43274ccd2db",
            "value": " 232k/232k [00:00&lt;00:00, 3.83MB/s]"
          }
        },
        "5fbef2f779f14c12b630cf6fb77dfbcb": {
          "model_module": "@jupyter-widgets/base",
          "model_name": "LayoutModel",
          "model_module_version": "1.2.0",
          "state": {
            "_model_module": "@jupyter-widgets/base",
            "_model_module_version": "1.2.0",
            "_model_name": "LayoutModel",
            "_view_count": null,
            "_view_module": "@jupyter-widgets/base",
            "_view_module_version": "1.2.0",
            "_view_name": "LayoutView",
            "align_content": null,
            "align_items": null,
            "align_self": null,
            "border": null,
            "bottom": null,
            "display": null,
            "flex": null,
            "flex_flow": null,
            "grid_area": null,
            "grid_auto_columns": null,
            "grid_auto_flow": null,
            "grid_auto_rows": null,
            "grid_column": null,
            "grid_gap": null,
            "grid_row": null,
            "grid_template_areas": null,
            "grid_template_columns": null,
            "grid_template_rows": null,
            "height": null,
            "justify_content": null,
            "justify_items": null,
            "left": null,
            "margin": null,
            "max_height": null,
            "max_width": null,
            "min_height": null,
            "min_width": null,
            "object_fit": null,
            "object_position": null,
            "order": null,
            "overflow": null,
            "overflow_x": null,
            "overflow_y": null,
            "padding": null,
            "right": null,
            "top": null,
            "visibility": null,
            "width": null
          }
        },
        "9d469761a0f7406ba89f01c9ee56580a": {
          "model_module": "@jupyter-widgets/base",
          "model_name": "LayoutModel",
          "model_module_version": "1.2.0",
          "state": {
            "_model_module": "@jupyter-widgets/base",
            "_model_module_version": "1.2.0",
            "_model_name": "LayoutModel",
            "_view_count": null,
            "_view_module": "@jupyter-widgets/base",
            "_view_module_version": "1.2.0",
            "_view_name": "LayoutView",
            "align_content": null,
            "align_items": null,
            "align_self": null,
            "border": null,
            "bottom": null,
            "display": null,
            "flex": null,
            "flex_flow": null,
            "grid_area": null,
            "grid_auto_columns": null,
            "grid_auto_flow": null,
            "grid_auto_rows": null,
            "grid_column": null,
            "grid_gap": null,
            "grid_row": null,
            "grid_template_areas": null,
            "grid_template_columns": null,
            "grid_template_rows": null,
            "height": null,
            "justify_content": null,
            "justify_items": null,
            "left": null,
            "margin": null,
            "max_height": null,
            "max_width": null,
            "min_height": null,
            "min_width": null,
            "object_fit": null,
            "object_position": null,
            "order": null,
            "overflow": null,
            "overflow_x": null,
            "overflow_y": null,
            "padding": null,
            "right": null,
            "top": null,
            "visibility": null,
            "width": null
          }
        },
        "3fd0464321a6432b9a761804e954cbeb": {
          "model_module": "@jupyter-widgets/controls",
          "model_name": "DescriptionStyleModel",
          "model_module_version": "1.5.0",
          "state": {
            "_model_module": "@jupyter-widgets/controls",
            "_model_module_version": "1.5.0",
            "_model_name": "DescriptionStyleModel",
            "_view_count": null,
            "_view_module": "@jupyter-widgets/base",
            "_view_module_version": "1.2.0",
            "_view_name": "StyleView",
            "description_width": ""
          }
        },
        "50bff4e36f0140189be9fb3ba6276ebb": {
          "model_module": "@jupyter-widgets/base",
          "model_name": "LayoutModel",
          "model_module_version": "1.2.0",
          "state": {
            "_model_module": "@jupyter-widgets/base",
            "_model_module_version": "1.2.0",
            "_model_name": "LayoutModel",
            "_view_count": null,
            "_view_module": "@jupyter-widgets/base",
            "_view_module_version": "1.2.0",
            "_view_name": "LayoutView",
            "align_content": null,
            "align_items": null,
            "align_self": null,
            "border": null,
            "bottom": null,
            "display": null,
            "flex": null,
            "flex_flow": null,
            "grid_area": null,
            "grid_auto_columns": null,
            "grid_auto_flow": null,
            "grid_auto_rows": null,
            "grid_column": null,
            "grid_gap": null,
            "grid_row": null,
            "grid_template_areas": null,
            "grid_template_columns": null,
            "grid_template_rows": null,
            "height": null,
            "justify_content": null,
            "justify_items": null,
            "left": null,
            "margin": null,
            "max_height": null,
            "max_width": null,
            "min_height": null,
            "min_width": null,
            "object_fit": null,
            "object_position": null,
            "order": null,
            "overflow": null,
            "overflow_x": null,
            "overflow_y": null,
            "padding": null,
            "right": null,
            "top": null,
            "visibility": null,
            "width": null
          }
        },
        "218b38e1c68d4eed8a1dd43f07c3dff8": {
          "model_module": "@jupyter-widgets/controls",
          "model_name": "ProgressStyleModel",
          "model_module_version": "1.5.0",
          "state": {
            "_model_module": "@jupyter-widgets/controls",
            "_model_module_version": "1.5.0",
            "_model_name": "ProgressStyleModel",
            "_view_count": null,
            "_view_module": "@jupyter-widgets/base",
            "_view_module_version": "1.2.0",
            "_view_name": "StyleView",
            "bar_color": null,
            "description_width": ""
          }
        },
        "734875086ed845c5ba06c134bcae124b": {
          "model_module": "@jupyter-widgets/base",
          "model_name": "LayoutModel",
          "model_module_version": "1.2.0",
          "state": {
            "_model_module": "@jupyter-widgets/base",
            "_model_module_version": "1.2.0",
            "_model_name": "LayoutModel",
            "_view_count": null,
            "_view_module": "@jupyter-widgets/base",
            "_view_module_version": "1.2.0",
            "_view_name": "LayoutView",
            "align_content": null,
            "align_items": null,
            "align_self": null,
            "border": null,
            "bottom": null,
            "display": null,
            "flex": null,
            "flex_flow": null,
            "grid_area": null,
            "grid_auto_columns": null,
            "grid_auto_flow": null,
            "grid_auto_rows": null,
            "grid_column": null,
            "grid_gap": null,
            "grid_row": null,
            "grid_template_areas": null,
            "grid_template_columns": null,
            "grid_template_rows": null,
            "height": null,
            "justify_content": null,
            "justify_items": null,
            "left": null,
            "margin": null,
            "max_height": null,
            "max_width": null,
            "min_height": null,
            "min_width": null,
            "object_fit": null,
            "object_position": null,
            "order": null,
            "overflow": null,
            "overflow_x": null,
            "overflow_y": null,
            "padding": null,
            "right": null,
            "top": null,
            "visibility": null,
            "width": null
          }
        },
        "379d30aff1bf4713bb83e43274ccd2db": {
          "model_module": "@jupyter-widgets/controls",
          "model_name": "DescriptionStyleModel",
          "model_module_version": "1.5.0",
          "state": {
            "_model_module": "@jupyter-widgets/controls",
            "_model_module_version": "1.5.0",
            "_model_name": "DescriptionStyleModel",
            "_view_count": null,
            "_view_module": "@jupyter-widgets/base",
            "_view_module_version": "1.2.0",
            "_view_name": "StyleView",
            "description_width": ""
          }
        },
        "b9b215992e7a487dbb07fc9b8dd1351f": {
          "model_module": "@jupyter-widgets/controls",
          "model_name": "HBoxModel",
          "model_module_version": "1.5.0",
          "state": {
            "_dom_classes": [],
            "_model_module": "@jupyter-widgets/controls",
            "_model_module_version": "1.5.0",
            "_model_name": "HBoxModel",
            "_view_count": null,
            "_view_module": "@jupyter-widgets/controls",
            "_view_module_version": "1.5.0",
            "_view_name": "HBoxView",
            "box_style": "",
            "children": [
              "IPY_MODEL_ed71d0a2120743f7be68a93ea720f728",
              "IPY_MODEL_0fc370c7add449dbac2b86cdb047e39b",
              "IPY_MODEL_b8be9c250d234673ae52adbf79c125c6"
            ],
            "layout": "IPY_MODEL_eb0f281662ec4872af0460452c0d4ea4"
          }
        },
        "ed71d0a2120743f7be68a93ea720f728": {
          "model_module": "@jupyter-widgets/controls",
          "model_name": "HTMLModel",
          "model_module_version": "1.5.0",
          "state": {
            "_dom_classes": [],
            "_model_module": "@jupyter-widgets/controls",
            "_model_module_version": "1.5.0",
            "_model_name": "HTMLModel",
            "_view_count": null,
            "_view_module": "@jupyter-widgets/controls",
            "_view_module_version": "1.5.0",
            "_view_name": "HTMLView",
            "description": "",
            "description_tooltip": null,
            "layout": "IPY_MODEL_e8907a8e77b9420fbf41c3de0de3d0cb",
            "placeholder": "​",
            "style": "IPY_MODEL_b9cc285f3b1e4a30b2d9000f25b7de90",
            "value": "special_tokens_map.json: 100%"
          }
        },
        "0fc370c7add449dbac2b86cdb047e39b": {
          "model_module": "@jupyter-widgets/controls",
          "model_name": "FloatProgressModel",
          "model_module_version": "1.5.0",
          "state": {
            "_dom_classes": [],
            "_model_module": "@jupyter-widgets/controls",
            "_model_module_version": "1.5.0",
            "_model_name": "FloatProgressModel",
            "_view_count": null,
            "_view_module": "@jupyter-widgets/controls",
            "_view_module_version": "1.5.0",
            "_view_name": "ProgressView",
            "bar_style": "success",
            "description": "",
            "description_tooltip": null,
            "layout": "IPY_MODEL_aeb360585a994a3d8618ebdf73d36ef2",
            "max": 112,
            "min": 0,
            "orientation": "horizontal",
            "style": "IPY_MODEL_1020b4acb63440ada5cd2ddacb9e8794",
            "value": 112
          }
        },
        "b8be9c250d234673ae52adbf79c125c6": {
          "model_module": "@jupyter-widgets/controls",
          "model_name": "HTMLModel",
          "model_module_version": "1.5.0",
          "state": {
            "_dom_classes": [],
            "_model_module": "@jupyter-widgets/controls",
            "_model_module_version": "1.5.0",
            "_model_name": "HTMLModel",
            "_view_count": null,
            "_view_module": "@jupyter-widgets/controls",
            "_view_module_version": "1.5.0",
            "_view_name": "HTMLView",
            "description": "",
            "description_tooltip": null,
            "layout": "IPY_MODEL_06fdcbba4ba04ac3895f8e1566fe6cb6",
            "placeholder": "​",
            "style": "IPY_MODEL_d86d409f881e4b7496900c3434c951a9",
            "value": " 112/112 [00:00&lt;00:00, 2.80kB/s]"
          }
        },
        "eb0f281662ec4872af0460452c0d4ea4": {
          "model_module": "@jupyter-widgets/base",
          "model_name": "LayoutModel",
          "model_module_version": "1.2.0",
          "state": {
            "_model_module": "@jupyter-widgets/base",
            "_model_module_version": "1.2.0",
            "_model_name": "LayoutModel",
            "_view_count": null,
            "_view_module": "@jupyter-widgets/base",
            "_view_module_version": "1.2.0",
            "_view_name": "LayoutView",
            "align_content": null,
            "align_items": null,
            "align_self": null,
            "border": null,
            "bottom": null,
            "display": null,
            "flex": null,
            "flex_flow": null,
            "grid_area": null,
            "grid_auto_columns": null,
            "grid_auto_flow": null,
            "grid_auto_rows": null,
            "grid_column": null,
            "grid_gap": null,
            "grid_row": null,
            "grid_template_areas": null,
            "grid_template_columns": null,
            "grid_template_rows": null,
            "height": null,
            "justify_content": null,
            "justify_items": null,
            "left": null,
            "margin": null,
            "max_height": null,
            "max_width": null,
            "min_height": null,
            "min_width": null,
            "object_fit": null,
            "object_position": null,
            "order": null,
            "overflow": null,
            "overflow_x": null,
            "overflow_y": null,
            "padding": null,
            "right": null,
            "top": null,
            "visibility": null,
            "width": null
          }
        },
        "e8907a8e77b9420fbf41c3de0de3d0cb": {
          "model_module": "@jupyter-widgets/base",
          "model_name": "LayoutModel",
          "model_module_version": "1.2.0",
          "state": {
            "_model_module": "@jupyter-widgets/base",
            "_model_module_version": "1.2.0",
            "_model_name": "LayoutModel",
            "_view_count": null,
            "_view_module": "@jupyter-widgets/base",
            "_view_module_version": "1.2.0",
            "_view_name": "LayoutView",
            "align_content": null,
            "align_items": null,
            "align_self": null,
            "border": null,
            "bottom": null,
            "display": null,
            "flex": null,
            "flex_flow": null,
            "grid_area": null,
            "grid_auto_columns": null,
            "grid_auto_flow": null,
            "grid_auto_rows": null,
            "grid_column": null,
            "grid_gap": null,
            "grid_row": null,
            "grid_template_areas": null,
            "grid_template_columns": null,
            "grid_template_rows": null,
            "height": null,
            "justify_content": null,
            "justify_items": null,
            "left": null,
            "margin": null,
            "max_height": null,
            "max_width": null,
            "min_height": null,
            "min_width": null,
            "object_fit": null,
            "object_position": null,
            "order": null,
            "overflow": null,
            "overflow_x": null,
            "overflow_y": null,
            "padding": null,
            "right": null,
            "top": null,
            "visibility": null,
            "width": null
          }
        },
        "b9cc285f3b1e4a30b2d9000f25b7de90": {
          "model_module": "@jupyter-widgets/controls",
          "model_name": "DescriptionStyleModel",
          "model_module_version": "1.5.0",
          "state": {
            "_model_module": "@jupyter-widgets/controls",
            "_model_module_version": "1.5.0",
            "_model_name": "DescriptionStyleModel",
            "_view_count": null,
            "_view_module": "@jupyter-widgets/base",
            "_view_module_version": "1.2.0",
            "_view_name": "StyleView",
            "description_width": ""
          }
        },
        "aeb360585a994a3d8618ebdf73d36ef2": {
          "model_module": "@jupyter-widgets/base",
          "model_name": "LayoutModel",
          "model_module_version": "1.2.0",
          "state": {
            "_model_module": "@jupyter-widgets/base",
            "_model_module_version": "1.2.0",
            "_model_name": "LayoutModel",
            "_view_count": null,
            "_view_module": "@jupyter-widgets/base",
            "_view_module_version": "1.2.0",
            "_view_name": "LayoutView",
            "align_content": null,
            "align_items": null,
            "align_self": null,
            "border": null,
            "bottom": null,
            "display": null,
            "flex": null,
            "flex_flow": null,
            "grid_area": null,
            "grid_auto_columns": null,
            "grid_auto_flow": null,
            "grid_auto_rows": null,
            "grid_column": null,
            "grid_gap": null,
            "grid_row": null,
            "grid_template_areas": null,
            "grid_template_columns": null,
            "grid_template_rows": null,
            "height": null,
            "justify_content": null,
            "justify_items": null,
            "left": null,
            "margin": null,
            "max_height": null,
            "max_width": null,
            "min_height": null,
            "min_width": null,
            "object_fit": null,
            "object_position": null,
            "order": null,
            "overflow": null,
            "overflow_x": null,
            "overflow_y": null,
            "padding": null,
            "right": null,
            "top": null,
            "visibility": null,
            "width": null
          }
        },
        "1020b4acb63440ada5cd2ddacb9e8794": {
          "model_module": "@jupyter-widgets/controls",
          "model_name": "ProgressStyleModel",
          "model_module_version": "1.5.0",
          "state": {
            "_model_module": "@jupyter-widgets/controls",
            "_model_module_version": "1.5.0",
            "_model_name": "ProgressStyleModel",
            "_view_count": null,
            "_view_module": "@jupyter-widgets/base",
            "_view_module_version": "1.2.0",
            "_view_name": "StyleView",
            "bar_color": null,
            "description_width": ""
          }
        },
        "06fdcbba4ba04ac3895f8e1566fe6cb6": {
          "model_module": "@jupyter-widgets/base",
          "model_name": "LayoutModel",
          "model_module_version": "1.2.0",
          "state": {
            "_model_module": "@jupyter-widgets/base",
            "_model_module_version": "1.2.0",
            "_model_name": "LayoutModel",
            "_view_count": null,
            "_view_module": "@jupyter-widgets/base",
            "_view_module_version": "1.2.0",
            "_view_name": "LayoutView",
            "align_content": null,
            "align_items": null,
            "align_self": null,
            "border": null,
            "bottom": null,
            "display": null,
            "flex": null,
            "flex_flow": null,
            "grid_area": null,
            "grid_auto_columns": null,
            "grid_auto_flow": null,
            "grid_auto_rows": null,
            "grid_column": null,
            "grid_gap": null,
            "grid_row": null,
            "grid_template_areas": null,
            "grid_template_columns": null,
            "grid_template_rows": null,
            "height": null,
            "justify_content": null,
            "justify_items": null,
            "left": null,
            "margin": null,
            "max_height": null,
            "max_width": null,
            "min_height": null,
            "min_width": null,
            "object_fit": null,
            "object_position": null,
            "order": null,
            "overflow": null,
            "overflow_x": null,
            "overflow_y": null,
            "padding": null,
            "right": null,
            "top": null,
            "visibility": null,
            "width": null
          }
        },
        "d86d409f881e4b7496900c3434c951a9": {
          "model_module": "@jupyter-widgets/controls",
          "model_name": "DescriptionStyleModel",
          "model_module_version": "1.5.0",
          "state": {
            "_model_module": "@jupyter-widgets/controls",
            "_model_module_version": "1.5.0",
            "_model_name": "DescriptionStyleModel",
            "_view_count": null,
            "_view_module": "@jupyter-widgets/base",
            "_view_module_version": "1.2.0",
            "_view_name": "StyleView",
            "description_width": ""
          }
        }
      }
    }
  },
  "cells": [
    {
      "cell_type": "markdown",
      "source": [
        "FinBERT testing with named entity recognition"
      ],
      "metadata": {
        "id": "yPWUm4M98Dbv"
      }
    },
    {
      "cell_type": "code",
      "execution_count": 1,
      "metadata": {
        "id": "isOR_Fw_8Bt7"
      },
      "outputs": [],
      "source": [
        "!pip install -q transformers"
      ]
    },
    {
      "cell_type": "code",
      "source": [
        "!pip install -q newspaper3k pandas numpy"
      ],
      "metadata": {
        "colab": {
          "base_uri": "https://localhost:8080/"
        },
        "id": "rbGuQYudHlxY",
        "outputId": "15902622-f8d4-4505-c6fe-8def915ffdeb"
      },
      "execution_count": 2,
      "outputs": [
        {
          "output_type": "stream",
          "name": "stdout",
          "text": [
            "  Preparing metadata (setup.py) ... \u001b[?25l\u001b[?25hdone\n",
            "\u001b[2K     \u001b[90m━━━━━━━━━━━━━━━━━━━━━━━━━━━━━━━━━━━━━━━━\u001b[0m \u001b[32m7.4/7.4 MB\u001b[0m \u001b[31m22.9 MB/s\u001b[0m eta \u001b[36m0:00:00\u001b[0m\n",
            "\u001b[?25h  Preparing metadata (setup.py) ... \u001b[?25l\u001b[?25hdone\n",
            "  Preparing metadata (setup.py) ... \u001b[?25l\u001b[?25hdone\n",
            "  Preparing metadata (setup.py) ... \u001b[?25l\u001b[?25hdone\n",
            "\u001b[2K   \u001b[90m━━━━━━━━━━━━━━━━━━━━━━━━━━━━━━━━━━━━━━━━\u001b[0m \u001b[32m211.1/211.1 kB\u001b[0m \u001b[31m11.1 MB/s\u001b[0m eta \u001b[36m0:00:00\u001b[0m\n",
            "\u001b[2K   \u001b[90m━━━━━━━━━━━━━━━━━━━━━━━━━━━━━━━━━━━━━━━━\u001b[0m \u001b[32m81.3/81.3 kB\u001b[0m \u001b[31m3.2 MB/s\u001b[0m eta \u001b[36m0:00:00\u001b[0m\n",
            "\u001b[2K   \u001b[90m━━━━━━━━━━━━━━━━━━━━━━━━━━━━━━━━━━━━━━━━\u001b[0m \u001b[32m104.9/104.9 kB\u001b[0m \u001b[31m6.5 MB/s\u001b[0m eta \u001b[36m0:00:00\u001b[0m\n",
            "\u001b[?25h  Building wheel for tinysegmenter (setup.py) ... \u001b[?25l\u001b[?25hdone\n",
            "  Building wheel for feedfinder2 (setup.py) ... \u001b[?25l\u001b[?25hdone\n",
            "  Building wheel for jieba3k (setup.py) ... \u001b[?25l\u001b[?25hdone\n",
            "  Building wheel for sgmllib3k (setup.py) ... \u001b[?25l\u001b[?25hdone\n"
          ]
        }
      ]
    },
    {
      "cell_type": "code",
      "source": [
        "!pip install -q lxml-html-clean"
      ],
      "metadata": {
        "id": "ii4fcVDzjFx8"
      },
      "execution_count": 3,
      "outputs": []
    },
    {
      "cell_type": "code",
      "source": [
        "import pandas as pd\n",
        "import numpy as np\n",
        "import torch"
      ],
      "metadata": {
        "id": "OWV7T2_JH7Ok"
      },
      "execution_count": 4,
      "outputs": []
    },
    {
      "cell_type": "code",
      "source": [
        "print(torch.cuda.is_available())\n",
        "print(torch.cuda.device_count())"
      ],
      "metadata": {
        "id": "JsJ2EYCuIUlz",
        "colab": {
          "base_uri": "https://localhost:8080/"
        },
        "outputId": "b23c0388-37a0-4db1-b738-78c1b32992c9"
      },
      "execution_count": 5,
      "outputs": [
        {
          "output_type": "stream",
          "name": "stdout",
          "text": [
            "False\n",
            "0\n"
          ]
        }
      ]
    },
    {
      "cell_type": "code",
      "source": [
        "from transformers import pipeline\n",
        "\n",
        "pipe = pipeline(\"sentiment-analysis\", model=\"ProsusAI/finbert\", device=0 if torch.cuda.is_available() else -1)"
      ],
      "metadata": {
        "id": "Ie4ZyFLX8qr3",
        "colab": {
          "base_uri": "https://localhost:8080/",
          "height": 304,
          "referenced_widgets": [
            "2ae3ddd1ab2d44588b8653e63193f84f",
            "9632446b0d964013b8300daa6a1b6a30",
            "504f5ab5416c463789daf35e3289bbfb",
            "03bbe5fcc91f42669cc870afadedd17d",
            "ce1da37afa88440b8a0b3e784828a20f",
            "628560a5c4254ee68df8491c69e2f6b3",
            "18843e6ac9354f52a906418ccceb033f",
            "b31a9c1e711b44fc9bc1ebb458bfdfd5",
            "0521233742c240cb894ad7970de85fc6",
            "cbce3ae8ee64485385a0f4b50354f2c5",
            "07be498b47dd4494bd9a23e95cfd2fa6",
            "2c1ec7e9b74041908e808533f92f26ca",
            "8a9014a0964d43c7b829c2b9b253016c",
            "81fdabaffb0742c1b13400a1db5e6e75",
            "8a71439d9ce744488055bf203fe1663e",
            "cf2edd0a97234f01bd5eec02c3391dde",
            "db7d619d9cae4b98b8b006690cb83bf6",
            "97e26afabe19440d8548cb151b431152",
            "044fda25935d424eb81f1fe239e528fb",
            "3218d54290cf4a94b0f9d056465e7427",
            "46c33a46e79e43c192bd0a971164a775",
            "940b8cfd6d3a40589146e1ac11ba5c17",
            "96003938bc42408e9a1724ca69211a45",
            "6d40b5dfb4ca4aed9bc802bf4d5eebe3",
            "d40757fbf0284e909acbf9e0d0bfcf55",
            "f9ae55c99b314812abd05557ea6b656e",
            "47b9dfe0c92546e29ca1660e566b28b0",
            "e9af5791304843d4a109433204f07609",
            "8b0b16b9051f4b0a882f6ba783092817",
            "6a54befe2d944ad7925281e8e3583728",
            "795601ef90ab44578311180664f939ae",
            "0783bd397c0642b98b165410ca62a8eb",
            "21717857c975409e900f846fc3046f34",
            "e3bb7137fc1e4987904a484eeefa7ca1",
            "a81938d6576746528c81cfd85ab5f444",
            "9c9c75c3982f43b2ac9ea8d884d1e2cf",
            "f25ff418a0d742b6b2eeb53a3cb0e5c6",
            "5fbef2f779f14c12b630cf6fb77dfbcb",
            "9d469761a0f7406ba89f01c9ee56580a",
            "3fd0464321a6432b9a761804e954cbeb",
            "50bff4e36f0140189be9fb3ba6276ebb",
            "218b38e1c68d4eed8a1dd43f07c3dff8",
            "734875086ed845c5ba06c134bcae124b",
            "379d30aff1bf4713bb83e43274ccd2db",
            "b9b215992e7a487dbb07fc9b8dd1351f",
            "ed71d0a2120743f7be68a93ea720f728",
            "0fc370c7add449dbac2b86cdb047e39b",
            "b8be9c250d234673ae52adbf79c125c6",
            "eb0f281662ec4872af0460452c0d4ea4",
            "e8907a8e77b9420fbf41c3de0de3d0cb",
            "b9cc285f3b1e4a30b2d9000f25b7de90",
            "aeb360585a994a3d8618ebdf73d36ef2",
            "1020b4acb63440ada5cd2ddacb9e8794",
            "06fdcbba4ba04ac3895f8e1566fe6cb6",
            "d86d409f881e4b7496900c3434c951a9"
          ]
        },
        "outputId": "32251501-e83d-4fdb-cebb-c90817e7c651"
      },
      "execution_count": 6,
      "outputs": [
        {
          "output_type": "stream",
          "name": "stderr",
          "text": [
            "/usr/local/lib/python3.10/dist-packages/huggingface_hub/utils/_auth.py:94: UserWarning: \n",
            "The secret `HF_TOKEN` does not exist in your Colab secrets.\n",
            "To authenticate with the Hugging Face Hub, create a token in your settings tab (https://huggingface.co/settings/tokens), set it as secret in your Google Colab and restart your session.\n",
            "You will be able to reuse this secret in all of your notebooks.\n",
            "Please note that authentication is recommended but still optional to access public models or datasets.\n",
            "  warnings.warn(\n"
          ]
        },
        {
          "output_type": "display_data",
          "data": {
            "text/plain": [
              "config.json:   0%|          | 0.00/758 [00:00<?, ?B/s]"
            ],
            "application/vnd.jupyter.widget-view+json": {
              "version_major": 2,
              "version_minor": 0,
              "model_id": "2ae3ddd1ab2d44588b8653e63193f84f"
            }
          },
          "metadata": {}
        },
        {
          "output_type": "display_data",
          "data": {
            "text/plain": [
              "pytorch_model.bin:   0%|          | 0.00/438M [00:00<?, ?B/s]"
            ],
            "application/vnd.jupyter.widget-view+json": {
              "version_major": 2,
              "version_minor": 0,
              "model_id": "2c1ec7e9b74041908e808533f92f26ca"
            }
          },
          "metadata": {}
        },
        {
          "output_type": "display_data",
          "data": {
            "text/plain": [
              "tokenizer_config.json:   0%|          | 0.00/252 [00:00<?, ?B/s]"
            ],
            "application/vnd.jupyter.widget-view+json": {
              "version_major": 2,
              "version_minor": 0,
              "model_id": "96003938bc42408e9a1724ca69211a45"
            }
          },
          "metadata": {}
        },
        {
          "output_type": "display_data",
          "data": {
            "text/plain": [
              "vocab.txt:   0%|          | 0.00/232k [00:00<?, ?B/s]"
            ],
            "application/vnd.jupyter.widget-view+json": {
              "version_major": 2,
              "version_minor": 0,
              "model_id": "e3bb7137fc1e4987904a484eeefa7ca1"
            }
          },
          "metadata": {}
        },
        {
          "output_type": "display_data",
          "data": {
            "text/plain": [
              "special_tokens_map.json:   0%|          | 0.00/112 [00:00<?, ?B/s]"
            ],
            "application/vnd.jupyter.widget-view+json": {
              "version_major": 2,
              "version_minor": 0,
              "model_id": "b9b215992e7a487dbb07fc9b8dd1351f"
            }
          },
          "metadata": {}
        }
      ]
    },
    {
      "cell_type": "code",
      "source": [
        "test_data = [\"Adherents of the Dogs strategy assume that the highest yielding Dow stocks are unfairly and temporarily depressed. That presumably means they'll hold up better than the S&P 500. And that seems to be the case in 2022. Adding the Dogs stocks' 4% average dividend yield coming into 2022 plus their average 1.8% drop still left investors with a positive return of more than 2% on the stocks. Additionally, half of last year's Dogs, including International Business Machines (IBM), Chevron (CVX), Merck (MRK), Amgen (AMGN), and Coca-Cola (KO) posted gains in 2022. Chevron alone gained 53% on top of yielding 4.6%.\",\n",
        "             \"The biggest dog of them all for 2023 is fallen communication services firm Verizon (VZ). The company, which has seen its stock drop 24% in 2022, is now yielding more than any other Dow stock: 6.5%. It's important to note, though, there's a reason Verizon's stock is shrinking. Verizon's profit is seen falling nearly 4% in 2022 and nearly 3% in 2023.\",\n",
        "             \"the most average stock is stock ABC, which did not change at all\"]"
      ],
      "metadata": {
        "id": "eZNPi3VS9NF5"
      },
      "execution_count": 7,
      "outputs": []
    },
    {
      "cell_type": "code",
      "source": [
        "result = pipe(test_data)\n",
        "print(result)"
      ],
      "metadata": {
        "colab": {
          "base_uri": "https://localhost:8080/"
        },
        "id": "9U2qW973F3Ox",
        "outputId": "05eade07-e74f-4117-968e-765015887533"
      },
      "execution_count": 8,
      "outputs": [
        {
          "output_type": "stream",
          "name": "stdout",
          "text": [
            "[{'label': 'positive', 'score': 0.8819694519042969}, {'label': 'negative', 'score': 0.9748380184173584}, {'label': 'neutral', 'score': 0.9416248202323914}]\n"
          ]
        }
      ]
    },
    {
      "cell_type": "markdown",
      "source": [
        "spacy"
      ],
      "metadata": {
        "id": "NPID4OGeyxrb"
      }
    },
    {
      "cell_type": "code",
      "source": [
        "!pip install -q spacy"
      ],
      "metadata": {
        "id": "fmT1PYINyxHw"
      },
      "execution_count": 9,
      "outputs": []
    },
    {
      "cell_type": "code",
      "source": [
        "import spacy\n",
        "\n",
        "nlp = spacy.load(\"en_core_web_sm\")"
      ],
      "metadata": {
        "id": "MHKn-oEqy599"
      },
      "execution_count": 10,
      "outputs": []
    },
    {
      "cell_type": "code",
      "source": [
        "txt = \"Adherents of the Dogs strategy assume that the highest yielding Dow stocks are unfairly and temporarily depressed. That presumably means they'll hold up better than the S&P 500. And that seems to be the case in 2022. Adding the Dogs stocks' 4% average dividend yield coming into 2022 plus their average 1.8% drop still left investors with a positive return of more than 2% on the stocks. Additionally, half of last year's Dogs, including International Business Machines (IBM), Chevron (CVX), Merck (MRK), Amgen (AMGN), and Coca-Cola (KO) posted gains in 2022. Chevron alone gained 53% on top of yielding 4.6%.\"\n",
        "doc = nlp(txt)\n",
        "\n",
        "for ent in doc.ents:\n",
        "    print(ent.text, ent.start_char, ent.end_char, ent.label_)"
      ],
      "metadata": {
        "colab": {
          "base_uri": "https://localhost:8080/"
        },
        "id": "zHpUKXLrzJhF",
        "outputId": "1e160b3f-5e1d-4afe-b779-aa7a7686527f"
      },
      "execution_count": 11,
      "outputs": [
        {
          "output_type": "stream",
          "name": "stdout",
          "text": [
            "Dow 64 67 ORG\n",
            "2022 211 215 DATE\n",
            "4% 241 243 PERCENT\n",
            "2022 279 283 DATE\n",
            "1.8% 303 307 PERCENT\n",
            "more than 2% 360 372 PERCENT\n",
            "half of last year's 402 421 DATE\n",
            "International Business Machines 438 469 ORG\n",
            "IBM 471 474 ORG\n",
            "Chevron 477 484 ORG\n",
            "CVX 486 489 ORG\n",
            "Merck 492 497 ORG\n",
            "Amgen 505 510 ORG\n",
            "AMGN 512 516 ORG\n",
            "Coca-Cola 523 532 ORG\n",
            "2022 554 558 DATE\n",
            "Chevron 560 567 ORG\n",
            "53% 581 584 PERCENT\n",
            "4.6% 604 608 PERCENT\n"
          ]
        }
      ]
    },
    {
      "cell_type": "markdown",
      "source": [
        "Upload local files for comparison"
      ],
      "metadata": {
        "id": "A1l0n0S1HhiT"
      }
    },
    {
      "cell_type": "code",
      "source": [
        "from transformers import AutoTokenizer, AutoModelForSequenceClassification\n",
        "\n",
        "# Load FinBERT model and tokenizer once\n",
        "model_name = \"ProsusAI/finbert\"\n",
        "tokenizer = AutoTokenizer.from_pretrained(model_name)\n",
        "model = AutoModelForSequenceClassification.from_pretrained(model_name)\n",
        "\n",
        "device = torch.device(\"cuda\" if torch.cuda.is_available() else \"cpu\")\n",
        "\n",
        "model.to(device)\n",
        "\n"
      ],
      "metadata": {
        "colab": {
          "base_uri": "https://localhost:8080/"
        },
        "id": "wS1cxDAkvz4k",
        "outputId": "18fc29c3-4235-43d0-9b3a-f29042a1a430"
      },
      "execution_count": 12,
      "outputs": [
        {
          "output_type": "execute_result",
          "data": {
            "text/plain": [
              "BertForSequenceClassification(\n",
              "  (bert): BertModel(\n",
              "    (embeddings): BertEmbeddings(\n",
              "      (word_embeddings): Embedding(30522, 768, padding_idx=0)\n",
              "      (position_embeddings): Embedding(512, 768)\n",
              "      (token_type_embeddings): Embedding(2, 768)\n",
              "      (LayerNorm): LayerNorm((768,), eps=1e-12, elementwise_affine=True)\n",
              "      (dropout): Dropout(p=0.1, inplace=False)\n",
              "    )\n",
              "    (encoder): BertEncoder(\n",
              "      (layer): ModuleList(\n",
              "        (0-11): 12 x BertLayer(\n",
              "          (attention): BertAttention(\n",
              "            (self): BertSdpaSelfAttention(\n",
              "              (query): Linear(in_features=768, out_features=768, bias=True)\n",
              "              (key): Linear(in_features=768, out_features=768, bias=True)\n",
              "              (value): Linear(in_features=768, out_features=768, bias=True)\n",
              "              (dropout): Dropout(p=0.1, inplace=False)\n",
              "            )\n",
              "            (output): BertSelfOutput(\n",
              "              (dense): Linear(in_features=768, out_features=768, bias=True)\n",
              "              (LayerNorm): LayerNorm((768,), eps=1e-12, elementwise_affine=True)\n",
              "              (dropout): Dropout(p=0.1, inplace=False)\n",
              "            )\n",
              "          )\n",
              "          (intermediate): BertIntermediate(\n",
              "            (dense): Linear(in_features=768, out_features=3072, bias=True)\n",
              "            (intermediate_act_fn): GELUActivation()\n",
              "          )\n",
              "          (output): BertOutput(\n",
              "            (dense): Linear(in_features=3072, out_features=768, bias=True)\n",
              "            (LayerNorm): LayerNorm((768,), eps=1e-12, elementwise_affine=True)\n",
              "            (dropout): Dropout(p=0.1, inplace=False)\n",
              "          )\n",
              "        )\n",
              "      )\n",
              "    )\n",
              "    (pooler): BertPooler(\n",
              "      (dense): Linear(in_features=768, out_features=768, bias=True)\n",
              "      (activation): Tanh()\n",
              "    )\n",
              "  )\n",
              "  (dropout): Dropout(p=0.1, inplace=False)\n",
              "  (classifier): Linear(in_features=768, out_features=3, bias=True)\n",
              ")"
            ]
          },
          "metadata": {},
          "execution_count": 12
        }
      ]
    },
    {
      "cell_type": "code",
      "source": [
        "from newspaper import Article"
      ],
      "metadata": {
        "id": "DUoJtUpIi4Mn"
      },
      "execution_count": 11,
      "outputs": []
    },
    {
      "cell_type": "code",
      "source": [
        "!ls"
      ],
      "metadata": {
        "colab": {
          "base_uri": "https://localhost:8080/"
        },
        "id": "TJ0cmNpcPy7Q",
        "outputId": "20614213-fa0e-41e7-bbc4-0d79236778ee"
      },
      "execution_count": 12,
      "outputs": [
        {
          "output_type": "stream",
          "name": "stdout",
          "text": [
            "sample_data\n"
          ]
        }
      ]
    },
    {
      "cell_type": "code",
      "source": [
        "from google.colab import files\n",
        "uploaded = files.upload()"
      ],
      "metadata": {
        "colab": {
          "base_uri": "https://localhost:8080/",
          "height": 109
        },
        "id": "RxZqGJ8fHgEc",
        "outputId": "df760875-6663-4daf-a844-021722c7f4c9"
      },
      "execution_count": 13,
      "outputs": [
        {
          "output_type": "display_data",
          "data": {
            "text/plain": [
              "<IPython.core.display.HTML object>"
            ],
            "text/html": [
              "\n",
              "     <input type=\"file\" id=\"files-331bdd66-1d7c-4915-980d-7882f1c68367\" name=\"files[]\" multiple disabled\n",
              "        style=\"border:none\" />\n",
              "     <output id=\"result-331bdd66-1d7c-4915-980d-7882f1c68367\">\n",
              "      Upload widget is only available when the cell has been executed in the\n",
              "      current browser session. Please rerun this cell to enable.\n",
              "      </output>\n",
              "      <script>// Copyright 2017 Google LLC\n",
              "//\n",
              "// Licensed under the Apache License, Version 2.0 (the \"License\");\n",
              "// you may not use this file except in compliance with the License.\n",
              "// You may obtain a copy of the License at\n",
              "//\n",
              "//      http://www.apache.org/licenses/LICENSE-2.0\n",
              "//\n",
              "// Unless required by applicable law or agreed to in writing, software\n",
              "// distributed under the License is distributed on an \"AS IS\" BASIS,\n",
              "// WITHOUT WARRANTIES OR CONDITIONS OF ANY KIND, either express or implied.\n",
              "// See the License for the specific language governing permissions and\n",
              "// limitations under the License.\n",
              "\n",
              "/**\n",
              " * @fileoverview Helpers for google.colab Python module.\n",
              " */\n",
              "(function(scope) {\n",
              "function span(text, styleAttributes = {}) {\n",
              "  const element = document.createElement('span');\n",
              "  element.textContent = text;\n",
              "  for (const key of Object.keys(styleAttributes)) {\n",
              "    element.style[key] = styleAttributes[key];\n",
              "  }\n",
              "  return element;\n",
              "}\n",
              "\n",
              "// Max number of bytes which will be uploaded at a time.\n",
              "const MAX_PAYLOAD_SIZE = 100 * 1024;\n",
              "\n",
              "function _uploadFiles(inputId, outputId) {\n",
              "  const steps = uploadFilesStep(inputId, outputId);\n",
              "  const outputElement = document.getElementById(outputId);\n",
              "  // Cache steps on the outputElement to make it available for the next call\n",
              "  // to uploadFilesContinue from Python.\n",
              "  outputElement.steps = steps;\n",
              "\n",
              "  return _uploadFilesContinue(outputId);\n",
              "}\n",
              "\n",
              "// This is roughly an async generator (not supported in the browser yet),\n",
              "// where there are multiple asynchronous steps and the Python side is going\n",
              "// to poll for completion of each step.\n",
              "// This uses a Promise to block the python side on completion of each step,\n",
              "// then passes the result of the previous step as the input to the next step.\n",
              "function _uploadFilesContinue(outputId) {\n",
              "  const outputElement = document.getElementById(outputId);\n",
              "  const steps = outputElement.steps;\n",
              "\n",
              "  const next = steps.next(outputElement.lastPromiseValue);\n",
              "  return Promise.resolve(next.value.promise).then((value) => {\n",
              "    // Cache the last promise value to make it available to the next\n",
              "    // step of the generator.\n",
              "    outputElement.lastPromiseValue = value;\n",
              "    return next.value.response;\n",
              "  });\n",
              "}\n",
              "\n",
              "/**\n",
              " * Generator function which is called between each async step of the upload\n",
              " * process.\n",
              " * @param {string} inputId Element ID of the input file picker element.\n",
              " * @param {string} outputId Element ID of the output display.\n",
              " * @return {!Iterable<!Object>} Iterable of next steps.\n",
              " */\n",
              "function* uploadFilesStep(inputId, outputId) {\n",
              "  const inputElement = document.getElementById(inputId);\n",
              "  inputElement.disabled = false;\n",
              "\n",
              "  const outputElement = document.getElementById(outputId);\n",
              "  outputElement.innerHTML = '';\n",
              "\n",
              "  const pickedPromise = new Promise((resolve) => {\n",
              "    inputElement.addEventListener('change', (e) => {\n",
              "      resolve(e.target.files);\n",
              "    });\n",
              "  });\n",
              "\n",
              "  const cancel = document.createElement('button');\n",
              "  inputElement.parentElement.appendChild(cancel);\n",
              "  cancel.textContent = 'Cancel upload';\n",
              "  const cancelPromise = new Promise((resolve) => {\n",
              "    cancel.onclick = () => {\n",
              "      resolve(null);\n",
              "    };\n",
              "  });\n",
              "\n",
              "  // Wait for the user to pick the files.\n",
              "  const files = yield {\n",
              "    promise: Promise.race([pickedPromise, cancelPromise]),\n",
              "    response: {\n",
              "      action: 'starting',\n",
              "    }\n",
              "  };\n",
              "\n",
              "  cancel.remove();\n",
              "\n",
              "  // Disable the input element since further picks are not allowed.\n",
              "  inputElement.disabled = true;\n",
              "\n",
              "  if (!files) {\n",
              "    return {\n",
              "      response: {\n",
              "        action: 'complete',\n",
              "      }\n",
              "    };\n",
              "  }\n",
              "\n",
              "  for (const file of files) {\n",
              "    const li = document.createElement('li');\n",
              "    li.append(span(file.name, {fontWeight: 'bold'}));\n",
              "    li.append(span(\n",
              "        `(${file.type || 'n/a'}) - ${file.size} bytes, ` +\n",
              "        `last modified: ${\n",
              "            file.lastModifiedDate ? file.lastModifiedDate.toLocaleDateString() :\n",
              "                                    'n/a'} - `));\n",
              "    const percent = span('0% done');\n",
              "    li.appendChild(percent);\n",
              "\n",
              "    outputElement.appendChild(li);\n",
              "\n",
              "    const fileDataPromise = new Promise((resolve) => {\n",
              "      const reader = new FileReader();\n",
              "      reader.onload = (e) => {\n",
              "        resolve(e.target.result);\n",
              "      };\n",
              "      reader.readAsArrayBuffer(file);\n",
              "    });\n",
              "    // Wait for the data to be ready.\n",
              "    let fileData = yield {\n",
              "      promise: fileDataPromise,\n",
              "      response: {\n",
              "        action: 'continue',\n",
              "      }\n",
              "    };\n",
              "\n",
              "    // Use a chunked sending to avoid message size limits. See b/62115660.\n",
              "    let position = 0;\n",
              "    do {\n",
              "      const length = Math.min(fileData.byteLength - position, MAX_PAYLOAD_SIZE);\n",
              "      const chunk = new Uint8Array(fileData, position, length);\n",
              "      position += length;\n",
              "\n",
              "      const base64 = btoa(String.fromCharCode.apply(null, chunk));\n",
              "      yield {\n",
              "        response: {\n",
              "          action: 'append',\n",
              "          file: file.name,\n",
              "          data: base64,\n",
              "        },\n",
              "      };\n",
              "\n",
              "      let percentDone = fileData.byteLength === 0 ?\n",
              "          100 :\n",
              "          Math.round((position / fileData.byteLength) * 100);\n",
              "      percent.textContent = `${percentDone}% done`;\n",
              "\n",
              "    } while (position < fileData.byteLength);\n",
              "  }\n",
              "\n",
              "  // All done.\n",
              "  yield {\n",
              "    response: {\n",
              "      action: 'complete',\n",
              "    }\n",
              "  };\n",
              "}\n",
              "\n",
              "scope.google = scope.google || {};\n",
              "scope.google.colab = scope.google.colab || {};\n",
              "scope.google.colab._files = {\n",
              "  _uploadFiles,\n",
              "  _uploadFilesContinue,\n",
              "};\n",
              "})(self);\n",
              "</script> "
            ]
          },
          "metadata": {}
        },
        {
          "output_type": "stream",
          "name": "stdout",
          "text": [
            "Saving AAPL_main.csv to AAPL_main.csv\n",
            "Saving AAPL_relation.csv to AAPL_relation.csv\n"
          ]
        }
      ]
    },
    {
      "cell_type": "code",
      "source": [
        "for fn in uploaded.keys():\n",
        "  print('User uploaded file \"{name}\" with length {length} bytes'.format(\n",
        "      name=fn, length=len(uploaded[fn])))"
      ],
      "metadata": {
        "colab": {
          "base_uri": "https://localhost:8080/"
        },
        "id": "usaWRHgDNQ7i",
        "outputId": "6c16c661-6e13-4727-e4af-61f1bb2911e3"
      },
      "execution_count": 14,
      "outputs": [
        {
          "output_type": "stream",
          "name": "stdout",
          "text": [
            "User uploaded file \"AAPL_main.csv\" with length 5386490 bytes\n",
            "User uploaded file \"AAPL_relation.csv\" with length 1017748 bytes\n"
          ]
        }
      ]
    },
    {
      "cell_type": "code",
      "source": [
        "!ls"
      ],
      "metadata": {
        "colab": {
          "base_uri": "https://localhost:8080/"
        },
        "id": "Ci5k7GErkQIW",
        "outputId": "f5c92ef7-0c00-488f-eebc-1b17d4373785"
      },
      "execution_count": 15,
      "outputs": [
        {
          "output_type": "stream",
          "name": "stdout",
          "text": [
            "AAPL_main.csv  AAPL_relation.csv  sample_data\n"
          ]
        }
      ]
    },
    {
      "cell_type": "code",
      "source": [
        "def get_news_text(url):\n",
        "    article = Article(url)\n",
        "    try:\n",
        "        article.download()\n",
        "        article.parse()\n",
        "        return article.text\n",
        "    except Exception as error:\n",
        "        return error"
      ],
      "metadata": {
        "id": "tM0EWpm5NTQn"
      },
      "execution_count": 16,
      "outputs": []
    },
    {
      "cell_type": "code",
      "source": [
        "def split_text_by_ticker_aliases(text, nlp, ticker_aliases):\n",
        "    \"\"\"\n",
        "    Splits the text into sections based on the presence of ticker names or their aliases,\n",
        "    as well as a category for text not related to any ticker.\n",
        "    \"\"\"\n",
        "    split_text = {ticker: list([]) for ticker in ticker_aliases.keys()}\n",
        "    split_text[\"none\"] = list([])  # For text unrelated to any ticker\n",
        "\n",
        "    # alias_to_ticker = {}\n",
        "    # for ticker, aliases in ticker_aliases.items():\n",
        "    #     for alias in aliases:\n",
        "    #         alias_to_ticker[alias.lower()] = ticker  # Use lowercase for matching\n",
        "\n",
        "    doc = nlp(text)\n",
        "\n",
        "    sentences = list(doc.sents)\n",
        "\n",
        "    for sentence in sentences:\n",
        "        associated = False\n",
        "\n",
        "        # Check for ticker matches in named entities\n",
        "        for ent in sentence.ents:\n",
        "            alias = ent.text.lower()\n",
        "            for ticker, aliases in ticker_aliases.items():\n",
        "                for aliase in aliases:\n",
        "                    if alias in aliase.lower() or aliase.lower() in alias:\n",
        "                        split_text[ticker].append(sentence.text)\n",
        "                        associated = True\n",
        "                        break\n",
        "\n",
        "\n",
        "            # if alias in alias_to_ticker:\n",
        "            #     ticker = alias_to_ticker[alias]\n",
        "            #     split_text[ticker] += sentence.text + \" \"\n",
        "            #     associated = True\n",
        "\n",
        "        if not associated:\n",
        "            split_text[\"none\"].append(sentence.text)\n",
        "\n",
        "    return split_text"
      ],
      "metadata": {
        "id": "N9vJnoj11jJ4"
      },
      "execution_count": 17,
      "outputs": []
    },
    {
      "cell_type": "code",
      "source": [
        "ticker_aliases = {\n",
        "    \"AAPL\": (\"AAPL\", \"Apple\")\n",
        "}"
      ],
      "metadata": {
        "id": "Rw-awN703B7L"
      },
      "execution_count": 18,
      "outputs": []
    },
    {
      "cell_type": "code",
      "source": [
        "# example_apple = get_news_text(\"https://www.fool.com/investing/2024/10/30/10-companies-trillion-dollar-market-cap-1-buy-now/?source=iedfolrf0000001\")\n",
        "# print(example_apple)"
      ],
      "metadata": {
        "id": "BT13lN-J3hE6"
      },
      "execution_count": 19,
      "outputs": []
    },
    {
      "cell_type": "code",
      "source": [
        "splited = split_text_by_ticker_aliases(example_apple, nlp, ticker_aliases)\n",
        "for k, v in splited.items():\n",
        "    print(k)\n",
        "    print(v)"
      ],
      "metadata": {
        "colab": {
          "base_uri": "https://localhost:8080/"
        },
        "id": "8IBarZyN31XS",
        "outputId": "fc6a3529-0227-4c23-903c-a2804fad4211"
      },
      "execution_count": 37,
      "outputs": [
        {
          "output_type": "stream",
          "name": "stdout",
          "text": [
            "AAPL\n",
            "[\"Not accounting for inflationary changes over time (sorry, I'm not including the Dutch East India Company), there have been 10 public companies that have reached the trillion-dollar market cap plateau, of which nine can be bought and sold on U.S. exchanges:\\n\\nApple AAPL 1.02% )\\n\\n\", 'Some investors might be attracted to Apple given its sizable cash pile, more than $700 billion in share repurchases since 2013, and its No. 1 market share in domestic smartphones.', \"To add, CEO Tim Cook is overseeing a shift in Apple's operating model to one focused on higher-margin subscription services.\\n\\n\", \"But a deeper dive into Apple's revenue breakdown shows that sales of its physical products, including iPhone, Mac, and iPad, have notably weakened over the last two years.\", 'Apple has commanded a premium valuation because of its consistent growth.', \"However, with its growth engine stalling, Apple's forward price-to-earnings (P/E) ratio of 31 sticks out like a sore thumb.\\n\\n\"]\n",
            "none\n",
            "[\"One of Wall Street's most influential businesses checks all the right boxes.\\n\\n\", 'Recently, the bull market celebrated its two-year anniversary.', 'Since 2024 began, the ageless Dow Jones Industrial Average, broad-based S&P 500, and growth-dependent Nasdaq Composite have reached multiple record-closing highs.\\n\\n', \"While artificial intelligence (AI) and stock-split euphoria have played a role in sending the market to new highs, it's Wall Street's trillion-dollar companies that have been the foundation of this rally.\\n\\n\", 'Microsoft MSFT 0.11% )\\n\\nNvidia NVDA 2.15% )\\n\\n', 'Alphabet GOOGL -0.17% )', 'GOOG -0.19% )\\n\\nAmazon AMZN 1.04% )\\n\\n', 'Meta Platforms META 0.90% )\\n\\n', 'Tesla TSLA 3.69% )\\n\\nBerkshire Hathaway BRK.A 0.07% )', 'BRK.B', '-0.01% )\\n\\nTaiwan Semiconductor Manufacturing TSM 1.92% )\\n\\n', 'Saudi Aramco (not traded on U.S. exchanges)\\n\\n', 'The first seven companies are members of the \"Magnificent Seven,\" with Tesla being the only constituent that doesn\\'t currently possess a trillion-dollar market cap.', \"Meanwhile, Warren Buffett's Berkshire Hathaway and global chip-fabrication juggernaut Taiwan Semi both recently snuck above the $1 trillion mark for the first time.\\n\\n\", 'While all 10 of these highly influential businesses bring their own unique blend of competitive advantages and innovation to the table, their outlooks can meaningfully differ.\\n\\n', \"Wall Street's largest businesses aren't automatically worth buying\\n\\nJust because a company has, or previously had, a trillion-dollar valuation, it doesn't mean investors should automatically buy it.\", 'While all 10 of these companies offer a rich history of operating excellence, some have clearly identifiable red flags that may make them worth avoiding.\\n\\n', 'Take Nvidia as a perfect example.', 'Shares of the AI leader have catapulted higher by 861% since the start of 2023, as of the closing bell on Oct. 28.', 'This is a reflection of its H100 AI-graphics processing units being the most-chosen chips by businesses running high-compute data centers.\\n\\n', \"But it's worth recognizing that no next-big-thing technology for three decades has side-stepped an early innings bubble-bursting event.\", 'Without exception, investors have overestimated how quickly a new technology or innovation would gain utility, leading to eventual disappointment.', 'Nothing suggests that AI is going to be the exception, which bodes poorly for Nvidia.\\n\\n', 'A strong case can be made that electric-vehicle (EV) maker Tesla will underperform the broader market, too.', 'Even though Tesla has successfully built itself from the ground up to mass production and is working on its fifth consecutive year of generally accepted accounting principles (GAAP) profit, it sports a nosebleed valuation for an auto stock.\\n\\n', \"Through the first nine months of 2024, 51% of Tesla's pre-tax income can be traced to unsustainable sources, such as regulatory tax credits and interest income on its cash.\", \"Further, CEO Elon Musk doesn't have the best track record of delivering promised innovations.\\n\\n\", 'While not all of these current and former trillion-dollar companies are currently worth buying, one stands out for all the right reasons and is nothing short of a screaming buy right now.\\n\\n', \"Here's the trillion-dollar stock you'd be smart to buy\\n\\nThe one trillion-dollar company that's an exceptional value right now is Alphabet, the parent company of internet search engine Google, streaming platform YouTube, cloud infrastructure service platform Google Cloud, and autonomous ride-hailing service Waymo, among other ventures.\\n\\n\", \"If Alphabet has a weakness, it's that its business is undeniably cyclical.\", \"A little over 76% of the company's $84.7 billion in net sales during the June-ended quarter came from advertising.\", \"Businesses aren't shy about reducing their marketing budget at their first hint of trouble for the U.S. or global economy.\\n\\n\", 'At the same time, Alphabet benefits from the non-linearity of the economic cycle.', 'Out of the 12 U.S. recessions since the end of World War II in September 1945, nine have resolved under 12 months, with none surpassing 18 months in length.', 'By comparison, almost all economic expansions have endured for multiple years, if not a full decade on rare occasion.', 'Ad-driven operating models are well-positioned to benefit from long-winded periods of growth.\\n\\n', 'Another reason investors can confidently buy shares of Alphabet is because of its global internet search dominance.', 'As of September 2024, Google accounted for 90% of worldwide internet search share, per GlobalStats.', \"It's held at least a 90% share of global search each month dating back more than nine years.\", 'This makes it the logical go-to for businesses wanting to target consumers and affords Alphabet exceptional ad-pricing power.\\n\\n', \"However, Alphabet's future looks to be very much reliant on Google Cloud.\", \"Alphabet's cloud infrastructure service platform is the third-largest in the world (10% market share, as of the June-ended quarter), and it shifted to recurring profitability in 2023.\", \"Businesses are still, arguably, very early in their cloud spending cycle, which bodes well for Google Cloud's long-term growth potential.\\n\\n\", \"To build on the above, Google Cloud's incorporation of generative AI solutions should accelerate this segment's growth rate.\\n\\n\", 'Alphabet is sitting on a mountain of cash, too.', 'It closed out the June quarter with $100.7 billion in cash, cash equivalents, and marketable securities, which gives it the ability to pay a dividend, as well as aggressively repurchase its stock.', \"Alphabet's outstanding share count has declined by close to 11.6% from its peak, which is providing a boost to the company's earnings per share (EPS).\\n\\n\", 'The final piece of the puzzle that makes Alphabet a screaming buy among trillion-dollar companies is its valuation.', 'Shares can be scooped up by opportunistic long-term investors right now for 19 times consensus EPS for 2025 and less than 14 times forecast cash flow in the upcoming year.', \"To put this into context, this represents an 18% discount to Alphabet's average forward P/E ratio over the trailing-five-year period, and a 23% discount to its cash flow over the same span.\"]\n"
          ]
        }
      ]
    },
    {
      "cell_type": "code",
      "source": [
        "print(pipe(\"Some investors might be attracted to Apple given its sizable cash pile, more than $700 billion in share repurchases since 2013, and its No. 1 market share in domestic smartphones. To add, CEO Tim Cook is overseeing a shift in Apple's operating model to one focused on higher-margin subscription services.\"))"
      ],
      "metadata": {
        "colab": {
          "base_uri": "https://localhost:8080/"
        },
        "id": "TOPk68jc5GIk",
        "outputId": "edea2b21-e6c0-4652-a049-32035c99682b"
      },
      "execution_count": 34,
      "outputs": [
        {
          "output_type": "stream",
          "name": "stdout",
          "text": [
            "[{'label': 'positive', 'score': 0.754537045955658}]\n"
          ]
        }
      ]
    },
    {
      "cell_type": "code",
      "source": [
        "def combine_dataframes_with_time_range(main_df, relation_df, start_time, end_time):\n",
        "    start_time = pd.to_datetime(start_time)\n",
        "    end_time = pd.to_datetime(end_time)\n",
        "\n",
        "    main_df['publish_time'] = pd.to_datetime(main_df['publish_time'])\n",
        "    relation_df['time'] = pd.to_datetime(relation_df['time'])\n",
        "    filtered_rel = relation_df[relation_df['ticker'] == relation_df['source_ticker']]\n",
        "\n",
        "    # Merge the two dataframes on `id` and `news_id`\n",
        "    merged_df = main_df.merge(filtered_rel, left_on='id', right_on='news_id', how='inner')\n",
        "\n",
        "    filtered_df = merged_df\n",
        "\n",
        "    time_filtered_df = filtered_df[(filtered_df['publish_time'] >= start_time) & (filtered_df['publish_time'] <= end_time)]\n",
        "\n",
        "    time_filtered_df = time_filtered_df.rename(columns={'ticker_x': 'ticker'})\n",
        "\n",
        "    result_df = time_filtered_df[['id', 'publish_time', 'article_url', 'sentiment', 'ticker']]\n",
        "\n",
        "    return result_df"
      ],
      "metadata": {
        "id": "cbxH-4AvNfE2"
      },
      "execution_count": 20,
      "outputs": []
    },
    {
      "cell_type": "code",
      "source": [
        "# def combine_dataframes_with_time_range(main_df, relation_df, start_time, end_time):\n",
        "#     start_time = pd.to_datetime(start_time)\n",
        "#     end_time = pd.to_datetime(end_time)\n",
        "\n",
        "#     main_df['publish_time'] = pd.to_datetime(main_df['publish_time'])\n",
        "#     relation_df['time'] = pd.to_datetime(relation_df['time'])\n",
        "\n",
        "#     relation_df_grouped = relation_df.groupby('news_id')['sentiment'].agg(lambda x: x.mode()[0]).reset_index()\n",
        "\n",
        "#     merged_df = main_df.merge(relation_df_grouped, left_on='id', right_on='news_id', how='inner')\n",
        "\n",
        "#     time_filtered_df = merged_df[(merged_df['publish_time'] >= start_time) & (merged_df['publish_time'] <= end_time)]\n",
        "\n",
        "#     result_df = time_filtered_df[['id', 'publish_time', 'article_url', 'sentiment']]\n",
        "\n",
        "#     return result_df"
      ],
      "metadata": {
        "id": "asDq71GHKZVV"
      },
      "execution_count": null,
      "outputs": []
    },
    {
      "cell_type": "code",
      "source": [
        "# def compare_sentiments_finbert(merged_df, model, tokenizer, truncate_or_split=\"truncate\"):\n",
        "#     \"\"\"\n",
        "#     Compare sentiment labels from FinBERT predictions with existing sentiment labels,\n",
        "#     handling text sequences longer than 512 tokens.\n",
        "#     \"\"\"\n",
        "#     label_map = {0: \"negative\", 1: \"neutral\", 2: \"positive\"}\n",
        "\n",
        "#     sentiment_matrix = {\n",
        "#         \"positive\": {\"positive\": 0, \"neutral\": 0, \"negative\": 0},\n",
        "#         \"neutral\": {\"positive\": 0, \"neutral\": 0, \"negative\": 0},\n",
        "#         \"negative\": {\"positive\": 0, \"neutral\": 0, \"negative\": 0},\n",
        "#     }\n",
        "\n",
        "#     i = 0\n",
        "\n",
        "#     for row in merged_df.itertuples():\n",
        "#         if i % 10 == 0:\n",
        "#             print(f\"Processing: {i}\")\n",
        "\n",
        "#         url = row.article_url\n",
        "#         text = get_news_text(url)\n",
        "\n",
        "#         if text != \"Error\" and isinstance(text, str):\n",
        "#             if truncate_or_split == \"split\":\n",
        "#                 tokens = tokenizer(text, truncation=False, add_special_tokens=True)[\"input_ids\"]\n",
        "\n",
        "#                 if len(tokens) > 512:\n",
        "#                     # Split text into chunks of approximately 512 tokens\n",
        "#                     chunk_size = 512\n",
        "#                     chunks = [text[start:start + chunk_size] for start in range(0, len(text), chunk_size)]\n",
        "\n",
        "#                     # Get predictions for each chunk\n",
        "#                     chunk_predictions = []\n",
        "#                     for chunk in chunks:\n",
        "#                         inputs = tokenizer(chunk, return_tensors=\"pt\", truncation=True, max_length=512)\n",
        "#                         outputs = model(**inputs)\n",
        "#                         prediction = torch.argmax(outputs.logits, dim=1).item()\n",
        "#                         chunk_predictions.append(label_map[prediction])\n",
        "\n",
        "#                     # Use the most frequent label\n",
        "#                     predicted = max(set(chunk_predictions), key=chunk_predictions.count)\n",
        "#                 else:\n",
        "#                     inputs = tokenizer(text, return_tensors=\"pt\", truncation=True, max_length=512)\n",
        "#                     outputs = model(**inputs)\n",
        "#                     prediction = torch.argmax(outputs.logits, dim=1).item()\n",
        "#                     predicted = label_map[prediction]\n",
        "#             else:\n",
        "#                 inputs = tokenizer(text, return_tensors=\"pt\", truncation=True, max_length=512)\n",
        "#                 outputs = model(**inputs)\n",
        "#                 prediction = torch.argmax(outputs.logits, dim=1).item()\n",
        "#                 predicted = label_map[prediction]\n",
        "\n",
        "#             old = row.sentiment\n",
        "\n",
        "#             # Increment the corresponding matrix cell\n",
        "#             if old in sentiment_matrix and predicted in sentiment_matrix:\n",
        "#                 sentiment_matrix[predicted][old] += 1\n",
        "\n",
        "#         i += 1\n",
        "\n",
        "#     result_matrix = pd.DataFrame(sentiment_matrix).T\n",
        "\n",
        "#     return result_matrix\n",
        "\n",
        "def compare_sentiments_finbert(merged_df, model, tokenizer, truncate_or_split=\"truncate\"):\n",
        "    \"\"\"\n",
        "    Compare sentiment labels from FinBERT predictions with existing sentiment labels,\n",
        "    handling text sequences longer than 512 tokens and ensuring the model and inputs are moved to the GPU.\n",
        "    \"\"\"\n",
        "    label_map = {0: \"negative\", 1: \"neutral\", 2: \"positive\"}\n",
        "\n",
        "    sentiment_matrix = {\n",
        "        \"positive\": {\"positive\": 0, \"neutral\": 0, \"negative\": 0},\n",
        "        \"neutral\": {\"positive\": 0, \"neutral\": 0, \"negative\": 0},\n",
        "        \"negative\": {\"positive\": 0, \"neutral\": 0, \"negative\": 0},\n",
        "    }\n",
        "\n",
        "\n",
        "    i = 0\n",
        "\n",
        "    for row in merged_df.itertuples():\n",
        "        if i % 10 == 0:\n",
        "            print(f\"Processing: {i}\")\n",
        "\n",
        "        url = row.article_url\n",
        "        text = get_news_text(url)\n",
        "\n",
        "        if text != \"Error\" and isinstance(text, str):\n",
        "            if truncate_or_split == \"split\":\n",
        "                tokens = tokenizer(text, truncation=False, add_special_tokens=True)[\"input_ids\"]\n",
        "\n",
        "                if len(tokens) > 512:\n",
        "                    chunk_size = 512\n",
        "                    chunks = [text[start:start + chunk_size] for start in range(0, len(text), chunk_size)]\n",
        "\n",
        "                    chunk_predictions = []\n",
        "                    for chunk in chunks:\n",
        "                        inputs = tokenizer(chunk, return_tensors=\"pt\", truncation=True, max_length=512)\n",
        "                        inputs = {key: val.to(device) for key, val in inputs.items()}  # Move inputs to GPU\n",
        "                        outputs = model(**inputs)\n",
        "                        prediction = torch.argmax(outputs.logits, dim=1).item()\n",
        "                        chunk_predictions.append(label_map[prediction])\n",
        "\n",
        "                    # Use the most frequent label\n",
        "                    predicted = max(set(chunk_predictions), key=chunk_predictions.count)\n",
        "                else:\n",
        "                    inputs = tokenizer(text, return_tensors=\"pt\", truncation=True, max_length=512)\n",
        "                    inputs = {key: val.to(device) for key, val in inputs.items()}  # Move inputs to GPU\n",
        "                    outputs = model(**inputs)\n",
        "                    prediction = torch.argmax(outputs.logits, dim=1).item()\n",
        "                    predicted = label_map[prediction]\n",
        "            else:\n",
        "                inputs = tokenizer(text, return_tensors=\"pt\", truncation=True, max_length=512)\n",
        "                inputs = {key: val.to(device) for key, val in inputs.items()}  # Move inputs to GPU\n",
        "                outputs = model(**inputs)\n",
        "                prediction = torch.argmax(outputs.logits, dim=1).item()\n",
        "                predicted = label_map[prediction]\n",
        "\n",
        "            old = row.sentiment\n",
        "\n",
        "            if old in sentiment_matrix and predicted in sentiment_matrix:\n",
        "                sentiment_matrix[predicted][old] += 1\n",
        "\n",
        "        i += 1\n",
        "\n",
        "    result_matrix = pd.DataFrame(sentiment_matrix).T\n",
        "    return result_matrix\n"
      ],
      "metadata": {
        "id": "fyhJO13jhoCg"
      },
      "execution_count": null,
      "outputs": []
    },
    {
      "cell_type": "code",
      "source": [
        "# def compare_sentiments_finbert_pipeline(merged_df, pipe, truncate_or_split=\"truncate\"):\n",
        "#     \"\"\"\n",
        "#     Compare sentiment labels from FinBERT predictions with existing sentiment labels,\n",
        "#     handling text sequences longer than 512 tokens using the transformers pipeline.\n",
        "#     \"\"\"\n",
        "#     sentiment_matrix = {\n",
        "#         \"positive\": {\"positive\": 0, \"neutral\": 0, \"negative\": 0},\n",
        "#         \"neutral\": {\"positive\": 0, \"neutral\": 0, \"negative\": 0},\n",
        "#         \"negative\": {\"positive\": 0, \"neutral\": 0, \"negative\": 0},\n",
        "#     }\n",
        "\n",
        "#     i = 0\n",
        "\n",
        "#     for row in merged_df.itertuples():\n",
        "#         if i % 10 == 0:\n",
        "#             print(f\"Processing: {i}\")\n",
        "\n",
        "#         url = row.article_url\n",
        "#         text = get_news_text(url)\n",
        "\n",
        "#         if text != \"Error\" and isinstance(text, str):\n",
        "#             if truncate_or_split == \"split\":\n",
        "#                 tokens = pipe.tokenizer(text, truncation=False, add_special_tokens=True)[\"input_ids\"]\n",
        "\n",
        "#                 if len(tokens) > 512:\n",
        "#                     chunk_size = 512\n",
        "#                     chunks = [text[start:start + chunk_size] for start in range(0, len(text), chunk_size)]\n",
        "\n",
        "#                     # Get predictions for each chunk\n",
        "#                     chunk_predictions = []\n",
        "#                     for chunk in chunks:\n",
        "#                         result = pipe(chunk)\n",
        "#                         chunk_predictions.append(result[0]['label'])\n",
        "\n",
        "#                     # Use the most frequent label\n",
        "#                     predicted = max(set(chunk_predictions), key=chunk_predictions.count)\n",
        "#                 else:\n",
        "#                     result = pipe(text)\n",
        "#                     predicted = result[0]['label']\n",
        "#             else:\n",
        "#                 result = pipe(text, truncation=True)\n",
        "#                 predicted = result[0]['label']\n",
        "\n",
        "#             old = row.sentiment\n",
        "\n",
        "#             if old in sentiment_matrix and predicted in sentiment_matrix:\n",
        "#                 sentiment_matrix[predicted][old] += 1\n",
        "\n",
        "#         i += 1\n",
        "\n",
        "#     result_matrix = pd.DataFrame(sentiment_matrix).T  # Transpose for correct layout\n",
        "\n",
        "#     return result_matrix\n"
      ],
      "metadata": {
        "id": "uRd05XbZDToc"
      },
      "execution_count": null,
      "outputs": []
    },
    {
      "cell_type": "code",
      "source": [
        "def compare_sentiments_finbert_pipeline(merged_df, pipe, truncate_or_split=\"truncate\"):\n",
        "    \"\"\"\n",
        "    Compare sentiment labels from FinBERT predictions with existing sentiment labels,\n",
        "    handling text sequences longer than 512 tokens using the transformers pipeline.\n",
        "    \"\"\"\n",
        "    sentiment_matrix = {\n",
        "        \"positive\": {\"positive\": 0, \"neutral\": 0, \"negative\": 0},\n",
        "        \"neutral\": {\"positive\": 0, \"neutral\": 0, \"negative\": 0},\n",
        "        \"negative\": {\"positive\": 0, \"neutral\": 0, \"negative\": 0},\n",
        "    }\n",
        "\n",
        "    i = 0\n",
        "\n",
        "    for row in merged_df.itertuples():\n",
        "        if i % 10 == 0:\n",
        "            print(f\"Processing: {i}\")\n",
        "\n",
        "        url = row.article_url\n",
        "        text = get_news_text(url)\n",
        "\n",
        "        if text != \"Error\" and isinstance(text, str):\n",
        "            if truncate_or_split == \"split\":\n",
        "                tokens = pipe.tokenizer(text, truncation=False, add_special_tokens=True)[\"input_ids\"]\n",
        "\n",
        "                if len(tokens) > 512:\n",
        "                    chunk_size = 512\n",
        "                    chunks = [text[start:start + chunk_size] for start in range(0, len(text), chunk_size)]\n",
        "\n",
        "                    # Get predictions for each chunk\n",
        "                    chunk_predictions = []\n",
        "                    for chunk in chunks:\n",
        "                        result = pipe(chunk)\n",
        "                        chunk_predictions.append(result[0]['label'])\n",
        "\n",
        "                    # Use the most frequent label\n",
        "                    predicted = max(set(chunk_predictions), key=chunk_predictions.count)\n",
        "                else:\n",
        "                    result = pipe(text)\n",
        "                    predicted = result[0]['label']\n",
        "            else:\n",
        "                result = pipe(text, truncation=True)\n",
        "                predicted = result[0]['label']\n",
        "\n",
        "            old = row.sentiment\n",
        "\n",
        "            if old in sentiment_matrix and predicted in sentiment_matrix:\n",
        "                sentiment_matrix[predicted][old] += 1\n",
        "\n",
        "        i += 1\n",
        "\n",
        "    result_matrix = pd.DataFrame(sentiment_matrix).T\n",
        "\n",
        "    return result_matrix"
      ],
      "metadata": {
        "id": "jYIqgbKa7hvc"
      },
      "execution_count": 22,
      "outputs": []
    },
    {
      "cell_type": "code",
      "source": [
        "def analyze_sentiments_finbert_pipeline(merged_df, pipe, truncate_or_split=\"truncate\"):\n",
        "    \"\"\"\n",
        "    Perform sentiment analysis on financial news articles using FinBERT,\n",
        "    processing text sequences longer than 512 tokens as needed.\n",
        "    \"\"\"\n",
        "    # Initialize an empty list to store results\n",
        "    result_data = []\n",
        "\n",
        "    for i, row in enumerate(merged_df.itertuples(), start=1):\n",
        "        if i % 10 == 0:\n",
        "            print(f\"Processing article {i}/{len(merged_df)}\")\n",
        "\n",
        "        url = row.article_url\n",
        "        text = get_news_text(url)\n",
        "\n",
        "        if text != \"Error\" and isinstance(text, str):\n",
        "            if truncate_or_split == \"split\":\n",
        "                tokens = pipe.tokenizer(text, truncation=False, add_special_tokens=True)[\"input_ids\"]\n",
        "\n",
        "                if len(tokens) > 512:\n",
        "                    chunk_size = 512\n",
        "                    chunks = [text[start:start + chunk_size] for start in range(0, len(text), chunk_size)]\n",
        "\n",
        "                    # Get predictions for each chunk\n",
        "                    chunk_predictions = []\n",
        "                    for chunk in chunks:\n",
        "                        result = pipe(chunk)\n",
        "                        chunk_predictions.append(result[0]['label'])\n",
        "\n",
        "                    # Use the most frequent label\n",
        "                    predicted_sentiment = max(set(chunk_predictions), key=chunk_predictions.count)\n",
        "                else:\n",
        "                    result = pipe(text)\n",
        "                    predicted_sentiment = result[0]['label']\n",
        "            else:\n",
        "                result = pipe(text, truncation=True)\n",
        "                predicted_sentiment = result[0]['label']\n",
        "\n",
        "            result_data.append({\n",
        "                \"ticker\": row.ticker,\n",
        "                \"sentiment\": predicted_sentiment,\n",
        "                \"news_id\": row.id,\n",
        "                \"source_ticker\": row.ticker,\n",
        "                \"time\": row.publish_time\n",
        "            })\n",
        "\n",
        "    result_df = pd.DataFrame(result_data, columns=['ticker', 'sentiment', 'news_id', 'source_ticker', 'time'])\n",
        "\n",
        "    return result_df"
      ],
      "metadata": {
        "id": "2EwBl0ouSvt9"
      },
      "execution_count": null,
      "outputs": []
    },
    {
      "cell_type": "code",
      "source": [
        "def add_explanations_to_matrix(result_matrix):\n",
        "    row_explanations = [\n",
        "        \"Predicted as positive\",\n",
        "        \"Predicted as neutral\",\n",
        "        \"Predicted as negative\",\n",
        "    ]\n",
        "    result_matrix.insert(0, \"Explanation\", row_explanations)\n",
        "\n",
        "\n",
        "    explanation_row = {\n",
        "        \"Explanation\": \"Row description\",\n",
        "        \"positive\": \"Labeled positive\",\n",
        "        \"neutral\": \"Labeled neutral\",\n",
        "        \"negative\": \"Labeled negative\",\n",
        "    }\n",
        "\n",
        "    explanation_df = pd.DataFrame([explanation_row])\n",
        "    result_matrix = pd.concat([result_matrix, explanation_df], ignore_index=True)\n",
        "\n",
        "    return result_matrix"
      ],
      "metadata": {
        "id": "RRebciUBg910"
      },
      "execution_count": 23,
      "outputs": []
    },
    {
      "cell_type": "code",
      "source": [
        "df_news = pd.read_csv('AAPL_main.csv')\n",
        "df_rela = pd.read_csv('AAPL_relation.csv')"
      ],
      "metadata": {
        "id": "xPdSgZjLj_hl"
      },
      "execution_count": 29,
      "outputs": []
    },
    {
      "cell_type": "code",
      "source": [
        "merged_df = combine_dataframes_with_time_range(df_news, df_rela, \"2024-07-01\", \"2024-09-01\")"
      ],
      "metadata": {
        "id": "jKzHWKYYg6DY"
      },
      "execution_count": 30,
      "outputs": []
    },
    {
      "cell_type": "code",
      "source": [
        "print(merged_df)"
      ],
      "metadata": {
        "colab": {
          "base_uri": "https://localhost:8080/"
        },
        "id": "MDJqT0n-kXs1",
        "outputId": "49ef8f83-05a7-44b5-a909-4397c8edbc97"
      },
      "execution_count": 31,
      "outputs": [
        {
          "output_type": "stream",
          "name": "stdout",
          "text": [
            "                                                    id        publish_time  \\\n",
            "245  f9b58febeb4565a6dd607e3216decb281b237a1e76b9e9... 2024-08-31 11:15:00   \n",
            "246  9cc8d83bae696e5f0565a1a0391596b06171e5ed3e8402... 2024-08-31 10:24:00   \n",
            "247  f83a6765bf7b69e13cdef5999c8e5c99a26598acdce856... 2024-08-31 10:10:00   \n",
            "248  42cf4288fdeddba7d0846f4bdcdb97946c96f0849c11d0... 2024-08-31 07:01:00   \n",
            "249  d3e51924ac19db5ffb2f24d1621a9a213f30f9ed3aef5c... 2024-08-30 14:14:29   \n",
            "..                                                 ...                 ...   \n",
            "658  1fcac93fed0e133da96bfb1c8953aac2f52188cd442308... 2024-07-02 23:30:49   \n",
            "659  860ffff9a7f8e6ac55b2ddd19bd169ecd1a9f503e9f1dc... 2024-07-02 21:05:40   \n",
            "660  4d843941162f622729de3d2276012094d587ca8dfb916f... 2024-07-02 20:15:43   \n",
            "661  1d7b72c113d7c86046e8832efab111ddbc673a08a41547... 2024-07-02 20:14:53   \n",
            "662  61d80aa431470bc0a67ae461d70964cc7827fa8a37eefd... 2024-07-02 19:16:19   \n",
            "\n",
            "                                           article_url sentiment ticker  \n",
            "245  https://www.fool.com/investing/2024/08/31/4-re...  negative   AAPL  \n",
            "246  https://www.fool.com/investing/2024/08/31/warr...  positive   AAPL  \n",
            "247  https://www.fool.com/investing/2024/08/31/will...  positive   AAPL  \n",
            "248  https://www.fool.com/investing/2024/08/31/5-re...  positive   AAPL  \n",
            "249  https://www.benzinga.com/analyst-ratings/analy...   neutral   AAPL  \n",
            "..                                                 ...       ...    ...  \n",
            "658  https://au.investing.com/news/stock-market-new...  positive   AAPL  \n",
            "659  https://www.investing.com/news/stock-market-ne...  positive   AAPL  \n",
            "660  https://www.benzinga.com/news/large-cap/24/07/...  positive   AAPL  \n",
            "661  https://www.benzinga.com/news/retail-sales/24/...  positive   AAPL  \n",
            "662  https://www.benzinga.com/markets/equities/24/0...  positive   AAPL  \n",
            "\n",
            "[418 rows x 5 columns]\n"
          ]
        }
      ]
    },
    {
      "cell_type": "code",
      "source": [
        "# result_matrix = compare_sentiments_finbert(merged_df, model, tokenizer, truncate_or_split=\"truncate\")"
      ],
      "metadata": {
        "id": "U_m_MuT4jQmd"
      },
      "execution_count": null,
      "outputs": []
    },
    {
      "cell_type": "code",
      "source": [
        "result_matrix = compare_sentiments_finbert_pipeline(merged_df, pipe, nlp, truncate_or_split=\"truncate\")"
      ],
      "metadata": {
        "colab": {
          "base_uri": "https://localhost:8080/"
        },
        "id": "GL8L0Hjv9qnV",
        "outputId": "ca35c66a-9c89-4971-dd31-91d83570af52"
      },
      "execution_count": 32,
      "outputs": [
        {
          "output_type": "stream",
          "name": "stdout",
          "text": [
            "Processing: 0\n",
            "Processing: 10\n",
            "Processing: 20\n",
            "Processing: 30\n",
            "Processing: 40\n",
            "Processing: 50\n",
            "Processing: 60\n",
            "Processing: 70\n",
            "Processing: 80\n",
            "Processing: 90\n",
            "Processing: 100\n",
            "Processing: 110\n",
            "Processing: 120\n",
            "Processing: 130\n",
            "Processing: 140\n",
            "Processing: 150\n",
            "Processing: 160\n",
            "Processing: 170\n",
            "Processing: 180\n",
            "Processing: 190\n",
            "Processing: 200\n",
            "Processing: 210\n",
            "Processing: 220\n",
            "Processing: 230\n",
            "Processing: 240\n",
            "Processing: 250\n",
            "Processing: 260\n",
            "Processing: 270\n",
            "Processing: 280\n",
            "Processing: 290\n",
            "Processing: 300\n",
            "Processing: 310\n",
            "Processing: 320\n",
            "Processing: 330\n",
            "Processing: 340\n",
            "Processing: 350\n",
            "Processing: 360\n",
            "Processing: 370\n",
            "Processing: 380\n",
            "Processing: 390\n",
            "Processing: 400\n",
            "Processing: 410\n"
          ]
        }
      ]
    },
    {
      "cell_type": "markdown",
      "source": [
        "Using spaCy NER to split text into categories by their check their sentiments, performance improved significantly"
      ],
      "metadata": {
        "id": "wXzXt1z5q3Ac"
      }
    },
    {
      "cell_type": "code",
      "source": [
        "print(add_explanations_to_matrix(result_matrix))"
      ],
      "metadata": {
        "colab": {
          "base_uri": "https://localhost:8080/"
        },
        "id": "g2j9EqGE92L1",
        "outputId": "baee29b0-dd81-423c-df18-a69d68b27080"
      },
      "execution_count": 33,
      "outputs": [
        {
          "output_type": "stream",
          "name": "stdout",
          "text": [
            "             Explanation          positive          neutral          negative\n",
            "0  Predicted as positive               117               35                 6\n",
            "1   Predicted as neutral                90               68                11\n",
            "2  Predicted as negative                17               17                24\n",
            "3        Row description  Labeled positive  Labeled neutral  Labeled negative\n"
          ]
        }
      ]
    },
    {
      "cell_type": "code",
      "source": [
        "# result_df = analyze_sentiments_finbert_pipeline(merged_df, pipe, truncate_or_split=\"split\")"
      ],
      "metadata": {
        "colab": {
          "base_uri": "https://localhost:8080/"
        },
        "id": "DuUef-5LS08H",
        "outputId": "8721ce63-6c21-4d58-f749-ea8332e4d2bb"
      },
      "execution_count": null,
      "outputs": [
        {
          "output_type": "stream",
          "name": "stderr",
          "text": [
            "Token indices sequence length is longer than the specified maximum sequence length for this model (807 > 512). Running this sequence through the model will result in indexing errors\n",
            "You seem to be using the pipelines sequentially on GPU. In order to maximize efficiency please use a dataset\n"
          ]
        },
        {
          "output_type": "stream",
          "name": "stdout",
          "text": [
            "Processing article 10/266\n",
            "Processing article 20/266\n",
            "Processing article 30/266\n",
            "Processing article 40/266\n",
            "Processing article 50/266\n",
            "Processing article 60/266\n",
            "Processing article 70/266\n",
            "Processing article 80/266\n",
            "Processing article 90/266\n",
            "Processing article 100/266\n",
            "Processing article 110/266\n",
            "Processing article 120/266\n",
            "Processing article 130/266\n",
            "Processing article 140/266\n",
            "Processing article 150/266\n",
            "Processing article 160/266\n",
            "Processing article 170/266\n",
            "Processing article 180/266\n",
            "Processing article 190/266\n",
            "Processing article 200/266\n",
            "Processing article 210/266\n",
            "Processing article 220/266\n",
            "Processing article 230/266\n",
            "Processing article 240/266\n",
            "Processing article 250/266\n",
            "Processing article 260/266\n"
          ]
        }
      ]
    },
    {
      "cell_type": "code",
      "source": [
        "print(result_df)"
      ],
      "metadata": {
        "colab": {
          "base_uri": "https://localhost:8080/"
        },
        "id": "riG7AzB_TN1A",
        "outputId": "40225deb-88be-4828-dd5a-0053431f5962"
      },
      "execution_count": null,
      "outputs": [
        {
          "output_type": "stream",
          "name": "stdout",
          "text": [
            "    ticker sentiment                                            news_id  \\\n",
            "0     AAPL   neutral  98c6ca14cab03a3bd104600a398277c200673939a9ef65...   \n",
            "1     AAPL   neutral  c6ad5b53e41888dcaad92a4fa2af4f82b8f7d3649cd883...   \n",
            "2     AAPL   neutral  5c9942bce64846d690ff4a1593f767e2b7712c6ad1ff8f...   \n",
            "3     AAPL   neutral  c1f4e581e6ad7955af2a52c2f98fd20d63597fae248d7b...   \n",
            "4     AAPL  negative  0e2c7c16e5f2b68814f368a981536eeb048c946e68af80...   \n",
            "..     ...       ...                                                ...   \n",
            "213   AAPL  negative  9157017d50628fbd2c24329b6f42207f23a58271cb2ef6...   \n",
            "214   AAPL  positive  3ce64356f2d9ee55998edb22e8b44897fb279d3a3b88d7...   \n",
            "215   AAPL  negative  6c0bc65d6a4675fecebd1e3838124acb9c992cf4182624...   \n",
            "216   AAPL  positive  1fcac93fed0e133da96bfb1c8953aac2f52188cd442308...   \n",
            "217   AAPL   neutral  860ffff9a7f8e6ac55b2ddd19bd169ecd1a9f503e9f1dc...   \n",
            "\n",
            "    source_ticker                time  \n",
            "0            AAPL 2024-07-31 18:12:00  \n",
            "1            AAPL 2024-07-31 15:23:46  \n",
            "2            AAPL 2024-07-31 12:15:00  \n",
            "3            AAPL 2024-07-31 04:00:00  \n",
            "4            AAPL 2024-07-30 22:40:00  \n",
            "..            ...                 ...  \n",
            "213          AAPL 2024-07-03 09:01:25  \n",
            "214          AAPL 2024-07-03 08:52:00  \n",
            "215          AAPL 2024-07-03 07:57:07  \n",
            "216          AAPL 2024-07-02 23:30:49  \n",
            "217          AAPL 2024-07-02 21:05:40  \n",
            "\n",
            "[218 rows x 5 columns]\n"
          ]
        }
      ]
    },
    {
      "cell_type": "code",
      "source": [
        "result_df.to_csv('AAPL_rel_2.csv', index=False)"
      ],
      "metadata": {
        "id": "2nKKAjs7XN6G"
      },
      "execution_count": null,
      "outputs": []
    },
    {
      "cell_type": "code",
      "source": [
        "files.download('AAPL_rel_2.csv')"
      ],
      "metadata": {
        "colab": {
          "base_uri": "https://localhost:8080/",
          "height": 17
        },
        "id": "wl-cRHNgXgL5",
        "outputId": "b7f1e0d6-bbde-4a3b-ac6e-fb3f33053e86"
      },
      "execution_count": null,
      "outputs": [
        {
          "output_type": "display_data",
          "data": {
            "text/plain": [
              "<IPython.core.display.Javascript object>"
            ],
            "application/javascript": [
              "\n",
              "    async function download(id, filename, size) {\n",
              "      if (!google.colab.kernel.accessAllowed) {\n",
              "        return;\n",
              "      }\n",
              "      const div = document.createElement('div');\n",
              "      const label = document.createElement('label');\n",
              "      label.textContent = `Downloading \"${filename}\": `;\n",
              "      div.appendChild(label);\n",
              "      const progress = document.createElement('progress');\n",
              "      progress.max = size;\n",
              "      div.appendChild(progress);\n",
              "      document.body.appendChild(div);\n",
              "\n",
              "      const buffers = [];\n",
              "      let downloaded = 0;\n",
              "\n",
              "      const channel = await google.colab.kernel.comms.open(id);\n",
              "      // Send a message to notify the kernel that we're ready.\n",
              "      channel.send({})\n",
              "\n",
              "      for await (const message of channel.messages) {\n",
              "        // Send a message to notify the kernel that we're ready.\n",
              "        channel.send({})\n",
              "        if (message.buffers) {\n",
              "          for (const buffer of message.buffers) {\n",
              "            buffers.push(buffer);\n",
              "            downloaded += buffer.byteLength;\n",
              "            progress.value = downloaded;\n",
              "          }\n",
              "        }\n",
              "      }\n",
              "      const blob = new Blob(buffers, {type: 'application/binary'});\n",
              "      const a = document.createElement('a');\n",
              "      a.href = window.URL.createObjectURL(blob);\n",
              "      a.download = filename;\n",
              "      div.appendChild(a);\n",
              "      a.click();\n",
              "      div.remove();\n",
              "    }\n",
              "  "
            ]
          },
          "metadata": {}
        },
        {
          "output_type": "display_data",
          "data": {
            "text/plain": [
              "<IPython.core.display.Javascript object>"
            ],
            "application/javascript": [
              "download(\"download_82d7e758-53ac-484c-b4de-a18e13950091\", \"AAPL_rel_2.csv\", 22611)"
            ]
          },
          "metadata": {}
        }
      ]
    },
    {
      "cell_type": "code",
      "source": [
        "# result_matrix = add_explanations_to_matrix(result_matrix)\n",
        "# print(result_matrix)"
      ],
      "metadata": {
        "colab": {
          "base_uri": "https://localhost:8080/"
        },
        "id": "yCgO2c4KkctR",
        "outputId": "82e9d9a4-6958-435a-ea2a-d0d951746ad0"
      },
      "execution_count": null,
      "outputs": [
        {
          "output_type": "stream",
          "name": "stdout",
          "text": [
            "             Explanation          positive          neutral          negative\n",
            "0  Predicted as positive               115               60                15\n",
            "1   Predicted as neutral                38               26                16\n",
            "2  Predicted as negative                79               32                10\n",
            "3        Row description  Labeled positive  Labeled neutral  Labeled negative\n"
          ]
        }
      ]
    },
    {
      "cell_type": "code",
      "source": [
        "result_matrix = compare_sentiments_finbert(merged_df, model, tokenizer, truncate_or_split=\"split\")"
      ],
      "metadata": {
        "colab": {
          "base_uri": "https://localhost:8080/"
        },
        "id": "sKxF2KIhx8H7",
        "outputId": "67fccf8b-d531-4cf5-e150-d6aac2226f37"
      },
      "execution_count": null,
      "outputs": [
        {
          "output_type": "stream",
          "name": "stdout",
          "text": [
            "Processing: 0\n",
            "Processing: 10\n",
            "Processing: 20\n",
            "Processing: 30\n",
            "Processing: 40\n",
            "Processing: 50\n",
            "Processing: 60\n",
            "Processing: 70\n",
            "Processing: 80\n",
            "Processing: 90\n",
            "Processing: 100\n",
            "Processing: 110\n",
            "Processing: 120\n",
            "Processing: 130\n",
            "Processing: 140\n",
            "Processing: 150\n",
            "Processing: 160\n",
            "Processing: 170\n",
            "Processing: 180\n",
            "Processing: 190\n",
            "Processing: 200\n",
            "Processing: 210\n",
            "Processing: 220\n",
            "Processing: 230\n",
            "Processing: 240\n",
            "Processing: 250\n",
            "Processing: 260\n",
            "Processing: 270\n",
            "Processing: 280\n",
            "Processing: 290\n",
            "Processing: 300\n",
            "Processing: 310\n",
            "Processing: 320\n",
            "Processing: 330\n",
            "Processing: 340\n",
            "Processing: 350\n",
            "Processing: 360\n",
            "Processing: 370\n",
            "Processing: 380\n",
            "Processing: 390\n",
            "Processing: 400\n",
            "Processing: 410\n"
          ]
        }
      ]
    },
    {
      "cell_type": "code",
      "source": [
        "result_matrix = add_explanations_to_matrix(result_matrix)\n",
        "print(result_matrix)"
      ],
      "metadata": {
        "colab": {
          "base_uri": "https://localhost:8080/"
        },
        "id": "Tvw2La6AyLir",
        "outputId": "8d8dc60e-db65-4283-9894-46fedafeed23"
      },
      "execution_count": null,
      "outputs": [
        {
          "output_type": "stream",
          "name": "stdout",
          "text": [
            "             Explanation          positive          neutral          negative\n",
            "0  Predicted as positive               125               63                20\n",
            "1   Predicted as neutral                24               18                16\n",
            "2  Predicted as negative                83               40                 4\n",
            "3        Row description  Labeled positive  Labeled neutral  Labeled negative\n"
          ]
        }
      ]
    },
    {
      "cell_type": "code",
      "source": [
        "result_matrix = compare_sentiments_finbert_pipeline(merged_df, pipe, truncate_or_split=\"truncate\")"
      ],
      "metadata": {
        "colab": {
          "base_uri": "https://localhost:8080/"
        },
        "id": "-lAElGrZDtP6",
        "outputId": "c31d6e30-60c9-41b0-9445-dfe07677bef4"
      },
      "execution_count": null,
      "outputs": [
        {
          "output_type": "stream",
          "name": "stdout",
          "text": [
            "Processing: 0\n",
            "Processing: 10\n"
          ]
        },
        {
          "output_type": "stream",
          "name": "stderr",
          "text": [
            "You seem to be using the pipelines sequentially on GPU. In order to maximize efficiency please use a dataset\n"
          ]
        },
        {
          "output_type": "stream",
          "name": "stdout",
          "text": [
            "Processing: 20\n",
            "Processing: 30\n",
            "Processing: 40\n",
            "Processing: 50\n",
            "Processing: 60\n",
            "Processing: 70\n",
            "Processing: 80\n",
            "Processing: 90\n",
            "Processing: 100\n",
            "Processing: 110\n",
            "Processing: 120\n",
            "Processing: 130\n",
            "Processing: 140\n",
            "Processing: 150\n",
            "Processing: 160\n",
            "Processing: 170\n",
            "Processing: 180\n",
            "Processing: 190\n",
            "Processing: 200\n",
            "Processing: 210\n",
            "Processing: 220\n",
            "Processing: 230\n",
            "Processing: 240\n",
            "Processing: 250\n",
            "Processing: 260\n",
            "Processing: 270\n",
            "Processing: 280\n",
            "Processing: 290\n",
            "Processing: 300\n",
            "Processing: 310\n",
            "Processing: 320\n",
            "Processing: 330\n",
            "Processing: 340\n",
            "Processing: 350\n",
            "Processing: 360\n",
            "Processing: 370\n",
            "Processing: 380\n",
            "Processing: 390\n",
            "Processing: 400\n",
            "Processing: 410\n"
          ]
        }
      ]
    },
    {
      "cell_type": "code",
      "source": [
        "result_matrix = add_explanations_to_matrix(result_matrix)\n",
        "print(result_matrix)"
      ],
      "metadata": {
        "colab": {
          "base_uri": "https://localhost:8080/"
        },
        "id": "BLv1T6iADziD",
        "outputId": "5afd5516-7eb0-4af4-c71a-6dd2c6c890cf"
      },
      "execution_count": null,
      "outputs": [
        {
          "output_type": "stream",
          "name": "stdout",
          "text": [
            "             Explanation          positive          neutral          negative\n",
            "0  Predicted as positive                75               38                10\n",
            "1   Predicted as neutral               103               76                14\n",
            "2  Predicted as negative                36               21                22\n",
            "3        Row description  Labeled positive  Labeled neutral  Labeled negative\n"
          ]
        }
      ]
    },
    {
      "cell_type": "code",
      "source": [
        "result_matrix = compare_sentiments_finbert_pipeline(merged_df, pipe, truncate_or_split=\"split\")"
      ],
      "metadata": {
        "colab": {
          "base_uri": "https://localhost:8080/"
        },
        "id": "ZMdber68DzqI",
        "outputId": "91ec0cfb-c9ac-478e-aa69-dfdd531b5d46"
      },
      "execution_count": null,
      "outputs": [
        {
          "output_type": "stream",
          "name": "stdout",
          "text": [
            "Processing: 0\n"
          ]
        },
        {
          "output_type": "stream",
          "name": "stderr",
          "text": [
            "Token indices sequence length is longer than the specified maximum sequence length for this model (1457 > 512). Running this sequence through the model will result in indexing errors\n"
          ]
        },
        {
          "output_type": "stream",
          "name": "stdout",
          "text": [
            "Processing: 10\n",
            "Processing: 20\n",
            "Processing: 30\n",
            "Processing: 40\n",
            "Processing: 50\n",
            "Processing: 60\n",
            "Processing: 70\n",
            "Processing: 80\n",
            "Processing: 90\n",
            "Processing: 100\n",
            "Processing: 110\n",
            "Processing: 120\n",
            "Processing: 130\n",
            "Processing: 140\n",
            "Processing: 150\n",
            "Processing: 160\n",
            "Processing: 170\n",
            "Processing: 180\n",
            "Processing: 190\n",
            "Processing: 200\n",
            "Processing: 210\n",
            "Processing: 220\n",
            "Processing: 230\n",
            "Processing: 240\n",
            "Processing: 250\n",
            "Processing: 260\n",
            "Processing: 270\n",
            "Processing: 280\n",
            "Processing: 290\n",
            "Processing: 300\n",
            "Processing: 310\n",
            "Processing: 320\n",
            "Processing: 330\n",
            "Processing: 340\n",
            "Processing: 350\n",
            "Processing: 360\n",
            "Processing: 370\n",
            "Processing: 380\n",
            "Processing: 390\n",
            "Processing: 400\n",
            "Processing: 410\n"
          ]
        }
      ]
    },
    {
      "cell_type": "code",
      "source": [
        "result_matrix = add_explanations_to_matrix(result_matrix)\n",
        "print(result_matrix)"
      ],
      "metadata": {
        "colab": {
          "base_uri": "https://localhost:8080/"
        },
        "id": "9ULUfuvpDzyb",
        "outputId": "be360db0-c1d5-4f11-f1c1-63db1d50f270"
      },
      "execution_count": null,
      "outputs": [
        {
          "output_type": "stream",
          "name": "stdout",
          "text": [
            "             Explanation          positive          neutral          negative\n",
            "0  Predicted as positive                90               49                 6\n",
            "1   Predicted as neutral               102               71                23\n",
            "2  Predicted as negative                22               15                17\n",
            "3        Row description  Labeled positive  Labeled neutral  Labeled negative\n"
          ]
        }
      ]
    }
  ]
}